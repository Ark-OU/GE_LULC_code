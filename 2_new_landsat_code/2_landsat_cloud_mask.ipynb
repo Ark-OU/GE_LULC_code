{
 "cells": [
  {
   "cell_type": "code",
   "execution_count": 1,
   "metadata": {},
   "outputs": [],
   "source": [
    "# 実行部分は，以下のfor文まで\n",
    "\n",
    "# landsat8 の band1~band7 までを一枚の画像にして，\n",
    "# landsat_total.tif として保存する．\n",
    "# 保存先は ../landsat_use/*/landsat_total.tif みたいに\n",
    "\n",
    "# mask情報は，cloud_mask.tif として\n",
    "# ../landsat_use/*/cloud_mask.tifとして保存"
   ]
  },
  {
   "cell_type": "code",
   "execution_count": 2,
   "metadata": {},
   "outputs": [],
   "source": [
    "import os\n",
    "from glob import glob\n",
    "import matplotlib.pyplot as plt\n",
    "from matplotlib import patches as mpatches, colors\n",
    "from matplotlib.colors import ListedColormap\n",
    "import seaborn as sns\n",
    "import numpy as np\n",
    "import numpy.ma as ma\n",
    "import pandas as pd\n",
    "import rasterio\n",
    "from rasterio.plot import plotting_extent\n",
    "from rasterio.mask import mask\n",
    "import geopandas as gpd\n",
    "from shapely.geometry import mapping\n",
    "import earthpy as et\n",
    "import earthpy.spatial as es\n",
    "import earthpy.plot as ep\n",
    "import earthpy.mask as em\n",
    "from tqdm import tqdm\n",
    "import os"
   ]
  },
  {
   "cell_type": "code",
   "execution_count": 3,
   "metadata": {},
   "outputs": [
    {
     "name": "stdout",
     "output_type": "stream",
     "text": [
      "3496\n"
     ]
    }
   ],
   "source": [
    "# Prettier plotting with seaborn\n",
    "sns.set_style('white')\n",
    "sns.set(font_scale=1.5)\n",
    "\n",
    "base_path = \"E:/LULC/raw_data/1_landsat_new\"\n",
    "\n",
    "input_base_path = base_path + \"/2_landsat8_open\"\n",
    "\n",
    "base_dirs = glob(input_base_path + \"/*\")\n",
    "print(len(base_dirs))"
   ]
  },
  {
   "cell_type": "code",
   "execution_count": 4,
   "metadata": {},
   "outputs": [
    {
     "name": "stdout",
     "output_type": "stream",
     "text": [
      "LC08_L1GT_101046_20140113_20170426_01_T2_sr_band1.tif\n"
     ]
    }
   ],
   "source": [
    "input_path = base_dirs[0]\n",
    "landsat_paths_pre_path = os.path.join(input_path, \"*band*.tif\")\n",
    "landsat_paths_pre = glob(landsat_paths_pre_path)\n",
    "landsat_paths_pre.sort()\n",
    "print(os.path.basename(landsat_paths_pre[0]))"
   ]
  },
  {
   "cell_type": "code",
   "execution_count": 5,
   "metadata": {},
   "outputs": [
    {
     "name": "stderr",
     "output_type": "stream",
     "text": [
      "100%|███████████████████████████████████████████████████████████████████████████| 3496/3496 [30:01:58<00:00, 30.93s/it]\n"
     ]
    }
   ],
   "source": [
    "for i in tqdm(range(len(base_dirs))):\n",
    "    input_path = base_dirs[i]\n",
    "    filename = os.path.basename(input_path).split(\".\")[0]\n",
    "    \n",
    "    output_path = \"E:/LULC/raw_data/1_landsat_new/3_landsat8_cloud_mask\"\n",
    "#     output_path = base_path +\"/3_landsat8_use\" + f\"/{os.path.basename(input_path)}\"\n",
    "    if os.path.exists(output_path + \"/\" + filename):\n",
    "        continue\n",
    "    landsat_paths_pre_path = os.path.join(input_path, \"*band*.tif\")\n",
    "\n",
    "    landsat_paths_pre = glob(landsat_paths_pre_path)\n",
    "    landsat_paths_pre.sort()\n",
    "    \n",
    "    # ==========================  show pixel_qa  =======================\n",
    "    landsat_pre_cl_path = os.path.join(input_path, \"*pixel_qa.tif\")\n",
    "    landsat_pre_cl = glob(landsat_pre_cl_path)\n",
    "     # Open the pixel_qa layer for your landsat scene\n",
    "    with rasterio.open(landsat_pre_cl[0]) as landsat_pre_cl:\n",
    "        landsat_qa = landsat_pre_cl.read(1)\n",
    "        landsat_ext = plotting_extent(landsat_pre_cl)\n",
    "    vals = np.unique(landsat_qa).tolist()\n",
    "    bins = [0] + vals\n",
    "    # You can grab the cloud pixel values from earthpy\n",
    "    high_cloud_confidence = em.pixel_flags[\"pixel_qa\"][\"L8\"][\"High Cloud Confidence\"]\n",
    "    cloud = em.pixel_flags[\"pixel_qa\"][\"L8\"][\"Cloud\"]\n",
    "    cloud_shadow = em.pixel_flags[\"pixel_qa\"][\"L8\"][\"Cloud Shadow\"]\n",
    "    snow_ice = em.pixel_flags[\"pixel_qa\"][\"L8\"][\"Snow\"]\n",
    "    high_cirrus_confidence = em.pixel_flags[\"pixel_qa\"][\"L8\"][\"High Cirrus Confidence\"]\n",
    "\n",
    "    all_masked_values = cloud_shadow + cloud + high_cloud_confidence + snow_ice + high_cirrus_confidence\n",
    "    cl_mask = em._create_mask(landsat_qa, all_masked_values)\n",
    "#     fig, ax = plt.subplots(figsize=(12, 8))\n",
    "#     im = ax.imshow(cl_mask, cmap='Greys',\n",
    "#                    interpolation='nearest')\n",
    "\n",
    "#     ax.set_axis_off()\n",
    "#     ax.set_title(\"Cloud Mask\")\n",
    "#     plt.show()\n",
    "\n",
    "    for j in range(7):\n",
    "        # Read landsat pre fire data\n",
    "        with rasterio.open(landsat_paths_pre[j]) as band_tif:\n",
    "            landsat_pre = band_tif.read(masked=True)\n",
    "            landsat_extent = plotting_extent(band_tif)\n",
    "            landsat_height = band_tif.height\n",
    "            landsat_width = band_tif.width\n",
    "            landsat_crs = band_tif.crs\n",
    "            landsat_count = band_tif.count\n",
    "            landsat_bounds = band_tif.bounds\n",
    "            landsat_meta = band_tif.meta\n",
    "            landsat_transform = band_tif.transform\n",
    "    \n",
    "        landsat_pre_cl_free = em.mask_pixels(landsat_pre, landsat_qa, vals=all_masked_values)\n",
    "        cloud_masked = landsat_pre_cl_free.data * np.logical_not(landsat_pre_cl_free.mask)\n",
    "        \n",
    "        os.makedirs(output_path + \"/\" + filename, exist_ok=True)\n",
    "        Z = cloud_masked\n",
    "        with rasterio.open(\n",
    "            output_path + f\"/{filename}/cloud_masked_band{j+1}.tif\",\n",
    "            'w',\n",
    "            driver='GTiff',\n",
    "            height=landsat_height,\n",
    "            width=landsat_width,\n",
    "            count=1,\n",
    "            dtype=Z.dtype,\n",
    "            crs=landsat_crs,\n",
    "            transform=landsat_transform\n",
    "        ) as dst:\n",
    "            dst.write(Z)"
   ]
  },
  {
   "cell_type": "code",
   "execution_count": 6,
   "metadata": {},
   "outputs": [
    {
     "name": "stderr",
     "output_type": "stream",
     "text": [
      "100%|████████████████████████████████████████████████████████████████████████████| 3496/3496 [4:29:47<00:00,  4.63s/it]\n"
     ]
    }
   ],
   "source": [
    "#  create cloud mask\n",
    "qa_path = glob(\"E:/LULC/raw_data/1_landsat_new/2_landsat8_open/*/*pixel_qa.tif\")\n",
    "qa_path.sort()\n",
    "for i in tqdm(range(len(qa_path))):\n",
    "    with rasterio.open(qa_path[i]) as qa:\n",
    "        landsat_qa = qa.read(1)\n",
    "        landsat_pre_cloud_ext_bds  = qa.bounds\n",
    "        landsat_height = qa.height\n",
    "        landsat_width = qa.width\n",
    "        landsat_crs = qa.crs\n",
    "        landsat_transform = qa.transform\n",
    "        \n",
    "        high_cloud_confidence = em.pixel_flags[\"pixel_qa\"][\"L8\"][\"High Cloud Confidence\"]\n",
    "        cloud = em.pixel_flags[\"pixel_qa\"][\"L8\"][\"Cloud\"]\n",
    "        cloud_shadow = em.pixel_flags[\"pixel_qa\"][\"L8\"][\"Cloud Shadow\"]\n",
    "        snow_ice = em.pixel_flags[\"pixel_qa\"][\"L8\"][\"Snow\"]\n",
    "        high_cirrus_confidence = em.pixel_flags[\"pixel_qa\"][\"L8\"][\"High Cirrus Confidence\"]\n",
    "\n",
    "        all_masked_values = cloud_shadow + cloud + high_cloud_confidence + snow_ice + high_cirrus_confidence\n",
    "        cl_mask = em._create_mask(landsat_qa, all_masked_values)\n",
    "        \n",
    "        qa_dir_name = qa_path[i].split(\"/\")[4].split(\"\\\\\")[1]\n",
    "        os.makedirs(\"E:/LULC/raw_data/1_landsat_new/3_landsat8_cloud_mask/\" + qa_dir_name, exist_ok=True)\n",
    "        \n",
    "        Z = cl_mask\n",
    "        with rasterio.open(\n",
    "            \"E:/LULC/raw_data/1_landsat_new/3_landsat8_cloud_mask/\" + qa_dir_name + \"/cloud_mask.tif\",\n",
    "            'w',\n",
    "            driver='GTiff',\n",
    "            height=landsat_height,\n",
    "            width=landsat_width,\n",
    "            count=1,\n",
    "            dtype=Z.dtype,\n",
    "            crs=landsat_crs,\n",
    "            transform=landsat_transform\n",
    "        ) as dst:\n",
    "            dst.write(Z,1)"
   ]
  },
  {
   "cell_type": "code",
   "execution_count": null,
   "metadata": {},
   "outputs": [],
   "source": []
  },
  {
   "cell_type": "code",
   "execution_count": null,
   "metadata": {},
   "outputs": [],
   "source": []
  },
  {
   "cell_type": "code",
   "execution_count": null,
   "metadata": {},
   "outputs": [],
   "source": []
  },
  {
   "cell_type": "code",
   "execution_count": null,
   "metadata": {},
   "outputs": [],
   "source": []
  },
  {
   "cell_type": "markdown",
   "metadata": {},
   "source": [
    "## 以下はfor文に入れるものをセルで分けたもの"
   ]
  },
  {
   "cell_type": "code",
   "execution_count": null,
   "metadata": {},
   "outputs": [],
   "source": [
    "input_base_path = r\"E:\\LULC\\raw_data\\1_landsat\\2_landsat8_open\"\n",
    "base_dirs = glob(input_base_path + \"/*\")\n",
    "input_path = base_dirs[0]\n",
    "landsat_paths_pre_path = os.path.join(input_path, \"*band*.tif\")\n",
    "\n",
    "landsat_paths_pre = glob(landsat_paths_pre_path)\n",
    "landsat_paths_pre.sort()\n",
    "landsat_pre_st_path = os.path.join(output_path, \"landsat_total.tif\")\n",
    "\n",
    "output_path = \"E:/LULC/raw_data/1_landsat/3_landsat8_use\" + f\"/{os.path.basename(input_path)}\"\n",
    "\n",
    "print(\"input_path = \", input_path)\n",
    "print(f\"output_path = {output_path}\")\n",
    "\n",
    "os.makedirs(output_path, exist_ok=True)\n",
    "# Stack the Landsat pre fire data\n",
    "if os.path.exists(output_path):\n",
    "    print(\"existing!!!\")\n",
    "else: \n",
    "    print(\"done\")\n",
    "    landsat_pre_st_path = os.path.join(output_path, \"landsat_total.tif\")\n",
    "    es.stack(landsat_paths_pre, landsat_pre_st_path)"
   ]
  },
  {
   "cell_type": "code",
   "execution_count": null,
   "metadata": {},
   "outputs": [],
   "source": [
    "# Read landsat pre fire data\n",
    "with rasterio.open(landsat_pre_st_path) as landsat_pre_src:\n",
    "    landsat_pre = landsat_pre_src.read(masked=True)\n",
    "    landsat_extent = plotting_extent(landsat_pre_src)\n",
    "    landsat_height = landsat_pre_src.height\n",
    "    landsat_width = landsat_pre_src.width\n",
    "    landsat_crs = landsat_pre_src.crs\n",
    "    landsat_count = landsat_pre_src.count\n",
    "    landsat_bounds = landsat_pre_src.bounds\n",
    "    landsat_meta = landsat_pre_src.meta\n",
    "    landsat_transform = landsat_pre_src.transform"
   ]
  },
  {
   "cell_type": "code",
   "execution_count": null,
   "metadata": {},
   "outputs": [],
   "source": [
    "# ==========================  show pixel_qa  =======================\n",
    "landsat_pre_cl_path = os.path.join(input_path, \"*pixel_qa.tif\")\n",
    "landsat_pre_cl = glob(landsat_pre_cl_path)\n",
    "\n",
    "# Open the pixel_qa layer for your landsat scene\n",
    "with rasterio.open(landsat_pre_cl[0]) as landsat_pre_cl:\n",
    "    landsat_qa = landsat_pre_cl.read(1)\n",
    "    landsat_ext = plotting_extent(landsat_pre_cl)\n",
    "\n",
    "\n",
    "vals = np.unique(landsat_qa).tolist()\n",
    "# num = len(vals)\n",
    "# cmap = plt.cm.get_cmap('tab20b', num)\n",
    "bins = [0] + vals\n",
    "# Normalize the colormap \n",
    "# bounds = [((a + b) / 2) for a, b in zip(bins[:-1], bins[1::1])] + \\\n",
    "#     [(bins[-1] - bins[-2]) + bins[-1]]\n",
    "# norm = colors.BoundaryNorm(bounds, cmap.N)"
   ]
  },
  {
   "cell_type": "code",
   "execution_count": null,
   "metadata": {},
   "outputs": [],
   "source": [
    "# Plot the data\n",
    "fig, ax = plt.subplots(figsize=(12, 8))\n",
    "\n",
    "im = ax.imshow(landsat_qa,\n",
    "#                norm=norm,\n",
    "               cmap=\"gist_ncar\")\n",
    "\n",
    "ep.draw_legend(im,\n",
    "               classes=vals,\n",
    "               cmap=\"gist_ncar\",\n",
    "               titles=vals)\n",
    "\n",
    "ax.set_title(\"Quality Assessment Layer\")\n",
    "ax.set_axis_off()\n",
    "plt.show()"
   ]
  },
  {
   "cell_type": "code",
   "execution_count": null,
   "metadata": {},
   "outputs": [],
   "source": [
    "print(em.pixel_flags[\"pixel_qa\"][\"L8\"])"
   ]
  },
  {
   "cell_type": "code",
   "execution_count": null,
   "metadata": {},
   "outputs": [],
   "source": [
    "# You can grab the cloud pixel values from earthpy\n",
    "high_cloud_confidence = em.pixel_flags[\"pixel_qa\"][\"L8\"][\"High Cloud Confidence\"]\n",
    "cloud = em.pixel_flags[\"pixel_qa\"][\"L8\"][\"Cloud\"]\n",
    "cloud_shadow = em.pixel_flags[\"pixel_qa\"][\"L8\"][\"Cloud Shadow\"]\n",
    "snow_ice = em.pixel_flags[\"pixel_qa\"][\"L8\"][\"Snow\"]\n",
    "high_cirrus_confidence = em.pixel_flags[\"pixel_qa\"][\"L8\"][\"High Cirrus Confidence\"]\n",
    "\n",
    "all_masked_values = cloud_shadow + cloud + high_cloud_confidence + snow_ice + high_cirrus_confidence\n",
    "\n",
    "cl_mask = em._create_mask(landsat_qa, all_masked_values)\n",
    "np.unique(cl_mask)"
   ]
  },
  {
   "cell_type": "code",
   "execution_count": null,
   "metadata": {},
   "outputs": [],
   "source": [
    "fig, ax = plt.subplots(figsize=(12, 8))\n",
    "im = ax.imshow(cl_mask, cmap='Greys',\n",
    "               interpolation='nearest')\n",
    "\n",
    "ax.set_axis_off()\n",
    "ax.set_title(\"Cloud Mask\")\n",
    "plt.show()"
   ]
  },
  {
   "cell_type": "code",
   "execution_count": null,
   "metadata": {},
   "outputs": [],
   "source": [
    "# fig, ax = plt.subplots(figsize=(12, 8))\n",
    "# im = ax.imshow(cl_mask, cmap=\"gist_ncar\")\n",
    "\n",
    "# ep.draw_legend(im, cmap=\"gist_ncar\")\n",
    "\n",
    "# ax.set_title(\"Quality Assessment Layer\")\n",
    "# ax.set_axis_off()\n",
    "# plt.show()"
   ]
  },
  {
   "cell_type": "code",
   "execution_count": null,
   "metadata": {},
   "outputs": [],
   "source": [
    "# Call the earthpy mask function using pixel QA layer\n",
    "landsat_pre_cl_free = em.mask_pixels(\n",
    "    landsat_pre, landsat_qa, vals=all_masked_values)"
   ]
  },
  {
   "cell_type": "code",
   "execution_count": null,
   "metadata": {},
   "outputs": [],
   "source": [
    "Z = cl_mask\n",
    "# with rasterio.open(\n",
    "#     output_path + '/cloud_mask.tif',\n",
    "#         'w',\n",
    "#         driver='GTiff',\n",
    "#         height=landsat_height,\n",
    "#         width=landsat_width,\n",
    "#         count=1,\n",
    "#         dtype=Z.dtype,\n",
    "#         crs=landsat_crs,\n",
    "#         transform=landsat_transform\n",
    "# ) as dst:\n",
    "#     dst.write(Z,1)"
   ]
  },
  {
   "cell_type": "code",
   "execution_count": null,
   "metadata": {},
   "outputs": [],
   "source": []
  },
  {
   "cell_type": "code",
   "execution_count": null,
   "metadata": {},
   "outputs": [],
   "source": [
    "import os\n",
    "from glob import glob\n",
    "import matplotlib.pyplot as plt\n",
    "from matplotlib import patches as mpatches, colors\n",
    "from matplotlib.colors import ListedColormap\n",
    "import seaborn as sns\n",
    "import numpy as np\n",
    "import numpy.ma as ma\n",
    "import pandas as pd\n",
    "import rasterio\n",
    "from rasterio.plot import plotting_extent\n",
    "from rasterio.mask import mask\n",
    "import geopandas as gpd\n",
    "from shapely.geometry import mapping\n",
    "import earthpy as et\n",
    "import earthpy.spatial as es\n",
    "import earthpy.plot as ep\n",
    "import earthpy.mask as em\n",
    "# Prettier plotting with seaborn\n",
    "sns.set_style('white')\n",
    "sns.set(font_scale=1.5)\n",
    "\n",
    "input_path = r\"E:\\LULC\\raw_data\\1_landsat\\2_landsat8_open\\LC081100352015021601T1-SC20200914035835\"\n",
    "landsat_paths_pre_path = os.path.join(input_path, \"*band*.tif\")\n",
    "\n",
    "landsat_paths_pre = glob(landsat_paths_pre_path)\n",
    "landsat_paths_pre.sort()\n",
    "\n",
    "output_path = \"E:/LULC/raw_data/1_landsat/3_landsat8_use\" + f\"/{os.path.basename(input_path)}\"\n",
    "\n",
    "landsat_pre_st_path = os.path.join(output_path, \"landsat_total.tif\")\n",
    "with rasterio.open(landsat_pre_st_path) as landsat_pre_src:\n",
    "    landsat_pre = landsat_pre_src.read(masked=True)\n",
    "    landsat_extent = plotting_extent(landsat_pre_src)\n",
    "    landsat_height = landsat_pre_src.height\n",
    "    landsat_width = landsat_pre_src.width\n",
    "    landsat_crs = landsat_pre_src.crs\n",
    "    landsat_count = landsat_pre_src.count\n",
    "    landsat_bounds = landsat_pre_src.bounds\n",
    "    landsat_meta = landsat_pre_src.meta\n",
    "    landsat_transform = landsat_pre_src.transform\n",
    "    \n",
    "    landsat_pre_cl_path = os.path.join(input_path, \"*pixel_qa.tif\")\n",
    "    landsat_pre_cl = glob(landsat_pre_cl_path)\n",
    "    \n",
    "# Open the pixel_qa layer for your landsat scene\n",
    "with rasterio.open(landsat_pre_cl[0]) as landsat_pre_cl:\n",
    "    landsat_qa = landsat_pre_cl.read(1)\n",
    "    landsat_ext = plotting_extent(landsat_pre_cl)\n",
    "\n",
    "\n",
    "vals = np.unique(landsat_qa).tolist()\n",
    "# num = len(vals)\n",
    "# cmap = plt.cm.get_cmap('tab20b', num)\n",
    "bins = [0] + vals\n",
    "\n",
    "# You can grab the cloud pixel values from earthpy\n",
    "high_cloud_confidence = em.pixel_flags[\"pixel_qa\"][\"L8\"][\"High Cloud Confidence\"]\n",
    "cloud = em.pixel_flags[\"pixel_qa\"][\"L8\"][\"Cloud\"]\n",
    "cloud_shadow = em.pixel_flags[\"pixel_qa\"][\"L8\"][\"Cloud Shadow\"]\n",
    "snow_ice = em.pixel_flags[\"pixel_qa\"][\"L8\"][\"Snow\"]\n",
    "high_cirrus_confidence = em.pixel_flags[\"pixel_qa\"][\"L8\"][\"High Cirrus Confidence\"]\n",
    "\n",
    "all_masked_values = cloud_shadow + cloud + high_cloud_confidence + snow_ice + high_cirrus_confidence\n",
    "\n",
    "cl_mask = em._create_mask(landsat_qa, all_masked_values)\n",
    "np.unique(cl_mask)\n",
    "\n",
    "landsat_pre_cl_free = em.mask_pixels(landsat_pre, landsat_qa, vals=all_masked_values)"
   ]
  },
  {
   "cell_type": "code",
   "execution_count": null,
   "metadata": {},
   "outputs": [],
   "source": [
    "with rasterio.open(output_path + '/cloud_mask.tif') as cloud:\n",
    "    pre = cloud.read(masked=True)\n",
    "    extent = plotting_extent(cloud)\n",
    "    height = cloud.height\n",
    "    width = cloud.width\n",
    "    crs = cloud.crs\n",
    "    \n",
    "    ep.plot_rgb(pre,\n",
    "            rgb=[3, 2, 1],\n",
    "            stretch=True)\n",
    "plt.show()"
   ]
  },
  {
   "cell_type": "code",
   "execution_count": null,
   "metadata": {},
   "outputs": [],
   "source": [
    "# landsat_pre_st_path = os.path.join(output_path, \"landsat_total.tif\")\n",
    "# es.stack(landsat_paths_pre, landsat_pre_st_path)\n",
    "with rasterio.open(landsat_pre_st_path) as landsat_pre_src:\n",
    "    landsat_pre = landsat_pre_src.read(masked=True)\n",
    "    landsat_extent = plotting_extent(landsat_pre_src)\n",
    "    landsat_height = landsat_pre_src.height\n",
    "    landsat_width = landsat_pre_src.width\n",
    "    landsat_crs = landsat_pre_src.crs\n",
    "    landsat_count = landsat_pre_src.count\n",
    "    landsat_bounds = landsat_pre_src.bounds\n",
    "    landsat_meta = landsat_pre_src.meta\n",
    "    landsat_transform = landsat_pre_src.transform\n",
    "\n",
    "ep.plot_bands(landsat_pre_cl_free.data,\n",
    "          extent=landsat_extent,\n",
    "          cmap=\"Greys\",\n",
    "          cbar=False)\n",
    "plt.show()"
   ]
  },
  {
   "cell_type": "code",
   "execution_count": null,
   "metadata": {},
   "outputs": [],
   "source": [
    "test = landsat_pre_cl_free.data * np.logical_not(landsat_pre_cl_free.mask)\n",
    "ep.plot_bands(test,\n",
    "          extent=landsat_extent,\n",
    "          cmap=\"Greys\",\n",
    "          cbar=False)\n",
    "plt.show()"
   ]
  },
  {
   "cell_type": "code",
   "execution_count": null,
   "metadata": {},
   "outputs": [],
   "source": []
  },
  {
   "cell_type": "code",
   "execution_count": null,
   "metadata": {},
   "outputs": [],
   "source": []
  },
  {
   "cell_type": "code",
   "execution_count": null,
   "metadata": {},
   "outputs": [],
   "source": []
  },
  {
   "cell_type": "code",
   "execution_count": null,
   "metadata": {},
   "outputs": [],
   "source": []
  },
  {
   "cell_type": "code",
   "execution_count": null,
   "metadata": {},
   "outputs": [],
   "source": []
  },
  {
   "cell_type": "markdown",
   "metadata": {},
   "source": [
    "## 以下は雲マスクをかけて保存しようとしている"
   ]
  },
  {
   "cell_type": "code",
   "execution_count": null,
   "metadata": {},
   "outputs": [],
   "source": [
    "print(landsat_pre.shape)"
   ]
  },
  {
   "cell_type": "code",
   "execution_count": null,
   "metadata": {},
   "outputs": [],
   "source": [
    "Z = landsat_pre_cl_free.data * np.logical_not(landsat_pre_cl_free.mask)\n",
    "with rasterio.open(\n",
    "    output_path + '/cloud_masked.tif',\n",
    "    'w',\n",
    "    driver='GTiff',\n",
    "    height=landsat_height,\n",
    "    width=landsat_width,\n",
    "    count=7,\n",
    "    dtype=Z.dtype,\n",
    "    crs=landsat_crs,\n",
    "    transform=landsat_transform\n",
    ") as dst:\n",
    "    dst.write(Z)"
   ]
  },
  {
   "cell_type": "code",
   "execution_count": null,
   "metadata": {},
   "outputs": [],
   "source": [
    "# landsat_pre_cloud, landsat_pre_meta = es.stack(landsat_paths_pre, nodata=-9999)\n",
    "# landsat_pre_cloud_ext_bds = rio.transform.array_bounds(\n",
    "#     landsat_pre_cloud.shape[1],\n",
    "#     landsat_pre_cloud.shape[2],\n",
    "#     landsat_pre_meta[\"transform\"])\n",
    "\n",
    "# vals_to_mask = all_masked_values\n",
    "# landsat_pre_cloud_masked = em.mask_pixels(landsat_pre_cloud, \n",
    "#                                           landsat_qa, \n",
    "#                                           vals=vals_to_mask)"
   ]
  },
  {
   "cell_type": "code",
   "execution_count": null,
   "metadata": {},
   "outputs": [],
   "source": [
    "print(output_path)\n",
    "with rasterio.open(output_path + '/cloud_masked.tif') as ras:\n",
    "    pre = ras.read(masked=True)\n",
    "    extent = plotting_extent(ras)\n",
    "    height = ras.height\n",
    "    width = ras.width\n",
    "    crs = ras.crs\n",
    "    print(pre.shape)"
   ]
  },
  {
   "cell_type": "code",
   "execution_count": null,
   "metadata": {},
   "outputs": [],
   "source": [
    "ep.plot_bands(pre,\n",
    "              extent=landsat_extent,\n",
    "              cmap=\"Greys\",\n",
    "              cbar=False)"
   ]
  },
  {
   "cell_type": "code",
   "execution_count": null,
   "metadata": {},
   "outputs": [],
   "source": []
  },
  {
   "cell_type": "code",
   "execution_count": null,
   "metadata": {},
   "outputs": [],
   "source": [
    "# 別フォルダにダウンロード先を指定していたので，移動\n",
    "input_base_path = r\"E:\\LULC\\raw_data\\1_landsat\\2_landsat8_open\"\n",
    "base_dirs = glob(input_base_path + \"/*\")\n",
    "for i in range(len(base_dirs)):\n",
    "    input_path = base_dirs[i]\n",
    "    output_path = \"E:/LULC/raw_data/1_landsat/3_landsat8_use\"\n",
    "\n",
    "    cut_path = []\n",
    "    cut_path.append(os.path.join(input_path, \"cloud_mask.tif\"))\n",
    "    cut_path.append(os.path.join(input_path, \"landsat_total.tif\"))\n",
    "\n",
    "    output_path += f\"/{os.path.basename(input_path)}\"\n",
    "    os.makedirs(output_path, exist_ok=True)\n",
    "\n",
    "    import shutil\n",
    "    shutil.move(cut_path[0], output_path)\n",
    "    shutil.move(cut_path[1], output_path)"
   ]
  },
  {
   "cell_type": "code",
   "execution_count": null,
   "metadata": {},
   "outputs": [],
   "source": []
  }
 ],
 "metadata": {
  "kernelspec": {
   "display_name": "Python 3",
   "language": "python",
   "name": "python3"
  },
  "language_info": {
   "codemirror_mode": {
    "name": "ipython",
    "version": 3
   },
   "file_extension": ".py",
   "mimetype": "text/x-python",
   "name": "python",
   "nbconvert_exporter": "python",
   "pygments_lexer": "ipython3",
   "version": "3.7.9"
  }
 },
 "nbformat": 4,
 "nbformat_minor": 4
}
