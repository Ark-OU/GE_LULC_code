{
 "cells": [
  {
   "cell_type": "code",
   "execution_count": 2,
   "metadata": {},
   "outputs": [],
   "source": [
    "import os\n",
    "from glob import glob\n",
    "import matplotlib.pyplot as plt\n",
    "from matplotlib import patches as mpatches\n",
    "from matplotlib.colors import ListedColormap\n",
    "import seaborn as sns\n",
    "import numpy as np\n",
    "import numpy.ma as ma\n",
    "import pandas as pd\n",
    "from shapely.geometry import mapping, box\n",
    "import geopandas as gpd\n",
    "import rasterio as rio\n",
    "from rasterio.plot import plotting_extent\n",
    "import earthpy as et\n",
    "import earthpy.spatial as es\n",
    "import earthpy.plot as ep\n",
    "import earthpy.mask as em\n",
    "from tqdm import tqdm\n",
    "import pickle\n",
    "\n",
    "def pkl_saver(object, pkl_filename):\n",
    "    with open(pkl_filename, 'wb') as web:\n",
    "        pickle.dump(object , web)"
   ]
  },
  {
   "cell_type": "code",
   "execution_count": 98,
   "metadata": {
    "scrolled": false
   },
   "outputs": [
    {
     "name": "stdout",
     "output_type": "stream",
     "text": [
      "num1_shape = (7811, 7661)\n",
      "| 30.00, 0.00, 211485.00|\n",
      "| 0.00,-30.00, 2354415.00|\n",
      "| 0.00, 0.00, 1.00|\n",
      "1/10\n",
      "input時のnum2_shape = (7811, 7651)\n",
      "num1_shape = (7811, 7661)\n",
      "num2_shape = (7811, 7661)\n",
      "=======================================\n",
      "2/10\n",
      "input時のnum2_shape = (7811, 7651)\n",
      "num1_shape = (7811, 7661)\n",
      "num2_shape = (7811, 7661)\n",
      "=======================================\n",
      "3/10\n",
      "input時のnum2_shape = (7821, 7651)\n",
      "num1_shape = (7821, 7661)\n",
      "num2_shape = (7821, 7661)\n",
      "=======================================\n",
      "4/10\n",
      "input時のnum2_shape = (7811, 7661)\n",
      "num1_shape = (7821, 7661)\n",
      "num2_shape = (7821, 7661)\n",
      "=======================================\n",
      "5/10\n",
      "input時のnum2_shape = (7811, 7661)\n",
      "num1_shape = (7821, 7661)\n",
      "num2_shape = (7821, 7661)\n",
      "=======================================\n",
      "6/10\n",
      "input時のnum2_shape = (7821, 7651)\n",
      "num1_shape = (7821, 7661)\n",
      "num2_shape = (7821, 7661)\n",
      "=======================================\n",
      "7/10\n",
      "input時のnum2_shape = (7821, 7661)\n",
      "SAME!!!!!!!!!!\n",
      "num1_shape = (7821, 7661)\n",
      "num2_shape = (7821, 7661)\n",
      "=======================================\n",
      "8/10\n",
      "input時のnum2_shape = (7811, 7651)\n",
      "num1_shape = (7821, 7661)\n",
      "num2_shape = (7821, 7661)\n",
      "=======================================\n",
      "9/10\n",
      "input時のnum2_shape = (7821, 7661)\n",
      "SAME!!!!!!!!!!\n",
      "num1_shape = (7821, 7661)\n",
      "num2_shape = (7821, 7661)\n",
      "=======================================\n",
      "10/10\n",
      "input時のnum2_shape = (7811, 7651)\n",
      "num1_shape = (7821, 7661)\n",
      "num2_shape = (7821, 7661)\n",
      "=======================================\n"
     ]
    }
   ],
   "source": [
    "# error_paths: use_paths[num1]に対してuse_paths[num2]の.shapeが異なっているときのpath\n",
    "season_id = \"0[1-3]\"\n",
    "num1 = 0\n",
    "base_path = \"E:/LULC/raw_data/1_landsat_new\"\n",
    "\n",
    "# Main\n",
    "\n",
    "masked_dir_list = glob(os.path.join(base_path, \"3_landsat8_cloud_mask\", f\"*20??{season_id}*-SC*\"))\n",
    "dir_base_list = []\n",
    "\n",
    "\n",
    "#   Get unique id\n",
    "for i in range(len(masked_dir_list)):\n",
    "    dir_base_list.append(masked_dir_list[i].split(\"LC08\")[1][:6])\n",
    "scene_list = np.unique(dir_base_list)\n",
    "num_seasonfiles = len(dir_base_list)\n",
    "\n",
    "scene = scene_list[0]\n",
    "for i in range(1):\n",
    "    scene_paths = glob(os.path.join(base_path, \"3_landsat8_cloud_mask\", f\"LC08{scene}20??{season_id}*-SC*\"))\n",
    "    scene_paths.sort()\n",
    "\n",
    "    band_paths = glob(os.path.join(base_path, \"3_landsat8_cloud_mask\", f\"LC08{scene}20??{season_id}*-SC*\", f\"*band{i+1}.tif\"))\n",
    "    band_paths.sort()\n",
    "    num1_band_path = band_paths[num1]\n",
    "    with rio.open(num1_band_path) as num1_band:\n",
    "        num1_data = num1_band.read(1)\n",
    "        num1_pre_meta  = num1_band.meta\n",
    "        num1_extent    = plotting_extent(num1_band)\n",
    "        num1_height    = num1_band.height\n",
    "        num1_width     = num1_band.width\n",
    "        num1_crs       = num1_band.crs\n",
    "        num1_count     = num1_band.count\n",
    "        num1_bounds    = num1_band.bounds\n",
    "        num1_meta      = num1_band.meta\n",
    "        num1_transform = num1_band.transform\n",
    "\n",
    "    qa_paths = glob(os.path.join(base_path, \"3_landsat8_cloud_mask\", f\"LC08{scene}20??{season_id}*-SC*\", \"cloud_mask.tif\"))\n",
    "    qa_paths.sort()\n",
    "    num1_qa_path = qa_paths[num1]\n",
    "    with rio.open(num1_qa_path) as cloud_mask:\n",
    "        num1_mask = cloud_mask.read(1)\n",
    "        num1_shape  = num1_mask.shape\n",
    "\n",
    "    max_height = num1_height\n",
    "    max_width = num1_width\n",
    "    print(f\"num1_shape = {num1_shape}\")\n",
    "    print(num1_transform)\n",
    "\n",
    "#   num1番目のファイルを親にして，欠損地をnum2番目のファイルで補填する．\n",
    "    for num2 in range(1, len(scene_paths)):\n",
    "        print(f\"{num2}/{len(scene_paths)-1}\")\n",
    "        num1_height    = num1_data.shape[0]\n",
    "        num1_width     = num1_data.shape[1]\n",
    "        num1_shape     = num1_data.shape\n",
    "        \n",
    "        # Read in the \"cloud free\" landsat data\n",
    "        num2_band_paths = band_paths[num2]\n",
    "        # Stack the data\n",
    "        with rio.open(num2_band_paths) as num2_band:\n",
    "            num2_data = num2_band.read(1)\n",
    "            num2_height = num2_band.height\n",
    "            num2_width = num2_band.width\n",
    "            num2_transform = num2_band.transform\n",
    "        max_height = max(max_height, num2_height)\n",
    "        max_width = max(max_width, num2_width)\n",
    "\n",
    "        num2_qa_path = qa_paths[num2]\n",
    "        with rio.open(num2_qa_path) as cloud_mask:\n",
    "            num2_mask = cloud_mask.read(1)\n",
    "            num2_shape = num2_mask.shape\n",
    "            \n",
    "        print(f\"input時のnum2_shape = {num2_data.shape}\")\n",
    "        \n",
    "        if num1_shape == num2_shape:\n",
    "            print(\"SAME!!!!!!!!!!\")\n",
    "            pass\n",
    "        else:\n",
    "            x = abs(num2_width - num1_width)\n",
    "            y = abs(num2_height - num1_height)\n",
    "            #  transformの書き換えが必要\n",
    "            if num1_height < num2_height:\n",
    "                num1_data = np.pad(num1_data , [(0,y),(0,0)] ,'constant')\n",
    "                \n",
    "            else:\n",
    "                num2_data = np.pad(num2_data , [(0,y),(0,0)] ,'constant')\n",
    "                \n",
    "            if num1_width < num2_width:\n",
    "                num1_data = np.pad(num1_data , [(0,0),(0,x)] ,'constant')\n",
    "            else:\n",
    "                num2_data = np.pad(num2_data , [(0,0),(0,x)] ,'constant')\n",
    "                \n",
    "\n",
    "#         print(f\"num2_extent =    {num2_extent}\")\n",
    "#         print(f\"num2_height =    {num2_height}\")\n",
    "#         print(f\"num2_width =     {num2_width}\")\n",
    "#         print(f\"num2_crs =       {num2_crs}\")\n",
    "        print(f\"num1_shape = {num1_data.shape}\")\n",
    "        print(f\"num2_shape = {num2_data.shape}\")\n",
    "        print(\"=======================================\")\n",
    "        "
   ]
  },
  {
   "cell_type": "code",
   "execution_count": 99,
   "metadata": {},
   "outputs": [
    {
     "name": "stdout",
     "output_type": "stream",
     "text": [
      "num1_shape = (7811, 7661)\n"
     ]
    }
   ],
   "source": [
    "# error_paths: use_paths[num1]に対してuse_paths[num2]の.shapeが異なっているときのpath\n",
    "season_id = \"0[1-3]\"\n",
    "num1 = 0\n",
    "base_path = \"E:/LULC/raw_data/1_landsat_new\"\n",
    "\n",
    "# Main\n",
    "\n",
    "masked_dir_list = glob(os.path.join(base_path, \"3_landsat8_cloud_mask\", f\"*20??{season_id}*-SC*\"))\n",
    "dir_base_list = []\n",
    "\n",
    "\n",
    "#   Get unique id\n",
    "for i in range(len(masked_dir_list)):\n",
    "    dir_base_list.append(masked_dir_list[i].split(\"LC08\")[1][:6])\n",
    "scene_list = np.unique(dir_base_list)\n",
    "num_seasonfiles = len(dir_base_list)\n",
    "\n",
    "scene = scene_list[0]\n",
    "for i in range(1):\n",
    "    scene_paths = glob(os.path.join(base_path, \"3_landsat8_cloud_mask\", f\"LC08{scene}20??{season_id}*-SC*\"))\n",
    "    scene_paths.sort()\n",
    "\n",
    "    band_paths = glob(os.path.join(base_path, \"3_landsat8_cloud_mask\", f\"LC08{scene}20??{season_id}*-SC*\", f\"*band{i+1}.tif\"))\n",
    "    band_paths.sort()\n",
    "    num1_band_path = band_paths[num1]\n",
    "    with rio.open(num1_band_path) as num1_band:\n",
    "        num1_data = num1_band.read(1)\n",
    "        num1_pre_meta  = num1_band.meta\n",
    "        num1_extent    = plotting_extent(num1_band)\n",
    "        num1_height    = num1_band.height\n",
    "        num1_width     = num1_band.width\n",
    "        num1_crs       = num1_band.crs\n",
    "        num1_count     = num1_band.count\n",
    "        num1_bounds    = num1_band.bounds\n",
    "        num1_meta      = num1_band.meta\n",
    "        num1_transform = num1_band.transform\n",
    "\n",
    "    qa_paths = glob(os.path.join(base_path, \"3_landsat8_cloud_mask\", f\"LC08{scene}20??{season_id}*-SC*\", \"cloud_mask.tif\"))\n",
    "    qa_paths.sort()\n",
    "    num1_qa_path = qa_paths[num1]\n",
    "    with rio.open(num1_qa_path) as cloud_mask:\n",
    "        num1_mask = cloud_mask.read(1)\n",
    "        num1_shape  = num1_mask.shape\n",
    "\n",
    "    max_height = num1_height\n",
    "    max_width = num1_width\n",
    "    print(f\"num1_shape = {num1_shape}\")\n"
   ]
  },
  {
   "cell_type": "code",
   "execution_count": 128,
   "metadata": {},
   "outputs": [
    {
     "name": "stdout",
     "output_type": "stream",
     "text": [
      "1/10\n",
      "input時のnum2_shape = (7811, 7651)\n",
      "num2_crs =       EPSG:32655\n",
      "num1_shape = (7811, 7661)\n",
      "num2_shape = (7811, 7661)\n",
      "=======================================\n"
     ]
    }
   ],
   "source": [
    "for num2 in range(1, 2):\n",
    "        print(f\"{num2}/{len(scene_paths)-1}\")\n",
    "#         num1_height    = num1_data.shape[0]\n",
    "#         num1_width     = num1_data.shape[1]\n",
    "#         num1_shape     = num1_data.shape\n",
    "        \n",
    "        # Read in the \"cloud free\" landsat data\n",
    "        num2_band_path = band_paths[num2]\n",
    "        # Stack the data\n",
    "        with rio.open(num2_band_paths) as num2_band:\n",
    "            num2_data = num2_band.read(1)\n",
    "            num2_height = num2_band.height\n",
    "            num2_width = num2_band.width\n",
    "            num2_transform = num2_band.transform\n",
    "        max_height = max(max_height, num2_height)\n",
    "        max_width = max(max_width, num2_width)\n",
    "\n",
    "        num2_qa_path = qa_paths[num2]\n",
    "        with rio.open(num2_qa_path) as cloud_mask:\n",
    "            num2_mask = cloud_mask.read(1)\n",
    "            num2_shape = num2_mask.shape\n",
    "            \n",
    "        print(f\"input時のnum2_shape = {num2_data.shape}\")\n",
    "        \n",
    "        if num1_shape == num2_shape:\n",
    "            print(\"SAME!!!!!!!!!!\")\n",
    "            pass\n",
    "        else:\n",
    "            x = abs(num2_width - num1_width)\n",
    "            y = abs(num2_height - num1_height)\n",
    "            #  transformの書き換えが必要\n",
    "            if num1_height < num2_height:\n",
    "                num1_data = np.pad(num1_data , [(0,y),(0,0)] ,'constant')\n",
    "            else:\n",
    "                num2_data = np.pad(num2_data , [(0,y),(0,0)] ,'constant')\n",
    "                \n",
    "            if num1_width < num2_width:\n",
    "                num1_data = np.pad(num1_data , [(0,0),(0,x)] ,'constant')\n",
    "            else:\n",
    "                num2_data = np.pad(num2_data , [(0,0),(0,x)] ,'constant')\n",
    "                \n",
    "\n",
    "#         print(f\"num2_extent =    {num2_extent}\")\n",
    "#         print(f\"num2_height =    {num2_height}\")\n",
    "#         print(f\"num2_width =     {num2_width}\")\n",
    "        print(f\"num2_crs =       {num2_crs}\")\n",
    "#         print(f\"num1_shape = {num1_data.shape}\")\n",
    "        print(f\"num1_shape = {num1_shape}\")\n",
    "        print(f\"num2_shape = {num2_data.shape}\")\n",
    "        print(\"=======================================\")\n",
    "        "
   ]
  },
  {
   "cell_type": "code",
   "execution_count": 102,
   "metadata": {},
   "outputs": [
    {
     "data": {
      "text/plain": [
       "(211485.0, 441315.0, 2120085.0, 2354415.0)"
      ]
     },
     "execution_count": 102,
     "metadata": {},
     "output_type": "execute_result"
    }
   ],
   "source": [
    "num1_extent"
   ]
  },
  {
   "cell_type": "code",
   "execution_count": 105,
   "metadata": {},
   "outputs": [
    {
     "data": {
      "text/plain": [
       "(211485.0, 441015.0, 2120085.0, 2354415.0)"
      ]
     },
     "execution_count": 105,
     "metadata": {},
     "output_type": "execute_result"
    }
   ],
   "source": [
    "num2_extent"
   ]
  },
  {
   "cell_type": "code",
   "execution_count": 159,
   "metadata": {},
   "outputs": [],
   "source": [
    "N=3\n",
    "with rio.open(num1_band_path) as dataset:\n",
    "    lon, lat = 311785, 2254355\n",
    "    py, px = dataset.index(lon, lat)\n",
    "    window = rio.windows.Window(px - N//2, py - N//2, N, N)\n",
    "    clip = dataset.read(window=window)\n",
    "    \n",
    "    meta = dataset.meta\n",
    "    meta['width'], meta['height'] = N, N\n",
    "    meta['transform'] = rio.windows.transform(window, dataset.transform)\n",
    "    \n",
    "    clip_lack = clip.copy()\n",
    "    clip_lack[0,1,1]=0\n",
    "    clip_lack\n",
    "\n",
    "    clip1_path = os.path.join(r\"C:\\Users\\GE\\Dropbox\\My PC (PC09)\\Desktop\\kairo_testset\", \"clip1.tif\")\n",
    "    clip1_lack_path = os.path.join(r\"C:\\Users\\GE\\Dropbox\\My PC (PC09)\\Desktop\\kairo_testset\", \"clip1_lack.tif\")\n",
    "    with rio.open(clip1_path, 'w', **meta) as dst:\n",
    "        dst.write(clip)\n",
    "    with rio.open(clip1_lack_path, 'w', **meta) as dst:\n",
    "        dst.write(clip_lack)"
   ]
  },
  {
   "cell_type": "code",
   "execution_count": 160,
   "metadata": {
    "scrolled": true
   },
   "outputs": [],
   "source": [
    "N=5\n",
    "with rio.open(num2_band_path) as dataset:\n",
    "    lon, lat = 311785, 2254355\n",
    "    py, px = dataset.index(lon, lat)\n",
    "    window = rio.windows.Window(px - N//2, py - N//2, N, N)\n",
    "    clip2 = dataset.read(window=window)\n",
    "    \n",
    "    meta = dataset.meta\n",
    "    meta['width'], meta['height'] = N, N\n",
    "    meta['transform'] = rio.windows.transform(window, dataset.transform)\n",
    "    \n",
    "    clip2_lack = clip2.copy()\n",
    "    clip2_lack[0,1,1]=0\n",
    "    clip2_lack\n",
    "\n",
    "    clip2_path = os.path.join(r\"C:\\Users\\GE\\Dropbox\\My PC (PC09)\\Desktop\\kairo_testset\", \"clip2.tif\")\n",
    "    clip2_lack_path = os.path.join(r\"C:\\Users\\GE\\Dropbox\\My PC (PC09)\\Desktop\\kairo_testset\", \"clip2_lack.tif\")\n",
    "    with rio.open(clip2_path, 'w', **meta) as dst:\n",
    "        dst.write(clip2)\n",
    "    with rio.open(clip2_lack_path, 'w', **meta) as dst:\n",
    "        dst.write(clip2_lack)"
   ]
  },
  {
   "cell_type": "code",
   "execution_count": 164,
   "metadata": {},
   "outputs": [],
   "source": [
    "\n",
    "from rasterio.merge import merge\n",
    "clip1_lack_path = os.path.join(r\"C:\\Users\\GE\\Dropbox\\My PC (PC09)\\Desktop\\kairo_testset\", \"clip1_lack.tif\")\n",
    "clip2_lack_path = os.path.join(r\"C:\\Users\\GE\\Dropbox\\My PC (PC09)\\Desktop\\kairo_testset\", \"clip2_lack.tif\")\n",
    "src_files_to_mosiac = []\n",
    "\n",
    "list_ = [clip2_lack_path,clip1_lack_path]\n",
    "for lis in list_:\n",
    "    src = rio.open(lis)\n",
    "    src_files_to_mosiac.append(src)\n",
    "\n",
    "mos, out_trans = merge(src_files_to_mosiac)\n"
   ]
  },
  {
   "cell_type": "code",
   "execution_count": 165,
   "metadata": {},
   "outputs": [
    {
     "name": "stdout",
     "output_type": "stream",
     "text": [
      "[[[343 337 347]\n",
      "  [327   0 340]\n",
      "  [332 348 323]]]\n",
      "[[[270 288 278 284 300]\n",
      "  [321   0 305 341 336]\n",
      "  [330 328 353 346 344]\n",
      "  [284 297 315 306 291]\n",
      "  [300 295 281 262 266]]]\n"
     ]
    }
   ],
   "source": [
    "print(clip_lack)\n",
    "print(clip2_lack)"
   ]
  },
  {
   "cell_type": "code",
   "execution_count": 166,
   "metadata": {},
   "outputs": [
    {
     "data": {
      "text/plain": [
       "array([[[270, 288, 278, 284, 300],\n",
       "        [321, 343, 305, 341, 336],\n",
       "        [330, 328, 353, 346, 344],\n",
       "        [284, 297, 315, 306, 291],\n",
       "        [300, 295, 281, 262, 266]]], dtype=int16)"
      ]
     },
     "execution_count": 166,
     "metadata": {},
     "output_type": "execute_result"
    }
   ],
   "source": [
    "mos"
   ]
  },
  {
   "cell_type": "code",
   "execution_count": null,
   "metadata": {},
   "outputs": [],
   "source": []
  }
 ],
 "metadata": {
  "kernelspec": {
   "display_name": "Python 3",
   "language": "python",
   "name": "python3"
  },
  "language_info": {
   "codemirror_mode": {
    "name": "ipython",
    "version": 3
   },
   "file_extension": ".py",
   "mimetype": "text/x-python",
   "name": "python",
   "nbconvert_exporter": "python",
   "pygments_lexer": "ipython3",
   "version": "3.7.9"
  }
 },
 "nbformat": 4,
 "nbformat_minor": 4
}
