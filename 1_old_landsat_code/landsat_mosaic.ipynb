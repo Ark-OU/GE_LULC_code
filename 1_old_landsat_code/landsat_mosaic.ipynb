{
 "cells": [
  {
   "cell_type": "code",
   "execution_count": 3,
   "metadata": {},
   "outputs": [],
   "source": [
    "# 二つ目のボックスで緯度座標系をWGS84 -> 緯度経度10進数に変換\n",
    "# 変換後の画像をreprojectに保存\n",
    "\n",
    "# 三つ目のボックスでreprojectから読み込んだ画像をmergeして\n",
    "# 各バンドごとに一枚の日本地図を作成する\n",
    "\n",
    "import numpy as np\n",
    "import rasterio\n",
    "from rasterio.merge import merge\n",
    "from rasterio.plot import show\n",
    "from glob import glob\n",
    "import os\n",
    "from tqdm import tqdm\n",
    "import time\n",
    "from rasterio.warp import calculate_default_transform, reproject, Resampling"
   ]
  },
  {
   "cell_type": "code",
   "execution_count": 15,
   "metadata": {
    "scrolled": false
   },
   "outputs": [
    {
     "name": "stderr",
     "output_type": "stream",
     "text": [
      "100%|████████████████████████████████████████████████████████████████████████████████████| 4/4 [00:52<00:00, 13.22s/it]\n"
     ]
    }
   ],
   "source": [
    "# from IPython.core.debugger import Pdb; Pdb().set_trace()\n",
    "list_1 = []\n",
    "\n",
    "seasons = [\"winter\", \"spring\", \"summer\", \"autumn\"]\n",
    "# seasons = [\"winter\", \"autumn\"]\n",
    "\n",
    "for season in tqdm(seasons):\n",
    "    try:\n",
    "        os.makedirs(f\"E:/LULC/raw_data/1_landsat/6_landsat8_mosaic/{season}\")\n",
    "    except FileExistsError:\n",
    "        pass\n",
    "    \n",
    "    for i in range(1,8):\n",
    "        dir_base_path = f\"E:/LULC/raw_data/1_landsat/4_landsat8_masked/{season}\"\n",
    "        outpath = f\"E:/LULC/raw_data/1_landsat/6_landsat8_mosaic/{season}/band{i}.tif\"\n",
    "\n",
    "\n",
    "        band = glob(os.path.join(dir_base_path, \"*\", f\"*band{i}*\"))\n",
    "        \n",
    "\n",
    "        dst_crs = 'EPSG:4326'\n",
    "\n",
    "        for img in band:\n",
    "            scene_name = img.split('\\\\')[1]\n",
    "            with rasterio.open(img) as src:\n",
    "                transform, width, height = calculate_default_transform(\n",
    "                    src.crs, dst_crs, src.width, src.height, *src.bounds)\n",
    "                kwargs = src.meta.copy()\n",
    "                kwargs.update({\n",
    "                    'crs': dst_crs,\n",
    "                    'transform': transform,\n",
    "                    'width': width,\n",
    "                    'height': height\n",
    "                })\n",
    "                \n",
    "#             まったく別の場所の画像も入っていたので例外処理。\n",
    "                if src.crs == \"EPSG:32601\" or src.crs == \"EPSG:32660\":\n",
    "                    list_1.append(f\"E:/LULC/raw_data/1_landsat/5_landsat8_reproject/{season}/{scene_name}/band{i}.tif\")\n",
    "                    continue\n",
    "                    \n",
    "                try:\n",
    "                    os.makedirs(f\"E:/LULC/raw_data/1_landsat/5_landsat8_reproject/{season}/{scene_name}\")\n",
    "                except FileExistsError:\n",
    "                    pass\n",
    "\n",
    "            \n",
    "#  ＝＝＝＝＝＝＝＝以下、保存するコード！＝＝＝＝＝＝＝＝＝＝＝＝＝\n",
    "#                 from IPython.core.debugger import Pdb; Pdb().set_trace()\n",
    "#                 with rasterio.open(f\"E:/LULC/raw_data/1_landsat/landsat8_reproject/{season}/{scene_name}/band{i}.tif\", 'w', **kwargs) as dst:\n",
    "#                     for j in range(1, src.count + 1):\n",
    "#                         reproject(\n",
    "#                             source=rasterio.band(src, j),\n",
    "#                             destination=rasterio.band(dst, j),\n",
    "#                             src_transform=src.transform,\n",
    "#                             src_crs=src.crs,\n",
    "#                             dst_transform=transform,\n",
    "#                             dst_crs=dst_crs,\n",
    "#                             resampling=Resampling.nearest)"
   ]
  },
  {
   "cell_type": "code",
   "execution_count": 18,
   "metadata": {
    "scrolled": true
   },
   "outputs": [
    {
     "name": "stderr",
     "output_type": "stream",
     "text": [
      "\r",
      "  0%|                                                                                            | 0/4 [00:00<?, ?it/s]"
     ]
    },
    {
     "name": "stdout",
     "output_type": "stream",
     "text": [
      "E:/LULC/raw_data/1_landsat/6_landsat8_merged/winter/band1.tif is existing!\n",
      "E:/LULC/raw_data/1_landsat/6_landsat8_merged/winter/band2.tif is existing!\n",
      "E:/LULC/raw_data/1_landsat/6_landsat8_merged/winter/band3.tif is existing!\n",
      "E:/LULC/raw_data/1_landsat/6_landsat8_merged/winter/band4.tif is existing!\n",
      "E:/LULC/raw_data/1_landsat/6_landsat8_merged/winter/band5.tif is existing!\n",
      "merge start.\n",
      "merge end.\n",
      "merge time: 75.9395318031311\n",
      "merge start.\n",
      "merge end.\n",
      "merge time: 72.3365375995636\n"
     ]
    },
    {
     "name": "stderr",
     "output_type": "stream",
     "text": [
      "\r",
      " 25%|████████████████████▊                                                              | 1/4 [06:18<18:54, 378.26s/it]"
     ]
    },
    {
     "name": "stdout",
     "output_type": "stream",
     "text": [
      "E:/LULC/raw_data/1_landsat/6_landsat8_merged/spring/band1.tif is existing!\n",
      "E:/LULC/raw_data/1_landsat/6_landsat8_merged/spring/band2.tif is existing!\n",
      "E:/LULC/raw_data/1_landsat/6_landsat8_merged/spring/band3.tif is existing!\n",
      "E:/LULC/raw_data/1_landsat/6_landsat8_merged/spring/band4.tif is existing!\n",
      "E:/LULC/raw_data/1_landsat/6_landsat8_merged/spring/band5.tif is existing!\n",
      "E:/LULC/raw_data/1_landsat/6_landsat8_merged/spring/band6.tif is existing!\n",
      "E:/LULC/raw_data/1_landsat/6_landsat8_merged/spring/band7.tif is existing!\n",
      "E:/LULC/raw_data/1_landsat/6_landsat8_merged/summer/band1.tif is existing!\n",
      "E:/LULC/raw_data/1_landsat/6_landsat8_merged/summer/band2.tif is existing!\n",
      "E:/LULC/raw_data/1_landsat/6_landsat8_merged/summer/band3.tif is existing!\n",
      "E:/LULC/raw_data/1_landsat/6_landsat8_merged/summer/band4.tif is existing!\n",
      "E:/LULC/raw_data/1_landsat/6_landsat8_merged/summer/band5.tif is existing!\n",
      "E:/LULC/raw_data/1_landsat/6_landsat8_merged/summer/band6.tif is existing!\n",
      "E:/LULC/raw_data/1_landsat/6_landsat8_merged/summer/band7.tif is existing!\n",
      "merge start.\n",
      "merge end.\n",
      "merge time: 79.488201379776\n",
      "merge start.\n",
      "merge end.\n",
      "merge time: 78.00576257705688\n",
      "merge start.\n",
      "merge end.\n",
      "merge time: 77.31008505821228\n",
      "merge start.\n",
      "merge end.\n",
      "merge time: 77.36325597763062\n",
      "merge start.\n",
      "merge end.\n",
      "merge time: 78.02757263183594\n",
      "merge start.\n",
      "merge end.\n",
      "merge time: 78.06953930854797\n",
      "merge start.\n",
      "merge end.\n",
      "merge time: 78.2866997718811\n"
     ]
    },
    {
     "name": "stderr",
     "output_type": "stream",
     "text": [
      "100%|███████████████████████████████████████████████████████████████████████████████████| 4/4 [25:40<00:00, 385.10s/it]\n"
     ]
    }
   ],
   "source": [
    "for season in tqdm(seasons):\n",
    "    try:\n",
    "        os.makedirs(f\"E:/LULC/raw_data/1_landsat/6_landsat8_mosaic/{season}\")\n",
    "    except FileExistsError:\n",
    "        pass\n",
    "    \n",
    "    for i in range(1,8):\n",
    "        dir_base_path = f\"E:/LULC/raw_data/1_landsat/5_landsat8_reproject/{season}\"\n",
    "        outpath = f\"E:/LULC/raw_data/1_landsat/6_landsat8_mosaic/{season}/band{i}.tif\"\n",
    "        if os.path.exists(outpath):\n",
    "            print(f\"{outpath} is existing!\")\n",
    "            continue\n",
    "\n",
    "        band = glob(os.path.join(dir_base_path, \"*\", f\"*band{i}.tif\"))\n",
    "\n",
    "        src_files_to_mosiac = []\n",
    "\n",
    "        for sim in band:\n",
    "            src = rasterio.open(sim)\n",
    "            src_files_to_mosiac.append(src)\n",
    "\n",
    "        print(\"merge start.\")\n",
    "        start = time.time()\n",
    "        mos, out_trans = merge(src_files_to_mosiac)\n",
    "        end = time.time()\n",
    "        print(\"merge end.\")\n",
    "        print(f\"merge time: {end - start}\")\n",
    "\n",
    "        for sim in src_files_to_mosiac:\n",
    "            sim.close()\n",
    "\n",
    "        # show(mos, cmap='terrain', adjust=None)\n",
    "\n",
    "        with rasterio.open(outpath,\"w\",driver ='Gtiff',count=1,\n",
    "                    height= mos.shape[1],\n",
    "                    width= mos.shape[2],\n",
    "                    transform= out_trans,\n",
    "                    crs= src.crs,\n",
    "                    dtype= src.dtypes[0]\n",
    "                          ) as dest:\n",
    "            dest.write(mos)"
   ]
  },
  {
   "cell_type": "code",
   "execution_count": null,
   "metadata": {},
   "outputs": [],
   "source": []
  },
  {
   "cell_type": "code",
   "execution_count": null,
   "metadata": {},
   "outputs": [],
   "source": []
  },
  {
   "cell_type": "code",
   "execution_count": null,
   "metadata": {},
   "outputs": [],
   "source": []
  },
  {
   "cell_type": "code",
   "execution_count": null,
   "metadata": {},
   "outputs": [],
   "source": []
  },
  {
   "cell_type": "code",
   "execution_count": null,
   "metadata": {},
   "outputs": [],
   "source": [
    "# num1番目のファイルを親にして，欠損地をnum2番目のファイルで補填する．\n",
    "num1 = 0\n",
    "\n",
    "season_ids = [ \"0[1-3]\", \"0[4-6]\", \"0[7-9]\", \"1[0-2]\" ]\n",
    "\n",
    "for season_id in season_ids:\n",
    "    dir_list = glob(f\"E:/LULC/raw_data/1_landsat/2_landsat8_open/*20??{season_id}*-SC*\")\n",
    "    dir_base_list = []\n",
    "#   Get unique id\n",
    "    for i in range(len(dir_list)):\n",
    "        dir_base_list.append(dir_list[i].split(\"\\\\\")[1][4:10])\n",
    "    scene_list = np.unique(dir_base_list)\n",
    "#   Get season path\n",
    "    cnt = 0\n",
    "    for scene in scene_list:\n",
    "        season_path = glob(f\"E:/LULC/raw_data/1_landsat/2_landsat8_open/LC08{scene}20??{season_id}*-SC*\")\n",
    "        open_paths = season_path\n",
    "        open_paths.sort()\n",
    "        \n",
    "        landsat_paths_pre = glob(open_paths[num1]+\"/*band*.tif\")\n",
    "        landsat_paths_pre.sort()\n",
    "        \n",
    "        for path in landsat_paths_pre:\n",
    "            for j in range(1,8):\n",
    "                with rasterio.open(path) as filename : filename.bounds\n",
    "                print(filename.crs)\n",
    "            print(\"====================\")\n",
    "        print(\"================================================\")\n",
    "        print(\"================================================\")\n",
    "        print(\"================================================\")"
   ]
  },
  {
   "cell_type": "code",
   "execution_count": null,
   "metadata": {},
   "outputs": [],
   "source": [
    "mask_path = f\"E:/LULC/raw_data/1_landsat/4_landsat8_masked/{season}\"\n",
    "\n",
    "band1 = glob(os.path.join(mask_path, \"*\", f\"*band1*\"))\n",
    "for i in band1:\n",
    "    with rasterio.open(i) as filename : filename.bounds\n",
    "    print(filename.meta)"
   ]
  },
  {
   "cell_type": "code",
   "execution_count": null,
   "metadata": {},
   "outputs": [],
   "source": []
  }
 ],
 "metadata": {
  "kernelspec": {
   "display_name": "Python 3",
   "language": "python",
   "name": "python3"
  },
  "language_info": {
   "codemirror_mode": {
    "name": "ipython",
    "version": 3
   },
   "file_extension": ".py",
   "mimetype": "text/x-python",
   "name": "python",
   "nbconvert_exporter": "python",
   "pygments_lexer": "ipython3",
   "version": "3.7.9"
  }
 },
 "nbformat": 4,
 "nbformat_minor": 4
}
