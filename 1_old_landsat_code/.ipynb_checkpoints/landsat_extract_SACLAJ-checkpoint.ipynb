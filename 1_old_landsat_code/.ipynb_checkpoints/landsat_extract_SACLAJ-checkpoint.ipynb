{
 "cells": [
  {
   "cell_type": "code",
   "execution_count": 1,
   "metadata": {},
   "outputs": [],
   "source": [
    "import rasterio as rio\n",
    "import numpy as np\n",
    "import pandas as pd\n",
    "import os\n",
    "from glob import glob\n",
    "import time\n",
    "\n",
    "input_base_path = r\"E:\\LULC\\raw_data\\1_landsat\\6_landsat8_mosaic\"\n",
    "output_base_path = r\"E:\\LULC\\features\\01_landsat8\\train\"\n",
    "target_file = r\"E:\\LULC\\raw_data\\0_groundtruth\\SACLAJ_2014_2016_catclearned.csv\"\n",
    "\n",
    "seasons = [\"winter\", \"spring\", \"summer\", \"autumn\"]\n",
    "target_df = pd.read_csv(target_file)\n",
    "target_list = []\n",
    "\n",
    "for i in range(len(target_df)):\n",
    "    sacla_id = \"{:05}\".format(target_df[\"id\"][i])\n",
    "    lon = float(target_df[\"target_lon\"][i])\n",
    "    lat = float(target_df[\"target_lat\"][i])\n",
    "    target = target_df[\"category\"][i]\n",
    "    target_list.append([sacla_id, lon, lat, target])\n",
    "\n",
    "N_list = [11, 21, 31]\n",
    "\n",
    "start = time.now()\n",
    "\n",
    "for N in N_list:\n",
    "    print(f\"{N}*{N} is starting...\")\n",
    "    for season in seasons:\n",
    "        input_path = os.path.join(input_base_path, season)\n",
    "        bands = glob(input_path + \"/*.tif\")\n",
    "\n",
    "    #   各シーズンごとの各バンドのパス: band\n",
    "        for band in bands:\n",
    "            with rio.open(band) as dataset:\n",
    "\n",
    "                try:\n",
    "                    os.makedirs(os.path.join(output_base_path, f\"{N}x{N}\"))\n",
    "                except FileExistsError:\n",
    "                    pass \n",
    "                output_file = os.path.join(output_base_path, f\"{N}x{N}\")\n",
    "                band_name = os.path.basename(band).split(\".\")[0]\n",
    "\n",
    "                for i, (sacla_id, lon, lat, target) in enumerate(target_list): \n",
    "\n",
    "                    py, px = dataset.index(lon, lat)\n",
    "                    window = rio.windows.Window(px - N//2, py - N//2, N, N)\n",
    "                    clip = dataset.read(window=window)\n",
    "\n",
    "                    meta = dataset.meta\n",
    "                    meta['width'], meta['height'] = N, N\n",
    "                    meta['transform'] = rio.windows.transform(window, dataset.transform)\n",
    "                    \n",
    "                    \n",
    "                    lon = \"{:.6f}\".format(round(lon, 6))\n",
    "                    lat = \"{:.6f}\".format(round(lat, 6))\n",
    "                    output_path = os.path.join(output_file, f\"{sacla_id}_{lon}_{lat}_{season}_{band_name}_{target}.tif\")\n",
    "                    with rio.open(output_path, 'w', **meta) as dst:\n",
    "                        dst.write(clip)\n",
    "    \n",
    "    end = time.now()\n",
    "    print(f\"{N}*{N} is finished... time is {star})"
   ]
  },
  {
   "cell_type": "code",
   "execution_count": null,
   "metadata": {},
   "outputs": [],
   "source": []
  },
  {
   "cell_type": "code",
   "execution_count": null,
   "metadata": {},
   "outputs": [],
   "source": []
  }
 ],
 "metadata": {
  "kernelspec": {
   "display_name": "Python 3",
   "language": "python",
   "name": "python3"
  },
  "language_info": {
   "codemirror_mode": {
    "name": "ipython",
    "version": 3
   },
   "file_extension": ".py",
   "mimetype": "text/x-python",
   "name": "python",
   "nbconvert_exporter": "python",
   "pygments_lexer": "ipython3",
   "version": "3.7.9"
  }
 },
 "nbformat": 4,
 "nbformat_minor": 4
}
