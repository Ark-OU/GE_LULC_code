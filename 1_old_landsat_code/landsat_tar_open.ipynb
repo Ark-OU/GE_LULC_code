{
 "cells": [
  {
   "cell_type": "code",
   "execution_count": 38,
   "metadata": {},
   "outputs": [],
   "source": [
    "import tarfile\n",
    "import glob\n",
    "import os\n",
    "\n",
    "input_path = r\"E:\\LULC\\raw_data\\1_landsat\\1_landsat8_origen\\espa-P100erf9anwq6\"\n",
    "output_path = r\"E:\\LULC\\raw_data\\1_landsat\\1_landsat8_open\""
   ]
  },
  {
   "cell_type": "code",
   "execution_count": 39,
   "metadata": {},
   "outputs": [],
   "source": [
    "# file_nameを取得==================================\n",
    "input_files = glob.glob(input_path + \"/*.tar.gz\")\n",
    "\n",
    "# file_names: 拡張子付き名前========================\n",
    "file_names = []\n",
    "for file in input_files:\n",
    "    file_names.append(os.path.basename(file))\n",
    "\n",
    "# output_file_names: 拡張子なし名前=================\n",
    "output_file_names = []\n",
    "for name in file_names:\n",
    "    output_file_names.append(os.path.splitext(os.path.splitext(name)[0])[0])"
   ]
  },
  {
   "cell_type": "code",
   "execution_count": 40,
   "metadata": {},
   "outputs": [],
   "source": [
    "# unzip files\n",
    "for i, tar_file in enumerate(input_files, 0):\n",
    "    with tarfile.open(tar_file) as tar:\n",
    "        output_file_name = output_path + \"/\" + output_file_names[i]\n",
    "        os.makedirs(output_file_name, exist_ok=True)\n",
    "        tar.extractall(output_file_name)"
   ]
  },
  {
   "cell_type": "code",
   "execution_count": null,
   "metadata": {},
   "outputs": [],
   "source": []
  }
 ],
 "metadata": {
  "kernelspec": {
   "display_name": "Python 3",
   "language": "python",
   "name": "python3"
  },
  "language_info": {
   "codemirror_mode": {
    "name": "ipython",
    "version": 3
   },
   "file_extension": ".py",
   "mimetype": "text/x-python",
   "name": "python",
   "nbconvert_exporter": "python",
   "pygments_lexer": "ipython3",
   "version": "3.7.9"
  }
 },
 "nbformat": 4,
 "nbformat_minor": 4
}
