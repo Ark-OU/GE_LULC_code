{
 "cells": [
  {
   "cell_type": "code",
   "execution_count": 2,
   "metadata": {},
   "outputs": [],
   "source": [
    "import numpy as np\n",
    "import os\n",
    "from glob import glob"
   ]
  },
  {
   "cell_type": "code",
   "execution_count": 23,
   "metadata": {},
   "outputs": [
    {
     "name": "stdout",
     "output_type": "stream",
     "text": [
      "76\n",
      "76\n",
      "78\n",
      "76\n"
     ]
    }
   ],
   "source": [
    "path = r\"E:\\LULC\\raw_data\\1_landsat\\5_landsat8_reproject\"\n",
    "season_paths = glob(path + \"/*\")\n",
    "\n",
    "unique_list = []\n",
    "for season_path in season_paths:\n",
    "    paths = glob(season_path + \"/*\")\n",
    "    scenes = []\n",
    "    for i in range(len(paths)):\n",
    "        scenes.append(paths[i].split(\"\\\\\")[6])\n",
    "    print(len(np.unique(scenes)))\n",
    "    unique_list.append(np.sort(np.unique(scenes)))"
   ]
  },
  {
   "cell_type": "code",
   "execution_count": 52,
   "metadata": {},
   "outputs": [
    {
     "data": {
      "text/plain": [
       "array(['LC08103041', 'LC08104029', 'LC08104030', 'LC08104041',\n",
       "       'LC08104042', 'LC08104043', 'LC08105029', 'LC08105030',\n",
       "       'LC08105041', 'LC08105042', 'LC08106029', 'LC08106030',\n",
       "       'LC08106031', 'LC08106032', 'LC08106033', 'LC08106034',\n",
       "       'LC08106035', 'LC08106036', 'LC08106037', 'LC08106038',\n",
       "       'LC08106039', 'LC08106040', 'LC08106041', 'LC08107028',\n",
       "       'LC08107029', 'LC08107030', 'LC08107031', 'LC08107032',\n",
       "       'LC08107033', 'LC08107034', 'LC08107035', 'LC08107036',\n",
       "       'LC08107037', 'LC08107038', 'LC08108028', 'LC08108029',\n",
       "       'LC08108030', 'LC08108031', 'LC08108032', 'LC08108033',\n",
       "       'LC08108034', 'LC08108035', 'LC08108036', 'LC08109028',\n",
       "       'LC08109029', 'LC08109030', 'LC08109031', 'LC08109032',\n",
       "       'LC08109033', 'LC08109034', 'LC08109035', 'LC08109036',\n",
       "       'LC08109037', 'LC08110031', 'LC08110034', 'LC08110035',\n",
       "       'LC08110036', 'LC08110037', 'LC08111035', 'LC08111036',\n",
       "       'LC08111037', 'LC08112035', 'LC08112036', 'LC08112037',\n",
       "       'LC08112038', 'LC08112039', 'LC08112040', 'LC08112041',\n",
       "       'LC08113035', 'LC08113036', 'LC08113037', 'LC08113038',\n",
       "       'LC08113039', 'LC08113040', 'LC08113041', 'LC08113042',\n",
       "       'LC08114036', 'LC08114037', 'LC08114038', 'LC08114041',\n",
       "       'LC08114042', 'LC08115042'], dtype='<U10')"
      ]
     },
     "execution_count": 52,
     "metadata": {},
     "output_type": "execute_result"
    }
   ],
   "source": [
    "import itertools\n",
    "\n",
    "single = np.unique(list(itertools.chain.from_iterable(unique_list)))\n",
    "single"
   ]
  },
  {
   "cell_type": "code",
   "execution_count": 57,
   "metadata": {},
   "outputs": [
    {
     "name": "stdout",
     "output_type": "stream",
     "text": [
      "=========================LC08103041だめ\n",
      "===LC08104029おｋ\n",
      "===LC08104030おｋ\n",
      "===LC08104041おｋ\n",
      "===LC08104042おｋ\n",
      "===LC08104043おｋ\n",
      "=========================LC08105029だめ\n",
      "===LC08105030おｋ\n",
      "===LC08105041おｋ\n",
      "===LC08105042おｋ\n",
      "===LC08106029おｋ\n",
      "===LC08106030おｋ\n",
      "===LC08106031おｋ\n",
      "=========================LC08106032だめ\n",
      "===LC08106033おｋ\n",
      "===LC08106034おｋ\n",
      "===LC08106035おｋ\n",
      "===LC08106036おｋ\n",
      "===LC08106037おｋ\n",
      "===LC08106038おｋ\n",
      "===LC08106039おｋ\n",
      "=========================LC08106040だめ\n",
      "=========================LC08106041だめ\n",
      "=========================LC08107028だめ\n",
      "=========================LC08107029だめ\n",
      "=========================LC08107030だめ\n",
      "===LC08107031おｋ\n",
      "===LC08107032おｋ\n",
      "===LC08107033おｋ\n",
      "===LC08107034おｋ\n",
      "===LC08107035おｋ\n",
      "===LC08107036おｋ\n",
      "===LC08107037おｋ\n",
      "=========================LC08107038だめ\n",
      "===LC08108028おｋ\n",
      "=========================LC08108029だめ\n",
      "=========================LC08108030だめ\n",
      "===LC08108031おｋ\n",
      "=========================LC08108032だめ\n",
      "=========================LC08108033だめ\n",
      "===LC08108034おｋ\n",
      "===LC08108035おｋ\n",
      "===LC08108036おｋ\n",
      "===LC08109028おｋ\n",
      "===LC08109029おｋ\n",
      "===LC08109030おｋ\n",
      "===LC08109031おｋ\n",
      "===LC08109032おｋ\n",
      "===LC08109033おｋ\n",
      "===LC08109034おｋ\n",
      "===LC08109035おｋ\n",
      "===LC08109036おｋ\n",
      "===LC08109037おｋ\n",
      "=========================LC08110031だめ\n",
      "===LC08110034おｋ\n",
      "===LC08110035おｋ\n",
      "===LC08110036おｋ\n",
      "===LC08110037おｋ\n",
      "===LC08111035おｋ\n",
      "===LC08111036おｋ\n",
      "===LC08111037おｋ\n",
      "===LC08112035おｋ\n",
      "===LC08112036おｋ\n",
      "===LC08112037おｋ\n",
      "===LC08112038おｋ\n",
      "===LC08112039おｋ\n",
      "===LC08112040おｋ\n",
      "===LC08112041おｋ\n",
      "===LC08113035おｋ\n",
      "===LC08113036おｋ\n",
      "===LC08113037おｋ\n",
      "===LC08113038おｋ\n",
      "=========================LC08113039だめ\n",
      "=========================LC08113040だめ\n",
      "===LC08113041おｋ\n",
      "===LC08113042おｋ\n",
      "===LC08114036おｋ\n",
      "===LC08114037おｋ\n",
      "===LC08114038おｋ\n",
      "===LC08114041おｋ\n",
      "===LC08114042おｋ\n",
      "===LC08115042おｋ\n"
     ]
    }
   ],
   "source": [
    "bad = []\n",
    "for scene in single:\n",
    "    a = scene\n",
    "    b = unique_list[0]\n",
    "    c = unique_list[1]\n",
    "    d = unique_list[2]\n",
    "    e = unique_list[3]\n",
    "    if (a in b)&(a in c)&(a in d)&(a in e) == True:\n",
    "        print(f\"==={a}おｋ\")\n",
    "    else:\n",
    "        print(f\"========================={a}だめ\")\n",
    "        bad.append(a)"
   ]
  },
  {
   "cell_type": "code",
   "execution_count": 58,
   "metadata": {},
   "outputs": [
    {
     "data": {
      "text/plain": [
       "['LC08103041',\n",
       " 'LC08105029',\n",
       " 'LC08106032',\n",
       " 'LC08106040',\n",
       " 'LC08106041',\n",
       " 'LC08107028',\n",
       " 'LC08107029',\n",
       " 'LC08107030',\n",
       " 'LC08107038',\n",
       " 'LC08108029',\n",
       " 'LC08108030',\n",
       " 'LC08108032',\n",
       " 'LC08108033',\n",
       " 'LC08110031',\n",
       " 'LC08113039',\n",
       " 'LC08113040']"
      ]
     },
     "execution_count": 58,
     "metadata": {},
     "output_type": "execute_result"
    }
   ],
   "source": [
    "bad"
   ]
  },
  {
   "cell_type": "code",
   "execution_count": null,
   "metadata": {},
   "outputs": [],
   "source": []
  }
 ],
 "metadata": {
  "kernelspec": {
   "display_name": "Python 3",
   "language": "python",
   "name": "python3"
  },
  "language_info": {
   "codemirror_mode": {
    "name": "ipython",
    "version": 3
   },
   "file_extension": ".py",
   "mimetype": "text/x-python",
   "name": "python",
   "nbconvert_exporter": "python",
   "pygments_lexer": "ipython3",
   "version": "3.7.9"
  }
 },
 "nbformat": 4,
 "nbformat_minor": 4
}
