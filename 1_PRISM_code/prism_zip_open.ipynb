{
 "cells": [
  {
   "cell_type": "code",
   "execution_count": 8,
   "metadata": {},
   "outputs": [],
   "source": [
    "import zipfile\n",
    "import glob\n",
    "import os\n",
    "\n",
    "input_path = r\"E:\\LULC\\raw_data\\9_ALOS_PRISM_DSM_30\\prism_origen\"\n",
    "output_path = r\"E:\\LULC\\raw_data\\9_ALOS_PRISM_DSM_30\\prism_open\""
   ]
  },
  {
   "cell_type": "code",
   "execution_count": 9,
   "metadata": {},
   "outputs": [],
   "source": [
    "# file_nameを取得==================================\n",
    "input_files = glob.glob(input_path + \"/*.zip\")\n",
    "\n",
    "# file_names: 拡張子付き名前========================\n",
    "file_names = []\n",
    "for file in input_files:\n",
    "    file_names.append(os.path.basename(file))\n",
    "\n",
    "# output_file_names: 拡張子なし名前=================\n",
    "output_file_names = []\n",
    "for name in file_names:\n",
    "    output_file_names.append(os.path.splitext(os.path.splitext(name)[0])[0])"
   ]
  },
  {
   "cell_type": "code",
   "execution_count": 12,
   "metadata": {},
   "outputs": [
    {
     "name": "stdout",
     "output_type": "stream",
     "text": [
      "['N025E125_N030E130.zip', 'N030E130_N035E135.zip', 'N030E135_N035E140.zip', 'N035E130_N040E135.zip', 'N035E135_N040E140.zip', 'N035E140_N040E145.zip', 'N040E140_N045E145.zip', 'N042E139.zip', 'N045E141.zip', 'N045E142.zip']\n"
     ]
    }
   ],
   "source": [
    "print(file_names)"
   ]
  },
  {
   "cell_type": "code",
   "execution_count": 14,
   "metadata": {},
   "outputs": [],
   "source": [
    "# unzip files\n",
    "for i, zip_file in enumerate(input_files, 0):\n",
    "    with zipfile.ZipFile(zip_file) as zip:\n",
    "        output_file_name = output_path\n",
    "        os.makedirs(output_file_name, exist_ok=True)\n",
    "        zip.extractall(output_file_name)"
   ]
  },
  {
   "cell_type": "code",
   "execution_count": null,
   "metadata": {},
   "outputs": [],
   "source": []
  }
 ],
 "metadata": {
  "kernelspec": {
   "display_name": "Python 3",
   "language": "python",
   "name": "python3"
  },
  "language_info": {
   "codemirror_mode": {
    "name": "ipython",
    "version": 3
   },
   "file_extension": ".py",
   "mimetype": "text/x-python",
   "name": "python",
   "nbconvert_exporter": "python",
   "pygments_lexer": "ipython3",
   "version": "3.7.7"
  }
 },
 "nbformat": 4,
 "nbformat_minor": 4
}
