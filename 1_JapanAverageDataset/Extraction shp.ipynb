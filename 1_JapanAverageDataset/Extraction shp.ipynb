{
 "cells": [
  {
   "cell_type": "code",
   "execution_count": 1,
   "metadata": {},
   "outputs": [],
   "source": [
    "import shutil\n",
    "import os\n",
    "from glob import glob"
   ]
  },
  {
   "cell_type": "code",
   "execution_count": 2,
   "metadata": {},
   "outputs": [],
   "source": [
    "file_paths = glob(os.path.join(\"D:/LULC/raw_data/10_JapanAverageData/open\",\"*\", \"*\", \"*.shp\"))\n",
    "output_path = \"D:/LULC/raw_data/10_JapanAverageData/extension_is_shp\""
   ]
  },
  {
   "cell_type": "code",
   "execution_count": 3,
   "metadata": {},
   "outputs": [
    {
     "data": {
      "text/plain": [
       "'G02-12_3622-jgd.shp'"
      ]
     },
     "execution_count": 3,
     "metadata": {},
     "output_type": "execute_result"
    }
   ],
   "source": [
    "file_paths[0].split(\"\\\\\")[-1]"
   ]
  },
  {
   "cell_type": "code",
   "execution_count": 23,
   "metadata": {},
   "outputs": [],
   "source": [
    "for path in file_paths:\n",
    "    shutil.copy(path, os.path.join(output_path, path.split(\"\\\\\")[-1]))\n",
    "#     break"
   ]
  },
  {
   "cell_type": "code",
   "execution_count": 13,
   "metadata": {},
   "outputs": [],
   "source": [
    "file_lis = []\n",
    "for path in file_paths:\n",
    "    file_lis.append(path + \"\\n\")"
   ]
  },
  {
   "cell_type": "code",
   "execution_count": 14,
   "metadata": {},
   "outputs": [],
   "source": [
    "f = open(os.path.join(output_path, \"shp_lis.txt\"), \"w\", encoding=\"UTF-8\")\n",
    "f.writelines(file_lis)\n",
    "f.close()"
   ]
  },
  {
   "cell_type": "code",
   "execution_count": 15,
   "metadata": {},
   "outputs": [
    {
     "data": {
      "text/plain": [
       "['D:/LULC/raw_data/10_JapanAverageData/open\\\\G02-12_3622-jgd_GML\\\\G02-12_3622-jgd_GML\\\\G02-12_3622-jgd.shp\\n',\n",
       " 'D:/LULC/raw_data/10_JapanAverageData/open\\\\G02-12_3623-jgd_GML\\\\G02-12_3623-jgd_GML\\\\G02-12_3623-jgd.shp\\n',\n",
       " 'D:/LULC/raw_data/10_JapanAverageData/open\\\\G02-12_3624-jgd_GML\\\\G02-12_3624-jgd_GML\\\\G02-12_3624-jgd.shp\\n',\n",
       " 'D:/LULC/raw_data/10_JapanAverageData/open\\\\G02-12_3724-jgd_GML\\\\G02-12_3724-jgd_GML\\\\G02-12_3724-jgd.shp\\n',\n",
       " 'D:/LULC/raw_data/10_JapanAverageData/open\\\\G02-12_3725-jgd_GML\\\\G02-12_3725-jgd_GML\\\\G02-12_3725-jgd.shp\\n',\n",
       " 'D:/LULC/raw_data/10_JapanAverageData/open\\\\G02-12_3823-jgd_GML\\\\G02-12_3823-jgd_GML\\\\G02-12_3823-jgd.shp\\n',\n",
       " 'D:/LULC/raw_data/10_JapanAverageData/open\\\\G02-12_3824-jgd_GML\\\\G02-12_3824-jgd_GML\\\\G02-12_3824-jgd.shp\\n',\n",
       " 'D:/LULC/raw_data/10_JapanAverageData/open\\\\G02-12_3831-jgd_GML\\\\G02-12_3831-jgd_GML\\\\G02-12_3831-jgd.shp\\n',\n",
       " 'D:/LULC/raw_data/10_JapanAverageData/open\\\\G02-12_3926-jgd_GML\\\\G02-12_3926-jgd_GML\\\\G02-12_3926-jgd.shp\\n',\n",
       " 'D:/LULC/raw_data/10_JapanAverageData/open\\\\G02-12_3927-jgd_GML\\\\G02-12_3927-jgd_GML\\\\G02-12_3927-jgd.shp\\n',\n",
       " 'D:/LULC/raw_data/10_JapanAverageData/open\\\\G02-12_3928-jgd_GML\\\\G02-12_3928-jgd_GML\\\\G02-12_3928-jgd.shp\\n',\n",
       " 'D:/LULC/raw_data/10_JapanAverageData/open\\\\G02-12_4027-jgd_GML\\\\G02-12_4027-jgd_GML\\\\G02-12_4027-jgd.shp\\n',\n",
       " 'D:/LULC/raw_data/10_JapanAverageData/open\\\\G02-12_4028-jgd_GML\\\\G02-12_4028-jgd_GML\\\\G02-12_4028-jgd.shp\\n',\n",
       " 'D:/LULC/raw_data/10_JapanAverageData/open\\\\G02-12_4128-jgd_GML\\\\G02-12_4128-jgd_GML\\\\G02-12_4128-jgd.shp\\n',\n",
       " 'D:/LULC/raw_data/10_JapanAverageData/open\\\\G02-12_4129-jgd_GML\\\\G02-12_4129-jgd_GML\\\\G02-12_4129-jgd.shp\\n',\n",
       " 'D:/LULC/raw_data/10_JapanAverageData/open\\\\G02-12_4229-jgd_GML\\\\G02-12_4229-jgd_GML\\\\G02-12_4229-jgd.shp\\n',\n",
       " 'D:/LULC/raw_data/10_JapanAverageData/open\\\\G02-12_4230-jgd_GML\\\\G02-12_4230-jgd_GML\\\\G02-12_4230-jgd.shp\\n',\n",
       " 'D:/LULC/raw_data/10_JapanAverageData/open\\\\G02-12_4328-jgd_GML\\\\G02-12_4328-jgd_GML\\\\G02-12_4328-jgd.shp\\n',\n",
       " 'D:/LULC/raw_data/10_JapanAverageData/open\\\\G02-12_4329-jgd_GML\\\\G02-12_4329-jgd_GML\\\\G02-12_4329-jgd.shp\\n',\n",
       " 'D:/LULC/raw_data/10_JapanAverageData/open\\\\G02-12_4429-jgd_GML\\\\G02-12_4429-jgd_GML\\\\G02-12_4429-jgd.shp\\n',\n",
       " 'D:/LULC/raw_data/10_JapanAverageData/open\\\\G02-12_4529-jgd_GML\\\\G02-12_4529-jgd_GML\\\\G02-12_4529-jgd.shp\\n',\n",
       " 'D:/LULC/raw_data/10_JapanAverageData/open\\\\G02-12_4530-jgd_GML\\\\G02-12_4530-jgd_GML\\\\G02-12_4530-jgd.shp\\n',\n",
       " 'D:/LULC/raw_data/10_JapanAverageData/open\\\\G02-12_4531-jgd_GML\\\\G02-12_4531-jgd_GML\\\\G02-12_4531-jgd.shp\\n',\n",
       " 'D:/LULC/raw_data/10_JapanAverageData/open\\\\G02-12_4629-jgd_GML\\\\G02-12_4629-jgd_GML\\\\G02-12_4629-jgd.shp\\n',\n",
       " 'D:/LULC/raw_data/10_JapanAverageData/open\\\\G02-12_4630-jgd_GML\\\\G02-12_4630-jgd_GML\\\\G02-12_4630-jgd.shp\\n',\n",
       " 'D:/LULC/raw_data/10_JapanAverageData/open\\\\G02-12_4631-jgd_GML\\\\G02-12_4631-jgd_GML\\\\G02-12_4631-jgd.shp\\n',\n",
       " 'D:/LULC/raw_data/10_JapanAverageData/open\\\\G02-12_4728-jgd_GML\\\\G02-12_4728-jgd_GML\\\\G02-12_4728-jgd.shp\\n',\n",
       " 'D:/LULC/raw_data/10_JapanAverageData/open\\\\G02-12_4729-jgd_GML\\\\G02-12_4729-jgd_GML\\\\G02-12_4729-jgd.shp\\n',\n",
       " 'D:/LULC/raw_data/10_JapanAverageData/open\\\\G02-12_4730-jgd_GML\\\\G02-12_4730-jgd_GML\\\\G02-12_4730-jgd.shp\\n',\n",
       " 'D:/LULC/raw_data/10_JapanAverageData/open\\\\G02-12_4731-jgd_GML\\\\G02-12_4731-jgd_GML\\\\G02-12_4731-jgd.shp\\n',\n",
       " 'D:/LULC/raw_data/10_JapanAverageData/open\\\\G02-12_4828-jgd_GML\\\\G02-12_4828-jgd_GML\\\\G02-12_4828-jgd.shp\\n',\n",
       " 'D:/LULC/raw_data/10_JapanAverageData/open\\\\G02-12_4829-jgd_GML\\\\G02-12_4829-jgd_GML\\\\G02-12_4829-jgd.shp\\n',\n",
       " 'D:/LULC/raw_data/10_JapanAverageData/open\\\\G02-12_4830-jgd_GML\\\\G02-12_4830-jgd_GML\\\\G02-12_4830-jgd.shp\\n',\n",
       " 'D:/LULC/raw_data/10_JapanAverageData/open\\\\G02-12_4831-jgd_GML\\\\G02-12_4831-jgd_GML\\\\G02-12_4831-jgd.shp\\n',\n",
       " 'D:/LULC/raw_data/10_JapanAverageData/open\\\\G02-12_4839-jgd_GML\\\\G02-12_4839-jgd_GML\\\\G02-12_4839-jgd.shp\\n',\n",
       " 'D:/LULC/raw_data/10_JapanAverageData/open\\\\G02-12_4928-jgd_GML\\\\G02-12_4928-jgd_GML\\\\G02-12_4928-jgd.shp\\n',\n",
       " 'D:/LULC/raw_data/10_JapanAverageData/open\\\\G02-12_4929-jgd_GML\\\\G02-12_4929-jgd_GML\\\\G02-12_4929-jgd.shp\\n',\n",
       " 'D:/LULC/raw_data/10_JapanAverageData/open\\\\G02-12_4930-jgd_GML\\\\G02-12_4930-jgd_GML\\\\G02-12_4930-jgd.shp\\n',\n",
       " 'D:/LULC/raw_data/10_JapanAverageData/open\\\\G02-12_4931-jgd_GML\\\\G02-12_4931-jgd_GML\\\\G02-12_4931-jgd.shp\\n',\n",
       " 'D:/LULC/raw_data/10_JapanAverageData/open\\\\G02-12_4932-jgd_GML\\\\G02-12_4932-jgd_GML\\\\G02-12_4932-jgd.shp\\n',\n",
       " 'D:/LULC/raw_data/10_JapanAverageData/open\\\\G02-12_4933-jgd_GML\\\\G02-12_4933-jgd_GML\\\\G02-12_4933-jgd.shp\\n',\n",
       " 'D:/LULC/raw_data/10_JapanAverageData/open\\\\G02-12_4934-jgd_GML\\\\G02-12_4934-jgd_GML\\\\G02-12_4934-jgd.shp\\n',\n",
       " 'D:/LULC/raw_data/10_JapanAverageData/open\\\\G02-12_4939-jgd_GML\\\\G02-12_4939-jgd_GML\\\\G02-12_4939-jgd.shp\\n',\n",
       " 'D:/LULC/raw_data/10_JapanAverageData/open\\\\G02-12_5029-jgd_GML\\\\G02-12_5029-jgd_GML\\\\G02-12_5029-jgd.shp\\n',\n",
       " 'D:/LULC/raw_data/10_JapanAverageData/open\\\\G02-12_5030-jgd_GML\\\\G02-12_5030-jgd_GML\\\\G02-12_5030-jgd.shp\\n',\n",
       " 'D:/LULC/raw_data/10_JapanAverageData/open\\\\G02-12_5031-jgd_GML\\\\G02-12_5031-jgd_GML\\\\G02-12_5031-jgd.shp\\n',\n",
       " 'D:/LULC/raw_data/10_JapanAverageData/open\\\\G02-12_5032-jgd_GML\\\\G02-12_5032-jgd_GML\\\\G02-12_5032-jgd.shp\\n',\n",
       " 'D:/LULC/raw_data/10_JapanAverageData/open\\\\G02-12_5033-jgd_GML\\\\G02-12_5033-jgd_GML\\\\G02-12_5033-jgd.shp\\n',\n",
       " 'D:/LULC/raw_data/10_JapanAverageData/open\\\\G02-12_5034-jgd_GML\\\\G02-12_5034-jgd_GML\\\\G02-12_5034-jgd.shp\\n',\n",
       " 'D:/LULC/raw_data/10_JapanAverageData/open\\\\G02-12_5035-jgd_GML\\\\G02-12_5035-jgd_GML\\\\G02-12_5035-jgd.shp\\n',\n",
       " 'D:/LULC/raw_data/10_JapanAverageData/open\\\\G02-12_5036-jgd_GML\\\\G02-12_5036-jgd_GML\\\\G02-12_5036-jgd.shp\\n',\n",
       " 'D:/LULC/raw_data/10_JapanAverageData/open\\\\G02-12_5039-jgd_GML\\\\G02-12_5039-jgd_GML\\\\G02-12_5039-jgd.shp\\n',\n",
       " 'D:/LULC/raw_data/10_JapanAverageData/open\\\\G02-12_5129-jgd_GML\\\\G02-12_5129-jgd_GML\\\\G02-12_5129-jgd.shp\\n',\n",
       " 'D:/LULC/raw_data/10_JapanAverageData/open\\\\G02-12_5130-jgd_GML\\\\G02-12_5130-jgd_GML\\\\G02-12_5130-jgd.shp\\n',\n",
       " 'D:/LULC/raw_data/10_JapanAverageData/open\\\\G02-12_5131-jgd_GML\\\\G02-12_5131-jgd_GML\\\\G02-12_5131-jgd.shp\\n',\n",
       " 'D:/LULC/raw_data/10_JapanAverageData/open\\\\G02-12_5132-jgd_GML\\\\G02-12_5132-jgd_GML\\\\G02-12_5132-jgd.shp\\n',\n",
       " 'D:/LULC/raw_data/10_JapanAverageData/open\\\\G02-12_5133-jgd_GML\\\\G02-12_5133-jgd_GML\\\\G02-12_5133-jgd.shp\\n',\n",
       " 'D:/LULC/raw_data/10_JapanAverageData/open\\\\G02-12_5134-jgd_GML\\\\G02-12_5134-jgd_GML\\\\G02-12_5134-jgd.shp\\n',\n",
       " 'D:/LULC/raw_data/10_JapanAverageData/open\\\\G02-12_5135-jgd_GML\\\\G02-12_5135-jgd_GML\\\\G02-12_5135-jgd.shp\\n',\n",
       " 'D:/LULC/raw_data/10_JapanAverageData/open\\\\G02-12_5136-jgd_GML\\\\G02-12_5136-jgd_GML\\\\G02-12_5136-jgd.shp\\n',\n",
       " 'D:/LULC/raw_data/10_JapanAverageData/open\\\\G02-12_5137-jgd_GML\\\\G02-12_5137-jgd_GML\\\\G02-12_5137-jgd.shp\\n',\n",
       " 'D:/LULC/raw_data/10_JapanAverageData/open\\\\G02-12_5138-jgd_GML\\\\G02-12_5138-jgd_GML\\\\G02-12_5138-jgd.shp\\n',\n",
       " 'D:/LULC/raw_data/10_JapanAverageData/open\\\\G02-12_5139-jgd_GML\\\\G02-12_5139-jgd_GML\\\\G02-12_5139-jgd.shp\\n',\n",
       " 'D:/LULC/raw_data/10_JapanAverageData/open\\\\G02-12_5229-jgd_GML\\\\G02-12_5229-jgd_GML\\\\G02-12_5229-jgd.shp\\n',\n",
       " 'D:/LULC/raw_data/10_JapanAverageData/open\\\\G02-12_5231-jgd_GML\\\\G02-12_5231-jgd_GML\\\\G02-12_5231-jgd.shp\\n',\n",
       " 'D:/LULC/raw_data/10_JapanAverageData/open\\\\G02-12_5232-jgd_GML\\\\G02-12_5232-jgd_GML\\\\G02-12_5232-jgd.shp\\n',\n",
       " 'D:/LULC/raw_data/10_JapanAverageData/open\\\\G02-12_5233-jgd_GML\\\\G02-12_5233-jgd_GML\\\\G02-12_5233-jgd.shp\\n',\n",
       " 'D:/LULC/raw_data/10_JapanAverageData/open\\\\G02-12_5234-jgd_GML\\\\G02-12_5234-jgd_GML\\\\G02-12_5234-jgd.shp\\n',\n",
       " 'D:/LULC/raw_data/10_JapanAverageData/open\\\\G02-12_5235-jgd_GML\\\\G02-12_5235-jgd_GML\\\\G02-12_5235-jgd.shp\\n',\n",
       " 'D:/LULC/raw_data/10_JapanAverageData/open\\\\G02-12_5236-jgd_GML\\\\G02-12_5236-jgd_GML\\\\G02-12_5236-jgd.shp\\n',\n",
       " 'D:/LULC/raw_data/10_JapanAverageData/open\\\\G02-12_5237-jgd_GML\\\\G02-12_5237-jgd_GML\\\\G02-12_5237-jgd.shp\\n',\n",
       " 'D:/LULC/raw_data/10_JapanAverageData/open\\\\G02-12_5238-jgd_GML\\\\G02-12_5238-jgd_GML\\\\G02-12_5238-jgd.shp\\n',\n",
       " 'D:/LULC/raw_data/10_JapanAverageData/open\\\\G02-12_5239-jgd_GML\\\\G02-12_5239-jgd_GML\\\\G02-12_5239-jgd.shp\\n',\n",
       " 'D:/LULC/raw_data/10_JapanAverageData/open\\\\G02-12_5240-jgd_GML\\\\G02-12_5240-jgd_GML\\\\G02-12_5240-jgd.shp\\n',\n",
       " 'D:/LULC/raw_data/10_JapanAverageData/open\\\\G02-12_5332-jgd_GML\\\\G02-12_5332-jgd_GML\\\\G02-12_5332-jgd.shp\\n',\n",
       " 'D:/LULC/raw_data/10_JapanAverageData/open\\\\G02-12_5333-jgd_GML\\\\G02-12_5333-jgd_GML\\\\G02-12_5333-jgd.shp\\n',\n",
       " 'D:/LULC/raw_data/10_JapanAverageData/open\\\\G02-12_5334-jgd_GML\\\\G02-12_5334-jgd_GML\\\\G02-12_5334-jgd.shp\\n',\n",
       " 'D:/LULC/raw_data/10_JapanAverageData/open\\\\G02-12_5335-jgd_GML\\\\G02-12_5335-jgd_GML\\\\G02-12_5335-jgd.shp\\n',\n",
       " 'D:/LULC/raw_data/10_JapanAverageData/open\\\\G02-12_5336-jgd_GML\\\\G02-12_5336-jgd_GML\\\\G02-12_5336-jgd.shp\\n',\n",
       " 'D:/LULC/raw_data/10_JapanAverageData/open\\\\G02-12_5337-jgd_GML\\\\G02-12_5337-jgd_GML\\\\G02-12_5337-jgd.shp\\n',\n",
       " 'D:/LULC/raw_data/10_JapanAverageData/open\\\\G02-12_5338-jgd_GML\\\\G02-12_5338-jgd_GML\\\\G02-12_5338-jgd.shp\\n',\n",
       " 'D:/LULC/raw_data/10_JapanAverageData/open\\\\G02-12_5339-jgd_GML\\\\G02-12_5339-jgd_GML\\\\G02-12_5339-jgd.shp\\n',\n",
       " 'D:/LULC/raw_data/10_JapanAverageData/open\\\\G02-12_5340-jgd_GML\\\\G02-12_5340-jgd_GML\\\\G02-12_5340-jgd.shp\\n',\n",
       " 'D:/LULC/raw_data/10_JapanAverageData/open\\\\G02-12_5432-jgd_GML\\\\G02-12_5432-jgd_GML\\\\G02-12_5432-jgd.shp\\n',\n",
       " 'D:/LULC/raw_data/10_JapanAverageData/open\\\\G02-12_5433-jgd_GML\\\\G02-12_5433-jgd_GML\\\\G02-12_5433-jgd.shp\\n',\n",
       " 'D:/LULC/raw_data/10_JapanAverageData/open\\\\G02-12_5435-jgd_GML\\\\G02-12_5435-jgd_GML\\\\G02-12_5435-jgd.shp\\n',\n",
       " 'D:/LULC/raw_data/10_JapanAverageData/open\\\\G02-12_5436-jgd_GML\\\\G02-12_5436-jgd_GML\\\\G02-12_5436-jgd.shp\\n',\n",
       " 'D:/LULC/raw_data/10_JapanAverageData/open\\\\G02-12_5437-jgd_GML\\\\G02-12_5437-jgd_GML\\\\G02-12_5437-jgd.shp\\n',\n",
       " 'D:/LULC/raw_data/10_JapanAverageData/open\\\\G02-12_5438-jgd_GML\\\\G02-12_5438-jgd_GML\\\\G02-12_5438-jgd.shp\\n',\n",
       " 'D:/LULC/raw_data/10_JapanAverageData/open\\\\G02-12_5439-jgd_GML\\\\G02-12_5439-jgd_GML\\\\G02-12_5439-jgd.shp\\n',\n",
       " 'D:/LULC/raw_data/10_JapanAverageData/open\\\\G02-12_5440-jgd_GML\\\\G02-12_5440-jgd_GML\\\\G02-12_5440-jgd.shp\\n',\n",
       " 'D:/LULC/raw_data/10_JapanAverageData/open\\\\G02-12_5531-jgd_GML\\\\G02-12_5531-jgd_GML\\\\G02-12_5531-jgd.shp\\n',\n",
       " 'D:/LULC/raw_data/10_JapanAverageData/open\\\\G02-12_5536-jgd_GML\\\\G02-12_5536-jgd_GML\\\\G02-12_5536-jgd.shp\\n',\n",
       " 'D:/LULC/raw_data/10_JapanAverageData/open\\\\G02-12_5537-jgd_GML\\\\G02-12_5537-jgd_GML\\\\G02-12_5537-jgd.shp\\n',\n",
       " 'D:/LULC/raw_data/10_JapanAverageData/open\\\\G02-12_5538-jgd_GML\\\\G02-12_5538-jgd_GML\\\\G02-12_5538-jgd.shp\\n',\n",
       " 'D:/LULC/raw_data/10_JapanAverageData/open\\\\G02-12_5539-jgd_GML\\\\G02-12_5539-jgd_GML\\\\G02-12_5539-jgd.shp\\n',\n",
       " 'D:/LULC/raw_data/10_JapanAverageData/open\\\\G02-12_5540-jgd_GML\\\\G02-12_5540-jgd_GML\\\\G02-12_5540-jgd.shp\\n',\n",
       " 'D:/LULC/raw_data/10_JapanAverageData/open\\\\G02-12_5541-jgd_GML\\\\G02-12_5541-jgd_GML\\\\G02-12_5541-jgd.shp\\n',\n",
       " 'D:/LULC/raw_data/10_JapanAverageData/open\\\\G02-12_5636-jgd_GML\\\\G02-12_5636-jgd_GML\\\\G02-12_5636-jgd.shp\\n',\n",
       " 'D:/LULC/raw_data/10_JapanAverageData/open\\\\G02-12_5637-jgd_GML\\\\G02-12_5637-jgd_GML\\\\G02-12_5637-jgd.shp\\n',\n",
       " 'D:/LULC/raw_data/10_JapanAverageData/open\\\\G02-12_5638-jgd_GML\\\\G02-12_5638-jgd_GML\\\\G02-12_5638-jgd.shp\\n',\n",
       " 'D:/LULC/raw_data/10_JapanAverageData/open\\\\G02-12_5639-jgd_GML\\\\G02-12_5639-jgd_GML\\\\G02-12_5639-jgd.shp\\n',\n",
       " 'D:/LULC/raw_data/10_JapanAverageData/open\\\\G02-12_5640-jgd_GML\\\\G02-12_5640-jgd_GML\\\\G02-12_5640-jgd.shp\\n',\n",
       " 'D:/LULC/raw_data/10_JapanAverageData/open\\\\G02-12_5641-jgd_GML\\\\G02-12_5641-jgd_GML\\\\G02-12_5641-jgd.shp\\n',\n",
       " 'D:/LULC/raw_data/10_JapanAverageData/open\\\\G02-12_5738-jgd_GML\\\\G02-12_5738-jgd_GML\\\\G02-12_5738-jgd.shp\\n',\n",
       " 'D:/LULC/raw_data/10_JapanAverageData/open\\\\G02-12_5739-jgd_GML\\\\G02-12_5739-jgd_GML\\\\G02-12_5739-jgd.shp\\n',\n",
       " 'D:/LULC/raw_data/10_JapanAverageData/open\\\\G02-12_5740-jgd_GML\\\\G02-12_5740-jgd_GML\\\\G02-12_5740-jgd.shp\\n',\n",
       " 'D:/LULC/raw_data/10_JapanAverageData/open\\\\G02-12_5741-jgd_GML\\\\G02-12_5741-jgd_GML\\\\G02-12_5741-jgd.shp\\n',\n",
       " 'D:/LULC/raw_data/10_JapanAverageData/open\\\\G02-12_5839-jgd_GML\\\\G02-12_5839-jgd_GML\\\\G02-12_5839-jgd.shp\\n',\n",
       " 'D:/LULC/raw_data/10_JapanAverageData/open\\\\G02-12_5840-jgd_GML\\\\G02-12_5840-jgd_GML\\\\G02-12_5840-jgd.shp\\n',\n",
       " 'D:/LULC/raw_data/10_JapanAverageData/open\\\\G02-12_5841-jgd_GML\\\\G02-12_5841-jgd_GML\\\\G02-12_5841-jgd.shp\\n',\n",
       " 'D:/LULC/raw_data/10_JapanAverageData/open\\\\G02-12_5939-jgd_GML\\\\G02-12_5939-jgd_GML\\\\G02-12_5939-jgd.shp\\n',\n",
       " 'D:/LULC/raw_data/10_JapanAverageData/open\\\\G02-12_5940-jgd_GML\\\\G02-12_5940-jgd_GML\\\\G02-12_5940-jgd.shp\\n',\n",
       " 'D:/LULC/raw_data/10_JapanAverageData/open\\\\G02-12_5941-jgd_GML\\\\G02-12_5941-jgd_GML\\\\G02-12_5941-jgd.shp\\n',\n",
       " 'D:/LULC/raw_data/10_JapanAverageData/open\\\\G02-12_5942-jgd_GML\\\\G02-12_5942-jgd_GML\\\\G02-12_5942-jgd.shp\\n',\n",
       " 'D:/LULC/raw_data/10_JapanAverageData/open\\\\G02-12_6039-jgd_GML\\\\G02-12_6039-jgd_GML\\\\G02-12_6039-jgd.shp\\n',\n",
       " 'D:/LULC/raw_data/10_JapanAverageData/open\\\\G02-12_6040-jgd_GML\\\\G02-12_6040-jgd_GML\\\\G02-12_6040-jgd.shp\\n',\n",
       " 'D:/LULC/raw_data/10_JapanAverageData/open\\\\G02-12_6041-jgd_GML\\\\G02-12_6041-jgd_GML\\\\G02-12_6041-jgd.shp\\n',\n",
       " 'D:/LULC/raw_data/10_JapanAverageData/open\\\\G02-12_6139-jgd_GML\\\\G02-12_6139-jgd_GML\\\\G02-12_6139-jgd.shp\\n',\n",
       " 'D:/LULC/raw_data/10_JapanAverageData/open\\\\G02-12_6140-jgd_GML\\\\G02-12_6140-jgd_GML\\\\G02-12_6140-jgd.shp\\n',\n",
       " 'D:/LULC/raw_data/10_JapanAverageData/open\\\\G02-12_6141-jgd_GML\\\\G02-12_6141-jgd_GML\\\\G02-12_6141-jgd.shp\\n',\n",
       " 'D:/LULC/raw_data/10_JapanAverageData/open\\\\G02-12_6239-jgd_GML\\\\G02-12_6239-jgd_GML\\\\G02-12_6239-jgd.shp\\n',\n",
       " 'D:/LULC/raw_data/10_JapanAverageData/open\\\\G02-12_6240-jgd_GML\\\\G02-12_6240-jgd_GML\\\\G02-12_6240-jgd.shp\\n',\n",
       " 'D:/LULC/raw_data/10_JapanAverageData/open\\\\G02-12_6241-jgd_GML\\\\G02-12_6241-jgd_GML\\\\G02-12_6241-jgd.shp\\n',\n",
       " 'D:/LULC/raw_data/10_JapanAverageData/open\\\\G02-12_6243-jgd_GML\\\\G02-12_6243-jgd_GML\\\\G02-12_6243-jgd.shp\\n',\n",
       " 'D:/LULC/raw_data/10_JapanAverageData/open\\\\G02-12_6339-jgd_GML\\\\G02-12_6339-jgd_GML\\\\G02-12_6339-jgd.shp\\n',\n",
       " 'D:/LULC/raw_data/10_JapanAverageData/open\\\\G02-12_6340-jgd_GML\\\\G02-12_6340-jgd_GML\\\\G02-12_6340-jgd.shp\\n',\n",
       " 'D:/LULC/raw_data/10_JapanAverageData/open\\\\G02-12_6341-jgd_GML\\\\G02-12_6341-jgd_GML\\\\G02-12_6341-jgd.shp\\n',\n",
       " 'D:/LULC/raw_data/10_JapanAverageData/open\\\\G02-12_6342-jgd_GML\\\\G02-12_6342-jgd_GML\\\\G02-12_6342-jgd.shp\\n',\n",
       " 'D:/LULC/raw_data/10_JapanAverageData/open\\\\G02-12_6343-jgd_GML\\\\G02-12_6343-jgd_GML\\\\G02-12_6343-jgd.shp\\n',\n",
       " 'D:/LULC/raw_data/10_JapanAverageData/open\\\\G02-12_6439-jgd_GML\\\\G02-12_6439-jgd_GML\\\\G02-12_6439-jgd.shp\\n',\n",
       " 'D:/LULC/raw_data/10_JapanAverageData/open\\\\G02-12_6440-jgd_GML\\\\G02-12_6440-jgd_GML\\\\G02-12_6440-jgd.shp\\n',\n",
       " 'D:/LULC/raw_data/10_JapanAverageData/open\\\\G02-12_6441-jgd_GML\\\\G02-12_6441-jgd_GML\\\\G02-12_6441-jgd.shp\\n',\n",
       " 'D:/LULC/raw_data/10_JapanAverageData/open\\\\G02-12_6442-jgd_GML\\\\G02-12_6442-jgd_GML\\\\G02-12_6442-jgd.shp\\n',\n",
       " 'D:/LULC/raw_data/10_JapanAverageData/open\\\\G02-12_6443-jgd_GML\\\\G02-12_6443-jgd_GML\\\\G02-12_6443-jgd.shp\\n',\n",
       " 'D:/LULC/raw_data/10_JapanAverageData/open\\\\G02-12_6444-jgd_GML\\\\G02-12_6444-jgd_GML\\\\G02-12_6444-jgd.shp\\n',\n",
       " 'D:/LULC/raw_data/10_JapanAverageData/open\\\\G02-12_6445-jgd_GML\\\\G02-12_6445-jgd_GML\\\\G02-12_6445-jgd.shp\\n',\n",
       " 'D:/LULC/raw_data/10_JapanAverageData/open\\\\G02-12_6540-jgd_GML\\\\G02-12_6540-jgd_GML\\\\G02-12_6540-jgd.shp\\n',\n",
       " 'D:/LULC/raw_data/10_JapanAverageData/open\\\\G02-12_6541-jgd_GML\\\\G02-12_6541-jgd_GML\\\\G02-12_6541-jgd.shp\\n',\n",
       " 'D:/LULC/raw_data/10_JapanAverageData/open\\\\G02-12_6542-jgd_GML\\\\G02-12_6542-jgd_GML\\\\G02-12_6542-jgd.shp\\n',\n",
       " 'D:/LULC/raw_data/10_JapanAverageData/open\\\\G02-12_6543-jgd_GML\\\\G02-12_6543-jgd_GML\\\\G02-12_6543-jgd.shp\\n',\n",
       " 'D:/LULC/raw_data/10_JapanAverageData/open\\\\G02-12_6544-jgd_GML\\\\G02-12_6544-jgd_GML\\\\G02-12_6544-jgd.shp\\n',\n",
       " 'D:/LULC/raw_data/10_JapanAverageData/open\\\\G02-12_6545-jgd_GML\\\\G02-12_6545-jgd_GML\\\\G02-12_6545-jgd.shp\\n',\n",
       " 'D:/LULC/raw_data/10_JapanAverageData/open\\\\G02-12_6641-jgd_GML\\\\G02-12_6641-jgd_GML\\\\G02-12_6641-jgd.shp\\n',\n",
       " 'D:/LULC/raw_data/10_JapanAverageData/open\\\\G02-12_6642-jgd_GML\\\\G02-12_6642-jgd_GML\\\\G02-12_6642-jgd.shp\\n',\n",
       " 'D:/LULC/raw_data/10_JapanAverageData/open\\\\G02-12_6643-jgd_GML\\\\G02-12_6643-jgd_GML\\\\G02-12_6643-jgd.shp\\n',\n",
       " 'D:/LULC/raw_data/10_JapanAverageData/open\\\\G02-12_6644-jgd_GML\\\\G02-12_6644-jgd_GML\\\\G02-12_6644-jgd.shp\\n',\n",
       " 'D:/LULC/raw_data/10_JapanAverageData/open\\\\G02-12_6645-jgd_GML\\\\G02-12_6645-jgd_GML\\\\G02-12_6645-jgd.shp\\n',\n",
       " 'D:/LULC/raw_data/10_JapanAverageData/open\\\\G02-12_6741-jgd_GML\\\\G02-12_6741-jgd_GML\\\\G02-12_6741-jgd.shp\\n',\n",
       " 'D:/LULC/raw_data/10_JapanAverageData/open\\\\G02-12_6742-jgd_GML\\\\G02-12_6742-jgd_GML\\\\G02-12_6742-jgd.shp\\n',\n",
       " 'D:/LULC/raw_data/10_JapanAverageData/open\\\\G02-12_6840-jgd_GML\\\\G02-12_6840-jgd_GML\\\\G02-12_6840-jgd.shp\\n',\n",
       " 'D:/LULC/raw_data/10_JapanAverageData/open\\\\G02-12_6841-jgd_GML\\\\G02-12_6841-jgd_GML\\\\G02-12_6841-jgd.shp\\n',\n",
       " 'D:/LULC/raw_data/10_JapanAverageData/open\\\\G02-12_6842-jgd_GML\\\\G02-12_6842-jgd_GML\\\\G02-12_6842-jgd.shp\\n']"
      ]
     },
     "execution_count": 15,
     "metadata": {},
     "output_type": "execute_result"
    }
   ],
   "source": [
    "file_lis"
   ]
  },
  {
   "cell_type": "code",
   "execution_count": null,
   "metadata": {},
   "outputs": [],
   "source": []
  }
 ],
 "metadata": {
  "kernelspec": {
   "display_name": "Python 3",
   "language": "python",
   "name": "python3"
  },
  "language_info": {
   "codemirror_mode": {
    "name": "ipython",
    "version": 3
   },
   "file_extension": ".py",
   "mimetype": "text/x-python",
   "name": "python",
   "nbconvert_exporter": "python",
   "pygments_lexer": "ipython3",
   "version": "3.7.9"
  },
  "toc": {
   "base_numbering": 1,
   "nav_menu": {},
   "number_sections": true,
   "sideBar": true,
   "skip_h1_title": false,
   "title_cell": "Table of Contents",
   "title_sidebar": "Contents",
   "toc_cell": false,
   "toc_position": {},
   "toc_section_display": true,
   "toc_window_display": false
  }
 },
 "nbformat": 4,
 "nbformat_minor": 4
}
