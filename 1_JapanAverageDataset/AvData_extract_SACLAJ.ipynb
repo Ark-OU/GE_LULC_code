{
 "cells": [
  {
   "cell_type": "code",
   "execution_count": 6,
   "metadata": {
    "scrolled": true
   },
   "outputs": [],
   "source": [
    "import rasterio as rio\n",
    "import numpy as np\n",
    "import pandas as pd\n",
    "import os\n",
    "from glob import glob\n",
    "from tqdm import tqdm\n",
    "\n",
    "drive = \"D\"\n",
    "ave_name = \"temp\"\n",
    "\n",
    "input_path = f\"{drive}:/LULC/raw_data/10_JapanAverageData/merge_raster/{ave_name}_merge_raster.tif\"\n",
    "output_path = f\"{drive}:/LULC/features/10_JapanAverageDataset\"\n",
    "target_file = f\"{drive}:/LULC/raw_data/0_groundtruth/SACLAJ_2014_2016_catclearned.csv\"\n",
    "\n",
    "target_df = pd.read_csv(target_file)\n",
    "target_list = []\n",
    "\n",
    "for i in range(len(target_df)):\n",
    "    sacla_id = \"{:05}\".format(target_df[\"id\"][i])\n",
    "    lon = float(target_df[\"target_lon\"][i])\n",
    "    lat = float(target_df[\"target_lat\"][i])\n",
    "    target = target_df[\"category\"][i]\n",
    "    target_list.append([sacla_id, lon, lat, target])\n",
    "\n",
    "N_list = [1]\n",
    "\n",
    "for N in N_list:\n",
    "    with rio.open(input_path) as dataset:\n",
    "\n",
    "        try:\n",
    "            os.makedirs(os.path.join(output_path, f\"{N}x{N}\"))\n",
    "        except FileExistsError:\n",
    "            pass \n",
    "        \n",
    "        try:\n",
    "            os.makedirs(os.path.join(output_path, f\"{N}x{N}\", ave_name))\n",
    "        except FileExistsError:\n",
    "            pass \n",
    "        output_file = os.path.join(output_path, f\"{N}x{N}\", ave_name)\n",
    "\n",
    "        for i, (sacla_id, lon, lat, target) in enumerate(target_list): \n",
    "\n",
    "            py, px = dataset.index(lon, lat)\n",
    "            window = rio.windows.Window(px - N//2, py - N//2, N, N)\n",
    "            clip = dataset.read(window=window)\n",
    "\n",
    "            meta = dataset.meta\n",
    "            meta['width'], meta['height'] = N, N\n",
    "            meta['transform'] = rio.windows.transform(window, dataset.transform)\n",
    "\n",
    "\n",
    "            lon = \"{:.6f}\".format(round(lon, 6))\n",
    "            lat = \"{:.6f}\".format(round(lat, 6))\n",
    "            output_path = os.path.join(output_file, f\"{sacla_id}_{lon}_{lat}_{ave_name}.tif\")\n",
    "            with rio.open(output_path, 'w', **meta) as dst:\n",
    "                dst.write(clip)"
   ]
  },
  {
   "cell_type": "code",
   "execution_count": 7,
   "metadata": {},
   "outputs": [
    {
     "data": {
      "text/plain": [
       "array([[[14.]]], dtype=float32)"
      ]
     },
     "execution_count": 7,
     "metadata": {},
     "output_type": "execute_result"
    }
   ],
   "source": [
    "clip"
   ]
  },
  {
   "cell_type": "code",
   "execution_count": 9,
   "metadata": {},
   "outputs": [],
   "source": [
    "import rasterio as rio\n",
    "import numpy as np\n",
    "import pandas as pd\n",
    "import os\n",
    "from glob import glob\n",
    "from tqdm import tqdm\n",
    "\n",
    "drive = \"D\"\n",
    "ave_name = \"prcp\"\n",
    "\n",
    "input_path = f\"{drive}:/LULC/raw_data/10_JapanAverageData/merge_raster/{ave_name}_merge_raster.tif\"\n",
    "output_path = f\"{drive}:/LULC/features/10_JapanAverageDataset\"\n",
    "target_file = f\"{drive}:/LULC/raw_data/0_groundtruth/test_points18.03.csv\"\n",
    "\n",
    "target_df = pd.read_csv(target_file)\n",
    "target_list = []\n",
    "\n",
    "for i in range(len(target_df)):\n",
    "    lon = float(target_df[\"target_lon\"][i])\n",
    "    lat = float(target_df[\"target_lat\"][i])\n",
    "    target = target_df[\"category\"][i]\n",
    "    target_list.append([sacla_id, lon, lat, target])\n",
    "\n",
    "N_list = [1]\n",
    "\n",
    "for N in N_list:\n",
    "    with rio.open(input_path) as dataset:\n",
    "\n",
    "        try:\n",
    "            os.makedirs(os.path.join(output_path, f\"{N}x{N}_test\"))\n",
    "        except FileExistsError:\n",
    "            pass \n",
    "        \n",
    "        try:\n",
    "            os.makedirs(os.path.join(output_path, f\"{N}x{N}_test\", ave_name))\n",
    "        except FileExistsError:\n",
    "            pass \n",
    "        output_file = os.path.join(output_path, f\"{N}x{N}_test\", ave_name)\n",
    "\n",
    "        for i, (sacla_id, lon, lat, target) in enumerate(target_list): \n",
    "\n",
    "            py, px = dataset.index(lon, lat)\n",
    "            window = rio.windows.Window(px - N//2, py - N//2, N, N)\n",
    "            clip = dataset.read(window=window)\n",
    "\n",
    "            meta = dataset.meta\n",
    "            meta['width'], meta['height'] = N, N\n",
    "            meta['transform'] = rio.windows.transform(window, dataset.transform)\n",
    "\n",
    "\n",
    "            lon = \"{:.6f}\".format(round(lon, 6))\n",
    "            lat = \"{:.6f}\".format(round(lat, 6))\n",
    "            output_path = os.path.join(output_file, f\"{lon}_{lat}_{ave_name}.tif\")\n",
    "            with rio.open(output_path, 'w', **meta) as dst:\n",
    "                dst.write(clip)"
   ]
  }
 ],
 "metadata": {
  "kernelspec": {
   "display_name": "Python 3",
   "language": "python",
   "name": "python3"
  },
  "language_info": {
   "codemirror_mode": {
    "name": "ipython",
    "version": 3
   },
   "file_extension": ".py",
   "mimetype": "text/x-python",
   "name": "python",
   "nbconvert_exporter": "python",
   "pygments_lexer": "ipython3",
   "version": "3.7.9"
  },
  "toc": {
   "base_numbering": 1,
   "nav_menu": {},
   "number_sections": true,
   "sideBar": true,
   "skip_h1_title": false,
   "title_cell": "Table of Contents",
   "title_sidebar": "Contents",
   "toc_cell": false,
   "toc_position": {},
   "toc_section_display": true,
   "toc_window_display": false
  }
 },
 "nbformat": 4,
 "nbformat_minor": 4
}
