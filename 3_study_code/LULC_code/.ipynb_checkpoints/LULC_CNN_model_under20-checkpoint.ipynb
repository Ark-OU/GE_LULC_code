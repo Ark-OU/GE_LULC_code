{
 "cells": [
  {
   "cell_type": "code",
   "execution_count": null,
   "metadata": {},
   "outputs": [],
   "source": [
    "N = 11\n",
    "\n",
    "# Utils -----------------------\n",
    "import numpy as np\n",
    "import scipy.stats as stats\n",
    "import pandas as pd\n",
    "import seaborn as sns\n",
    "import matplotlib.pyplot as plt\n",
    "import os, zipfile, io, re\n",
    "from PIL import Image, ImageOps\n",
    "import random\n",
    "import pickle\n",
    "import datetime\n",
    "import gc\n",
    "from tqdm import tqdm\n",
    "import warnings\n",
    "import seaborn as sns\n",
    "from glob import glob\n",
    "# Machine Learning ---------------\n",
    "import tensorflow as tf\n",
    "from tensorflow import keras\n",
    "from sklearn.model_selection import train_test_split\n",
    "from sklearn.metrics import mean_squared_error\n",
    "from sklearn.cluster import KMeans\n",
    "from sklearn.metrics import confusion_matrix\n",
    "from math import sqrt\n",
    "import optuna\n",
    "from optuna import integration\n",
    "# Keras, TensorFlow ---------------\n",
    "from keras.models import Model, load_model, Sequential\n",
    "from keras.layers import Dense, Dropout, Activation, Flatten, Conv2D, GlobalAveragePooling2D, AveragePooling2D, MaxPooling2D, BatchNormalization, Convolution2D, Input\n",
    "from keras import optimizers\n",
    "from keras.utils import multi_gpu_model\n",
    "from keras.utils.np_utils import to_categorical\n",
    "from keras.callbacks import ModelCheckpoint, EarlyStopping, TensorBoard\n",
    "from keras.preprocessing.image import ImageDataGenerator\n",
    "from keras import backend as K\n",
    "from keras.backend.tensorflow_backend import set_session\n",
    "import tifffile\n",
    "\n",
    "os.environ[\"TF_CPP_MIN_LOG_LEVEL\"] = \"2\"\n",
    "warnings.filterwarnings('ignore')\n",
    "gpus = 2\n",
    "SEED = 31\n",
    "np.random.seed(SEED)\n",
    "\n",
    "\n",
    "# IO Functions ------------------------------\n",
    "def pkl_saver(object, pkl_filename):\n",
    "    with open(pkl_filename, 'wb') as web:\n",
    "        pickle.dump(object , web)\n",
    "\n",
    "\n",
    "def pkl_loader(pkl_filename):\n",
    "    with open(pkl_filename, 'rb') as web:\n",
    "        data = pickle.load(web)\n",
    "    return data\n",
    "\n",
    "\n",
    "# Dir generator ----------------------------\n",
    "def dir_generator(dir_path):\n",
    "    if os.path.exists(dir_path) == False:\n",
    "        os.mkdir(dir_path)\n",
    "\n",
    "\n",
    "def region_visualizer(df):\n",
    "    points = df[3]\n",
    "    lon, lat = [], []\n",
    "    for point in points:\n",
    "        lon.append(point[0])\n",
    "        lat.append(point[1])\n",
    "    lon = np.array(lon).astype(float).reshape(-1,1)\n",
    "    lat = np.array(lat).astype(float).reshape(-1,1)\n",
    "    region = df[4]\n",
    "    region = np.array(region).astype(int).reshape(-1,1)\n",
    "    df = pd.DataFrame(np.concatenate([lon, lat, region], axis=1))\n",
    "    df.columns = ['longitude', 'latitude', 'region_class']\n",
    "    pivotted = df.pivot('longitude', 'latitude', 'region_class')\n",
    "    for i in range(pivotted.shape[0]):\n",
    "        pivotted.iloc[i] = pd.to_numeric(pivotted.iloc[i])\n",
    "    pivotted.columns = pd.to_numeric(pivotted.columns)\n",
    "    pivotted.index = pd.to_numeric(pivotted.index)\n",
    "    pivotted = pivotted.fillna(-1)\n",
    "    pivotted = pivotted.astype(float).T\n",
    "    cmap = sns.color_palette(\"deep\", cvs + 1)\n",
    "    cmap[0] = (0,0,0)\n",
    "    plt = sns.heatmap(pivotted, cmap = cmap)\n",
    "    plt.invert_yaxis()\n",
    "    colorbar = plt.collections[0].colorbar\n",
    "    r = colorbar.vmax - colorbar.vmin\n",
    "    colorbar.set_ticks([colorbar.vmin + 0.5 * r / (cvs + 1) + r * i / (cvs + 1) for i in range(cvs + 1)])\n",
    "    colorbar.set_ticklabels(['background']+list(range(cvs)))\n",
    "    plt.figure.savefig(os.path.join(result_path, \"result_img\", \"region_map.jpg\"))\n",
    "    del(plt)\n",
    "\n",
    "\n",
    "def data_splitter_cv(filenames, X, Y, cv, region, point):\n",
    "    test_index = np.where(region==cv)\n",
    "    train_index = np.setdiff1d(np.arange(0, X.shape[0], 1), test_index)\n",
    "    train_files = filenames[train_index]\n",
    "    test_files = filenames[test_index]\n",
    "    X_test = X[test_index]\n",
    "    Y_test = Y[test_index]\n",
    "    X_train = X[train_index]\n",
    "    Y_train = Y[train_index]\n",
    "    train_region = region[train_index]\n",
    "    train_point = point[train_index]\n",
    "    return train_files, test_files, X_train, X_test, Y_train, Y_test, train_region, train_point\n",
    "\n",
    "\n",
    "# Loss Definition ----------------------------------\n",
    "def root_mean_squared_error(Y_true, Y_pred):\n",
    "    return K.sqrt(K.mean(K.square(Y_pred - Y_true), axis = -1))\n",
    "\n",
    "\n",
    "def create_model(image_shape, num_layer, padding, dense_num, num_filters, size_filters, dropout_rate_in, dropout_rate_out):\n",
    "    inputs = Input(image_shape)\n",
    "    for d in ['/gpu:0', '/gpu:1']:\n",
    "        with tf.device(d):\n",
    "            x = Dropout(dropout_rate_in)(inputs)\n",
    "            x = Convolution2D(filters = 2**num_filters[0], kernel_size = (size_filters[0],size_filters[0]), padding = 'same', activation = 'relu')(x)\n",
    "            for i in range(1, num_layer):\n",
    "                x = Convolution2D(filters = 2**num_filters[i],\n",
    "                                  kernel_size = (size_filters[i], size_filters[i]),\n",
    "                                  padding = padding,\n",
    "                                  activation = 'relu')(x)\n",
    "                x = MaxPooling2D()(x)\n",
    "            x = Convolution2D(filters = 7,\n",
    "                              kernel_size = (3, 3),\n",
    "                              padding = 'same',\n",
    "                              activation = 'relu')(x)\n",
    "            x = GlobalAveragePooling2D()(x)\n",
    "            x = Dense(units = 2**dense_num, activation = 'relu')(x)\n",
    "            x = Dropout(dropout_rate_out)(x)\n",
    "            x = Dense(units = num_category, activation = 'softmax')(x)\n",
    "            model = Model(inputs = inputs, outputs = x)\n",
    "    return model\n",
    "\n",
    "\n",
    "def opt_cnn(trial):\n",
    "    # Opt params -----------------------\n",
    "    # Categorical parameter\n",
    "    num_layer = trial.suggest_int('num_layer', 1, 2)\n",
    "    dense_num = trial.suggest_int('dense_num', 2, 5)\n",
    "    num_filters = [int(trial.suggest_discrete_uniform(f'num_filter_{i}', 2, 5, 1)) for i in range(num_layer)]\n",
    "    size_filters = [int(trial.suggest_discrete_uniform(f'size_filter_{i}', 3, 5, 2)) for i in range(num_layer)]\n",
    "    batch_size = trial.suggest_int('batch_size', 1, 5)\n",
    "    # Model Compiler -----------------------\n",
    "    lr = trial.suggest_loguniform('learning_rate', 1e-5, 1e-2)\n",
    "    decay = trial.suggest_loguniform('decay', 1e-6, 1e-3)\n",
    "    # Discrete-uniform parameter\n",
    "    dropout_rate_in = trial.suggest_discrete_uniform('dropout_rate_in', 0.0, 0.5, 0.1)\n",
    "    dropout_rate_out = trial.suggest_discrete_uniform('dropout_rate_out', 0.0, 0.5, 0.1)\n",
    "    momentum = trial.suggest_discrete_uniform('momentum', 0.0, 1.0, 0.1)\n",
    "    # categorical parameter\n",
    "#    optimizer = trial.suggest_categorical(\"optimizer\", [\"sgd\", \"momentum\", \"rmsprop\", \"adam\"])\n",
    "    padding = trial.suggest_categorical('padding', ['same', 'valid'])\n",
    "    # compile model-------------------\n",
    "    model = create_model(image_shape, num_layer, padding, dense_num, num_filters, size_filters, dropout_rate_in, dropout_rate_out)\n",
    "    sgd = optimizers.SGD(lr = lr, decay = decay, momentum = momentum, nesterov = True)\n",
    "#    sgd = optimizers.SGD(lr = lr, decay = decay, momentum = momentum, nesterov = True, clipvalue = 1.0)\n",
    "    # For CPU run ------------------\n",
    "    model.compile(optimizer = sgd, loss = 'sparse_categorical_crossentropy', metrics=['accuracy'])\n",
    "    # Train Model ----------------------------------\n",
    "    es_cb = EarlyStopping(monitor = 'val_loss', patience = early_stopping, verbose = 0)\n",
    "    pr_cb = integration.TFKerasPruningCallback(trial, 'val_loss')\n",
    "    cbs = [es_cb, pr_cb]\n",
    "    loss_list, acc_list = [], []\n",
    "    for inner_cv in range(0, cvs):\n",
    "        _, _, X_inner_train, X_inner_val, Y_inner_train, Y_inner_val, _, _ = data_splitter_cv(train_files, X_outer_train, Y_outer_train, inner_cv, val_train_region, val_train_point)\n",
    "        hist = model.fit(\n",
    "            train_datagen.flow(X_inner_train, Y_inner_train, batch_size = (2**batch_size) * gpus),\n",
    "            epochs = train_epochs,\n",
    "            validation_data = (X_inner_val, Y_inner_val),\n",
    "            callbacks = cbs,\n",
    "            shuffle = True,\n",
    "            verbose = 0,\n",
    "            use_multiprocessing = False)\n",
    "        loss_list += [model.evaluate(X_inner_val, Y_inner_val)[0]]\n",
    "        acc_list += [model.evaluate(X_inner_val, Y_inner_val)[1]]\n",
    "    del model\n",
    "    keras.backend.clear_session()\n",
    "    gc.collect()\n",
    "    eval_loss = np.mean(loss_list)\n",
    "    eval_acc = np.mean(acc_list)\n",
    "    return eval_loss\n",
    "\n",
    "\n",
    "def mean_params_calc(param_names):\n",
    "    dict = {}\n",
    "    categoricals = ['padding']\n",
    "    for param_name in param_names:\n",
    "        data_num = 0\n",
    "        if param_name not in categoricals:\n",
    "            for data in best_params:\n",
    "                try:\n",
    "                    try:\n",
    "                        dict[param_name] += data[param_name]\n",
    "                    except:\n",
    "                        dict[param_name] = data[param_name]\n",
    "                    data_num = data_num + 1\n",
    "                except:\n",
    "                    pass\n",
    "            dict[param_name] = dict[param_name]/data_num\n",
    "        else:\n",
    "            categorical_list = []\n",
    "            for data in best_params:\n",
    "                try:\n",
    "                    categorical_list = categorical_list + [data[param_name]]\n",
    "                except:\n",
    "                    pass\n",
    "            dict[param_name] = stats.mode(categorical_list)[0][0]\n",
    "    return dict\n",
    "\n",
    "\n",
    "def cv_result_imgs_generator(model, history):\n",
    "    # Visualize Loss Results ----------------------------\n",
    "    plt.figure(figsize=(18,6))\n",
    "    plt.plot(history.history[\"loss\"], label=\"loss\", marker=\"o\")\n",
    "    plt.plot(history.history[\"val_loss\"], label=\"val_loss\", marker=\"o\")\n",
    "    plt.ylabel(\"loss\")\n",
    "    plt.xlabel(\"epoch\")\n",
    "    plt.title(\"\")\n",
    "    plt.legend(loc=\"best\")\n",
    "    plt.grid(color='gray', alpha=0.2)\n",
    "    plt.savefig('./img_loss/' + str(outer_cv) + '_loss.jpg')\n",
    "    plt.close()\n",
    "\n",
    "\n",
    "def generalization_result_imgs_generator(name, Y_val_pred, Y_val_all):\n",
    "    # Evaluate test data -----------------------\n",
    "    plt.figure()\n",
    "    plt.scatter(Y_val_all, Y_val_pred, s=3, alpha=0.5)\n",
    "    plt.xlim(min([np.min(Y_val_all), np.min(Y_val_pred)]), max([np.max(Y_val_all),np.max(Y_val_pred)]))\n",
    "    plt.xlabel(\"obs\")\n",
    "    plt.ylabel(\"pred\")\n",
    "    x = np.linspace(min([np.min(Y_val_all), np.min(Y_val_pred)]), max([np.max(Y_val_all),np.max(Y_val_pred)]),100)\n",
    "    y = x\n",
    "    plt.plot(x, y, \"r-\")\n",
    "    plt.savefig('./img_loss/' + name + '_scatter_test.jpg')\n",
    "    plt.close()\n",
    "\n",
    "def region_image_generator(point, region):\n",
    "    data_num = int(len(imgfiles)/28)\n",
    "    cmap = plt.get_cmap(\"tab10\")\n",
    "    fig = plt.figure()\n",
    "    ax = fig.add_subplot(1,1,1)\n",
    "    ax.scatter(point[:data_num][:,0],point[:data_num][:,1], marker='o', s=5, color=cmap(region))\n",
    "    ax.set_title(\"Region in Japan\")\n",
    "    ax.set_xlabel(\"longitude\")\n",
    "    ax.set_ylabel(\"latitude\")\n",
    "    fig.savefig('./region_separate.png')\n",
    "    \n",
    "# Data Loader ------------------------------\n",
    "train_tif_name = f\"D:/LULC/features/01_landsat8/train_old/{N}x{N}\"\n",
    "root_path      =  \"C:/Users/GE/Dropbox/Kairo/under20_results/\"\n",
    "result_path    = f\"C:/Users/GE/Dropbox/Kairo/under20_results/{N}x{N}\"\n",
    "data_path      =  \"C:/Users/GE/Dropbox/Kairo/under20_results/data/\"\n",
    "model_path     = f\"C:/Users/GE/Dropbox/Kairo/under20_results/model/{N}x{N}/\""
   ]
  },
  {
   "cell_type": "code",
   "execution_count": 2,
   "metadata": {},
   "outputs": [],
   "source": [
    "imgfiles = glob(train_tif_name + \"/*.tif\")\n",
    "imgfiles.sort()\n",
    "\n",
    "# Training params ------------------------------------------\n",
    "train_epochs = 2**3\n",
    "ntrials = 2**3\n",
    "cvs = 10\n",
    "best_epochs = 2**5\n",
    "early_stopping = 2**3\n",
    "\n",
    "\n",
    "\n",
    "# Data pkl\n",
    "if os.path.exists(data_path + f'df_{N}x{N}.pkl'):\n",
    "    df = pkl_loader(data_path + f'df_{N}x{N}.pkl')\n",
    "else:\n",
    "    trial = int(len(imgfiles)/28)\n",
    "    X = [] # X: 説明変数 = (N*N)*(7*4)のデータ\n",
    "    Y = [] # Y: 目的変数\n",
    "    point = [] # point: 緯度経度\n",
    "    X_28 = []\n",
    "    Y_28 = 0\n",
    "    point_28 = []\n",
    "    filenames = []\n",
    "    max_light = 0\n",
    "    print('inputdata_processing...')\n",
    "    \n",
    "    for box in tqdm(range(trial)):\n",
    "        for imgfile in imgfiles[box*28: (box+1)*28]:\n",
    "            # ZIPから画像読み込み\n",
    "            image = tifffile.imread(imgfile)\n",
    "    #         print(image.shape)\n",
    "            file = os.path.basename(imgfile)\n",
    "            file_split = [i for i in file.split('_')]\n",
    "            X_28.append(image)\n",
    "        Y_28 = file_split[5].split(\".\")[0]\n",
    "        point_28 = [float(file_split[1]), float(file_split[2])]\n",
    "        filenames.append(f\"{file_split[0]}_{file_split[1]}_{file_split[2]}_{Y_28}\")\n",
    "        X.append(X_28[box*28: (box+1)*28])\n",
    "        Y.append(Y_28)\n",
    "        point.append(point_28)\n",
    "    del X_28, Y_28, point_28\n",
    "    X = np.asarray(X)\n",
    "    print(X.shape)\n",
    "    X = X.transpose(0,2,3,1)\n",
    "    print(X.shape)\n",
    "    Y = np.array(Y)\n",
    "    filenames = np.array(filenames)\n",
    "    point = np.array(point)\n",
    "    region = KMeans(n_clusters = cvs, random_state=SEED).fit(point).labels_\n",
    "    # label encorder===========================================\n",
    "    labels = ['Water', 'Urban and built-up', 'Rice paddy',  'Crops', 'Grassland', 'DBF', 'DNF', 'EBF', 'ENF', 'Bare land' ]\n",
    "    for i in range(len(labels)):\n",
    "        Y[Y==labels[i]] = int(i)\n",
    "    df = [filenames, X, Y, point, region]\n",
    "    pkl_saver(df, os.path.join(data_path, f'df_{N}x{N}.pkl'))\n",
    "    \n",
    "\n",
    "# Data converter ----------------------------------------------\n",
    "# X->説明変数, Y->目的変数, point->緯度経度, region->領域を10分割した時の分割区間名\n",
    "filenames, X, Y, point, region = df[0], df[1], df[2], df[3], df[4]\n",
    "image_shape = (X.shape[1], X.shape[2], X.shape[3])\n",
    "num_category = len(np.unique(Y))\n",
    "\n",
    "# Data splitting ----------------------------------------------\n",
    "X_files, Y_files, X_train, X_test, Y_train, Y_test, region_train, _, train_point, _ = train_test_split(filenames, X, Y, region, point, test_size=0.2, random_state=SEED)\n",
    "X_train_mean = X_train.mean()\n",
    "X_train_std = X_train.std()\n",
    "X_train = (X_train - X_train_mean)/X_train_std\n",
    "X_test = (X_test - X_train_mean)/X_train_std"
   ]
  },
  {
   "cell_type": "code",
   "execution_count": 4,
   "metadata": {
    "scrolled": true
   },
   "outputs": [
    {
     "name": "stdout",
     "output_type": "stream",
     "text": [
      "outer_cv_0_processing....\n",
      "867/867 [==============================] - 0s 117us/step\n",
      "867/867 [==============================] - 0s 108us/step\n",
      "14008/14008 [==============================] - 1s 81us/step\n",
      "14008/14008 [==============================] - 1s 78us/step\n",
      "642/642 [==============================] - 0s 66us/step\n",
      "642/642 [==============================] - 0s 97us/step\n",
      "1776/1776 [==============================] - 0s 86us/step\n",
      "1776/1776 [==============================] - 0s 79us/step\n",
      "1266/1266 [==============================] - 0s 82us/step\n",
      "1266/1266 [==============================] - 0s 86us/step\n",
      "997/997 [==============================] - 0s 105us/step\n",
      "997/997 [==============================] - 0s 83us/step\n",
      "902/902 [==============================] - 0s 99us/step\n",
      "902/902 [==============================] - 0s 87us/step\n",
      "711/711 [==============================] - 0s 100us/step\n",
      "711/711 [==============================] - 0s 66us/step\n",
      "1295/1295 [==============================] - 0s 91us/step\n",
      "1295/1295 [==============================] - 0s 91us/step\n",
      "3677/3677 [==============================] - 0s 88us/step\n",
      "3677/3677 [==============================] - 0s 89us/step\n"
     ]
    },
    {
     "name": "stderr",
     "output_type": "stream",
     "text": [
      "\u001b[32m[I 2020-10-31 00:03:26,531]\u001b[0m Finished trial#0 resulted in value: 1.5357823365728716. Current best value is 1.5357823365728716 with parameters: {'num_layer': 1, 'dense_num': 3, 'num_filter_0': 3.0, 'size_filter_0': 3.0, 'batch_size': 1, 'learning_rate': 0.0004955999344103076, 'decay': 6.104428664264394e-06, 'dropout_rate_in': 0.1, 'dropout_rate_out': 0.4, 'momentum': 0.8, 'padding': 'valid'}.\u001b[0m\n"
     ]
    },
    {
     "name": "stdout",
     "output_type": "stream",
     "text": [
      "867/867 [==============================] - 0s 116us/step\n",
      "867/867 [==============================] - 0s 90us/step\n",
      "14008/14008 [==============================] - 1s 93us/step\n",
      "14008/14008 [==============================] - 1s 90us/step\n",
      "642/642 [==============================] - 0s 84us/step\n",
      "642/642 [==============================] - 0s 97us/step\n",
      "1776/1776 [==============================] - 0s 85us/step\n",
      "1776/1776 [==============================] - 0s 88us/step\n",
      "1266/1266 [==============================] - 0s 103us/step\n",
      "1266/1266 [==============================] - 0s 93us/step\n",
      "997/997 [==============================] - 0s 85us/step\n",
      "997/997 [==============================] - 0s 94us/step\n",
      "902/902 [==============================] - 0s 106us/step\n",
      "902/902 [==============================] - 0s 88us/step\n",
      "711/711 [==============================] - 0s 98us/step\n",
      "711/711 [==============================] - 0s 89us/step\n",
      "1295/1295 [==============================] - 0s 92us/step\n",
      "1295/1295 [==============================] - 0s 84us/step\n",
      "3677/3677 [==============================] - 0s 103us/step\n",
      "3677/3677 [==============================] - 0s 97us/step\n"
     ]
    },
    {
     "name": "stderr",
     "output_type": "stream",
     "text": [
      "\u001b[32m[I 2020-10-31 00:15:32,138]\u001b[0m Finished trial#1 resulted in value: 2.123286508603253. Current best value is 1.5357823365728716 with parameters: {'num_layer': 1, 'dense_num': 3, 'num_filter_0': 3.0, 'size_filter_0': 3.0, 'batch_size': 1, 'learning_rate': 0.0004955999344103076, 'decay': 6.104428664264394e-06, 'dropout_rate_in': 0.1, 'dropout_rate_out': 0.4, 'momentum': 0.8, 'padding': 'valid'}.\u001b[0m\n"
     ]
    },
    {
     "name": "stdout",
     "output_type": "stream",
     "text": [
      "867/867 [==============================] - 0s 138us/step\n",
      "867/867 [==============================] - 0s 126us/step\n",
      "14008/14008 [==============================] - 1s 107us/step\n",
      "14008/14008 [==============================] - 2s 107us/step\n",
      "642/642 [==============================] - 0s 111us/step\n",
      "642/642 [==============================] - 0s 122us/step\n",
      "1776/1776 [==============================] - 0s 110us/step\n",
      "1776/1776 [==============================] - 0s 110us/step\n",
      "1266/1266 [==============================] - 0s 129us/step\n",
      "1266/1266 [==============================] - 0s 99us/step\n",
      "997/997 [==============================] - 0s 117us/step\n",
      "997/997 [==============================] - 0s 108us/step\n",
      "902/902 [==============================] - 0s 100us/step\n",
      "902/902 [==============================] - 0s 104us/step\n",
      "711/711 [==============================] - 0s 99us/step\n",
      "711/711 [==============================] - 0s 110us/step\n",
      "1295/1295 [==============================] - 0s 96us/step\n",
      "1295/1295 [==============================] - 0s 101us/step\n",
      "3677/3677 [==============================] - 0s 108us/step\n",
      "3677/3677 [==============================] - 0s 96us/step\n"
     ]
    },
    {
     "name": "stderr",
     "output_type": "stream",
     "text": [
      "\u001b[32m[I 2020-10-31 00:31:41,741]\u001b[0m Finished trial#2 resulted in value: 1.5234655252798102. Current best value is 1.5234655252798102 with parameters: {'num_layer': 2, 'dense_num': 5, 'num_filter_0': 4.0, 'num_filter_1': 5.0, 'size_filter_0': 3.0, 'size_filter_1': 5.0, 'batch_size': 3, 'learning_rate': 0.00040775546803472083, 'decay': 5.182393238720175e-05, 'dropout_rate_in': 0.2, 'dropout_rate_out': 0.0, 'momentum': 0.2, 'padding': 'valid'}.\u001b[0m\n"
     ]
    },
    {
     "name": "stdout",
     "output_type": "stream",
     "text": [
      "867/867 [==============================] - 0s 80us/step\n",
      "867/867 [==============================] - 0s 72us/step\n",
      "14008/14008 [==============================] - 1s 73us/step\n",
      "14008/14008 [==============================] - 1s 70us/step\n",
      "642/642 [==============================] - 0s 86us/step\n",
      "642/642 [==============================] - 0s 73us/step\n",
      "1776/1776 [==============================] - 0s 89us/step\n",
      "1776/1776 [==============================] - 0s 80us/step\n",
      "1266/1266 [==============================] - 0s 69us/step\n",
      "1266/1266 [==============================] - 0s 74us/step\n",
      "997/997 [==============================] - 0s 63us/step\n",
      "997/997 [==============================] - 0s 78us/step\n",
      "902/902 [==============================] - 0s 60us/step\n",
      "902/902 [==============================] - 0s 69us/step\n",
      "711/711 [==============================] - 0s 79us/step\n",
      "711/711 [==============================] - 0s 66us/step\n",
      "1295/1295 [==============================] - 0s 79us/step\n",
      "1295/1295 [==============================] - 0s 72us/step\n",
      "3677/3677 [==============================] - 0s 73us/step\n",
      "3677/3677 [==============================] - 0s 72us/step\n"
     ]
    },
    {
     "name": "stderr",
     "output_type": "stream",
     "text": [
      "\u001b[32m[I 2020-10-31 00:44:23,008]\u001b[0m Finished trial#3 resulted in value: 2.662868634484604. Current best value is 1.5234655252798102 with parameters: {'num_layer': 2, 'dense_num': 5, 'num_filter_0': 4.0, 'num_filter_1': 5.0, 'size_filter_0': 3.0, 'size_filter_1': 5.0, 'batch_size': 3, 'learning_rate': 0.00040775546803472083, 'decay': 5.182393238720175e-05, 'dropout_rate_in': 0.2, 'dropout_rate_out': 0.0, 'momentum': 0.2, 'padding': 'valid'}.\u001b[0m\n"
     ]
    },
    {
     "name": "stdout",
     "output_type": "stream",
     "text": [
      "867/867 [==============================] - 0s 132us/step\n",
      "867/867 [==============================] - 0s 126us/step\n",
      "14008/14008 [==============================] - 2s 115us/step\n",
      "14008/14008 [==============================] - 2s 110us/step\n",
      "642/642 [==============================] - 0s 117us/step\n",
      "642/642 [==============================] - 0s 122us/step\n",
      "1776/1776 [==============================] - 0s 132us/step\n",
      "1776/1776 [==============================] - 0s 121us/step\n",
      "1266/1266 [==============================] - 0s 127us/step\n",
      "1266/1266 [==============================] - 0s 121us/step\n",
      "997/997 [==============================] - 0s 104us/step\n",
      "997/997 [==============================] - 0s 114us/step\n",
      "902/902 [==============================] - 0s 129us/step\n",
      "902/902 [==============================] - 0s 106us/step\n",
      "711/711 [==============================] - 0s 108us/step\n",
      "711/711 [==============================] - 0s 124us/step\n",
      "1295/1295 [==============================] - 0s 127us/step\n",
      "1295/1295 [==============================] - 0s 109us/step\n",
      "3677/3677 [==============================] - 0s 109us/step\n",
      "3677/3677 [==============================] - 0s 106us/step\n"
     ]
    },
    {
     "name": "stderr",
     "output_type": "stream",
     "text": [
      "\u001b[32m[I 2020-10-31 01:11:34,046]\u001b[0m Finished trial#4 resulted in value: 2.621977761499439. Current best value is 1.5234655252798102 with parameters: {'num_layer': 2, 'dense_num': 5, 'num_filter_0': 4.0, 'num_filter_1': 5.0, 'size_filter_0': 3.0, 'size_filter_1': 5.0, 'batch_size': 3, 'learning_rate': 0.00040775546803472083, 'decay': 5.182393238720175e-05, 'dropout_rate_in': 0.2, 'dropout_rate_out': 0.0, 'momentum': 0.2, 'padding': 'valid'}.\u001b[0m\n",
      "\u001b[32m[I 2020-10-31 01:11:54,948]\u001b[0m Setting status of trial#5 as TrialState.PRUNED. Trial was pruned at epoch 1.\u001b[0m\n"
     ]
    },
    {
     "name": "stdout",
     "output_type": "stream",
     "text": [
      "867/867 [==============================] - 0s 80us/step\n",
      "867/867 [==============================] - 0s 108us/step\n",
      "14008/14008 [==============================] - 1s 79us/step\n",
      "14008/14008 [==============================] - 1s 76us/step\n",
      "642/642 [==============================] - 0s 81us/step\n",
      "642/642 [==============================] - 0s 74us/step\n",
      "1776/1776 [==============================] - 0s 78us/step\n",
      "1776/1776 [==============================] - 0s 92us/step\n",
      "1266/1266 [==============================] - 0s 70us/step\n",
      "1266/1266 [==============================] - 0s 74us/step\n",
      "997/997 [==============================] - 0s 72us/step\n",
      "997/997 [==============================] - 0s 78us/step\n",
      "902/902 [==============================] - 0s 79us/step\n",
      "902/902 [==============================] - 0s 69us/step\n",
      "711/711 [==============================] - 0s 75us/step\n",
      "711/711 [==============================] - 0s 98us/step\n",
      "1295/1295 [==============================] - 0s 78us/step\n",
      "1295/1295 [==============================] - 0s 84us/step\n",
      "3677/3677 [==============================] - 0s 75us/step\n",
      "3677/3677 [==============================] - 0s 74us/step\n"
     ]
    },
    {
     "name": "stderr",
     "output_type": "stream",
     "text": [
      "\u001b[32m[I 2020-10-31 01:15:01,928]\u001b[0m Finished trial#6 resulted in value: 1.652933840298272. Current best value is 1.5234655252798102 with parameters: {'num_layer': 2, 'dense_num': 5, 'num_filter_0': 4.0, 'num_filter_1': 5.0, 'size_filter_0': 3.0, 'size_filter_1': 5.0, 'batch_size': 3, 'learning_rate': 0.00040775546803472083, 'decay': 5.182393238720175e-05, 'dropout_rate_in': 0.2, 'dropout_rate_out': 0.0, 'momentum': 0.2, 'padding': 'valid'}.\u001b[0m\n"
     ]
    },
    {
     "name": "stdout",
     "output_type": "stream",
     "text": [
      "867/867 [==============================] - 0s 79us/step\n",
      "867/867 [==============================] - 0s 72us/step\n",
      "14008/14008 [==============================] - 1s 91us/step\n",
      "14008/14008 [==============================] - 1s 90us/step\n",
      "642/642 [==============================] - 0s 93us/step\n",
      "642/642 [==============================] - 0s 97us/step\n",
      "1776/1776 [==============================] - 0s 97us/step\n",
      "1776/1776 [==============================] - 0s 102us/step\n",
      "1266/1266 [==============================] - 0s 83us/step\n",
      "1266/1266 [==============================] - 0s 86us/step\n",
      "997/997 [==============================] - 0s 119us/step\n",
      "997/997 [==============================] - 0s 100us/step\n",
      "902/902 [==============================] - 0s 81us/step\n",
      "902/902 [==============================] - 0s 87us/step\n",
      "711/711 [==============================] - 0s 80us/step\n",
      "711/711 [==============================] - 0s 110us/step\n",
      "1295/1295 [==============================] - 0s 103us/step\n",
      "1295/1295 [==============================] - 0s 101us/step\n",
      "3677/3677 [==============================] - 0s 97us/step\n",
      "3677/3677 [==============================] - 0s 98us/step\n"
     ]
    },
    {
     "name": "stderr",
     "output_type": "stream",
     "text": [
      "\u001b[32m[I 2020-10-31 01:22:05,435]\u001b[0m Finished trial#7 resulted in value: 1.4650893837626384. Current best value is 1.4650893837626384 with parameters: {'num_layer': 1, 'dense_num': 4, 'num_filter_0': 5.0, 'size_filter_0': 5.0, 'batch_size': 4, 'learning_rate': 0.00269404099955598, 'decay': 2.5434055256609283e-05, 'dropout_rate_in': 0.5, 'dropout_rate_out': 0.0, 'momentum': 0.1, 'padding': 'valid'}.\u001b[0m\n"
     ]
    },
    {
     "name": "stdout",
     "output_type": "stream",
     "text": [
      "1129/1129 [==============================] - 0s 113us/step\n",
      "accuracy is 0.23383525013923645\n",
      "outer_cv_1_processing....\n",
      "3678/3678 [==============================] - 0s 98us/step\n",
      "3678/3678 [==============================] - 0s 85us/step\n",
      "880/880 [==============================] - 0s 103us/step\n",
      "880/880 [==============================] - 0s 89us/step\n",
      "753/753 [==============================] - 0s 118us/step\n",
      "753/753 [==============================] - 0s 83us/step\n",
      "1770/1770 [==============================] - 0s 95us/step\n",
      "1770/1770 [==============================] - 0s 85us/step\n",
      "647/647 [==============================] - 0s 87us/step\n",
      "647/647 [==============================] - 0s 97us/step\n",
      "1905/1905 [==============================] - 0s 87us/step\n",
      "1905/1905 [==============================] - 0s 90us/step\n",
      "14003/14003 [==============================] - 1s 89us/step\n",
      "14003/14003 [==============================] - 1s 89us/step\n",
      "647/647 [==============================] - 0s 83us/step\n",
      "647/647 [==============================] - 0s 72us/step\n",
      "1185/1185 [==============================] - 0s 100us/step\n",
      "1185/1185 [==============================] - 0s 102us/step\n",
      "510/510 [==============================] - 0s 92us/step\n",
      "510/510 [==============================] - 0s 64us/step\n"
     ]
    },
    {
     "name": "stderr",
     "output_type": "stream",
     "text": [
      "\u001b[32m[I 2020-10-31 01:26:34,862]\u001b[0m Finished trial#0 resulted in value: 1.516570276852366. Current best value is 1.516570276852366 with parameters: {'num_layer': 2, 'dense_num': 5, 'num_filter_0': 3.0, 'num_filter_1': 4.0, 'size_filter_0': 5.0, 'size_filter_1': 5.0, 'batch_size': 5, 'learning_rate': 0.0007014334395299182, 'decay': 0.00032361186169929776, 'dropout_rate_in': 0.4, 'dropout_rate_out': 0.30000000000000004, 'momentum': 0.9, 'padding': 'valid'}.\u001b[0m\n"
     ]
    },
    {
     "name": "stdout",
     "output_type": "stream",
     "text": [
      "3678/3678 [==============================] - 0s 87us/step\n",
      "3678/3678 [==============================] - 0s 91us/step\n",
      "880/880 [==============================] - 0s 84us/step\n",
      "880/880 [==============================] - 0s 97us/step\n",
      "753/753 [==============================] - 0s 78us/step\n",
      "753/753 [==============================] - 0s 83us/step\n",
      "1770/1770 [==============================] - 0s 86us/step\n",
      "1770/1770 [==============================] - 0s 88us/step\n",
      "647/647 [==============================] - 0s 88us/step\n",
      "647/647 [==============================] - 0s 84us/step\n",
      "1905/1905 [==============================] - 0s 81us/step\n",
      "1905/1905 [==============================] - 0s 82us/step\n",
      "14003/14003 [==============================] - 1s 86us/step\n",
      "14003/14003 [==============================] - 1s 88us/step\n",
      "647/647 [==============================] - 0s 84us/step\n",
      "647/647 [==============================] - 0s 97us/step\n",
      "1185/1185 [==============================] - 0s 77us/step\n",
      "1185/1185 [==============================] - 0s 92us/step\n",
      "510/510 [==============================] - 0s 95us/step\n",
      "510/510 [==============================] - 0s 61us/step\n"
     ]
    },
    {
     "name": "stderr",
     "output_type": "stream",
     "text": [
      "\u001b[32m[I 2020-10-31 01:33:37,529]\u001b[0m Finished trial#1 resulted in value: 1.6585024595906468. Current best value is 1.516570276852366 with parameters: {'num_layer': 2, 'dense_num': 5, 'num_filter_0': 3.0, 'num_filter_1': 4.0, 'size_filter_0': 5.0, 'size_filter_1': 5.0, 'batch_size': 5, 'learning_rate': 0.0007014334395299182, 'decay': 0.00032361186169929776, 'dropout_rate_in': 0.4, 'dropout_rate_out': 0.30000000000000004, 'momentum': 0.9, 'padding': 'valid'}.\u001b[0m\n"
     ]
    },
    {
     "name": "stdout",
     "output_type": "stream",
     "text": [
      "3678/3678 [==============================] - 0s 93us/step\n",
      "3678/3678 [==============================] - 0s 82us/step\n",
      "880/880 [==============================] - 0s 126us/step\n",
      "880/880 [==============================] - 0s 70us/step\n",
      "753/753 [==============================] - 0s 121us/step\n",
      "753/753 [==============================] - 0s 84us/step\n",
      "1770/1770 [==============================] - 0s 95us/step\n",
      "1770/1770 [==============================] - 0s 88us/step\n",
      "647/647 [==============================] - 0s 134us/step\n",
      "647/647 [==============================] - 0s 91us/step\n",
      "1905/1905 [==============================] - 0s 75us/step\n",
      "1905/1905 [==============================] - 0s 75us/step\n",
      "14003/14003 [==============================] - 1s 79us/step\n",
      "14003/14003 [==============================] - 1s 81us/step\n",
      "647/647 [==============================] - 0s 84us/step\n",
      "647/647 [==============================] - 0s 97us/step\n",
      "1185/1185 [==============================] - 0s 76us/step\n",
      "1185/1185 [==============================] - 0s 79us/step\n",
      "510/510 [==============================] - 0s 92us/step\n",
      "510/510 [==============================] - 0s 64us/step\n"
     ]
    },
    {
     "name": "stderr",
     "output_type": "stream",
     "text": [
      "\u001b[32m[I 2020-10-31 02:27:26,664]\u001b[0m Finished trial#2 resulted in value: 1.3405905106347882. Current best value is 1.3405905106347882 with parameters: {'num_layer': 2, 'dense_num': 5, 'num_filter_0': 2.0, 'num_filter_1': 2.0, 'size_filter_0': 5.0, 'size_filter_1': 5.0, 'batch_size': 1, 'learning_rate': 0.001099064454321108, 'decay': 2.2795561609894638e-05, 'dropout_rate_in': 0.0, 'dropout_rate_out': 0.0, 'momentum': 0.8, 'padding': 'valid'}.\u001b[0m\n"
     ]
    },
    {
     "name": "stdout",
     "output_type": "stream",
     "text": [
      "3678/3678 [==============================] - 0s 95us/step\n",
      "3678/3678 [==============================] - 0s 100us/step\n",
      "880/880 [==============================] - 0s 114us/step\n",
      "880/880 [==============================] - 0s 84us/step\n",
      "753/753 [==============================] - 0s 119us/step\n",
      "753/753 [==============================] - 0s 83us/step\n",
      "1770/1770 [==============================] - 0s 95us/step\n",
      "1770/1770 [==============================] - 0s 97us/step\n",
      "647/647 [==============================] - 0s 88us/step\n",
      "647/647 [==============================] - 0s 97us/step\n",
      "1905/1905 [==============================] - 0s 88us/step\n",
      "1905/1905 [==============================] - 0s 98us/step\n",
      "14003/14003 [==============================] - 1s 88us/step\n",
      "14003/14003 [==============================] - 1s 86us/step\n",
      "647/647 [==============================] - 0s 101us/step\n",
      "647/647 [==============================] - 0s 75us/step\n",
      "1185/1185 [==============================] - 0s 75us/step\n",
      "1185/1185 [==============================] - 0s 79us/step\n",
      "510/510 [==============================] - 0s 94us/step\n",
      "510/510 [==============================] - 0s 61us/step\n"
     ]
    },
    {
     "name": "stderr",
     "output_type": "stream",
     "text": [
      "\u001b[32m[I 2020-10-31 02:30:54,251]\u001b[0m Finished trial#3 resulted in value: 1.7778470174715817. Current best value is 1.3405905106347882 with parameters: {'num_layer': 2, 'dense_num': 5, 'num_filter_0': 2.0, 'num_filter_1': 2.0, 'size_filter_0': 5.0, 'size_filter_1': 5.0, 'batch_size': 1, 'learning_rate': 0.001099064454321108, 'decay': 2.2795561609894638e-05, 'dropout_rate_in': 0.0, 'dropout_rate_out': 0.0, 'momentum': 0.8, 'padding': 'valid'}.\u001b[0m\n"
     ]
    },
    {
     "name": "stdout",
     "output_type": "stream",
     "text": [
      "3678/3678 [==============================] - 0s 85us/step\n",
      "3678/3678 [==============================] - 0s 87us/step\n",
      "880/880 [==============================] - 0s 97us/step\n",
      "880/880 [==============================] - 0s 89us/step\n",
      "753/753 [==============================] - 0s 79us/step\n",
      "753/753 [==============================] - 0s 104us/step\n",
      "1770/1770 [==============================] - 0s 86us/step\n",
      "1770/1770 [==============================] - 0s 88us/step\n",
      "647/647 [==============================] - 0s 89us/step\n",
      "647/647 [==============================] - 0s 97us/step\n",
      "1905/1905 [==============================] - 0s 88us/step\n",
      "1905/1905 [==============================] - 0s 90us/step\n",
      "14003/14003 [==============================] - 1s 91us/step\n",
      "14003/14003 [==============================] - 1s 88us/step\n",
      "647/647 [==============================] - 0s 91us/step\n",
      "647/647 [==============================] - 0s 97us/step\n",
      "1185/1185 [==============================] - 0s 94us/step\n",
      "1185/1185 [==============================] - 0s 92us/step\n",
      "510/510 [==============================] - 0s 104us/step\n",
      "510/510 [==============================] - 0s 92us/step\n"
     ]
    },
    {
     "name": "stderr",
     "output_type": "stream",
     "text": [
      "\u001b[32m[I 2020-10-31 02:36:54,699]\u001b[0m Finished trial#4 resulted in value: 1.7544535281763918. Current best value is 1.3405905106347882 with parameters: {'num_layer': 2, 'dense_num': 5, 'num_filter_0': 2.0, 'num_filter_1': 2.0, 'size_filter_0': 5.0, 'size_filter_1': 5.0, 'batch_size': 1, 'learning_rate': 0.001099064454321108, 'decay': 2.2795561609894638e-05, 'dropout_rate_in': 0.0, 'dropout_rate_out': 0.0, 'momentum': 0.8, 'padding': 'valid'}.\u001b[0m\n",
      "\u001b[32m[I 2020-10-31 02:37:36,364]\u001b[0m Setting status of trial#5 as TrialState.PRUNED. Trial was pruned at epoch 1.\u001b[0m\n",
      "\u001b[32m[I 2020-10-31 02:38:58,434]\u001b[0m Setting status of trial#6 as TrialState.PRUNED. Trial was pruned at epoch 1.\u001b[0m\n",
      "\u001b[32m[I 2020-10-31 02:40:03,989]\u001b[0m Setting status of trial#7 as TrialState.PRUNED. Trial was pruned at epoch 1.\u001b[0m\n"
     ]
    },
    {
     "name": "stdout",
     "output_type": "stream",
     "text": [
      "1292/1292 [==============================] - 0s 118us/step\n",
      "accuracy is 0.6114550828933716\n",
      "outer_cv_2_processing....\n",
      "1292/1292 [==============================] - 0s 94us/step\n",
      "1292/1292 [==============================] - 0s 97us/step\n",
      "3677/3677 [==============================] - 0s 101us/step\n",
      "3677/3677 [==============================] - 0s 105us/step\n",
      "511/511 [==============================] - 0s 105us/step\n",
      "511/511 [==============================] - 0s 96us/step\n",
      "647/647 [==============================] - 0s 109us/step\n",
      "647/647 [==============================] - 0s 109us/step\n",
      "14001/14001 [==============================] - 1s 95us/step\n",
      "14001/14001 [==============================] - 1s 99us/step\n",
      "1185/1185 [==============================] - 0s 103us/step\n",
      "1185/1185 [==============================] - 0s 99us/step\n",
      "1686/1686 [==============================] - 0s 103us/step\n",
      "1686/1686 [==============================] - 0s 107us/step\n",
      "1905/1905 [==============================] - 0s 111us/step\n",
      "1905/1905 [==============================] - 0s 108us/step\n",
      "954/954 [==============================] - 0s 112us/step\n",
      "954/954 [==============================] - 0s 98us/step\n",
      "659/659 [==============================] - 0s 83us/step\n",
      "659/659 [==============================] - 0s 95us/step\n"
     ]
    },
    {
     "name": "stderr",
     "output_type": "stream",
     "text": [
      "\u001b[32m[I 2020-10-31 02:52:52,629]\u001b[0m Finished trial#0 resulted in value: 2.0492941206553588. Current best value is 2.0492941206553588 with parameters: {'num_layer': 2, 'dense_num': 5, 'num_filter_0': 4.0, 'num_filter_1': 5.0, 'size_filter_0': 3.0, 'size_filter_1': 5.0, 'batch_size': 4, 'learning_rate': 2.3754724010749323e-05, 'decay': 5.855444913961883e-05, 'dropout_rate_in': 0.2, 'dropout_rate_out': 0.0, 'momentum': 0.8, 'padding': 'same'}.\u001b[0m\n"
     ]
    },
    {
     "name": "stdout",
     "output_type": "stream",
     "text": [
      "1292/1292 [==============================] - 0s 90us/step\n",
      "1292/1292 [==============================] - 0s 97us/step\n",
      "3677/3677 [==============================] - 0s 99us/step\n",
      "3677/3677 [==============================] - 0s 98us/step\n",
      "511/511 [==============================] - 0s 111us/step\n",
      "511/511 [==============================] - 0s 97us/step\n",
      "647/647 [==============================] - 0s 90us/step\n",
      "647/647 [==============================] - 0s 97us/step\n",
      "14001/14001 [==============================] - 1s 94us/step\n",
      "14001/14001 [==============================] - 1s 93us/step\n",
      "1185/1185 [==============================] - 0s 85us/step\n",
      "1185/1185 [==============================] - 0s 92us/step\n",
      "1686/1686 [==============================] - 0s 89us/step\n",
      "1686/1686 [==============================] - 0s 99us/step\n",
      "1905/1905 [==============================] - 0s 96us/step\n",
      "1905/1905 [==============================] - 0s 90us/step\n",
      "954/954 [==============================] - 0s 139us/step\n",
      "954/954 [==============================] - 0s 91us/step\n",
      "659/659 [==============================] - 0s 86us/step\n",
      "659/659 [==============================] - 0s 95us/step\n"
     ]
    },
    {
     "name": "stderr",
     "output_type": "stream",
     "text": [
      "\u001b[32m[I 2020-10-31 02:56:14,154]\u001b[0m Finished trial#1 resulted in value: 1.7836801329707161. Current best value is 1.7836801329707161 with parameters: {'num_layer': 1, 'dense_num': 4, 'num_filter_0': 3.0, 'size_filter_0': 3.0, 'batch_size': 5, 'learning_rate': 0.0006183906883255593, 'decay': 1.1724187120426646e-05, 'dropout_rate_in': 0.0, 'dropout_rate_out': 0.30000000000000004, 'momentum': 0.5, 'padding': 'valid'}.\u001b[0m\n"
     ]
    },
    {
     "name": "stdout",
     "output_type": "stream",
     "text": [
      "1292/1292 [==============================] - 0s 100us/step\n",
      "1292/1292 [==============================] - 0s 97us/step\n",
      "3677/3677 [==============================] - 0s 95us/step\n",
      "3677/3677 [==============================] - 0s 92us/step\n",
      "511/511 [==============================] - 0s 138us/step\n",
      "511/511 [==============================] - 0s 66us/step\n",
      "647/647 [==============================] - 0s 91us/step\n",
      "647/647 [==============================] - 0s 97us/step\n",
      "14001/14001 [==============================] - 1s 92us/step\n",
      "14001/14001 [==============================] - 1s 90us/step\n",
      "1185/1185 [==============================] - 0s 90us/step\n",
      "1185/1185 [==============================] - 0s 92us/step\n",
      "1686/1686 [==============================] - 0s 88us/step\n",
      "1686/1686 [==============================] - 0s 99us/step\n",
      "1905/1905 [==============================] - 0s 82us/step\n",
      "1905/1905 [==============================] - 0s 88us/step\n",
      "954/954 [==============================] - 0s 133us/step\n",
      "954/954 [==============================] - 0s 94us/step\n",
      "659/659 [==============================] - 0s 99us/step\n",
      "659/659 [==============================] - 0s 74us/step\n"
     ]
    },
    {
     "name": "stderr",
     "output_type": "stream",
     "text": [
      "\u001b[32m[I 2020-10-31 03:00:05,831]\u001b[0m Finished trial#2 resulted in value: 2.2390149589046877. Current best value is 1.7836801329707161 with parameters: {'num_layer': 1, 'dense_num': 4, 'num_filter_0': 3.0, 'size_filter_0': 3.0, 'batch_size': 5, 'learning_rate': 0.0006183906883255593, 'decay': 1.1724187120426646e-05, 'dropout_rate_in': 0.0, 'dropout_rate_out': 0.30000000000000004, 'momentum': 0.5, 'padding': 'valid'}.\u001b[0m\n"
     ]
    },
    {
     "name": "stdout",
     "output_type": "stream",
     "text": [
      "1292/1292 [==============================] - 0s 107us/step\n",
      "1292/1292 [==============================] - 0s 79us/step\n",
      "3677/3677 [==============================] - 0s 91us/step\n",
      "3677/3677 [==============================] - 0s 81us/step\n",
      "511/511 [==============================] - 0s 133us/step\n",
      "511/511 [==============================] - 0s 63us/step\n",
      "647/647 [==============================] - 0s 114us/step\n",
      "647/647 [==============================] - 0s 97us/step\n",
      "14001/14001 [==============================] - 1s 90us/step\n",
      "14001/14001 [==============================] - 1s 90us/step\n",
      "1185/1185 [==============================] - 0s 88us/step\n",
      "1185/1185 [==============================] - 0s 92us/step\n",
      "1686/1686 [==============================] - 0s 97us/step\n",
      "1686/1686 [==============================] - 0s 90us/step\n",
      "1905/1905 [==============================] - 0s 99us/step\n",
      "1905/1905 [==============================] - 0s 82us/step\n",
      "954/954 [==============================] - 0s 189us/step\n",
      "954/954 [==============================] - 0s 82us/step\n",
      "659/659 [==============================] - 0s 130us/step\n",
      "659/659 [==============================] - 0s 95us/step\n"
     ]
    },
    {
     "name": "stderr",
     "output_type": "stream",
     "text": [
      "\u001b[32m[I 2020-10-31 04:05:43,358]\u001b[0m Finished trial#3 resulted in value: 1.0063668152304097. Current best value is 1.0063668152304097 with parameters: {'num_layer': 2, 'dense_num': 5, 'num_filter_0': 5.0, 'num_filter_1': 5.0, 'size_filter_0': 3.0, 'size_filter_1': 5.0, 'batch_size': 1, 'learning_rate': 0.0022685183646565066, 'decay': 2.1284396492048322e-05, 'dropout_rate_in': 0.0, 'dropout_rate_out': 0.5, 'momentum': 0.30000000000000004, 'padding': 'valid'}.\u001b[0m\n"
     ]
    },
    {
     "name": "stdout",
     "output_type": "stream",
     "text": [
      "1292/1292 [==============================] - 0s 102us/step\n",
      "1292/1292 [==============================] - 0s 92us/step\n",
      "3677/3677 [==============================] - 0s 87us/step\n",
      "3677/3677 [==============================] - 0s 85us/step\n",
      "511/511 [==============================] - 0s 103us/step\n",
      "511/511 [==============================] - 0s 92us/step\n",
      "647/647 [==============================] - 0s 83us/step\n",
      "647/647 [==============================] - 0s 72us/step\n",
      "14001/14001 [==============================] - 1s 87us/step\n",
      "14001/14001 [==============================] - 1s 89us/step\n",
      "1185/1185 [==============================] - 0s 87us/step\n",
      "1185/1185 [==============================] - 0s 92us/step\n",
      "1686/1686 [==============================] - 0s 88us/step\n",
      "1686/1686 [==============================] - 0s 95us/step\n",
      "1905/1905 [==============================] - 0s 86us/step\n",
      "1905/1905 [==============================] - 0s 82us/step\n",
      "954/954 [==============================] - 0s 74us/step\n",
      "954/954 [==============================] - 0s 98us/step\n",
      "659/659 [==============================] - 0s 107us/step\n",
      "659/659 [==============================] - 0s 95us/step\n"
     ]
    },
    {
     "name": "stderr",
     "output_type": "stream",
     "text": [
      "\u001b[32m[I 2020-10-31 04:46:26,672]\u001b[0m Finished trial#4 resulted in value: 3.263251291126602. Current best value is 1.0063668152304097 with parameters: {'num_layer': 2, 'dense_num': 5, 'num_filter_0': 5.0, 'num_filter_1': 5.0, 'size_filter_0': 3.0, 'size_filter_1': 5.0, 'batch_size': 1, 'learning_rate': 0.0022685183646565066, 'decay': 2.1284396492048322e-05, 'dropout_rate_in': 0.0, 'dropout_rate_out': 0.5, 'momentum': 0.30000000000000004, 'padding': 'valid'}.\u001b[0m\n"
     ]
    },
    {
     "name": "stdout",
     "output_type": "stream",
     "text": [
      "1292/1292 [==============================] - 0s 97us/step\n",
      "1292/1292 [==============================] - 0s 85us/step\n",
      "3677/3677 [==============================] - 0s 93us/step\n",
      "3677/3677 [==============================] - 0s 93us/step\n",
      "511/511 [==============================] - 0s 137us/step\n",
      "511/511 [==============================] - 0s 94us/step\n",
      "647/647 [==============================] - 0s 84us/step\n",
      "647/647 [==============================] - 0s 97us/step\n",
      "14001/14001 [==============================] - 1s 94us/step\n",
      "14001/14001 [==============================] - 1s 92us/step\n",
      "1185/1185 [==============================] - 0s 99us/step\n",
      "1185/1185 [==============================] - 0s 105us/step\n",
      "1686/1686 [==============================] - 0s 97us/step\n",
      "1686/1686 [==============================] - 0s 93us/step\n",
      "1905/1905 [==============================] - 0s 93us/step\n",
      "1905/1905 [==============================] - 0s 90us/step\n",
      "954/954 [==============================] - 0s 89us/step\n",
      "954/954 [==============================] - 0s 98us/step\n",
      "659/659 [==============================] - 0s 108us/step\n",
      "659/659 [==============================] - 0s 95us/step\n"
     ]
    },
    {
     "name": "stderr",
     "output_type": "stream",
     "text": [
      "\u001b[32m[I 2020-10-31 05:00:54,555]\u001b[0m Finished trial#5 resulted in value: 1.7079352214578662. Current best value is 1.0063668152304097 with parameters: {'num_layer': 2, 'dense_num': 5, 'num_filter_0': 5.0, 'num_filter_1': 5.0, 'size_filter_0': 3.0, 'size_filter_1': 5.0, 'batch_size': 1, 'learning_rate': 0.0022685183646565066, 'decay': 2.1284396492048322e-05, 'dropout_rate_in': 0.0, 'dropout_rate_out': 0.5, 'momentum': 0.30000000000000004, 'padding': 'valid'}.\u001b[0m\n",
      "\u001b[32m[I 2020-10-31 05:02:07,432]\u001b[0m Setting status of trial#6 as TrialState.PRUNED. Trial was pruned at epoch 1.\u001b[0m\n"
     ]
    },
    {
     "name": "stdout",
     "output_type": "stream",
     "text": [
      "1292/1292 [==============================] - 0s 78us/step\n",
      "1292/1292 [==============================] - 0s 88us/step\n",
      "3677/3677 [==============================] - 0s 79us/step\n",
      "3677/3677 [==============================] - 0s 81us/step\n",
      "511/511 [==============================] - 0s 96us/step\n",
      "511/511 [==============================] - 0s 64us/step\n",
      "647/647 [==============================] - 0s 84us/step\n",
      "647/647 [==============================] - 0s 102us/step\n",
      "14001/14001 [==============================] - 1s 81us/step\n",
      "14001/14001 [==============================] - 1s 80us/step\n",
      "1185/1185 [==============================] - 0s 85us/step\n",
      "1185/1185 [==============================] - 0s 79us/step\n",
      "1686/1686 [==============================] - 0s 88us/step\n",
      "1686/1686 [==============================] - 0s 79us/step\n",
      "1905/1905 [==============================] - 0s 77us/step\n",
      "1905/1905 [==============================] - 0s 82us/step\n",
      "954/954 [==============================] - 0s 74us/step\n",
      "954/954 [==============================] - 0s 65us/step\n",
      "659/659 [==============================] - 0s 105us/step\n",
      "659/659 [==============================] - 0s 71us/step\n"
     ]
    },
    {
     "name": "stderr",
     "output_type": "stream",
     "text": [
      "\u001b[32m[I 2020-10-31 05:43:49,339]\u001b[0m Finished trial#7 resulted in value: 1.6238216110181596. Current best value is 1.0063668152304097 with parameters: {'num_layer': 2, 'dense_num': 5, 'num_filter_0': 5.0, 'num_filter_1': 5.0, 'size_filter_0': 3.0, 'size_filter_1': 5.0, 'batch_size': 1, 'learning_rate': 0.0022685183646565066, 'decay': 2.1284396492048322e-05, 'dropout_rate_in': 0.0, 'dropout_rate_out': 0.5, 'momentum': 0.30000000000000004, 'padding': 'valid'}.\u001b[0m\n"
     ]
    },
    {
     "name": "stdout",
     "output_type": "stream",
     "text": [
      "753/753 [==============================] - 0s 72us/step\n",
      "accuracy is 0.600265622138977\n",
      "outer_cv_3_processing....\n",
      "14000/14000 [==============================] - 1s 75us/step\n",
      "14000/14000 [==============================] - 1s 75us/step\n",
      "647/647 [==============================] - 0s 84us/step\n",
      "647/647 [==============================] - 0s 99us/step\n",
      "880/880 [==============================] - 0s 81us/step\n",
      "880/880 [==============================] - 0s 71us/step\n",
      "1770/1770 [==============================] - 0s 82us/step\n",
      "1770/1770 [==============================] - 0s 71us/step\n",
      "1185/1185 [==============================] - 0s 84us/step\n",
      "1185/1185 [==============================] - 0s 79us/step\n",
      "647/647 [==============================] - 0s 83us/step\n",
      "647/647 [==============================] - 0s 72us/step\n",
      "510/510 [==============================] - 0s 81us/step\n",
      "510/510 [==============================] - 0s 68us/step\n",
      "1295/1295 [==============================] - 0s 78us/step\n",
      "1295/1295 [==============================] - 0s 84us/step\n",
      "3678/3678 [==============================] - 0s 78us/step\n",
      "3678/3678 [==============================] - 0s 72us/step\n",
      "753/753 [==============================] - 0s 71us/step\n",
      "753/753 [==============================] - 0s 83us/step\n"
     ]
    },
    {
     "name": "stderr",
     "output_type": "stream",
     "text": [
      "\u001b[32m[I 2020-10-31 05:54:33,806]\u001b[0m Finished trial#0 resulted in value: 2.2371523742125214. Current best value is 2.2371523742125214 with parameters: {'num_layer': 1, 'dense_num': 2, 'num_filter_0': 3.0, 'size_filter_0': 5.0, 'batch_size': 4, 'learning_rate': 0.006237649189045176, 'decay': 7.046164014822267e-06, 'dropout_rate_in': 0.0, 'dropout_rate_out': 0.2, 'momentum': 1.0, 'padding': 'valid'}.\u001b[0m\n"
     ]
    },
    {
     "name": "stdout",
     "output_type": "stream",
     "text": [
      "14000/14000 [==============================] - 1s 69us/step\n",
      "14000/14000 [==============================] - 1s 67us/step\n",
      "647/647 [==============================] - 0s 82us/step\n",
      "647/647 [==============================] - 0s 72us/step\n",
      "880/880 [==============================] - 0s 80us/step\n",
      "880/880 [==============================] - 0s 71us/step\n",
      "1770/1770 [==============================] - 0s 66us/step\n",
      "1770/1770 [==============================] - 0s 71us/step\n",
      "1185/1185 [==============================] - 0s 72us/step\n",
      "1185/1185 [==============================] - 0s 79us/step\n",
      "647/647 [==============================] - 0s 77us/step\n",
      "647/647 [==============================] - 0s 49us/step\n",
      "510/510 [==============================] - 0s 94us/step\n",
      "510/510 [==============================] - 0s 63us/step\n",
      "1295/1295 [==============================] - 0s 66us/step\n",
      "1295/1295 [==============================] - 0s 72us/step\n",
      "3678/3678 [==============================] - 0s 71us/step\n",
      "3678/3678 [==============================] - 0s 68us/step\n",
      "753/753 [==============================] - 0s 88us/step\n",
      "753/753 [==============================] - 0s 64us/step\n"
     ]
    },
    {
     "name": "stderr",
     "output_type": "stream",
     "text": [
      "\u001b[32m[I 2020-10-31 06:35:03,576]\u001b[0m Finished trial#1 resulted in value: 1.441980697368101. Current best value is 1.441980697368101 with parameters: {'num_layer': 1, 'dense_num': 2, 'num_filter_0': 5.0, 'size_filter_0': 5.0, 'batch_size': 1, 'learning_rate': 0.009709011832198751, 'decay': 0.00010430633457175526, 'dropout_rate_in': 0.1, 'dropout_rate_out': 0.2, 'momentum': 0.0, 'padding': 'valid'}.\u001b[0m\n"
     ]
    },
    {
     "name": "stdout",
     "output_type": "stream",
     "text": [
      "14000/14000 [==============================] - 1s 91us/step\n",
      "14000/14000 [==============================] - 1s 92us/step\n",
      "647/647 [==============================] - 0s 107us/step\n",
      "647/647 [==============================] - 0s 97us/step\n",
      "880/880 [==============================] - 0s 98us/step\n",
      "880/880 [==============================] - 0s 89us/step\n",
      "1770/1770 [==============================] - 0s 101us/step\n",
      "1770/1770 [==============================] - 0s 88us/step\n",
      "1185/1185 [==============================] - 0s 99us/step\n",
      "1185/1185 [==============================] - 0s 92us/step\n",
      "647/647 [==============================] - 0s 87us/step\n",
      "647/647 [==============================] - 0s 97us/step\n",
      "510/510 [==============================] - 0s 147us/step\n",
      "510/510 [==============================] - 0s 93us/step\n",
      "1295/1295 [==============================] - 0s 91us/step\n",
      "1295/1295 [==============================] - 0s 84us/step\n",
      "3678/3678 [==============================] - 0s 95us/step\n",
      "3678/3678 [==============================] - 0s 90us/step\n",
      "753/753 [==============================] - 0s 134us/step\n",
      "753/753 [==============================] - 0s 83us/step\n"
     ]
    },
    {
     "name": "stderr",
     "output_type": "stream",
     "text": [
      "\u001b[32m[I 2020-10-31 07:25:51,597]\u001b[0m Finished trial#2 resulted in value: 1.7933370403023408. Current best value is 1.441980697368101 with parameters: {'num_layer': 1, 'dense_num': 2, 'num_filter_0': 5.0, 'size_filter_0': 5.0, 'batch_size': 1, 'learning_rate': 0.009709011832198751, 'decay': 0.00010430633457175526, 'dropout_rate_in': 0.1, 'dropout_rate_out': 0.2, 'momentum': 0.0, 'padding': 'valid'}.\u001b[0m\n"
     ]
    },
    {
     "name": "stdout",
     "output_type": "stream",
     "text": [
      "14000/14000 [==============================] - 1s 76us/step\n",
      "14000/14000 [==============================] - 1s 79us/step\n",
      "647/647 [==============================] - 0s 99us/step\n",
      "647/647 [==============================] - 0s 75us/step\n",
      "880/880 [==============================] - 0s 60us/step\n",
      "880/880 [==============================] - 0s 71us/step\n",
      "1770/1770 [==============================] - 0s 84us/step\n",
      "1770/1770 [==============================] - 0s 71us/step\n",
      "1185/1185 [==============================] - 0s 72us/step\n",
      "1185/1185 [==============================] - 0s 69us/step\n",
      "647/647 [==============================] - 0s 83us/step\n",
      "647/647 [==============================] - 0s 72us/step\n",
      "510/510 [==============================] - 0s 136us/step\n",
      "510/510 [==============================] - 0s 63us/step\n",
      "1295/1295 [==============================] - 0s 78us/step\n",
      "1295/1295 [==============================] - 0s 84us/step\n",
      "3678/3678 [==============================] - 0s 74us/step\n",
      "3678/3678 [==============================] - 0s 80us/step\n",
      "753/753 [==============================] - 0s 92us/step\n",
      "753/753 [==============================] - 0s 62us/step\n"
     ]
    },
    {
     "name": "stderr",
     "output_type": "stream",
     "text": [
      "\u001b[32m[I 2020-10-31 07:35:50,061]\u001b[0m Finished trial#3 resulted in value: 1.5538463243050846. Current best value is 1.441980697368101 with parameters: {'num_layer': 1, 'dense_num': 2, 'num_filter_0': 5.0, 'size_filter_0': 5.0, 'batch_size': 1, 'learning_rate': 0.009709011832198751, 'decay': 0.00010430633457175526, 'dropout_rate_in': 0.1, 'dropout_rate_out': 0.2, 'momentum': 0.0, 'padding': 'valid'}.\u001b[0m\n"
     ]
    },
    {
     "name": "stdout",
     "output_type": "stream",
     "text": [
      "14000/14000 [==============================] - 1s 74us/step\n",
      "14000/14000 [==============================] - 1s 73us/step\n",
      "647/647 [==============================] - 0s 83us/step\n",
      "647/647 [==============================] - 0s 72us/step\n",
      "880/880 [==============================] - 0s 79us/step\n",
      "880/880 [==============================] - 0s 89us/step\n",
      "1770/1770 [==============================] - 0s 78us/step\n",
      "1770/1770 [==============================] - 0s 71us/step\n",
      "1185/1185 [==============================] - 0s 72us/step\n",
      "1185/1185 [==============================] - 0s 79us/step\n",
      "647/647 [==============================] - 0s 78us/step\n",
      "647/647 [==============================] - 0s 74us/step\n",
      "510/510 [==============================] - 0s 79us/step\n",
      "510/510 [==============================] - 0s 64us/step\n",
      "1295/1295 [==============================] - 0s 65us/step\n",
      "1295/1295 [==============================] - 0s 72us/step\n",
      "3678/3678 [==============================] - 0s 74us/step\n",
      "3678/3678 [==============================] - 0s 73us/step\n",
      "753/753 [==============================] - 0s 71us/step\n",
      "753/753 [==============================] - 0s 85us/step\n"
     ]
    },
    {
     "name": "stderr",
     "output_type": "stream",
     "text": [
      "\u001b[32m[I 2020-10-31 07:41:38,876]\u001b[0m Finished trial#4 resulted in value: 2.135086080425206. Current best value is 1.441980697368101 with parameters: {'num_layer': 1, 'dense_num': 2, 'num_filter_0': 5.0, 'size_filter_0': 5.0, 'batch_size': 1, 'learning_rate': 0.009709011832198751, 'decay': 0.00010430633457175526, 'dropout_rate_in': 0.1, 'dropout_rate_out': 0.2, 'momentum': 0.0, 'padding': 'valid'}.\u001b[0m\n"
     ]
    },
    {
     "name": "stdout",
     "output_type": "stream",
     "text": [
      "14000/14000 [==============================] - 1s 81us/step\n",
      "14000/14000 [==============================] - 1s 82us/step\n",
      "647/647 [==============================] - 0s 84us/step\n",
      "647/647 [==============================] - 0s 97us/step\n",
      "880/880 [==============================] - 0s 80us/step\n",
      "880/880 [==============================] - 0s 84us/step\n",
      "1770/1770 [==============================] - 0s 83us/step\n",
      "1770/1770 [==============================] - 0s 79us/step\n",
      "1185/1185 [==============================] - 0s 86us/step\n",
      "1185/1185 [==============================] - 0s 79us/step\n",
      "647/647 [==============================] - 0s 83us/step\n",
      "647/647 [==============================] - 0s 97us/step\n",
      "510/510 [==============================] - 0s 98us/step\n",
      "510/510 [==============================] - 0s 63us/step\n",
      "1295/1295 [==============================] - 0s 79us/step\n",
      "1295/1295 [==============================] - 0s 84us/step\n",
      "3678/3678 [==============================] - 0s 85us/step\n",
      "3678/3678 [==============================] - 0s 81us/step\n",
      "753/753 [==============================] - 0s 92us/step\n",
      "753/753 [==============================] - 0s 83us/step\n"
     ]
    },
    {
     "name": "stderr",
     "output_type": "stream",
     "text": [
      "\u001b[32m[I 2020-10-31 07:52:33,524]\u001b[0m Finished trial#5 resulted in value: 1.5327507697861804. Current best value is 1.441980697368101 with parameters: {'num_layer': 1, 'dense_num': 2, 'num_filter_0': 5.0, 'size_filter_0': 5.0, 'batch_size': 1, 'learning_rate': 0.009709011832198751, 'decay': 0.00010430633457175526, 'dropout_rate_in': 0.1, 'dropout_rate_out': 0.2, 'momentum': 0.0, 'padding': 'valid'}.\u001b[0m\n",
      "\u001b[32m[I 2020-10-31 07:53:02,268]\u001b[0m Setting status of trial#6 as TrialState.PRUNED. Trial was pruned at epoch 1.\u001b[0m\n",
      "\u001b[32m[I 2020-10-31 07:53:06,673]\u001b[0m Setting status of trial#7 as TrialState.PRUNED. Trial was pruned at epoch 1.\u001b[0m\n"
     ]
    },
    {
     "name": "stdout",
     "output_type": "stream",
     "text": [
      "1905/1905 [==============================] - 0s 86us/step\n",
      "accuracy is 0.49816271662712097\n",
      "outer_cv_4_processing....\n",
      "15439/15439 [==============================] - 1s 80us/step\n",
      "15439/15439 [==============================] - 1s 80us/step\n",
      "1185/1185 [==============================] - 0s 71us/step\n",
      "1185/1185 [==============================] - 0s 92us/step\n",
      "647/647 [==============================] - 0s 83us/step\n",
      "647/647 [==============================] - 0s 97us/step\n",
      "647/647 [==============================] - 0s 82us/step\n",
      "647/647 [==============================] - 0s 97us/step\n",
      "510/510 [==============================] - 0s 105us/step\n",
      "510/510 [==============================] - 0s 65us/step\n",
      "1920/1920 [==============================] - 0s 85us/step\n",
      "1920/1920 [==============================] - 0s 81us/step\n",
      "753/753 [==============================] - 0s 94us/step\n",
      "753/753 [==============================] - 0s 83us/step\n",
      "874/874 [==============================] - 0s 81us/step\n",
      "874/874 [==============================] - 0s 89us/step\n",
      "2224/2224 [==============================] - 0s 84us/step\n",
      "2224/2224 [==============================] - 0s 78us/step\n",
      "1295/1295 [==============================] - 0s 89us/step\n",
      "1295/1295 [==============================] - 0s 84us/step\n"
     ]
    },
    {
     "name": "stderr",
     "output_type": "stream",
     "text": [
      "\u001b[32m[I 2020-10-31 08:19:42,111]\u001b[0m Finished trial#0 resulted in value: 1.8120129880110265. Current best value is 1.8120129880110265 with parameters: {'num_layer': 1, 'dense_num': 4, 'num_filter_0': 5.0, 'size_filter_0': 3.0, 'batch_size': 2, 'learning_rate': 0.0010479988320196943, 'decay': 0.00018364804155497223, 'dropout_rate_in': 0.4, 'dropout_rate_out': 0.5, 'momentum': 0.4, 'padding': 'valid'}.\u001b[0m\n"
     ]
    },
    {
     "name": "stdout",
     "output_type": "stream",
     "text": [
      "15439/15439 [==============================] - 2s 102us/step\n",
      "15439/15439 [==============================] - 2s 102us/step\n",
      "1185/1185 [==============================] - 0s 99us/step\n",
      "1185/1185 [==============================] - 0s 105us/step\n",
      "647/647 [==============================] - 0s 108us/step\n",
      "647/647 [==============================] - 0s 121us/step\n",
      "647/647 [==============================] - 0s 106us/step\n",
      "647/647 [==============================] - 0s 121us/step\n",
      "510/510 [==============================] - 0s 128us/step\n",
      "510/510 [==============================] - 0s 95us/step\n",
      "1920/1920 [==============================] - 0s 103us/step\n",
      "1920/1920 [==============================] - 0s 99us/step\n",
      "753/753 [==============================] - 0s 114us/step\n",
      "753/753 [==============================] - 0s 104us/step\n",
      "874/874 [==============================] - 0s 100us/step\n",
      "874/874 [==============================] - 0s 107us/step\n",
      "2224/2224 [==============================] - 0s 101us/step\n",
      "2224/2224 [==============================] - 0s 98us/step\n",
      "1295/1295 [==============================] - 0s 102us/step\n",
      "1295/1295 [==============================] - 0s 109us/step\n"
     ]
    },
    {
     "name": "stderr",
     "output_type": "stream",
     "text": [
      "\u001b[32m[I 2020-10-31 08:26:47,414]\u001b[0m Finished trial#1 resulted in value: 1.4410373921266022. Current best value is 1.4410373921266022 with parameters: {'num_layer': 2, 'dense_num': 5, 'num_filter_0': 3.0, 'num_filter_1': 5.0, 'size_filter_0': 5.0, 'size_filter_1': 5.0, 'batch_size': 4, 'learning_rate': 0.002445060188120117, 'decay': 3.121047501570195e-06, 'dropout_rate_in': 0.2, 'dropout_rate_out': 0.5, 'momentum': 0.1, 'padding': 'valid'}.\u001b[0m\n"
     ]
    },
    {
     "name": "stdout",
     "output_type": "stream",
     "text": [
      "15439/15439 [==============================] - 1s 95us/step\n",
      "15439/15439 [==============================] - 1s 95us/step\n",
      "1185/1185 [==============================] - 0s 97us/step\n",
      "1185/1185 [==============================] - 0s 105us/step\n",
      "647/647 [==============================] - 0s 109us/step\n",
      "647/647 [==============================] - 0s 97us/step\n",
      "647/647 [==============================] - 0s 97us/step\n",
      "647/647 [==============================] - 0s 81us/step\n",
      "510/510 [==============================] - 0s 106us/step\n",
      "510/510 [==============================] - 0s 92us/step\n",
      "1920/1920 [==============================] - 0s 94us/step\n",
      "1920/1920 [==============================] - 0s 98us/step\n",
      "753/753 [==============================] - 0s 92us/step\n",
      "753/753 [==============================] - 0s 104us/step\n",
      "874/874 [==============================] - 0s 97us/step\n",
      "874/874 [==============================] - 0s 108us/step\n",
      "2224/2224 [==============================] - 0s 94us/step\n",
      "2224/2224 [==============================] - 0s 91us/step\n",
      "1295/1295 [==============================] - 0s 102us/step\n",
      "1295/1295 [==============================] - 0s 97us/step\n"
     ]
    },
    {
     "name": "stderr",
     "output_type": "stream",
     "text": [
      "\u001b[32m[I 2020-10-31 08:32:55,276]\u001b[0m Finished trial#2 resulted in value: 2.17596726340969. Current best value is 1.4410373921266022 with parameters: {'num_layer': 2, 'dense_num': 5, 'num_filter_0': 3.0, 'num_filter_1': 5.0, 'size_filter_0': 5.0, 'size_filter_1': 5.0, 'batch_size': 4, 'learning_rate': 0.002445060188120117, 'decay': 3.121047501570195e-06, 'dropout_rate_in': 0.2, 'dropout_rate_out': 0.5, 'momentum': 0.1, 'padding': 'valid'}.\u001b[0m\n"
     ]
    },
    {
     "name": "stdout",
     "output_type": "stream",
     "text": [
      "15439/15439 [==============================] - 2s 98us/step\n",
      "15439/15439 [==============================] - 2s 98us/step\n",
      "1185/1185 [==============================] - 0s 98us/step\n",
      "1185/1185 [==============================] - 0s 105us/step\n",
      "647/647 [==============================] - 0s 106us/step\n",
      "647/647 [==============================] - 0s 97us/step\n",
      "647/647 [==============================] - 0s 106us/step\n",
      "647/647 [==============================] - 0s 97us/step\n",
      "510/510 [==============================] - 0s 145us/step\n",
      "510/510 [==============================] - 0s 92us/step\n",
      "1920/1920 [==============================] - 0s 101us/step\n",
      "1920/1920 [==============================] - 0s 98us/step\n",
      "753/753 [==============================] - 0s 133us/step\n",
      "753/753 [==============================] - 0s 83us/step\n",
      "874/874 [==============================] - 0s 98us/step\n",
      "874/874 [==============================] - 0s 109us/step\n",
      "2224/2224 [==============================] - 0s 101us/step\n",
      "2224/2224 [==============================] - 0s 98us/step\n",
      "1295/1295 [==============================] - 0s 89us/step\n",
      "1295/1295 [==============================] - 0s 109us/step\n"
     ]
    },
    {
     "name": "stderr",
     "output_type": "stream",
     "text": [
      "\u001b[32m[I 2020-10-31 08:45:49,459]\u001b[0m Finished trial#3 resulted in value: 2.335652714716362. Current best value is 1.4410373921266022 with parameters: {'num_layer': 2, 'dense_num': 5, 'num_filter_0': 3.0, 'num_filter_1': 5.0, 'size_filter_0': 5.0, 'size_filter_1': 5.0, 'batch_size': 4, 'learning_rate': 0.002445060188120117, 'decay': 3.121047501570195e-06, 'dropout_rate_in': 0.2, 'dropout_rate_out': 0.5, 'momentum': 0.1, 'padding': 'valid'}.\u001b[0m\n"
     ]
    },
    {
     "name": "stdout",
     "output_type": "stream",
     "text": [
      "15439/15439 [==============================] - 1s 79us/step\n",
      "15439/15439 [==============================] - 1s 79us/step\n",
      "1185/1185 [==============================] - 0s 86us/step\n",
      "1185/1185 [==============================] - 0s 86us/step\n",
      "647/647 [==============================] - 0s 83us/step\n",
      "647/647 [==============================] - 0s 72us/step\n",
      "647/647 [==============================] - 0s 82us/step\n",
      "647/647 [==============================] - 0s 72us/step\n",
      "510/510 [==============================] - 0s 98us/step\n",
      "510/510 [==============================] - 0s 63us/step\n",
      "1920/1920 [==============================] - 0s 77us/step\n",
      "1920/1920 [==============================] - 0s 81us/step\n",
      "753/753 [==============================] - 0s 91us/step\n",
      "753/753 [==============================] - 0s 83us/step\n",
      "874/874 [==============================] - 0s 80us/step\n",
      "874/874 [==============================] - 0s 89us/step\n",
      "2224/2224 [==============================] - 0s 88us/step\n",
      "2224/2224 [==============================] - 0s 77us/step\n",
      "1295/1295 [==============================] - 0s 78us/step\n",
      "1295/1295 [==============================] - 0s 72us/step\n"
     ]
    },
    {
     "name": "stderr",
     "output_type": "stream",
     "text": [
      "\u001b[32m[I 2020-10-31 08:49:08,163]\u001b[0m Finished trial#4 resulted in value: 1.6567531776688653. Current best value is 1.4410373921266022 with parameters: {'num_layer': 2, 'dense_num': 5, 'num_filter_0': 3.0, 'num_filter_1': 5.0, 'size_filter_0': 5.0, 'size_filter_1': 5.0, 'batch_size': 4, 'learning_rate': 0.002445060188120117, 'decay': 3.121047501570195e-06, 'dropout_rate_in': 0.2, 'dropout_rate_out': 0.5, 'momentum': 0.1, 'padding': 'valid'}.\u001b[0m\n",
      "\u001b[32m[I 2020-10-31 08:50:02,548]\u001b[0m Setting status of trial#5 as TrialState.PRUNED. Trial was pruned at epoch 1.\u001b[0m\n",
      "\u001b[32m[I 2020-10-31 08:50:09,331]\u001b[0m Setting status of trial#6 as TrialState.PRUNED. Trial was pruned at epoch 1.\u001b[0m\n",
      "\u001b[32m[I 2020-10-31 08:50:15,722]\u001b[0m Setting status of trial#7 as TrialState.PRUNED. Trial was pruned at epoch 1.\u001b[0m\n"
     ]
    },
    {
     "name": "stdout",
     "output_type": "stream",
     "text": [
      "1776/1776 [==============================] - 0s 107us/step\n",
      "accuracy is 0.5608108043670654\n",
      "outer_cv_5_processing....\n",
      "14000/14000 [==============================] - 1s 75us/step\n",
      "14000/14000 [==============================] - 1s 76us/step\n",
      "647/647 [==============================] - 0s 85us/step\n",
      "647/647 [==============================] - 0s 97us/step\n",
      "880/880 [==============================] - 0s 64us/step\n",
      "880/880 [==============================] - 0s 89us/step\n",
      "1905/1905 [==============================] - 0s 77us/step\n",
      "1905/1905 [==============================] - 0s 79us/step\n",
      "1770/1770 [==============================] - 0s 74us/step\n",
      "1770/1770 [==============================] - 0s 79us/step\n",
      "753/753 [==============================] - 0s 93us/step\n",
      "753/753 [==============================] - 0s 62us/step\n",
      "647/647 [==============================] - 0s 85us/step\n",
      "647/647 [==============================] - 0s 72us/step\n",
      "1295/1295 [==============================] - 0s 77us/step\n",
      "1295/1295 [==============================] - 0s 72us/step\n",
      "510/510 [==============================] - 0s 86us/step\n",
      "510/510 [==============================] - 0s 63us/step\n",
      "1185/1185 [==============================] - 0s 86us/step\n",
      "1185/1185 [==============================] - 0s 79us/step\n"
     ]
    },
    {
     "name": "stderr",
     "output_type": "stream",
     "text": [
      "\u001b[32m[I 2020-10-31 08:56:56,031]\u001b[0m Finished trial#0 resulted in value: 2.066334585257262. Current best value is 2.066334585257262 with parameters: {'num_layer': 2, 'dense_num': 3, 'num_filter_0': 3.0, 'num_filter_1': 4.0, 'size_filter_0': 3.0, 'size_filter_1': 3.0, 'batch_size': 4, 'learning_rate': 1.8990182029346474e-05, 'decay': 1.066458965871621e-06, 'dropout_rate_in': 0.30000000000000004, 'dropout_rate_out': 0.1, 'momentum': 1.0, 'padding': 'same'}.\u001b[0m\n"
     ]
    },
    {
     "name": "stdout",
     "output_type": "stream",
     "text": [
      "14000/14000 [==============================] - 1s 75us/step\n",
      "14000/14000 [==============================] - 1s 74us/step\n",
      "647/647 [==============================] - 0s 100us/step\n",
      "647/647 [==============================] - 0s 74us/step\n",
      "880/880 [==============================] - 0s 80us/step\n",
      "880/880 [==============================] - 0s 71us/step\n",
      "1905/1905 [==============================] - 0s 77us/step\n",
      "1905/1905 [==============================] - 0s 77us/step\n",
      "1770/1770 [==============================] - 0s 75us/step\n",
      "1770/1770 [==============================] - 0s 71us/step\n",
      "753/753 [==============================] - 0s 92us/step\n",
      "753/753 [==============================] - 0s 62us/step\n",
      "647/647 [==============================] - 0s 101us/step\n",
      "647/647 [==============================] - 0s 75us/step\n",
      "1295/1295 [==============================] - 0s 77us/step\n",
      "1295/1295 [==============================] - 0s 72us/step\n",
      "510/510 [==============================] - 0s 78us/step\n",
      "510/510 [==============================] - 0s 64us/step\n",
      "1185/1185 [==============================] - 0s 72us/step\n",
      "1185/1185 [==============================] - 0s 79us/step\n"
     ]
    },
    {
     "name": "stderr",
     "output_type": "stream",
     "text": [
      "\u001b[32m[I 2020-10-31 09:02:26,206]\u001b[0m Finished trial#1 resulted in value: 1.9779192264797847. Current best value is 1.9779192264797847 with parameters: {'num_layer': 2, 'dense_num': 5, 'num_filter_0': 2.0, 'num_filter_1': 2.0, 'size_filter_0': 5.0, 'size_filter_1': 5.0, 'batch_size': 4, 'learning_rate': 0.0004620111517498684, 'decay': 1.458625493353673e-06, 'dropout_rate_in': 0.0, 'dropout_rate_out': 0.0, 'momentum': 0.0, 'padding': 'same'}.\u001b[0m\n"
     ]
    },
    {
     "name": "stdout",
     "output_type": "stream",
     "text": [
      "14000/14000 [==============================] - 1s 95us/step\n",
      "14000/14000 [==============================] - 1s 94us/step\n",
      "647/647 [==============================] - 0s 85us/step\n",
      "647/647 [==============================] - 0s 97us/step\n",
      "880/880 [==============================] - 0s 97us/step\n",
      "880/880 [==============================] - 0s 89us/step\n",
      "1905/1905 [==============================] - 0s 102us/step\n",
      "1905/1905 [==============================] - 0s 90us/step\n",
      "1770/1770 [==============================] - 0s 93us/step\n",
      "1770/1770 [==============================] - 0s 97us/step\n",
      "753/753 [==============================] - 0s 112us/step\n",
      "753/753 [==============================] - 0s 83us/step\n",
      "647/647 [==============================] - 0s 106us/step\n",
      "647/647 [==============================] - 0s 97us/step\n",
      "1295/1295 [==============================] - 0s 91us/step\n",
      "1295/1295 [==============================] - 0s 104us/step\n",
      "510/510 [==============================] - 0s 105us/step\n",
      "510/510 [==============================] - 0s 92us/step\n",
      "1185/1185 [==============================] - 0s 111us/step\n",
      "1185/1185 [==============================] - 0s 92us/step\n"
     ]
    },
    {
     "name": "stderr",
     "output_type": "stream",
     "text": [
      "\u001b[32m[I 2020-10-31 09:05:47,397]\u001b[0m Finished trial#2 resulted in value: 2.1845807419358705. Current best value is 1.9779192264797847 with parameters: {'num_layer': 2, 'dense_num': 5, 'num_filter_0': 2.0, 'num_filter_1': 2.0, 'size_filter_0': 5.0, 'size_filter_1': 5.0, 'batch_size': 4, 'learning_rate': 0.0004620111517498684, 'decay': 1.458625493353673e-06, 'dropout_rate_in': 0.0, 'dropout_rate_out': 0.0, 'momentum': 0.0, 'padding': 'same'}.\u001b[0m\n"
     ]
    },
    {
     "name": "stdout",
     "output_type": "stream",
     "text": [
      "14000/14000 [==============================] - 1s 100us/step\n",
      "14000/14000 [==============================] - 1s 101us/step\n",
      "647/647 [==============================] - 0s 86us/step\n",
      "647/647 [==============================] - 0s 97us/step\n",
      "880/880 [==============================] - 0s 114us/step\n",
      "880/880 [==============================] - 0s 105us/step\n",
      "1905/1905 [==============================] - 0s 95us/step\n",
      "1905/1905 [==============================] - 0s 98us/step\n",
      "1770/1770 [==============================] - 0s 102us/step\n",
      "1770/1770 [==============================] - 0s 97us/step\n",
      "753/753 [==============================] - 0s 113us/step\n",
      "753/753 [==============================] - 0s 104us/step\n",
      "647/647 [==============================] - 0s 107us/step\n",
      "647/647 [==============================] - 0s 121us/step\n",
      "1295/1295 [==============================] - 0s 103us/step\n",
      "1295/1295 [==============================] - 0s 103us/step\n",
      "510/510 [==============================] - 0s 100us/step\n",
      "510/510 [==============================] - 0s 93us/step\n",
      "1185/1185 [==============================] - 0s 97us/step\n",
      "1185/1185 [==============================] - 0s 105us/step\n"
     ]
    },
    {
     "name": "stderr",
     "output_type": "stream",
     "text": [
      "\u001b[32m[I 2020-10-31 09:11:44,688]\u001b[0m Finished trial#3 resulted in value: 1.8754764689260064. Current best value is 1.8754764689260064 with parameters: {'num_layer': 2, 'dense_num': 3, 'num_filter_0': 2.0, 'num_filter_1': 5.0, 'size_filter_0': 5.0, 'size_filter_1': 5.0, 'batch_size': 4, 'learning_rate': 0.0026997115976416324, 'decay': 0.0006658038190307555, 'dropout_rate_in': 0.4, 'dropout_rate_out': 0.5, 'momentum': 0.6000000000000001, 'padding': 'same'}.\u001b[0m\n"
     ]
    },
    {
     "name": "stdout",
     "output_type": "stream",
     "text": [
      "14000/14000 [==============================] - 1s 72us/step\n",
      "14000/14000 [==============================] - 1s 73us/step\n",
      "647/647 [==============================] - 0s 76us/step\n",
      "647/647 [==============================] - 0s 77us/step\n",
      "880/880 [==============================] - 0s 73us/step\n",
      "880/880 [==============================] - 0s 75us/step\n",
      "1905/1905 [==============================] - 0s 69us/step\n",
      "1905/1905 [==============================] - 0s 74us/step\n",
      "1770/1770 [==============================] - 0s 74us/step\n",
      "1770/1770 [==============================] - 0s 71us/step\n",
      "753/753 [==============================] - 0s 70us/step\n",
      "753/753 [==============================] - 0s 83us/step\n",
      "647/647 [==============================] - 0s 97us/step\n",
      "647/647 [==============================] - 0s 74us/step\n",
      "1295/1295 [==============================] - 0s 78us/step\n",
      "1295/1295 [==============================] - 0s 72us/step\n",
      "510/510 [==============================] - 0s 90us/step\n",
      "510/510 [==============================] - 0s 63us/step\n",
      "1185/1185 [==============================] - 0s 85us/step\n",
      "1185/1185 [==============================] - 0s 79us/step\n"
     ]
    },
    {
     "name": "stderr",
     "output_type": "stream",
     "text": [
      "\u001b[32m[I 2020-10-31 09:33:26,104]\u001b[0m Finished trial#4 resulted in value: 1.5179967672098607. Current best value is 1.5179967672098607 with parameters: {'num_layer': 2, 'dense_num': 2, 'num_filter_0': 4.0, 'num_filter_1': 4.0, 'size_filter_0': 3.0, 'size_filter_1': 3.0, 'batch_size': 2, 'learning_rate': 0.008956625701912831, 'decay': 3.825604092936852e-05, 'dropout_rate_in': 0.2, 'dropout_rate_out': 0.5, 'momentum': 0.8, 'padding': 'valid'}.\u001b[0m\n",
      "\u001b[32m[I 2020-10-31 09:33:30,426]\u001b[0m Setting status of trial#5 as TrialState.PRUNED. Trial was pruned at epoch 1.\u001b[0m\n"
     ]
    },
    {
     "name": "stdout",
     "output_type": "stream",
     "text": [
      "14000/14000 [==============================] - 1s 81us/step\n",
      "14000/14000 [==============================] - 1s 81us/step\n",
      "647/647 [==============================] - 0s 83us/step\n",
      "647/647 [==============================] - 0s 72us/step\n",
      "880/880 [==============================] - 0s 80us/step\n",
      "880/880 [==============================] - 0s 89us/step\n",
      "1905/1905 [==============================] - 0s 88us/step\n",
      "1905/1905 [==============================] - 0s 82us/step\n",
      "1770/1770 [==============================] - 0s 83us/step\n",
      "1770/1770 [==============================] - 0s 79us/step\n",
      "753/753 [==============================] - 0s 93us/step\n",
      "753/753 [==============================] - 0s 83us/step\n",
      "647/647 [==============================] - 0s 83us/step\n",
      "647/647 [==============================] - 0s 72us/step\n",
      "1295/1295 [==============================] - 0s 89us/step\n",
      "1295/1295 [==============================] - 0s 84us/step\n",
      "510/510 [==============================] - 0s 102us/step\n",
      "510/510 [==============================] - 0s 64us/step\n",
      "1185/1185 [==============================] - 0s 85us/step\n",
      "1185/1185 [==============================] - 0s 92us/step\n"
     ]
    },
    {
     "name": "stderr",
     "output_type": "stream",
     "text": [
      "\u001b[32m[I 2020-10-31 09:36:17,919]\u001b[0m Finished trial#6 resulted in value: 1.58395256746156. Current best value is 1.5179967672098607 with parameters: {'num_layer': 2, 'dense_num': 2, 'num_filter_0': 4.0, 'num_filter_1': 4.0, 'size_filter_0': 3.0, 'size_filter_1': 3.0, 'batch_size': 2, 'learning_rate': 0.008956625701912831, 'decay': 3.825604092936852e-05, 'dropout_rate_in': 0.2, 'dropout_rate_out': 0.5, 'momentum': 0.8, 'padding': 'valid'}.\u001b[0m\n"
     ]
    },
    {
     "name": "stdout",
     "output_type": "stream",
     "text": [
      "14000/14000 [==============================] - 1s 64us/step\n",
      "14000/14000 [==============================] - 1s 66us/step\n",
      "647/647 [==============================] - 0s 69us/step\n",
      "647/647 [==============================] - 0s 50us/step\n",
      "880/880 [==============================] - 0s 62us/step\n",
      "880/880 [==============================] - 0s 71us/step\n",
      "1905/1905 [==============================] - 0s 61us/step\n",
      "1905/1905 [==============================] - 0s 66us/step\n",
      "1770/1770 [==============================] - 0s 66us/step\n",
      "1770/1770 [==============================] - 0s 62us/step\n",
      "753/753 [==============================] - 0s 66us/step\n",
      "753/753 [==============================] - 0s 64us/step\n",
      "647/647 [==============================] - 0s 72us/step\n",
      "647/647 [==============================] - 0s 50us/step\n",
      "1295/1295 [==============================] - 0s 66us/step\n",
      "1295/1295 [==============================] - 0s 60us/step\n",
      "510/510 [==============================] - 0s 66us/step\n",
      "510/510 [==============================] - 0s 64us/step\n",
      "1185/1185 [==============================] - 0s 73us/step\n",
      "1185/1185 [==============================] - 0s 66us/step\n"
     ]
    },
    {
     "name": "stderr",
     "output_type": "stream",
     "text": [
      "\u001b[32m[I 2020-10-31 09:41:26,361]\u001b[0m Finished trial#7 resulted in value: 1.9621372411282105. Current best value is 1.5179967672098607 with parameters: {'num_layer': 2, 'dense_num': 2, 'num_filter_0': 4.0, 'num_filter_1': 4.0, 'size_filter_0': 3.0, 'size_filter_1': 3.0, 'batch_size': 2, 'learning_rate': 0.008956625701912831, 'decay': 3.825604092936852e-05, 'dropout_rate_in': 0.2, 'dropout_rate_out': 0.5, 'momentum': 0.8, 'padding': 'valid'}.\u001b[0m\n"
     ]
    },
    {
     "name": "stdout",
     "output_type": "stream",
     "text": [
      "3678/3678 [==============================] - 0s 91us/step\n",
      "accuracy is 0.4328439235687256\n",
      "outer_cv_6_processing....\n",
      "13372/13372 [==============================] - 1s 84us/step\n",
      "13372/13372 [==============================] - 1s 82us/step\n",
      "753/753 [==============================] - 0s 113us/step\n",
      "753/753 [==============================] - 0s 83us/step\n",
      "679/679 [==============================] - 0s 81us/step\n",
      "679/679 [==============================] - 0s 92us/step\n",
      "2642/2642 [==============================] - 0s 86us/step\n",
      "2642/2642 [==============================] - 0s 83us/step\n",
      "1073/1073 [==============================] - 0s 81us/step\n",
      "1073/1073 [==============================] - 0s 87us/step\n",
      "511/511 [==============================] - 0s 140us/step\n",
      "511/511 [==============================] - 0s 62us/step\n",
      "1530/1530 [==============================] - 0s 96us/step\n",
      "1530/1530 [==============================] - 0s 88us/step\n",
      "1154/1154 [==============================] - 0s 74us/step\n",
      "1154/1154 [==============================] - 0s 81us/step\n",
      "647/647 [==============================] - 0s 105us/step\n",
      "647/647 [==============================] - 0s 73us/step\n",
      "3724/3724 [==============================] - 0s 86us/step\n",
      "3724/3724 [==============================] - 0s 84us/step\n"
     ]
    },
    {
     "name": "stderr",
     "output_type": "stream",
     "text": [
      "\u001b[32m[I 2020-10-31 10:08:00,772]\u001b[0m Finished trial#0 resulted in value: 1.651600256051512. Current best value is 1.651600256051512 with parameters: {'num_layer': 2, 'dense_num': 4, 'num_filter_0': 2.0, 'num_filter_1': 3.0, 'size_filter_0': 5.0, 'size_filter_1': 5.0, 'batch_size': 2, 'learning_rate': 0.000138535887184045, 'decay': 3.9576137599589426e-05, 'dropout_rate_in': 0.1, 'dropout_rate_out': 0.1, 'momentum': 0.7000000000000001, 'padding': 'valid'}.\u001b[0m\n"
     ]
    },
    {
     "name": "stdout",
     "output_type": "stream",
     "text": [
      "13372/13372 [==============================] - 1s 85us/step\n",
      "13372/13372 [==============================] - 1s 86us/step\n",
      "753/753 [==============================] - 0s 92us/step\n",
      "753/753 [==============================] - 0s 104us/step\n",
      "679/679 [==============================] - 0s 81us/step\n",
      "679/679 [==============================] - 0s 102us/step\n",
      "2642/2642 [==============================] - 0s 91us/step\n",
      "2642/2642 [==============================] - 0s 89us/step\n",
      "1073/1073 [==============================] - 0s 94us/step\n",
      "1073/1073 [==============================] - 0s 87us/step\n",
      "511/511 [==============================] - 0s 105us/step\n",
      "511/511 [==============================] - 0s 62us/step\n",
      "1530/1530 [==============================] - 0s 95us/step\n",
      "1530/1530 [==============================] - 0s 82us/step\n",
      "1154/1154 [==============================] - 0s 88us/step\n",
      "1154/1154 [==============================] - 0s 95us/step\n",
      "647/647 [==============================] - 0s 81us/step\n",
      "647/647 [==============================] - 0s 97us/step\n",
      "3724/3724 [==============================] - 0s 86us/step\n",
      "3724/3724 [==============================] - 0s 88us/step\n"
     ]
    },
    {
     "name": "stderr",
     "output_type": "stream",
     "text": [
      "\u001b[32m[I 2020-10-31 10:11:10,646]\u001b[0m Finished trial#1 resulted in value: 2.226255178215654. Current best value is 1.651600256051512 with parameters: {'num_layer': 2, 'dense_num': 4, 'num_filter_0': 2.0, 'num_filter_1': 3.0, 'size_filter_0': 5.0, 'size_filter_1': 5.0, 'batch_size': 2, 'learning_rate': 0.000138535887184045, 'decay': 3.9576137599589426e-05, 'dropout_rate_in': 0.1, 'dropout_rate_out': 0.1, 'momentum': 0.7000000000000001, 'padding': 'valid'}.\u001b[0m\n"
     ]
    },
    {
     "name": "stdout",
     "output_type": "stream",
     "text": [
      "13372/13372 [==============================] - 1s 80us/step\n",
      "13372/13372 [==============================] - 1s 80us/step\n",
      "753/753 [==============================] - 0s 92us/step\n",
      "753/753 [==============================] - 0s 83us/step\n",
      "679/679 [==============================] - 0s 78us/step\n",
      "679/679 [==============================] - 0s 92us/step\n",
      "2642/2642 [==============================] - 0s 79us/step\n",
      "2642/2642 [==============================] - 0s 89us/step\n",
      "1073/1073 [==============================] - 0s 78us/step\n",
      "1073/1073 [==============================] - 0s 87us/step\n",
      "511/511 [==============================] - 0s 120us/step\n",
      "511/511 [==============================] - 0s 63us/step\n",
      "1530/1530 [==============================] - 0s 96us/step\n",
      "1530/1530 [==============================] - 0s 82us/step\n",
      "1154/1154 [==============================] - 0s 86us/step\n",
      "1154/1154 [==============================] - 0s 96us/step\n",
      "647/647 [==============================] - 0s 106us/step\n",
      "647/647 [==============================] - 0s 72us/step\n",
      "3724/3724 [==============================] - 0s 86us/step\n",
      "3724/3724 [==============================] - 0s 81us/step\n"
     ]
    },
    {
     "name": "stderr",
     "output_type": "stream",
     "text": [
      "\u001b[32m[I 2020-10-31 10:32:34,482]\u001b[0m Finished trial#2 resulted in value: 2.3098784048548304. Current best value is 1.651600256051512 with parameters: {'num_layer': 2, 'dense_num': 4, 'num_filter_0': 2.0, 'num_filter_1': 3.0, 'size_filter_0': 5.0, 'size_filter_1': 5.0, 'batch_size': 2, 'learning_rate': 0.000138535887184045, 'decay': 3.9576137599589426e-05, 'dropout_rate_in': 0.1, 'dropout_rate_out': 0.1, 'momentum': 0.7000000000000001, 'padding': 'valid'}.\u001b[0m\n"
     ]
    },
    {
     "name": "stdout",
     "output_type": "stream",
     "text": [
      "13372/13372 [==============================] - 1s 75us/step\n",
      "13372/13372 [==============================] - 1s 75us/step\n",
      "753/753 [==============================] - 0s 93us/step\n",
      "753/753 [==============================] - 0s 62us/step\n",
      "679/679 [==============================] - 0s 82us/step\n",
      "679/679 [==============================] - 0s 69us/step\n",
      "2642/2642 [==============================] - 0s 74us/step\n",
      "2642/2642 [==============================] - 0s 71us/step\n",
      "1073/1073 [==============================] - 0s 80us/step\n",
      "1073/1073 [==============================] - 0s 87us/step\n",
      "511/511 [==============================] - 0s 88us/step\n",
      "511/511 [==============================] - 0s 64us/step\n",
      "1530/1530 [==============================] - 0s 76us/step\n",
      "1530/1530 [==============================] - 0s 82us/step\n",
      "1154/1154 [==============================] - 0s 88us/step\n",
      "1154/1154 [==============================] - 0s 68us/step\n",
      "647/647 [==============================] - 0s 96us/step\n",
      "647/647 [==============================] - 0s 61us/step\n",
      "3724/3724 [==============================] - 0s 73us/step\n",
      "3724/3724 [==============================] - 0s 76us/step\n"
     ]
    },
    {
     "name": "stderr",
     "output_type": "stream",
     "text": [
      "\u001b[32m[I 2020-10-31 10:38:56,450]\u001b[0m Finished trial#3 resulted in value: 1.8944439031397962. Current best value is 1.651600256051512 with parameters: {'num_layer': 2, 'dense_num': 4, 'num_filter_0': 2.0, 'num_filter_1': 3.0, 'size_filter_0': 5.0, 'size_filter_1': 5.0, 'batch_size': 2, 'learning_rate': 0.000138535887184045, 'decay': 3.9576137599589426e-05, 'dropout_rate_in': 0.1, 'dropout_rate_out': 0.1, 'momentum': 0.7000000000000001, 'padding': 'valid'}.\u001b[0m\n"
     ]
    },
    {
     "name": "stdout",
     "output_type": "stream",
     "text": [
      "13372/13372 [==============================] - 1s 76us/step\n",
      "13372/13372 [==============================] - 1s 76us/step\n",
      "753/753 [==============================] - 0s 72us/step\n",
      "753/753 [==============================] - 0s 83us/step\n",
      "679/679 [==============================] - 0s 79us/step\n",
      "679/679 [==============================] - 0s 69us/step\n",
      "2642/2642 [==============================] - 0s 78us/step\n",
      "2642/2642 [==============================] - 0s 72us/step\n",
      "1073/1073 [==============================] - 0s 81us/step\n",
      "1073/1073 [==============================] - 0s 85us/step\n",
      "511/511 [==============================] - 0s 76us/step\n",
      "511/511 [==============================] - 0s 63us/step\n",
      "1530/1530 [==============================] - 0s 71us/step\n",
      "1530/1530 [==============================] - 0s 82us/step\n",
      "1154/1154 [==============================] - 0s 73us/step\n",
      "1154/1154 [==============================] - 0s 81us/step\n",
      "647/647 [==============================] - 0s 77us/step\n",
      "647/647 [==============================] - 0s 74us/step\n",
      "3724/3724 [==============================] - 0s 73us/step\n",
      "3724/3724 [==============================] - 0s 74us/step\n"
     ]
    },
    {
     "name": "stderr",
     "output_type": "stream",
     "text": [
      "\u001b[32m[I 2020-10-31 10:42:09,214]\u001b[0m Finished trial#4 resulted in value: 2.2349173907644526. Current best value is 1.651600256051512 with parameters: {'num_layer': 2, 'dense_num': 4, 'num_filter_0': 2.0, 'num_filter_1': 3.0, 'size_filter_0': 5.0, 'size_filter_1': 5.0, 'batch_size': 2, 'learning_rate': 0.000138535887184045, 'decay': 3.9576137599589426e-05, 'dropout_rate_in': 0.1, 'dropout_rate_out': 0.1, 'momentum': 0.7000000000000001, 'padding': 'valid'}.\u001b[0m\n"
     ]
    },
    {
     "name": "stdout",
     "output_type": "stream",
     "text": [
      "13372/13372 [==============================] - 1s 65us/step\n",
      "13372/13372 [==============================] - 1s 64us/step\n",
      "753/753 [==============================] - 0s 70us/step\n",
      "753/753 [==============================] - 0s 62us/step\n",
      "679/679 [==============================] - 0s 82us/step\n",
      "679/679 [==============================] - 0s 69us/step\n",
      "2642/2642 [==============================] - 0s 67us/step\n",
      "2642/2642 [==============================] - 0s 65us/step\n",
      "1073/1073 [==============================] - 0s 66us/step\n",
      "1073/1073 [==============================] - 0s 73us/step\n",
      "511/511 [==============================] - 0s 90us/step\n",
      "511/511 [==============================] - 0s 63us/step\n",
      "1530/1530 [==============================] - 0s 66us/step\n",
      "1530/1530 [==============================] - 0s 71us/step\n",
      "1154/1154 [==============================] - 0s 74us/step\n",
      "1154/1154 [==============================] - 0s 68us/step\n",
      "647/647 [==============================] - 0s 89us/step\n",
      "647/647 [==============================] - 0s 50us/step\n",
      "3724/3724 [==============================] - 0s 65us/step\n",
      "3724/3724 [==============================] - 0s 67us/step\n"
     ]
    },
    {
     "name": "stderr",
     "output_type": "stream",
     "text": [
      "\u001b[32m[I 2020-10-31 11:05:22,603]\u001b[0m Finished trial#5 resulted in value: 3.824974451103517. Current best value is 1.651600256051512 with parameters: {'num_layer': 2, 'dense_num': 4, 'num_filter_0': 2.0, 'num_filter_1': 3.0, 'size_filter_0': 5.0, 'size_filter_1': 5.0, 'batch_size': 2, 'learning_rate': 0.000138535887184045, 'decay': 3.9576137599589426e-05, 'dropout_rate_in': 0.1, 'dropout_rate_out': 0.1, 'momentum': 0.7000000000000001, 'padding': 'valid'}.\u001b[0m\n"
     ]
    },
    {
     "name": "stdout",
     "output_type": "stream",
     "text": [
      "13372/13372 [==============================] - 1s 87us/step\n",
      "13372/13372 [==============================] - 1s 86us/step\n",
      "753/753 [==============================] - 0s 74us/step\n",
      "753/753 [==============================] - 0s 83us/step\n",
      "679/679 [==============================] - 0s 79us/step\n",
      "679/679 [==============================] - 0s 92us/step\n",
      "2642/2642 [==============================] - 0s 85us/step\n",
      "2642/2642 [==============================] - 0s 83us/step\n",
      "1073/1073 [==============================] - 0s 94us/step\n",
      "1073/1073 [==============================] - 0s 99us/step\n",
      "511/511 [==============================] - 0s 89us/step\n",
      "511/511 [==============================] - 0s 62us/step\n",
      "1530/1530 [==============================] - 0s 97us/step\n",
      "1530/1530 [==============================] - 0s 82us/step\n",
      "1154/1154 [==============================] - 0s 88us/step\n",
      "1154/1154 [==============================] - 0s 81us/step\n",
      "647/647 [==============================] - 0s 82us/step\n",
      "647/647 [==============================] - 0s 97us/step\n",
      "3724/3724 [==============================] - 0s 88us/step\n",
      "3724/3724 [==============================] - 0s 88us/step\n"
     ]
    },
    {
     "name": "stderr",
     "output_type": "stream",
     "text": [
      "\u001b[32m[I 2020-10-31 11:08:15,535]\u001b[0m Finished trial#6 resulted in value: 1.6833447464278346. Current best value is 1.651600256051512 with parameters: {'num_layer': 2, 'dense_num': 4, 'num_filter_0': 2.0, 'num_filter_1': 3.0, 'size_filter_0': 5.0, 'size_filter_1': 5.0, 'batch_size': 2, 'learning_rate': 0.000138535887184045, 'decay': 3.9576137599589426e-05, 'dropout_rate_in': 0.1, 'dropout_rate_out': 0.1, 'momentum': 0.7000000000000001, 'padding': 'valid'}.\u001b[0m\n",
      "\u001b[32m[I 2020-10-31 11:08:41,642]\u001b[0m Setting status of trial#7 as TrialState.PRUNED. Trial was pruned at epoch 1.\u001b[0m\n"
     ]
    },
    {
     "name": "stdout",
     "output_type": "stream",
     "text": [
      "1185/1185 [==============================] - 0s 95us/step\n",
      "accuracy is 0.3940928280353546\n",
      "outer_cv_7_processing....\n",
      "3678/3678 [==============================] - 0s 96us/step\n",
      "3678/3678 [==============================] - 0s 99us/step\n",
      "659/659 [==============================] - 0s 108us/step\n",
      "659/659 [==============================] - 0s 95us/step\n",
      "753/753 [==============================] - 0s 113us/step\n",
      "753/753 [==============================] - 0s 104us/step\n",
      "1686/1686 [==============================] - 0s 116us/step\n",
      "1686/1686 [==============================] - 0s 107us/step\n",
      "1185/1185 [==============================] - 0s 98us/step\n",
      "1185/1185 [==============================] - 0s 105us/step\n",
      "1905/1905 [==============================] - 0s 102us/step\n",
      "1905/1905 [==============================] - 0s 98us/step\n",
      "954/954 [==============================] - 0s 104us/step\n",
      "954/954 [==============================] - 0s 98us/step\n",
      "511/511 [==============================] - 0s 107us/step\n",
      "511/511 [==============================] - 0s 119us/step\n",
      "1292/1292 [==============================] - 0s 102us/step\n",
      "1292/1292 [==============================] - 0s 97us/step\n",
      "14000/14000 [==============================] - 1s 107us/step\n",
      "14000/14000 [==============================] - 1s 104us/step\n"
     ]
    },
    {
     "name": "stderr",
     "output_type": "stream",
     "text": [
      "\u001b[32m[I 2020-10-31 11:18:41,248]\u001b[0m Finished trial#0 resulted in value: 1.2987510069427652. Current best value is 1.2987510069427652 with parameters: {'num_layer': 2, 'dense_num': 5, 'num_filter_0': 5.0, 'num_filter_1': 4.0, 'size_filter_0': 3.0, 'size_filter_1': 5.0, 'batch_size': 4, 'learning_rate': 0.006704896743132046, 'decay': 0.0002447549381462977, 'dropout_rate_in': 0.0, 'dropout_rate_out': 0.30000000000000004, 'momentum': 0.30000000000000004, 'padding': 'same'}.\u001b[0m\n"
     ]
    },
    {
     "name": "stdout",
     "output_type": "stream",
     "text": [
      "3678/3678 [==============================] - 0s 79us/step\n",
      "3678/3678 [==============================] - 0s 81us/step\n",
      "659/659 [==============================] - 0s 81us/step\n",
      "659/659 [==============================] - 0s 95us/step\n",
      "753/753 [==============================] - 0s 72us/step\n",
      "753/753 [==============================] - 0s 83us/step\n",
      "1686/1686 [==============================] - 0s 78us/step\n",
      "1686/1686 [==============================] - 0s 83us/step\n",
      "1185/1185 [==============================] - 0s 85us/step\n",
      "1185/1185 [==============================] - 0s 79us/step\n",
      "1905/1905 [==============================] - 0s 86us/step\n",
      "1905/1905 [==============================] - 0s 74us/step\n",
      "954/954 [==============================] - 0s 90us/step\n",
      "954/954 [==============================] - 0s 82us/step\n",
      "511/511 [==============================] - 0s 99us/step\n",
      "511/511 [==============================] - 0s 64us/step\n",
      "1292/1292 [==============================] - 0s 77us/step\n",
      "1292/1292 [==============================] - 0s 85us/step\n",
      "14000/14000 [==============================] - 1s 81us/step\n",
      "14000/14000 [==============================] - 1s 80us/step\n"
     ]
    },
    {
     "name": "stderr",
     "output_type": "stream",
     "text": [
      "\u001b[32m[I 2020-10-31 11:41:39,846]\u001b[0m Finished trial#1 resulted in value: 2.4692826548167766. Current best value is 1.2987510069427652 with parameters: {'num_layer': 2, 'dense_num': 5, 'num_filter_0': 5.0, 'num_filter_1': 4.0, 'size_filter_0': 3.0, 'size_filter_1': 5.0, 'batch_size': 4, 'learning_rate': 0.006704896743132046, 'decay': 0.0002447549381462977, 'dropout_rate_in': 0.0, 'dropout_rate_out': 0.30000000000000004, 'momentum': 0.30000000000000004, 'padding': 'same'}.\u001b[0m\n"
     ]
    },
    {
     "name": "stdout",
     "output_type": "stream",
     "text": [
      "3678/3678 [==============================] - 0s 104us/step\n",
      "3678/3678 [==============================] - 0s 100us/step\n",
      "659/659 [==============================] - 0s 130us/step\n",
      "659/659 [==============================] - 0s 95us/step\n",
      "753/753 [==============================] - 0s 116us/step\n",
      "753/753 [==============================] - 0s 104us/step\n",
      "1686/1686 [==============================] - 0s 108us/step\n",
      "1686/1686 [==============================] - 0s 93us/step\n",
      "1185/1185 [==============================] - 0s 85us/step\n",
      "1185/1185 [==============================] - 0s 93us/step\n",
      "1905/1905 [==============================] - 0s 93us/step\n",
      "1905/1905 [==============================] - 0s 90us/step\n",
      "954/954 [==============================] - 0s 136us/step\n",
      "954/954 [==============================] - 0s 106us/step\n",
      "511/511 [==============================] - 0s 178us/step\n",
      "511/511 [==============================] - 0s 95us/step\n",
      "1292/1292 [==============================] - 0s 100us/step\n",
      "1292/1292 [==============================] - 0s 103us/step\n",
      "14000/14000 [==============================] - 1s 100us/step\n",
      "14000/14000 [==============================] - 1s 97us/step\n"
     ]
    },
    {
     "name": "stderr",
     "output_type": "stream",
     "text": [
      "\u001b[32m[I 2020-10-31 11:55:45,756]\u001b[0m Finished trial#2 resulted in value: 1.0997389460273617. Current best value is 1.0997389460273617 with parameters: {'num_layer': 2, 'dense_num': 2, 'num_filter_0': 5.0, 'num_filter_1': 5.0, 'size_filter_0': 5.0, 'size_filter_1': 3.0, 'batch_size': 3, 'learning_rate': 0.004776391862704719, 'decay': 1.0115860822188755e-06, 'dropout_rate_in': 0.1, 'dropout_rate_out': 0.0, 'momentum': 0.7000000000000001, 'padding': 'valid'}.\u001b[0m\n"
     ]
    },
    {
     "name": "stdout",
     "output_type": "stream",
     "text": [
      "3678/3678 [==============================] - 0s 67us/step\n",
      "3678/3678 [==============================] - 0s 67us/step\n",
      "659/659 [==============================] - 0s 89us/step\n",
      "659/659 [==============================] - 0s 74us/step\n",
      "753/753 [==============================] - 0s 83us/step\n",
      "753/753 [==============================] - 0s 62us/step\n",
      "1686/1686 [==============================] - 0s 68us/step\n",
      "1686/1686 [==============================] - 0s 65us/step\n",
      "1185/1185 [==============================] - 0s 72us/step\n",
      "1185/1185 [==============================] - 0s 69us/step\n",
      "1905/1905 [==============================] - 0s 72us/step\n",
      "1905/1905 [==============================] - 0s 69us/step\n",
      "954/954 [==============================] - 0s 70us/step\n",
      "954/954 [==============================] - 0s 71us/step\n",
      "511/511 [==============================] - 0s 72us/step\n",
      "511/511 [==============================] - 0s 86us/step\n",
      "1292/1292 [==============================] - 0s 69us/step\n",
      "1292/1292 [==============================] - 0s 68us/step\n",
      "14000/14000 [==============================] - 1s 69us/step\n",
      "14000/14000 [==============================] - 1s 69us/step\n"
     ]
    },
    {
     "name": "stderr",
     "output_type": "stream",
     "text": [
      "\u001b[32m[I 2020-10-31 12:18:24,465]\u001b[0m Finished trial#3 resulted in value: 1.588424378987741. Current best value is 1.0997389460273617 with parameters: {'num_layer': 2, 'dense_num': 2, 'num_filter_0': 5.0, 'num_filter_1': 5.0, 'size_filter_0': 5.0, 'size_filter_1': 3.0, 'batch_size': 3, 'learning_rate': 0.004776391862704719, 'decay': 1.0115860822188755e-06, 'dropout_rate_in': 0.1, 'dropout_rate_out': 0.0, 'momentum': 0.7000000000000001, 'padding': 'valid'}.\u001b[0m\n"
     ]
    },
    {
     "name": "stdout",
     "output_type": "stream",
     "text": [
      "3678/3678 [==============================] - 0s 102us/step\n",
      "3678/3678 [==============================] - 0s 105us/step\n",
      "659/659 [==============================] - 0s 107us/step\n",
      "659/659 [==============================] - 0s 192us/step\n",
      "753/753 [==============================] - 0s 115us/step\n",
      "753/753 [==============================] - 0s 111us/step\n",
      "1686/1686 [==============================] - 0s 101us/step\n",
      "1686/1686 [==============================] - 0s 101us/step\n",
      "1185/1185 [==============================] - 0s 106us/step\n",
      "1185/1185 [==============================] - 0s 105us/step\n",
      "1905/1905 [==============================] - 0s 111us/step\n",
      "1905/1905 [==============================] - 0s 109us/step\n",
      "954/954 [==============================] - 0s 114us/step\n",
      "954/954 [==============================] - 0s 108us/step\n",
      "511/511 [==============================] - 0s 115us/step\n",
      "511/511 [==============================] - 0s 123us/step\n",
      "1292/1292 [==============================] - 0s 118us/step\n",
      "1292/1292 [==============================] - 0s 107us/step\n",
      "14000/14000 [==============================] - 2s 111us/step\n",
      "14000/14000 [==============================] - 2s 110us/step\n"
     ]
    },
    {
     "name": "stderr",
     "output_type": "stream",
     "text": [
      "\u001b[32m[I 2020-10-31 12:33:22,652]\u001b[0m Finished trial#4 resulted in value: 1.8534568328168661. Current best value is 1.0997389460273617 with parameters: {'num_layer': 2, 'dense_num': 2, 'num_filter_0': 5.0, 'num_filter_1': 5.0, 'size_filter_0': 5.0, 'size_filter_1': 3.0, 'batch_size': 3, 'learning_rate': 0.004776391862704719, 'decay': 1.0115860822188755e-06, 'dropout_rate_in': 0.1, 'dropout_rate_out': 0.0, 'momentum': 0.7000000000000001, 'padding': 'valid'}.\u001b[0m\n",
      "\u001b[32m[I 2020-10-31 12:33:33,331]\u001b[0m Setting status of trial#5 as TrialState.PRUNED. Trial was pruned at epoch 1.\u001b[0m\n"
     ]
    },
    {
     "name": "stdout",
     "output_type": "stream",
     "text": [
      "3678/3678 [==============================] - 0s 95us/step\n",
      "3678/3678 [==============================] - 0s 92us/step\n",
      "659/659 [==============================] - 0s 104us/step\n",
      "659/659 [==============================] - 0s 103us/step\n",
      "753/753 [==============================] - 0s 112us/step\n",
      "753/753 [==============================] - 0s 97us/step\n",
      "1686/1686 [==============================] - 0s 97us/step\n",
      "1686/1686 [==============================] - 0s 90us/step\n",
      "1185/1185 [==============================] - 0s 92us/step\n",
      "1185/1185 [==============================] - 0s 92us/step\n",
      "1905/1905 [==============================] - 0s 92us/step\n",
      "1905/1905 [==============================] - 0s 87us/step\n",
      "954/954 [==============================] - 0s 91us/step\n",
      "954/954 [==============================] - 0s 89us/step\n",
      "511/511 [==============================] - 0s 111us/step\n",
      "511/511 [==============================] - 0s 94us/step\n",
      "1292/1292 [==============================] - 0s 94us/step\n",
      "1292/1292 [==============================] - 0s 90us/step\n",
      "14000/14000 [==============================] - 1s 86us/step\n",
      "14000/14000 [==============================] - 1s 87us/step\n"
     ]
    },
    {
     "name": "stderr",
     "output_type": "stream",
     "text": [
      "\u001b[32m[I 2020-10-31 13:21:08,546]\u001b[0m Finished trial#6 resulted in value: 1.4432807544729434. Current best value is 1.0997389460273617 with parameters: {'num_layer': 2, 'dense_num': 2, 'num_filter_0': 5.0, 'num_filter_1': 5.0, 'size_filter_0': 5.0, 'size_filter_1': 3.0, 'batch_size': 3, 'learning_rate': 0.004776391862704719, 'decay': 1.0115860822188755e-06, 'dropout_rate_in': 0.1, 'dropout_rate_out': 0.0, 'momentum': 0.7000000000000001, 'padding': 'valid'}.\u001b[0m\n"
     ]
    },
    {
     "name": "stdout",
     "output_type": "stream",
     "text": [
      "3678/3678 [==============================] - 0s 101us/step\n",
      "3678/3678 [==============================] - 0s 93us/step\n",
      "659/659 [==============================] - 0s 107us/step\n",
      "659/659 [==============================] - 0s 86us/step\n",
      "753/753 [==============================] - 0s 91us/step\n",
      "753/753 [==============================] - 0s 83us/step\n",
      "1686/1686 [==============================] - 0s 94us/step\n",
      "1686/1686 [==============================] - 0s 90us/step\n",
      "1185/1185 [==============================] - 0s 79us/step\n",
      "1185/1185 [==============================] - 0s 93us/step\n",
      "1905/1905 [==============================] - 0s 86us/step\n",
      "1905/1905 [==============================] - 0s 82us/step\n",
      "954/954 [==============================] - 0s 89us/step\n",
      "954/954 [==============================] - 0s 98us/step\n",
      "511/511 [==============================] - 0s 111us/step\n",
      "511/511 [==============================] - 0s 86us/step\n",
      "1292/1292 [==============================] - 0s 95us/step\n",
      "1292/1292 [==============================] - 0s 88us/step\n",
      "14000/14000 [==============================] - 1s 84us/step\n",
      "14000/14000 [==============================] - 1s 83us/step\n"
     ]
    },
    {
     "name": "stderr",
     "output_type": "stream",
     "text": [
      "\u001b[32m[I 2020-10-31 13:47:22,908]\u001b[0m Finished trial#7 resulted in value: 1.4234638261392978. Current best value is 1.0997389460273617 with parameters: {'num_layer': 2, 'dense_num': 2, 'num_filter_0': 5.0, 'num_filter_1': 5.0, 'size_filter_0': 5.0, 'size_filter_1': 3.0, 'batch_size': 3, 'learning_rate': 0.004776391862704719, 'decay': 1.0115860822188755e-06, 'dropout_rate_in': 0.1, 'dropout_rate_out': 0.0, 'momentum': 0.7000000000000001, 'padding': 'valid'}.\u001b[0m\n"
     ]
    },
    {
     "name": "stdout",
     "output_type": "stream",
     "text": [
      "647/647 [==============================] - 0s 73us/step\n",
      "accuracy is 0.5425038933753967\n",
      "outer_cv_8_processing....\n",
      "13992/13992 [==============================] - 1s 77us/step\n",
      "13992/13992 [==============================] - 1s 78us/step\n",
      "898/898 [==============================] - 0s 80us/step\n",
      "898/898 [==============================] - 0s 80us/step\n",
      "1129/1129 [==============================] - 0s 83us/step\n",
      "1129/1129 [==============================] - 0s 79us/step\n",
      "647/647 [==============================] - 0s 79us/step\n",
      "647/647 [==============================] - 0s 77us/step\n",
      "985/985 [==============================] - 0s 79us/step\n",
      "985/985 [==============================] - 0s 77us/step\n",
      "1776/1776 [==============================] - 0s 84us/step\n",
      "1776/1776 [==============================] - 0s 83us/step\n",
      "723/723 [==============================] - 0s 79us/step\n",
      "723/723 [==============================] - 0s 81us/step\n",
      "1241/1241 [==============================] - 0s 76us/step\n",
      "1241/1241 [==============================] - 0s 78us/step\n",
      "1295/1295 [==============================] - 0s 81us/step\n",
      "1295/1295 [==============================] - 0s 79us/step\n",
      "3682/3682 [==============================] - 0s 77us/step\n",
      "3682/3682 [==============================] - 0s 78us/step\n"
     ]
    },
    {
     "name": "stderr",
     "output_type": "stream",
     "text": [
      "\u001b[32m[I 2020-10-31 14:01:11,071]\u001b[0m Finished trial#0 resulted in value: 2.2657039038771343. Current best value is 2.2657039038771343 with parameters: {'num_layer': 1, 'dense_num': 2, 'num_filter_0': 5.0, 'size_filter_0': 5.0, 'batch_size': 3, 'learning_rate': 0.0005609966283767402, 'decay': 1.6703295227999886e-05, 'dropout_rate_in': 0.0, 'dropout_rate_out': 0.2, 'momentum': 1.0, 'padding': 'valid'}.\u001b[0m\n"
     ]
    },
    {
     "name": "stdout",
     "output_type": "stream",
     "text": [
      "13992/13992 [==============================] - 1s 91us/step\n",
      "13992/13992 [==============================] - 1s 91us/step\n",
      "898/898 [==============================] - 0s 96us/step\n",
      "898/898 [==============================] - 0s 87us/step\n",
      "1129/1129 [==============================] - 0s 105us/step\n",
      "1129/1129 [==============================] - 0s 103us/step\n",
      "647/647 [==============================] - 0s 97us/step\n",
      "647/647 [==============================] - 0s 99us/step\n",
      "985/985 [==============================] - 0s 90us/step\n",
      "985/985 [==============================] - 0s 96us/step\n",
      "1776/1776 [==============================] - 0s 89us/step\n",
      "1776/1776 [==============================] - 0s 93us/step\n",
      "723/723 [==============================] - 0s 82us/step\n",
      "723/723 [==============================] - 0s 110us/step\n",
      "1241/1241 [==============================] - 0s 93us/step\n",
      "1241/1241 [==============================] - 0s 94us/step\n",
      "1295/1295 [==============================] - 0s 92us/step\n",
      "1295/1295 [==============================] - 0s 93us/step\n",
      "3682/3682 [==============================] - 0s 94us/step\n",
      "3682/3682 [==============================] - 0s 91us/step\n"
     ]
    },
    {
     "name": "stderr",
     "output_type": "stream",
     "text": [
      "\u001b[32m[I 2020-10-31 14:25:24,321]\u001b[0m Finished trial#1 resulted in value: 1.6580600207929321. Current best value is 1.6580600207929321 with parameters: {'num_layer': 1, 'dense_num': 5, 'num_filter_0': 2.0, 'size_filter_0': 5.0, 'batch_size': 2, 'learning_rate': 7.277420462648446e-05, 'decay': 1.0028069114535416e-06, 'dropout_rate_in': 0.30000000000000004, 'dropout_rate_out': 0.0, 'momentum': 0.8, 'padding': 'valid'}.\u001b[0m\n"
     ]
    },
    {
     "name": "stdout",
     "output_type": "stream",
     "text": [
      "13992/13992 [==============================] - 2s 108us/step\n",
      "13992/13992 [==============================] - 1s 106us/step\n",
      "898/898 [==============================] - 0s 108us/step\n",
      "898/898 [==============================] - 0s 102us/step\n",
      "1129/1129 [==============================] - 0s 105us/step\n",
      "1129/1129 [==============================] - 0s 104us/step\n",
      "647/647 [==============================] - 0s 107us/step\n",
      "647/647 [==============================] - 0s 97us/step\n",
      "985/985 [==============================] - 0s 105us/step\n",
      "985/985 [==============================] - 0s 102us/step\n",
      "1776/1776 [==============================] - 0s 100us/step\n",
      "1776/1776 [==============================] - 0s 102us/step\n",
      "723/723 [==============================] - 0s 106us/step\n",
      "723/723 [==============================] - 0s 110us/step\n",
      "1241/1241 [==============================] - 0s 96us/step\n",
      "1241/1241 [==============================] - 0s 101us/step\n",
      "1295/1295 [==============================] - 0s 103us/step\n",
      "1295/1295 [==============================] - 0s 129us/step\n",
      "3682/3682 [==============================] - 0s 103us/step\n",
      "3682/3682 [==============================] - 0s 103us/step\n"
     ]
    },
    {
     "name": "stderr",
     "output_type": "stream",
     "text": [
      "\u001b[32m[I 2020-10-31 14:28:57,559]\u001b[0m Finished trial#2 resulted in value: 2.1618530623096284. Current best value is 1.6580600207929321 with parameters: {'num_layer': 1, 'dense_num': 5, 'num_filter_0': 2.0, 'size_filter_0': 5.0, 'batch_size': 2, 'learning_rate': 7.277420462648446e-05, 'decay': 1.0028069114535416e-06, 'dropout_rate_in': 0.30000000000000004, 'dropout_rate_out': 0.0, 'momentum': 0.8, 'padding': 'valid'}.\u001b[0m\n"
     ]
    },
    {
     "name": "stdout",
     "output_type": "stream",
     "text": [
      "13992/13992 [==============================] - 1s 98us/step\n",
      "13992/13992 [==============================] - 1s 98us/step\n",
      "898/898 [==============================] - 0s 107us/step\n",
      "898/898 [==============================] - 0s 101us/step\n",
      "1129/1129 [==============================] - 0s 117us/step\n",
      "1129/1129 [==============================] - 0s 104us/step\n",
      "647/647 [==============================] - 0s 105us/step\n",
      "647/647 [==============================] - 0s 105us/step\n",
      "985/985 [==============================] - 0s 115us/step\n",
      "985/985 [==============================] - 0s 105us/step\n",
      "1776/1776 [==============================] - 0s 106us/step\n",
      "1776/1776 [==============================] - 0s 103us/step\n",
      "723/723 [==============================] - 0s 105us/step\n",
      "723/723 [==============================] - 0s 115us/step\n",
      "1241/1241 [==============================] - 0s 106us/step\n",
      "1241/1241 [==============================] - 0s 99us/step\n",
      "1295/1295 [==============================] - 0s 104us/step\n",
      "1295/1295 [==============================] - 0s 97us/step\n",
      "3682/3682 [==============================] - 0s 95us/step\n",
      "3682/3682 [==============================] - 0s 98us/step\n"
     ]
    },
    {
     "name": "stderr",
     "output_type": "stream",
     "text": [
      "\u001b[32m[I 2020-10-31 14:56:19,673]\u001b[0m Finished trial#3 resulted in value: 2.05359838327268. Current best value is 1.6580600207929321 with parameters: {'num_layer': 1, 'dense_num': 5, 'num_filter_0': 2.0, 'size_filter_0': 5.0, 'batch_size': 2, 'learning_rate': 7.277420462648446e-05, 'decay': 1.0028069114535416e-06, 'dropout_rate_in': 0.30000000000000004, 'dropout_rate_out': 0.0, 'momentum': 0.8, 'padding': 'valid'}.\u001b[0m\n"
     ]
    },
    {
     "name": "stdout",
     "output_type": "stream",
     "text": [
      "13992/13992 [==============================] - 1s 90us/step\n",
      "13992/13992 [==============================] - 1s 91us/step\n",
      "898/898 [==============================] - 0s 96us/step\n",
      "898/898 [==============================] - 0s 101us/step\n",
      "1129/1129 [==============================] - 0s 90us/step\n",
      "1129/1129 [==============================] - 0s 94us/step\n",
      "647/647 [==============================] - 0s 110us/step\n",
      "647/647 [==============================] - 0s 72us/step\n",
      "985/985 [==============================] - 0s 93us/step\n",
      "985/985 [==============================] - 0s 92us/step\n",
      "1776/1776 [==============================] - 0s 93us/step\n",
      "1776/1776 [==============================] - 0s 93us/step\n",
      "723/723 [==============================] - 0s 75us/step\n",
      "723/723 [==============================] - 0s 108us/step\n",
      "1241/1241 [==============================] - 0s 91us/step\n",
      "1241/1241 [==============================] - 0s 96us/step\n",
      "1295/1295 [==============================] - 0s 93us/step\n",
      "1295/1295 [==============================] - 0s 92us/step\n",
      "3682/3682 [==============================] - 0s 100us/step\n",
      "3682/3682 [==============================] - 0s 90us/step\n"
     ]
    },
    {
     "name": "stderr",
     "output_type": "stream",
     "text": [
      "\u001b[32m[I 2020-10-31 15:02:39,291]\u001b[0m Finished trial#4 resulted in value: 1.631151527153127. Current best value is 1.631151527153127 with parameters: {'num_layer': 1, 'dense_num': 5, 'num_filter_0': 4.0, 'size_filter_0': 5.0, 'batch_size': 4, 'learning_rate': 0.000268989052478106, 'decay': 2.1220845286175636e-05, 'dropout_rate_in': 0.5, 'dropout_rate_out': 0.2, 'momentum': 0.9, 'padding': 'same'}.\u001b[0m\n",
      "\u001b[32m[I 2020-10-31 15:02:48,153]\u001b[0m Setting status of trial#5 as TrialState.PRUNED. Trial was pruned at epoch 1.\u001b[0m\n"
     ]
    },
    {
     "name": "stdout",
     "output_type": "stream",
     "text": [
      "13992/13992 [==============================] - 1s 99us/step\n",
      "13992/13992 [==============================] - 1s 99us/step\n",
      "898/898 [==============================] - 0s 97us/step\n",
      "898/898 [==============================] - 0s 100us/step\n",
      "1129/1129 [==============================] - 0s 109us/step\n",
      "1129/1129 [==============================] - 0s 96us/step\n",
      "647/647 [==============================] - 0s 103us/step\n",
      "647/647 [==============================] - 0s 105us/step\n",
      "985/985 [==============================] - 0s 105us/step\n",
      "985/985 [==============================] - 0s 81us/step\n",
      "1776/1776 [==============================] - 0s 97us/step\n",
      "1776/1776 [==============================] - 0s 97us/step\n",
      "723/723 [==============================] - 0s 99us/step\n",
      "723/723 [==============================] - 0s 103us/step\n",
      "1241/1241 [==============================] - 0s 100us/step\n",
      "1241/1241 [==============================] - 0s 97us/step\n",
      "1295/1295 [==============================] - 0s 96us/step\n",
      "1295/1295 [==============================] - 0s 88us/step\n",
      "3682/3682 [==============================] - 0s 96us/step\n",
      "3682/3682 [==============================] - 0s 98us/step\n"
     ]
    },
    {
     "name": "stderr",
     "output_type": "stream",
     "text": [
      "\u001b[32m[I 2020-10-31 15:10:20,305]\u001b[0m Finished trial#6 resulted in value: 1.3581642607136093. Current best value is 1.3581642607136093 with parameters: {'num_layer': 2, 'dense_num': 5, 'num_filter_0': 5.0, 'num_filter_1': 4.0, 'size_filter_0': 5.0, 'size_filter_1': 5.0, 'batch_size': 4, 'learning_rate': 0.0006156433414146607, 'decay': 2.4559594967967987e-06, 'dropout_rate_in': 0.30000000000000004, 'dropout_rate_out': 0.2, 'momentum': 0.7000000000000001, 'padding': 'valid'}.\u001b[0m\n",
      "\u001b[32m[I 2020-10-31 15:10:47,135]\u001b[0m Setting status of trial#7 as TrialState.PRUNED. Trial was pruned at epoch 1.\u001b[0m\n"
     ]
    },
    {
     "name": "stdout",
     "output_type": "stream",
     "text": [
      "902/902 [==============================] - 0s 92us/step\n",
      "accuracy is 0.47228381037712097\n",
      "outer_cv_9_processing....\n",
      "954/954 [==============================] - 0s 91us/step\n",
      "954/954 [==============================] - 0s 75us/step\n",
      "1185/1185 [==============================] - 0s 72us/step\n",
      "1185/1185 [==============================] - 0s 79us/step\n",
      "753/753 [==============================] - 0s 87us/step\n",
      "753/753 [==============================] - 0s 77us/step\n",
      "3676/3676 [==============================] - 0s 78us/step\n",
      "3676/3676 [==============================] - 0s 77us/step\n",
      "511/511 [==============================] - 0s 98us/step\n",
      "511/511 [==============================] - 0s 76us/step\n",
      "1289/1289 [==============================] - 0s 96us/step\n",
      "1289/1289 [==============================] - 0s 73us/step\n",
      "1686/1686 [==============================] - 0s 79us/step\n",
      "1686/1686 [==============================] - 0s 81us/step\n",
      "659/659 [==============================] - 0s 107us/step\n",
      "659/659 [==============================] - 0s 71us/step\n",
      "647/647 [==============================] - 0s 77us/step\n",
      "647/647 [==============================] - 0s 79us/step\n",
      "1907/1907 [==============================] - 0s 79us/step\n",
      "1907/1907 [==============================] - 0s 73us/step\n"
     ]
    },
    {
     "name": "stderr",
     "output_type": "stream",
     "text": [
      "\u001b[32m[I 2020-10-31 15:25:58,168]\u001b[0m Finished trial#0 resulted in value: 2.0869804789448163. Current best value is 2.0869804789448163 with parameters: {'num_layer': 2, 'dense_num': 3, 'num_filter_0': 3.0, 'num_filter_1': 3.0, 'size_filter_0': 3.0, 'size_filter_1': 5.0, 'batch_size': 2, 'learning_rate': 0.00035150082907675216, 'decay': 3.711088164539108e-06, 'dropout_rate_in': 0.5, 'dropout_rate_out': 0.4, 'momentum': 0.7000000000000001, 'padding': 'valid'}.\u001b[0m\n"
     ]
    },
    {
     "name": "stdout",
     "output_type": "stream",
     "text": [
      "954/954 [==============================] - 0s 76us/step\n",
      "954/954 [==============================] - 0s 98us/step\n",
      "1185/1185 [==============================] - 0s 98us/step\n",
      "1185/1185 [==============================] - 0s 105us/step\n",
      "753/753 [==============================] - 0s 94us/step\n",
      "753/753 [==============================] - 0s 89us/step\n",
      "3676/3676 [==============================] - 0s 86us/step\n",
      "3676/3676 [==============================] - 0s 93us/step\n",
      "511/511 [==============================] - 0s 92us/step\n",
      "511/511 [==============================] - 0s 96us/step\n",
      "1289/1289 [==============================] - 0s 91us/step\n",
      "1289/1289 [==============================] - 0s 101us/step\n",
      "1686/1686 [==============================] - 0s 92us/step\n",
      "1686/1686 [==============================] - 0s 86us/step\n",
      "659/659 [==============================] - 0s 89us/step\n",
      "659/659 [==============================] - 0s 98us/step\n",
      "647/647 [==============================] - 0s 83us/step\n",
      "647/647 [==============================] - 0s 97us/step\n",
      "1907/1907 [==============================] - 0s 93us/step\n",
      "1907/1907 [==============================] - 0s 89us/step\n"
     ]
    },
    {
     "name": "stderr",
     "output_type": "stream",
     "text": [
      "\u001b[32m[I 2020-10-31 15:29:15,985]\u001b[0m Finished trial#1 resulted in value: 2.169162930879657. Current best value is 2.0869804789448163 with parameters: {'num_layer': 2, 'dense_num': 3, 'num_filter_0': 3.0, 'num_filter_1': 3.0, 'size_filter_0': 3.0, 'size_filter_1': 5.0, 'batch_size': 2, 'learning_rate': 0.00035150082907675216, 'decay': 3.711088164539108e-06, 'dropout_rate_in': 0.5, 'dropout_rate_out': 0.4, 'momentum': 0.7000000000000001, 'padding': 'valid'}.\u001b[0m\n"
     ]
    },
    {
     "name": "stdout",
     "output_type": "stream",
     "text": [
      "954/954 [==============================] - 0s 115us/step\n",
      "954/954 [==============================] - 0s 107us/step\n",
      "1185/1185 [==============================] - 0s 112us/step\n",
      "1185/1185 [==============================] - 0s 108us/step\n",
      "753/753 [==============================] - 0s 102us/step\n",
      "753/753 [==============================] - 0s 107us/step\n",
      "3676/3676 [==============================] - 0s 108us/step\n",
      "3676/3676 [==============================] - 0s 108us/step\n",
      "511/511 [==============================] - 0s 125us/step\n",
      "511/511 [==============================] - 0s 103us/step\n",
      "1289/1289 [==============================] - 0s 118us/step\n",
      "1289/1289 [==============================] - 0s 99us/step\n",
      "1686/1686 [==============================] - 0s 120us/step\n",
      "1686/1686 [==============================] - 0s 121us/step\n",
      "659/659 [==============================] - 0s 123us/step\n",
      "659/659 [==============================] - 0s 110us/step\n",
      "647/647 [==============================] - 0s 109us/step\n",
      "647/647 [==============================] - 0s 121us/step\n",
      "1907/1907 [==============================] - 0s 107us/step\n",
      "1907/1907 [==============================] - 0s 105us/step\n"
     ]
    },
    {
     "name": "stderr",
     "output_type": "stream",
     "text": [
      "\u001b[32m[I 2020-10-31 15:43:15,241]\u001b[0m Finished trial#2 resulted in value: 2.0258982461369017. Current best value is 2.0258982461369017 with parameters: {'num_layer': 2, 'dense_num': 2, 'num_filter_0': 4.0, 'num_filter_1': 4.0, 'size_filter_0': 5.0, 'size_filter_1': 3.0, 'batch_size': 2, 'learning_rate': 5.361220483008553e-05, 'decay': 2.5517827206566406e-06, 'dropout_rate_in': 0.30000000000000004, 'dropout_rate_out': 0.2, 'momentum': 0.30000000000000004, 'padding': 'valid'}.\u001b[0m\n"
     ]
    },
    {
     "name": "stdout",
     "output_type": "stream",
     "text": [
      "954/954 [==============================] - 0s 95us/step\n",
      "954/954 [==============================] - 0s 94us/step\n",
      "1185/1185 [==============================] - 0s 88us/step\n",
      "1185/1185 [==============================] - 0s 85us/step\n",
      "753/753 [==============================] - 0s 89us/step\n",
      "753/753 [==============================] - 0s 90us/step\n",
      "3676/3676 [==============================] - 0s 78us/step\n",
      "3676/3676 [==============================] - 0s 86us/step\n",
      "511/511 [==============================] - 0s 98us/step\n",
      "511/511 [==============================] - 0s 79us/step\n",
      "1289/1289 [==============================] - 0s 79us/step\n",
      "1289/1289 [==============================] - 0s 83us/step\n",
      "1686/1686 [==============================] - 0s 87us/step\n",
      "1686/1686 [==============================] - 0s 93us/step\n",
      "659/659 [==============================] - 0s 91us/step\n",
      "659/659 [==============================] - 0s 94us/step\n",
      "647/647 [==============================] - 0s 81us/step\n",
      "647/647 [==============================] - 0s 97us/step\n",
      "1907/1907 [==============================] - 0s 86us/step\n",
      "1907/1907 [==============================] - 0s 86us/step\n"
     ]
    },
    {
     "name": "stderr",
     "output_type": "stream",
     "text": [
      "\u001b[32m[I 2020-10-31 15:54:44,010]\u001b[0m Finished trial#3 resulted in value: 2.581396133816306. Current best value is 2.0258982461369017 with parameters: {'num_layer': 2, 'dense_num': 2, 'num_filter_0': 4.0, 'num_filter_1': 4.0, 'size_filter_0': 5.0, 'size_filter_1': 3.0, 'batch_size': 2, 'learning_rate': 5.361220483008553e-05, 'decay': 2.5517827206566406e-06, 'dropout_rate_in': 0.30000000000000004, 'dropout_rate_out': 0.2, 'momentum': 0.30000000000000004, 'padding': 'valid'}.\u001b[0m\n"
     ]
    },
    {
     "name": "stdout",
     "output_type": "stream",
     "text": [
      "954/954 [==============================] - 0s 105us/step\n",
      "954/954 [==============================] - 0s 82us/step\n",
      "1185/1185 [==============================] - 0s 83us/step\n",
      "1185/1185 [==============================] - 0s 83us/step\n",
      "753/753 [==============================] - 0s 82us/step\n",
      "753/753 [==============================] - 0s 86us/step\n",
      "3676/3676 [==============================] - 0s 83us/step\n",
      "3676/3676 [==============================] - 0s 84us/step\n",
      "511/511 [==============================] - 0s 111us/step\n",
      "511/511 [==============================] - 0s 82us/step\n",
      "1289/1289 [==============================] - 0s 85us/step\n",
      "1289/1289 [==============================] - 0s 83us/step\n",
      "1686/1686 [==============================] - 0s 87us/step\n",
      "1686/1686 [==============================] - 0s 83us/step\n",
      "659/659 [==============================] - 0s 82us/step\n",
      "659/659 [==============================] - 0s 100us/step\n",
      "647/647 [==============================] - 0s 82us/step\n",
      "647/647 [==============================] - 0s 88us/step\n",
      "1907/1907 [==============================] - 0s 86us/step\n",
      "1907/1907 [==============================] - 0s 87us/step\n"
     ]
    },
    {
     "name": "stderr",
     "output_type": "stream",
     "text": [
      "\u001b[32m[I 2020-10-31 15:56:42,935]\u001b[0m Finished trial#4 resulted in value: 2.19607863384343. Current best value is 2.0258982461369017 with parameters: {'num_layer': 2, 'dense_num': 2, 'num_filter_0': 4.0, 'num_filter_1': 4.0, 'size_filter_0': 5.0, 'size_filter_1': 3.0, 'batch_size': 2, 'learning_rate': 5.361220483008553e-05, 'decay': 2.5517827206566406e-06, 'dropout_rate_in': 0.30000000000000004, 'dropout_rate_out': 0.2, 'momentum': 0.30000000000000004, 'padding': 'valid'}.\u001b[0m\n"
     ]
    },
    {
     "name": "stdout",
     "output_type": "stream",
     "text": [
      "954/954 [==============================] - 0s 89us/step\n",
      "954/954 [==============================] - 0s 82us/step\n",
      "1185/1185 [==============================] - 0s 93us/step\n",
      "1185/1185 [==============================] - 0s 88us/step\n",
      "753/753 [==============================] - 0s 107us/step\n",
      "753/753 [==============================] - 0s 87us/step\n",
      "3676/3676 [==============================] - 0s 86us/step\n",
      "3676/3676 [==============================] - 0s 87us/step\n",
      "511/511 [==============================] - 0s 102us/step\n",
      "511/511 [==============================] - 0s 63us/step\n",
      "1289/1289 [==============================] - 0s 89us/step\n",
      "1289/1289 [==============================] - 0s 88us/step\n",
      "1686/1686 [==============================] - 0s 88us/step\n",
      "1686/1686 [==============================] - 0s 89us/step\n",
      "659/659 [==============================] - 0s 86us/step\n",
      "659/659 [==============================] - 0s 95us/step\n",
      "647/647 [==============================] - 0s 88us/step\n",
      "647/647 [==============================] - 0s 89us/step\n",
      "1907/1907 [==============================] - 0s 91us/step\n",
      "1907/1907 [==============================] - 0s 90us/step\n"
     ]
    },
    {
     "name": "stderr",
     "output_type": "stream",
     "text": [
      "\u001b[32m[I 2020-10-31 15:58:38,148]\u001b[0m Finished trial#5 resulted in value: 1.4347644560521253. Current best value is 1.4347644560521253 with parameters: {'num_layer': 2, 'dense_num': 4, 'num_filter_0': 3.0, 'num_filter_1': 2.0, 'size_filter_0': 3.0, 'size_filter_1': 3.0, 'batch_size': 5, 'learning_rate': 0.002211235964131624, 'decay': 1.264041973987343e-06, 'dropout_rate_in': 0.1, 'dropout_rate_out': 0.1, 'momentum': 0.9, 'padding': 'valid'}.\u001b[0m\n",
      "\u001b[32m[I 2020-10-31 15:58:48,408]\u001b[0m Setting status of trial#6 as TrialState.PRUNED. Trial was pruned at epoch 1.\u001b[0m\n"
     ]
    },
    {
     "name": "stdout",
     "output_type": "stream",
     "text": [
      "954/954 [==============================] - 0s 89us/step\n",
      "954/954 [==============================] - 0s 85us/step\n",
      "1185/1185 [==============================] - 0s 87us/step\n",
      "1185/1185 [==============================] - 0s 98us/step\n",
      "753/753 [==============================] - 0s 95us/step\n",
      "753/753 [==============================] - 0s 90us/step\n",
      "3676/3676 [==============================] - 0s 93us/step\n",
      "3676/3676 [==============================] - 0s 91us/step\n",
      "511/511 [==============================] - 0s 92us/step\n",
      "511/511 [==============================] - 0s 92us/step\n",
      "1289/1289 [==============================] - 0s 93us/step\n",
      "1289/1289 [==============================] - 0s 92us/step\n",
      "1686/1686 [==============================] - 0s 88us/step\n",
      "1686/1686 [==============================] - 0s 98us/step\n",
      "659/659 [==============================] - 0s 98us/step\n",
      "659/659 [==============================] - 0s 87us/step\n",
      "647/647 [==============================] - 0s 102us/step\n",
      "647/647 [==============================] - 0s 94us/step\n",
      "1907/1907 [==============================] - 0s 92us/step\n",
      "1907/1907 [==============================] - 0s 94us/step\n"
     ]
    },
    {
     "name": "stderr",
     "output_type": "stream",
     "text": [
      "\u001b[32m[I 2020-10-31 16:02:20,862]\u001b[0m Finished trial#7 resulted in value: 2.357473062128894. Current best value is 1.4347644560521253 with parameters: {'num_layer': 2, 'dense_num': 4, 'num_filter_0': 3.0, 'num_filter_1': 2.0, 'size_filter_0': 3.0, 'size_filter_1': 3.0, 'batch_size': 5, 'learning_rate': 0.002211235964131624, 'decay': 1.264041973987343e-06, 'dropout_rate_in': 0.1, 'dropout_rate_out': 0.1, 'momentum': 0.9, 'padding': 'valid'}.\u001b[0m\n"
     ]
    },
    {
     "name": "stdout",
     "output_type": "stream",
     "text": [
      "14003/14003 [==============================] - 1s 80us/step\n",
      "accuracy is 0.4011283218860626\n"
     ]
    }
   ],
   "source": [
    "timename       = '{0:%Y_%m%d_%H%M}'.format(datetime.datetime.now())\n",
    "time_path      =  os.path.join(result_path, timename, \"outer_cv_times\")\n",
    "# dir generation\n",
    "dir_generator(result_path)\n",
    "# Chenge current directry\n",
    "os.mkdir(os.path.join(result_path, timename))\n",
    "os.chdir(os.path.join(result_path, timename))\n",
    "dir_generator(\"./results/\")\n",
    "dir_generator(\"./img_loss/\")\n",
    "dir_generator(\"./model/\")\n",
    "dir_generator(\"./weights/\")\n",
    "dir_generator(\"./logs/\")\n",
    "dir_generator(\"./outer_cv_times/\")\n",
    "\n",
    "# Train Model ----------------------------------\n",
    "# CV start ------------------------------------------------------------\n",
    "train_start = datetime.datetime.now()\n",
    "for outer_cv in range(cvs):\n",
    "    outer_start = datetime.datetime.now()\n",
    "    print(f'outer_cv_{outer_cv}_processing....')\n",
    "    # Data Loader-------------------------------------\n",
    "    train_files, val_files, X_outer_train, X_outer_val, Y_outer_train, Y_outer_val, val_train_region, val_train_point = data_splitter_cv(X_files, X_train, Y_train, outer_cv, region_train, train_point)\n",
    "    train_datagen = ImageDataGenerator(\n",
    "#         rotation_range = 360,\n",
    "        horizontal_flip = True,\n",
    "        vertical_flip = True\n",
    "    )\n",
    "    val_train_region = KMeans(n_clusters = cvs, random_state=SEED).fit(val_train_point).labels_\n",
    "    # Bayesian optimization -------------------------------------\n",
    "    study = optuna.create_study()\n",
    "    study.optimize(opt_cnn, n_trials = ntrials)\n",
    "    # Best_model_training ---------------------------------------\n",
    "    num_filters = [int(study.best_params[f'num_filter_{i}']) for i in range(int(study.best_params['num_layer']))]\n",
    "    size_filters = [int(study.best_params[f'size_filter_{i}']) for i in range(int(study.best_params['num_layer']))]\n",
    "    model = create_model(image_shape, int(study.best_params['num_layer']), study.best_params['padding'], int(study.best_params['dense_num']), num_filters, size_filters, study.best_params['dropout_rate_in'], study.best_params['dropout_rate_out'])\n",
    "    sgd = optimizers.SGD(lr = study.best_params['learning_rate'], decay = study.best_params['decay'], momentum = study.best_params['momentum'], nesterov = True, clipvalue = 1.0)\n",
    "    model.compile(optimizer = sgd, loss = 'sparse_categorical_crossentropy', metrics=['accuracy'])\n",
    "    history = model.fit(\n",
    "        train_datagen.flow(X_outer_train, Y_outer_train, batch_size = 2**int(study.best_params['batch_size']) * gpus),\n",
    "        epochs = train_epochs,\n",
    "        validation_data = (X_outer_val, Y_outer_val),\n",
    "        shuffle = True,\n",
    "        verbose = 0,\n",
    "        use_multiprocessing = False\n",
    "        )\n",
    "    try:\n",
    "        best_params.append(study.best_params)\n",
    "    except:\n",
    "        best_params = [study.best_params]\n",
    "    try:\n",
    "        val_pred_files = np.concatenate((val_pred_files, val_files), axis=0)\n",
    "    except:\n",
    "        val_pred_files = val_files\n",
    "    try:\n",
    "        Y_val_pred = np.concatenate((Y_val_pred, model.predict(X_outer_val).argmax(axis=1)), axis=0)\n",
    "    except:\n",
    "        Y_val_pred = np.array(model.predict(X_outer_val).argmax(axis=1))\n",
    "    try:\n",
    "        Y_val_obs = np.concatenate((Y_val_obs, Y_outer_val), axis=0)\n",
    "    except:\n",
    "        Y_val_obs = Y_outer_val\n",
    "    try:\n",
    "        Y_val_smx = np.concatenate((Y_val_smx, model.predict(X_outer_val)),axis=0)\n",
    "    except:\n",
    "        Y_val_smx = model.predict(X_outer_val)\n",
    "    cv_result_imgs_generator(model, history)\n",
    "    print(\"accuracy is\", model.evaluate(X_outer_val, Y_outer_val)[1])\n",
    "    #compare_TV(history, outer_cv)\n",
    "    del model\n",
    "    keras.backend.clear_session()\n",
    "    gc.collect()\n",
    "    \n",
    "    outer_end = datetime.datetime.now()\n",
    "    spend_time = f\"Outer_cv time is {outer_end - outer_start} seconds.\"\n",
    "    pkl_saver(spend_time, os.path.join(time_path, f\"outer_cv_{outer_cv}_time.txt\"))\n",
    "\n",
    "train_end = datetime.datetime.now()\n",
    "spend_time = f\"Outer_cv time is {train_end - train_start} seconds.\"\n",
    "pkl_saver(spend_time, os.path.join(time_path, \"all_time.txt\"))"
   ]
  },
  {
   "cell_type": "code",
   "execution_count": 5,
   "metadata": {},
   "outputs": [
    {
     "name": "stdout",
     "output_type": "stream",
     "text": [
      "Epoch 1/32\n",
      "3409/3409 [==============================] - 21s 6ms/step - loss: 1.8080\n",
      "Epoch 2/32\n",
      "3409/3409 [==============================] - 20s 6ms/step - loss: 1.6571\n",
      "Epoch 3/32\n",
      "3409/3409 [==============================] - 20s 6ms/step - loss: 1.6074\n",
      "Epoch 4/32\n",
      "3409/3409 [==============================] - 20s 6ms/step - loss: 1.5787\n",
      "Epoch 5/32\n",
      "3409/3409 [==============================] - 20s 6ms/step - loss: 1.5561\n",
      "Epoch 6/32\n",
      "3409/3409 [==============================] - 20s 6ms/step - loss: 1.5400\n",
      "Epoch 7/32\n",
      "3409/3409 [==============================] - 20s 6ms/step - loss: 1.5298\n",
      "Epoch 8/32\n",
      "3409/3409 [==============================] - 21s 6ms/step - loss: 1.5214\n",
      "Epoch 9/32\n",
      "3409/3409 [==============================] - 21s 6ms/step - loss: 1.5178\n",
      "Epoch 10/32\n",
      "3409/3409 [==============================] - 21s 6ms/step - loss: 1.5087\n",
      "Epoch 11/32\n",
      "3409/3409 [==============================] - 21s 6ms/step - loss: 1.5025\n",
      "Epoch 12/32\n",
      "3409/3409 [==============================] - 21s 6ms/step - loss: 1.4965\n",
      "Epoch 13/32\n",
      "3409/3409 [==============================] - 21s 6ms/step - loss: 1.4900\n",
      "Epoch 14/32\n",
      "3409/3409 [==============================] - 21s 6ms/step - loss: 1.4847\n",
      "Epoch 15/32\n",
      "3409/3409 [==============================] - 21s 6ms/step - loss: 1.4771\n",
      "Epoch 16/32\n",
      "3409/3409 [==============================] - 21s 6ms/step - loss: 1.4759\n",
      "Epoch 17/32\n",
      "3409/3409 [==============================] - 21s 6ms/step - loss: 1.4737\n",
      "Epoch 18/32\n",
      "3409/3409 [==============================] - 21s 6ms/step - loss: 1.4693\n",
      "Epoch 19/32\n",
      "3409/3409 [==============================] - 21s 6ms/step - loss: 1.4641\n",
      "Epoch 20/32\n",
      "3409/3409 [==============================] - 21s 6ms/step - loss: 1.4626\n",
      "Epoch 21/32\n",
      "3409/3409 [==============================] - 21s 6ms/step - loss: 1.4581\n",
      "Epoch 22/32\n",
      "3409/3409 [==============================] - 21s 6ms/step - loss: 1.4560\n",
      "Epoch 23/32\n",
      "3409/3409 [==============================] - 21s 6ms/step - loss: 1.4552\n",
      "Epoch 24/32\n",
      "3409/3409 [==============================] - 21s 6ms/step - loss: 1.4465\n",
      "Epoch 25/32\n",
      "3409/3409 [==============================] - 21s 6ms/step - loss: 1.4519\n",
      "Epoch 26/32\n",
      "3409/3409 [==============================] - 21s 6ms/step - loss: 1.4429\n",
      "Epoch 27/32\n",
      "3409/3409 [==============================] - 21s 6ms/step - loss: 1.4430\n",
      "Epoch 28/32\n",
      "3409/3409 [==============================] - 21s 6ms/step - loss: 1.4368\n",
      "Epoch 29/32\n",
      "3409/3409 [==============================] - 22s 6ms/step - loss: 1.4352\n",
      "Epoch 30/32\n",
      "3409/3409 [==============================] - 23s 7ms/step - loss: 1.4331\n",
      "Epoch 31/32\n",
      "3409/3409 [==============================] - 23s 7ms/step - loss: 1.4313\n",
      "Epoch 32/32\n",
      "3409/3409 [==============================] - 23s 7ms/step - loss: 1.4309\n"
     ]
    }
   ],
   "source": [
    "# Save CV_Result -------------------------------------------------\n",
    "# generalization_result_imgs_generator('val', Y_val_pred, Y_val_obs)\n",
    "np.savetxt('Y_val_smx.txt', Y_val_smx)\n",
    "param_names = best_params[list(map(len, best_params)).index(max(list(map(len, best_params))))].keys()\n",
    "best_params_dict = mean_params_calc(param_names)\n",
    "pkl_saver(best_params, 'best_params_list.binaryfile')\n",
    "pkl_saver(best_params_dict, 'best_params.binaryfile')\n",
    "best_params_dict = pkl_loader('best_params.binaryfile')\n",
    "\n",
    "# Save CV_Result to csv -------------------------------------------------\n",
    "region_image_generator(point, region)\n",
    "results = [val_pred_files, Y_val_obs, Y_val_pred, Y_val_smx]\n",
    "pkl_saver(results, './results/results.pkl')\n",
    "results_csv = np.concatenate([pd.DataFrame(val_pred_files),pd.DataFrame(Y_val_obs), pd.DataFrame(Y_val_pred), pd.DataFrame(Y_val_smx)], 1)\n",
    "results_csv = pd.DataFrame(results_csv)\n",
    "columns = [\"name\", \"obs\", \"pred\", 'Water', 'Urban and built-up', 'Rice paddy',  'Crops', 'Grassland', 'DBF', 'DNF', 'EBF', 'ENF', 'Bare land']\n",
    "results_csv.columns=columns\n",
    "results_csv.to_csv('./results/results.csv')\n",
    "labels = ['Water', 'Urban and built-up', 'Rice paddy',  'Crops', 'Grassland', 'DBF', 'DNF', 'EBF', 'ENF', 'Bare land']\n",
    "cf_metr = confusion_matrix(Y_val_obs.astype(int), Y_val_pred)\n",
    "cf_metr = pd.DataFrame(cf_metr)\n",
    "cf_metr.columns=labels\n",
    "cf_metr.index=labels\n",
    "cf_metr.to_csv(\"./results/confusion_matrix.csv\")\n",
    "\n",
    "# Best Model Training -----------------------------------------------\n",
    "# Int parameter\n",
    "num_layer = int(best_params_dict['num_layer'])\n",
    "num_filters = [int(best_params_dict['num_filter_' + str(i)]) for i in range(num_layer)]\n",
    "size_filters = [int(best_params_dict['size_filter_' + str(i)]) for i in range(num_layer)]\n",
    "dense_num = int(best_params_dict['dense_num'])\n",
    "batch_size = int(best_params_dict['batch_size'])\n",
    "# Uniform parameter\n",
    "# Loguniform parameter\n",
    "lr = best_params_dict['learning_rate']\n",
    "decay = best_params_dict['decay']\n",
    "# Discrete-uniform parameter\n",
    "dropout_rate_in = best_params_dict['dropout_rate_in']\n",
    "dropout_rate_out = best_params_dict['dropout_rate_out']\n",
    "momentum = best_params_dict['momentum']\n",
    "# Categorical parameter\n",
    "padding = best_params_dict['padding']\n",
    "\n",
    "\n",
    "# Model Checkpoint ------------------\n",
    "cp_cb = ModelCheckpoint(\n",
    "    './weights/best_weights.hdf5',\n",
    "    monitor = 'val_loss',\n",
    "    verbose = 1,\n",
    "    save_best_only = True,\n",
    "    save_weights_only = True,\n",
    "    mode = 'auto')\n",
    "# Logging ----------------------------------------\n",
    "log_dir = os.path.join('./logs/')\n",
    "tb_cb = TensorBoard(log_dir=log_dir, histogram_freq=1, write_graph=True)\n",
    "es_cb = EarlyStopping(monitor = 'val_loss', patience = int(best_epochs/10), verbose = 1)\n",
    "\n",
    "cbs = [cp_cb, tb_cb, es_cb]\n",
    "# Train Best_Model ----------------------------------\n",
    "# For CPU run ------------------\n",
    "best_model = create_model(image_shape, num_layer, padding, dense_num, num_filters, size_filters, dropout_rate_in, dropout_rate_out)\n",
    "sgd = optimizers.SGD(lr = lr, decay = decay, momentum = momentum, nesterov = True, clipvalue = 1.0)\n",
    "\n",
    "best_model.compile(optimizer = sgd, loss = 'sparse_categorical_crossentropy')\n",
    "hist = best_model.fit(\n",
    "    train_datagen.flow(X_train, Y_train, batch_size = (2**batch_size) * gpus),\n",
    "    epochs = best_epochs,\n",
    "    callbacks = cbs,\n",
    "    shuffle = True,\n",
    "    verbose = 1,\n",
    "    initial_epoch = 0,\n",
    "    use_multiprocessing = False)\n",
    "\n",
    "# Save Model -----------------------------------\n",
    "best_model.save(os.path.join(model_path, \"best_model.hdf5\"))"
   ]
  },
  {
   "cell_type": "code",
   "execution_count": null,
   "metadata": {},
   "outputs": [],
   "source": [
    "\n",
    "# ロードだけでも動くように変数の再定義=============================================\n",
    "# ==============================================================================\n",
    "# ==============================================================================\n",
    "# ==============================================================================\n",
    "# ==============================================================================\n",
    "# Data Loader ------------------------------\n",
    "best_model = load_model(os.path.join(model_path, \"best_model.hdf5\"))\n",
    "df = pkl_loader(os.path.join(data_path, f'df_{N}x{N}.pkl'))\n",
    "# Data converter ----------------------------------------------\n",
    "filenames, X, Y, point, region = df[0], df[1], df[2], df[3], df[4]\n",
    "image_shape = (X.shape[1], X.shape[2], X.shape[3])\n",
    "num_category = len(np.unique(Y))\n",
    "# Data splitting ----------------------------------------------\n",
    "X_files, Y_files, X_train, X_test, Y_train, Y_test, region_train, _, train_point, _ = train_test_split(filenames, X, Y, region, point, test_size=0.2, random_state=31)\n",
    "X_train_mean = X_train.mean()\n",
    "X_train_std = X_train.std()\n",
    "X_train = (X_train - X_train_mean)/X_train_std\n",
    "X_test = (X_test - X_train_mean)/X_train_std\n",
    "# ==============================================================================\n",
    "# ==============================================================================\n",
    "# ==============================================================================\n",
    "# ==============================================================================\n",
    "\n",
    "\n",
    "Y_test_pred = [ np.array(best_model.predict(X_test).argmax(axis=1))]\n",
    "np.savetxt('y_test_pred.txt', Y_test_pred)\n",
    "with open(\"best_model_summary.txt\", \"w\") as fp:\n",
    "    best_model.summary(print_fn=lambda x: fp.write(x + \"\\r\\n\"))\n",
    "    \n",
    "print('finished...')"
   ]
  },
  {
   "cell_type": "code",
   "execution_count": null,
   "metadata": {},
   "outputs": [],
   "source": [
    "(np.array(Y_test_pred).astype(int) == Y_test.astype(int)).sum() / len(Y_test)"
   ]
  },
  {
   "cell_type": "code",
   "execution_count": null,
   "metadata": {},
   "outputs": [],
   "source": [
    "region_image_generator(point, region)"
   ]
  },
  {
   "cell_type": "code",
   "execution_count": null,
   "metadata": {},
   "outputs": [],
   "source": []
  }
 ],
 "metadata": {
  "kernelspec": {
   "display_name": "Python 3",
   "language": "python",
   "name": "python3"
  },
  "language_info": {
   "codemirror_mode": {
    "name": "ipython",
    "version": 3
   },
   "file_extension": ".py",
   "mimetype": "text/x-python",
   "name": "python",
   "nbconvert_exporter": "python",
   "pygments_lexer": "ipython3",
   "version": "3.7.9"
  }
 },
 "nbformat": 4,
 "nbformat_minor": 4
}
