{
 "cells": [
  {
   "cell_type": "markdown",
   "metadata": {},
   "source": [
    "# 変数定義\n",
    "\n",
    "4 seasons * 7 bandsのデータ"
   ]
  },
  {
   "cell_type": "code",
   "execution_count": 1,
   "metadata": {
    "code_folding": []
   },
   "outputs": [],
   "source": [
    "# define vars ---------------------------------------------\n",
    "under = 90\n",
    "gpu_list = ['/gpu:0', '/gpu:1']\n",
    "SEED = 31\n",
    "DEM = True\n",
    "\n",
    "# 共通params ---------------------------------------------------\n",
    "n_trials  = 2**5          # ベイズ最適化回数\n",
    "outer_cvs = 10\n",
    "inner_cvs = 10\n",
    "\n",
    "# CNN Training params ------------------------------------------\n",
    "train_epochs = 2**5      # エポック数\n",
    "best_epochs = 2**5       # 最終モデル決定用のエポック数\n",
    "early_stopping = 2**3    # \n",
    "\n",
    "# LightGBM params -----------------------------------------------\n",
    "lgb_boosting_type = 'gbdt'\n",
    "\n",
    "import os, zipfile, io, re\n",
    "os.environ[\"OMP_NUM_THREADS\"] = \"3\""
   ]
  },
  {
   "cell_type": "markdown",
   "metadata": {},
   "source": [
    "# Init"
   ]
  },
  {
   "cell_type": "code",
   "execution_count": 2,
   "metadata": {
    "code_folding": [
     0
    ]
   },
   "outputs": [
    {
     "name": "stderr",
     "output_type": "stream",
     "text": [
      "Using TensorFlow backend.\n"
     ]
    }
   ],
   "source": [
    "# imports\n",
    "# Utils -----------------------\n",
    "import numpy as np\n",
    "import scipy.stats as stats\n",
    "import pandas as pd\n",
    "import seaborn as sns\n",
    "import matplotlib.pyplot as plt\n",
    "\n",
    "from PIL import Image, ImageOps\n",
    "import random\n",
    "import pickle\n",
    "import datetime\n",
    "import gc\n",
    "from tqdm import tqdm\n",
    "import warnings\n",
    "import seaborn as sns\n",
    "from glob import glob\n",
    "import ipynb_path\n",
    "from math import sqrt\n",
    "import tifffile\n",
    "# Machine Learning ---------------\n",
    "import lightgbm as LGB\n",
    "from xgboost import XGBClassifier\n",
    "from lightgbm import LGBMClassifier\n",
    "from sklearn.ensemble import RandomForestClassifier\n",
    "from sklearn.svm import SVC\n",
    "from sklearn.linear_model import LogisticRegression\n",
    "from sklearn.model_selection import KFold, StratifiedKFold, cross_validate\n",
    "from sklearn.model_selection import GridSearchCV, train_test_split\n",
    "from sklearn.metrics import mean_squared_error\n",
    "from sklearn.metrics import confusion_matrix\n",
    "from sklearn.metrics import mean_squared_error\n",
    "from sklearn.metrics import confusion_matrix, classification_report\n",
    "from sklearn.cluster import KMeans\n",
    "from optuna import integration\n",
    "import optuna\n",
    "import optuna.integration.lightgbm as lgb\n",
    "# Keras, TensorFlow ---------------\n",
    "import tensorflow as tf\n",
    "from tensorflow import keras\n",
    "from keras.models import Model, load_model, Sequential\n",
    "from keras.layers import Dense, Dropout, Activation, Flatten, Conv2D, GlobalAveragePooling2D, AveragePooling2D, MaxPooling2D, BatchNormalization, Convolution2D, Input\n",
    "from keras import optimizers\n",
    "from keras.utils import multi_gpu_model\n",
    "from keras.utils.np_utils import to_categorical\n",
    "from keras.callbacks import ModelCheckpoint, EarlyStopping, TensorBoard\n",
    "from keras.preprocessing.image import ImageDataGenerator\n",
    "from keras import backend as K\n",
    "from keras.backend.tensorflow_backend import set_session\n",
    "\n",
    "os.environ[\"TF_CPP_MIN_LOG_LEVEL\"] = \"2\"\n",
    "warnings.filterwarnings('ignore')\n",
    "SEED = 31\n",
    "np.random.seed(SEED)\n",
    "gpus = len(gpu_list)"
   ]
  },
  {
   "cell_type": "code",
   "execution_count": 3,
   "metadata": {
    "code_folding": [
     0,
     1,
     5,
     10,
     14,
     60,
     78,
     127,
     181,
     182,
     227,
     245,
     293,
     345,
     359,
     411,
     429,
     455,
     468,
     481,
     496,
     502,
     514,
     587,
     602
    ]
   },
   "outputs": [],
   "source": [
    "# define functions\n",
    "def pkl_saver(object, pkl_filename):\n",
    "    with open(pkl_filename, 'wb') as web:\n",
    "        pickle.dump(object , web)\n",
    "\n",
    "def pkl_loader(pkl_filename):\n",
    "    with open(pkl_filename, 'rb') as web:\n",
    "        data = pickle.load(web)\n",
    "    return data\n",
    "\n",
    "def dir_generator(dir_path):\n",
    "    if os.path.exists(dir_path) == False:\n",
    "        os.mkdir(dir_path)\n",
    "\n",
    "def train_import():\n",
    "    if os.path.exists(data_path + f'df_{N}x{N}.pkl'):\n",
    "        df = pkl_loader(data_path + f'df_{N}x{N}.pkl')\n",
    "    else:\n",
    "        trial = int(len(imgfiles)/28)\n",
    "        X = [] # X: 説明変数 = (N*N)*(7*4)のデータ\n",
    "        Y = [] # Y: 目的変数\n",
    "        point = [] # point: 緯度経度\n",
    "        X_28 = []\n",
    "        Y_28 = 0\n",
    "        point_28 = []\n",
    "        filenames = []\n",
    "        max_light = 0\n",
    "        print('inputdata_processing...')\n",
    "\n",
    "        for box in tqdm(range(trial)):\n",
    "            for imgfile in imgfiles[box*28: (box+1)*28]:\n",
    "                # ZIPから画像読み込み\n",
    "                image = tifffile.imread(imgfile)\n",
    "        #         print(image.shape)\n",
    "                file = os.path.basename(imgfile)\n",
    "                file_split = [i for i in file.split('_')]\n",
    "                X_28.append(image)\n",
    "            Y_28 = file_split[5].split(\".\")[0]\n",
    "            point_28 = [float(file_split[1]), float(file_split[2])]\n",
    "            filenames.append(f\"{file_split[0]}_{file_split[1]}_{file_split[2]}_{Y_28}\")\n",
    "            X.append(X_28[box*28: (box+1)*28])\n",
    "            Y.append(Y_28)\n",
    "            point.append(point_28)\n",
    "        del X_28, Y_28, point_28\n",
    "        X = np.asarray(X)\n",
    "        print(X.shape)\n",
    "        X = X.transpose(0,2,3,1)\n",
    "        print(X.shape)\n",
    "        Y = np.array(Y)\n",
    "        filenames = np.array(filenames)\n",
    "        point = np.array(point)\n",
    "        region = KMeans(n_clusters = outer_cvs, random_state=SEED).fit(point).labels_\n",
    "        # label encorder===========================================\n",
    "        labels = ['Water', 'Urban and built-up', 'Rice paddy',  'Crops', 'Grassland', 'DBF', 'DNF', 'EBF', 'ENF', 'Bare land' ]\n",
    "        for i in range(len(labels)):\n",
    "            Y[Y==labels[i]] = int(i)\n",
    "        df = [filenames, X, Y, point, region]\n",
    "        pkl_saver(df, os.path.join(data_path, f'df_{N}x{N}.pkl'))\n",
    "        \n",
    "    return df[0], df[1], df[2], df[3], df[4]\n",
    "def train_transform():\n",
    "    if os.path.exists(data_path + f'df_{N}x{N}_{standarization[standarization_num]}.pkl'):\n",
    "        df_train = pkl_loader(data_path + f'df_{N}x{N}_{standarization[standarization_num]}.pkl')\n",
    "        print(\"train_df をインポートしたよ！\")\n",
    "    else:\n",
    "        print(\"pklを新しく作成中ですが，標準化・正規化のコードに書き直しましたか？\")\n",
    "        X_train_zeros = np.zeros((X_train.shape[0], N*N*28))\n",
    "        for i in range(len(X_train)):\n",
    "            for k in range(N):\n",
    "                for l in range(N):\n",
    "                    for j in range(28):\n",
    "                        X_train_zeros[i][j+k+l] = X_train[i][k][l][j]\n",
    "        # X_train の名前が重複していたので違う名前に変えた. X_train_tmp\n",
    "        X_train_tmp = X_train_zeros\n",
    "        df_train = pd.concat([make_df(Y_train), make_df(X_train_tmp)], axis=1)\n",
    "        pkl_saver(df_train, os.path.join(data_path, f'df_{N}x{N}_{standarization[standarization_num]}.pkl'))\n",
    "        \n",
    "    return df_train.iloc[:, 1:], make_df(Y_train)\n",
    "def train_dem_import():\n",
    "    if os.path.exists(data_path + f'df_{N}x{N}_dem.pkl'):\n",
    "        df = pkl_loader(data_path + f'df_{N}x{N}_dem.pkl')\n",
    "    else:\n",
    "        trial = int(len(imgfiles)/28)\n",
    "        X = [] # X: 説明変数 = (N*N)*(7*4)のデータ\n",
    "        Y = [] # Y: 目的変数\n",
    "        point = [] # point: 緯度経度\n",
    "        X_28 = []\n",
    "        Y_28 = 0\n",
    "        point_28 = []\n",
    "        filenames = []\n",
    "        max_light = 0\n",
    "        print('inputdata_processing...')\n",
    "\n",
    "        for box in tqdm(range(trial)):\n",
    "            for imgfile in imgfiles[box*28: (box+1)*28]:\n",
    "                # ZIPから画像読み込み\n",
    "                image = tifffile.imread(imgfile)[0][0]\n",
    "        #         print(image.shape)\n",
    "                file = os.path.basename(imgfile)\n",
    "                file_split = [i for i in file.split('_')]\n",
    "                X_28.append(image)\n",
    "            dem_data = tifffile.imread(train_dem_files[box])[0][0]\n",
    "            X_28.append(dem_data)\n",
    "            Y_28 = file_split[5].split(\".\")[0]\n",
    "            point_28 = [float(file_split[1]), float(file_split[2])]\n",
    "            filenames.append(f\"{file_split[0]}_{file_split[1]}_{file_split[2]}_{Y_28}\")\n",
    "            X.append(X_28[box*29: (box+1)*29])\n",
    "            Y.append(Y_28)\n",
    "            point.append(point_28)\n",
    "    #         if box==100:break\n",
    "        del X_28, Y_28, point_28\n",
    "        X = np.asarray(X)\n",
    "        print(X.shape)\n",
    "    #     X = X.transpose(0,2,3,1)\n",
    "        print(X.shape)\n",
    "        Y = np.array(Y)\n",
    "        filenames = np.array(filenames)\n",
    "        point = np.array(point)\n",
    "        region = KMeans(n_clusters = outer_cvs, random_state=SEED).fit(point).labels_\n",
    "        # label encorder===========================================\n",
    "        labels = ['Water', 'Urban and built-up', 'Rice paddy',  'Crops', 'Grassland', 'DBF', 'DNF', 'EBF', 'ENF', 'Bare land' ]\n",
    "        for i in range(len(labels)):\n",
    "            Y[Y==labels[i]] = int(i)\n",
    "        df = [filenames, X, Y, point, region]\n",
    "        pkl_saver(df, os.path.join(data_path, f'df_{N}x{N}_dem.pkl'))\n",
    "    \n",
    "    return df[0], df[1], df[2], df[3], df[4]\n",
    "def train_3x3_dem_import():\n",
    "    if os.path.exists(data_path + f'df_{N}x{N}_dem.pkl'):\n",
    "        df = pkl_loader(data_path + f'df_{N}x{N}_dem.pkl')\n",
    "    else:\n",
    "        trial = int(len(imgfiles)/28)\n",
    "        X = [] # X: 説明変数 = (N*N)*(7*4)のデータ\n",
    "        Y = [] # Y: 目的変数\n",
    "        point = [] # point: 緯度経度\n",
    "        X_28 = []\n",
    "        Y_28 = 0\n",
    "        point_28 = []\n",
    "        filenames = []\n",
    "        max_light = 0\n",
    "        print('inputdata_processing...')\n",
    "\n",
    "        for box in tqdm(range(trial)):\n",
    "            for imgfile in imgfiles[box*28: (box+1)*28]:\n",
    "                # ZIPから画像読み込み\n",
    "                image = tifffile.imread(imgfile)\n",
    "        #         print(image.shape)\n",
    "                file = os.path.basename(imgfile)\n",
    "                file_split = [i for i in file.split('_')]\n",
    "                for i in range(N):\n",
    "                    for j in range(N):\n",
    "                        X_28.append(image[i][j])\n",
    "            dem_data = tifffile.imread(train_dem_files[box])\n",
    "            for i in range(N):\n",
    "                for j in range(N):\n",
    "                    X_28.append(dem_data[i*3+1][j*3+1])\n",
    "            Y_28 = file_split[5].split(\".\")[0]\n",
    "            point_28 = [float(file_split[1]), float(file_split[2])]\n",
    "            filenames.append(f\"{file_split[0]}_{file_split[1]}_{file_split[2]}_{Y_28}\")\n",
    "            X.append(X_28[box*29*N*N: (box+1)*29*N*N])\n",
    "            Y.append(Y_28)\n",
    "            point.append(point_28)\n",
    "#             if box==100:break\n",
    "\n",
    "        del X_28, Y_28, point_28\n",
    "\n",
    "        X = np.asarray(X)\n",
    "        print(X.shape)\n",
    "        Y = np.array(Y)\n",
    "        filenames = np.array(filenames)\n",
    "        point = np.array(point)\n",
    "        region = KMeans(n_clusters = outer_cvs, random_state=SEED).fit(point).labels_\n",
    "        # label encorder===========================================\n",
    "        labels = ['Water', 'Urban and built-up', 'Rice paddy',  'Crops', 'Grassland', 'DBF', 'DNF', 'EBF', 'ENF', 'Bare land' ]\n",
    "        for i in range(len(labels)):\n",
    "            Y[Y==labels[i]] = int(i)\n",
    "        df = [filenames, X, Y, point, region]\n",
    "        pkl_saver(df, os.path.join(data_path, f'df_{N}x{N}_dem.pkl'))\n",
    "    \n",
    "    return df[0], df[1], df[2], df[3], df[4]\n",
    "        \n",
    "def test_import():\n",
    "    if os.path.exists(data_path + f'df_{N}x{N}_testset.pkl'):\n",
    "        df = pkl_loader(data_path + f'df_{N}x{N}_testset.pkl')\n",
    "    else:\n",
    "        trial = int(len(testfiles)/28)\n",
    "    #     trial = 100\n",
    "        X = [] # X: 説明変数 = (N*N)*(7*4)のデータ\n",
    "        Y = [] # Y: 目的変数\n",
    "        point = [] # point: 緯度経度\n",
    "        X_28 = []\n",
    "        Y_28 = 0\n",
    "        point_28 = []\n",
    "        filenames = []\n",
    "        max_light = 0\n",
    "        print('inputdata_processing...')\n",
    "\n",
    "        labels = ['Water', 'Urban and built-up', 'Rice paddy',  'Crops', 'Grassland', 'DBF', 'DNF', 'EBF', 'ENF', 'Bare land' ]\n",
    "        for box in tqdm(range(trial)):\n",
    "            for imgfile in testfiles[box*28: (box+1)*28]:\n",
    "                # ZIPから画像読み込み\n",
    "                image = tifffile.imread(imgfile)\n",
    "        #         print(image.shape)\n",
    "                file = os.path.basename(imgfile)\n",
    "                file_split = [i for i in file.split('_')]\n",
    "                X_28.append(image)\n",
    "\n",
    "            Y_28 = int(file_split[4].split(\".\")[0]) - 1\n",
    "    #         print(file_split, Y_28)\n",
    "            point_28 = [float(file_split[0]), float(file_split[1])]\n",
    "            filenames.append(f\"test_{file_split[0]}_{file_split[1]}_{labels[Y_28]}\")\n",
    "            X.append(X_28[box*28: (box+1)*28])\n",
    "            Y.append(Y_28)\n",
    "            point.append(point_28)\n",
    "        del X_28, Y_28, point_28\n",
    "        X = np.asarray(X)\n",
    "        print(X.shape)\n",
    "        X = X.transpose(0,2,3,1)\n",
    "        print(X.shape)\n",
    "        Y = np.array(Y)\n",
    "        filenames = np.array(filenames)\n",
    "        point = np.array(point)\n",
    "        region = KMeans(n_clusters = outer_cvs, random_state=SEED).fit(point).labels_\n",
    "        df = [filenames, X, Y, point, region]\n",
    "        pkl_saver(df, os.path.join(data_path, f'df_{N}x{N}_testset.pkl'))\n",
    "        \n",
    "    return df\n",
    "def test_transform():\n",
    "    if os.path.exists(data_path + f'df_{N}x{N}_test_{standarization[standarization_num]}.pkl'):\n",
    "        df_test = pkl_loader(data_path + f'df_{N}x{N}_test_{standarization[standarization_num]}.pkl')\n",
    "        print(\"test_df をインポートしたよ！\")\n",
    "    else:\n",
    "        print(\"pklを新しく作成中ですが，標準化・正規化のコードに書き直しましたか？\")\n",
    "        X_test_zeros = np.zeros((X_test.shape[0], N*N*28))\n",
    "        for i in range(len(X_test)):\n",
    "            for k in range(N):\n",
    "                for l in range(N):\n",
    "                    for j in range(28):\n",
    "                        X_test_zeros[i][j+k+l] = X_test[i][k][l][j]\n",
    "        # X_test の名前が重複していたので違う名前に変えた. X_test_tmp\n",
    "        X_test_tmp = X_test_zeros\n",
    "        df_test = pd.concat([make_df(Y_test), make_df(X_test_tmp)], axis=1)\n",
    "        pkl_saver(df_test, os.path.join(data_path, f'df_{N}x{N}_test_{standarization[standarization_num]}.pkl'))\n",
    "        \n",
    "    return df_test.iloc[:, 1:], make_df(Y_test)\n",
    "def test_dem_import():\n",
    "    if os.path.exists(data_path + f'df_{N}x{N}_test_dem.pkl'):\n",
    "        df = pkl_loader(data_path + f'df_{N}x{N}_test_dem.pkl')\n",
    "    else:\n",
    "        trial = int(len(testfiles)/28)\n",
    "        X = [] # X: 説明変数 = (N*N)*(7*4)のデータ\n",
    "        Y = [] # Y: 目的変数\n",
    "        point = [] # point: 緯度経度\n",
    "        X_28 = []\n",
    "        Y_28 = 0\n",
    "        point_28 = []\n",
    "        filenames = []\n",
    "        max_light = 0\n",
    "        print('inputdata_processing...')\n",
    "\n",
    "        for box in tqdm(range(trial)):\n",
    "            for testfile in testfiles[box*28: (box+1)*28]:\n",
    "                # ZIPから画像読み込み\n",
    "                image = tifffile.imread(testfile)\n",
    "        #         print(image.shape)\n",
    "                file = os.path.basename(testfile)\n",
    "                file_split = [i for i in file.split('_')]\n",
    "                X_28.append(image[0][0])\n",
    "            dem_data = tifffile.imread(test_dem_files[box])[0][0]\n",
    "            X_28.append(dem_data)\n",
    "            Y_28 = file_split[4].split(\".\")[0]\n",
    "            point_28 = [float(file_split[0]), float(file_split[1])]\n",
    "            filenames.append(f\"{box}_{file_split[0]}_{file_split[1]}_{Y_28}\")\n",
    "            X.append(X_28[box*29: (box+1)*29])\n",
    "            Y.append(Y_28)\n",
    "            point.append(point_28)\n",
    "    #         if box==100:break\n",
    "        del X_28, Y_28, point_28\n",
    "        X = np.asarray(X)\n",
    "    #     X = X.transpose(0,2,3,1)\n",
    "        print(X.shape)\n",
    "        Y = np.array(Y)\n",
    "        filenames = np.array(filenames)\n",
    "        point = np.array(point)\n",
    "        region = KMeans(n_clusters = outer_cvs, random_state=SEED).fit(point).labels_\n",
    "        # label encorder===========================================\n",
    "        labels = ['Water', 'Urban and built-up', 'Rice paddy',  'Crops', 'Grassland', 'DBF', 'DNF', 'EBF', 'ENF', 'Bare land' ]\n",
    "        for i in range(len(labels)):\n",
    "            Y[Y==labels[i]] = int(i)\n",
    "        df = [filenames, X, Y, point, region]\n",
    "        pkl_saver(df, os.path.join(data_path, f'df_{N}x{N}_test_dem.pkl'))\n",
    "        \n",
    "    return df[0], df[1], df[2], df[3], df[4]\n",
    "def test_3x3_dem_import():\n",
    "    if os.path.exists(data_path + f'df_{N}x{N}_test_dem.pkl'):\n",
    "        df = pkl_loader(data_path + f'df_{N}x{N}_test_dem.pkl')\n",
    "    else:\n",
    "        trial = int(len(testfiles)/28)\n",
    "        X = [] # X: 説明変数 = (N*N)*(7*4)のデータ\n",
    "        Y = [] # Y: 目的変数\n",
    "        point = [] # point: 緯度経度\n",
    "        X_28 = []\n",
    "        Y_28 = 0\n",
    "        point_28 = []\n",
    "        filenames = []\n",
    "        max_light = 0\n",
    "        print('inputdata_processing...')\n",
    "\n",
    "        for box in tqdm(range(trial)):\n",
    "            for testfile in testfiles[box*28: (box+1)*28]:\n",
    "                # ZIPから画像読み込み\n",
    "                image = tifffile.imread(testfile)\n",
    "        #         print(image.shape)\n",
    "                file = os.path.basename(testfile)\n",
    "                file_split = [i for i in file.split('_')]\n",
    "                for i in range(N):\n",
    "                    for j in range(N):\n",
    "                        X_28.append(image[i][j])\n",
    "            dem_data = tifffile.imread(test_dem_files[box])\n",
    "            for i in range(N):\n",
    "                for j in range(N):\n",
    "                    X_28.append(dem_data[i*3+1][j*3+1])\n",
    "            Y_28 = file_split[4].split(\".\")[0]\n",
    "            point_28 = [float(file_split[0]), float(file_split[1])]\n",
    "            filenames.append(f\"{box}_{file_split[0]}_{file_split[1]}_{Y_28}\")\n",
    "            X.append(X_28[box*29*N*N: (box+1)*29*N*N])\n",
    "            Y.append(Y_28)\n",
    "            point.append(point_28)\n",
    "#             if box==100:break\n",
    "        del X_28, Y_28, point_28\n",
    "        X = np.asarray(X)\n",
    "        print(X.shape)\n",
    "        Y = np.array(Y)\n",
    "        filenames = np.array(filenames)\n",
    "        point = np.array(point)\n",
    "        region = KMeans(n_clusters = outer_cvs, random_state=SEED).fit(point).labels_\n",
    "        # label encorder===========================================\n",
    "        labels = ['Water', 'Urban and built-up', 'Rice paddy',  'Crops', 'Grassland', 'DBF', 'DNF', 'EBF', 'ENF', 'Bare land' ]\n",
    "        for i in range(len(labels)):\n",
    "            Y[Y==labels[i]] = int(i)\n",
    "        df = [filenames, X, Y, point, region]\n",
    "        pkl_saver(df, os.path.join(data_path, f'df_{N}x{N}_test_dem.pkl'))\n",
    "        \n",
    "    return df[0], df[1], df[2], df[3], df[4]\n",
    "\n",
    "def data_splitter_cv(filenames, X, Y, cv, region, point):\n",
    "    test_index = np.where(region==cv)\n",
    "    train_index = np.setdiff1d(np.arange(0, X.shape[0], 1), test_index)\n",
    "    train_files = filenames[train_index]\n",
    "    test_files = filenames[test_index]\n",
    "    X_test = X[test_index]\n",
    "    Y_test = Y[test_index]\n",
    "    X_train = X[train_index]\n",
    "    Y_train = Y[train_index]\n",
    "    train_region = region[train_index]\n",
    "    train_point = point[train_index]\n",
    "    return train_files, test_files, X_train, X_test, Y_train, Y_test, train_region, train_point\n",
    "\n",
    "# Loss Definition ----------------------------------\n",
    "def opt_cnn(trial):\n",
    "    # Opt params -----------------------\n",
    "    # Categorical parameter\n",
    "    num_layer = trial.suggest_int('num_layer', 1, 2)\n",
    "    dense_num = trial.suggest_int('dense_num', 3, 7)\n",
    "    num_filters = [int(trial.suggest_discrete_uniform(f'num_filter_{i}', 7, 10, 1)) for i in range(num_layer)]\n",
    "    size_filters = [int(trial.suggest_discrete_uniform(f'size_filter_{i}', 3, 3, 1)) for i in range(num_layer)]\n",
    "    batch_size = trial.suggest_int('batch_size', 1, 5)\n",
    "    # Model Compiler -----------------------\n",
    "    lr = trial.suggest_loguniform('learning_rate', 1e-5, 1e-2)\n",
    "    decay = trial.suggest_loguniform('decay', 1e-6, 1e-3)\n",
    "    # Discrete-uniform parameter\n",
    "    dropout_rate_in = trial.suggest_discrete_uniform('dropout_rate_in', 0.0, 0.5, 0.1)\n",
    "    dropout_rate_out = trial.suggest_discrete_uniform('dropout_rate_out', 0.0, 0.5, 0.1)\n",
    "    momentum = trial.suggest_discrete_uniform('momentum', 0.0, 0.5, 0.1)\n",
    "    # categorical parameter\n",
    "#    optimizer = trial.suggest_categorical(\"optimizer\", [\"sgd\", \"momentum\", \"rmsprop\", \"adam\"])\n",
    "    padding = \"same\"\n",
    "#     padding = trial.suggest_categorical('padding', ['same'])\n",
    "    # compile model-------------------\n",
    "#     from IPython.core.debugger import Pdb; Pdb().set_trace()\n",
    "    model = create_model(image_shape, num_layer, padding, dense_num, num_filters, size_filters, dropout_rate_in, dropout_rate_out)\n",
    "    sgd = optimizers.SGD(lr = lr, decay = decay, momentum = momentum, nesterov = True)\n",
    "#    sgd = optimizers.SGD(lr = lr, decay = decay, momentum = momentum, nesterov = True, clipvalue = 1.0)\n",
    "    # For CPU run ------------------\n",
    "    model.compile(optimizer = sgd, loss = 'sparse_categorical_crossentropy', metrics=['accuracy'])\n",
    "    # Train Model ----------------------------------\n",
    "    es_cb = EarlyStopping(monitor = 'val_loss', patience = early_stopping, verbose = 0)\n",
    "    pr_cb = integration.TFKerasPruningCallback(trial, 'val_loss')\n",
    "    cbs = [es_cb, pr_cb]\n",
    "    loss_list, acc_list = [], []\n",
    "    for inner_cv in range(0, inner_cvs):\n",
    "        print(\"outer_cv =\", outer_cv, \"    inner_cv = \", inner_cv)\n",
    "        _, _, X_inner_train, X_inner_val, Y_inner_train, Y_inner_val, _, _ = data_splitter_cv(train_files, X_outer_train, Y_outer_train, inner_cv, val_train_region, val_train_point)\n",
    "        hist = model.fit(\n",
    "            train_datagen.flow(X_inner_train, Y_inner_train, batch_size = (2**batch_size) * gpus),\n",
    "            epochs = train_epochs,\n",
    "            validation_data = (X_inner_val, Y_inner_val),\n",
    "            callbacks = cbs,\n",
    "            shuffle = True,\n",
    "            verbose = 0,\n",
    "            use_multiprocessing = False)\n",
    "        loss_list += [model.evaluate(X_inner_val, Y_inner_val)[0]]\n",
    "        acc_list += [model.evaluate(X_inner_val, Y_inner_val)[1]]\n",
    "    del model\n",
    "    keras.backend.clear_session()\n",
    "    gc.collect()\n",
    "    eval_loss = np.mean(loss_list)\n",
    "    eval_acc = np.mean(acc_list)\n",
    "    print(\"eval_acc = \", eval_acc)\n",
    "    return eval_loss\n",
    "\n",
    "def create_model(image_shape, num_layer, padding, dense_num, num_filters, size_filters, dropout_rate_in, dropout_rate_out):\n",
    "    inputs = Input(image_shape)\n",
    "    for d in gpu_list:\n",
    "        with tf.device(d):\n",
    "            x = Dropout(dropout_rate_in)(inputs)\n",
    "            x = Convolution2D(filters = 2**num_filters[0], kernel_size = (size_filters[0],size_filters[0]), padding = \"same\", activation = 'relu')(x)\n",
    "            for i in range(1, num_layer):\n",
    "                x = Convolution2D(filters = 2**num_filters[i],\n",
    "                                  kernel_size = (size_filters[i], size_filters[i]),\n",
    "                                  padding = padding,\n",
    "                                  activation = 'relu')(x)\n",
    "            x = GlobalAveragePooling2D()(x)\n",
    "            x = Dropout(dropout_rate_out)(x)\n",
    "            x = Dense(units = 2**dense_num, activation = 'relu')(x)\n",
    "            x = Dense(units = num_category, activation = 'softmax')(x)\n",
    "            model = Model(inputs = inputs, outputs = x)\n",
    "    return model\n",
    "\n",
    "def mean_params_calc(param_names):\n",
    "    dict = {}\n",
    "    categoricals = ['padding']\n",
    "    for param_name in param_names:\n",
    "        data_num = 0\n",
    "        if param_name not in categoricals:\n",
    "            for data in best_params:\n",
    "                try:\n",
    "                    try:\n",
    "                        dict[param_name] += data[param_name]\n",
    "                    except:\n",
    "                        dict[param_name] = data[param_name]\n",
    "                    data_num = data_num + 1\n",
    "                except:\n",
    "                    pass\n",
    "            dict[param_name] = dict[param_name]/data_num\n",
    "        else:\n",
    "            categorical_list = []\n",
    "            for data in best_params:\n",
    "                try:\n",
    "                    categorical_list = categorical_list + [data[param_name]]\n",
    "                except:\n",
    "                    pass\n",
    "            dict[param_name] = stats.mode(categorical_list)[0][0]\n",
    "    return dict\n",
    "\n",
    "def cv_result_imgs_generator(model, history):\n",
    "    # Visualize Loss Results ----------------------------\n",
    "    plt.figure(figsize=(18,6))\n",
    "    plt.plot(history.history[\"loss\"], label=\"loss\", marker=\"o\")\n",
    "    plt.plot(history.history[\"val_loss\"], label=\"val_loss\", marker=\"o\")\n",
    "    plt.ylabel(\"loss\")\n",
    "    plt.xlabel(\"epoch\")\n",
    "    plt.title(\"\")\n",
    "    plt.legend(loc=\"best\")\n",
    "    plt.grid(color='gray', alpha=0.2)\n",
    "    plt.savefig('./img_loss/' + str(outer_cv) + '_loss.jpg')\n",
    "    plt.close()\n",
    "\n",
    "def region_image_generator(point, region):\n",
    "    data_num = int(len(imgfiles)/28)\n",
    "    cmap = plt.get_cmap(\"tab10\")\n",
    "    fig = plt.figure()\n",
    "    ax = fig.add_subplot(1,1,1)\n",
    "    ax.scatter(point[:data_num][:,0],point[:data_num][:,1], marker='o', s=5, color=cmap(region))\n",
    "    ax.set_title(\"Region in Japan\")\n",
    "    ax.set_xlabel(\"longitude\")\n",
    "    ax.set_ylabel(\"latitude\")\n",
    "    ax.set_xlim([120, 155])\n",
    "    ax.set_ylim([20, 50])\n",
    "    fig.savefig('./region_separate.png')\n",
    "\n",
    "def make_dirs(model_name):\n",
    "    base_path = os.path.join(result_path , model_name)\n",
    "    # dir generation\n",
    "    dir_generator(base_path)\n",
    "    # Chenge current directry\n",
    "    os.mkdir(os.path.join(base_path, timename))\n",
    "    os.chdir(os.path.join(base_path, timename))\n",
    "    dir_generator(model_path)\n",
    "    dir_generator(\"./results/\")\n",
    "    dir_generator(\"./img_loss/\")\n",
    "    dir_generator(\"./model/\")\n",
    "    dir_generator(\"./weights/\")\n",
    "    dir_generator(\"./logs/\")\n",
    "    dir_generator(\"./outer_cv_times/\")\n",
    "\n",
    "def time_printer(start_time):\n",
    "    end_time = datetime.datetime.now()\n",
    "    spend_time = f\"Outer_cv time is {end_time - start_time} seconds.\"\n",
    "    \n",
    "# LightGBM ----------------------------------------------------\n",
    "# -------------------------------------------------------------\n",
    "def opt_lgb(trial):\n",
    "    if lgb_boosting_type == \"gbdt\":\n",
    "        param_grid_lgb = {\n",
    "    #         \"device\": \"gpu\",\n",
    "            'boosting_type': lgb_boosting_type,\n",
    "            'num_leaves': trial.suggest_int(\"num_leaves\", 15, 35),\n",
    "            'max_depth': trial.suggest_int(\"max_depth\", 5, 15),\n",
    "    #         'n_estimators': trial.suggest_int(\"n_estimators\", 70, 120),\n",
    "            'learning_rate': trial.suggest_loguniform(\"learning_rate\", 1e-8, 0.3),\n",
    "            \"random_state\": SEED\n",
    "        }\n",
    "    elif lgb_boosting_type ==\"rf\":\n",
    "        param_grid_lgb = {\n",
    "            'boosting_type': lgb_boosting_type,\n",
    "            'num_leaves': trial.suggest_int(\"num_leaves\", 15, 35),\n",
    "            'max_depth': trial.suggest_int(\"max_depth\", 5, 15),\n",
    "    #         'n_estimators': trial.suggest_int(\"n_estimators\", 70, 120),\n",
    "            'learning_rate': trial.suggest_loguniform(\"learning_rate\", 1e-8, 0.3),\n",
    "            \"random_state\": SEED\n",
    "        }\n",
    "    \n",
    "    os.makedirs(f\"./results/outer_{outer_cv}\", exist_ok=True)\n",
    "    scores = []\n",
    "    for inner_cv in range(inner_cvs):\n",
    "        _, _, X_inner_train, X_inner_val, Y_inner_train, Y_inner_val, _, _ = lgb_splitter_cv(train_files, X_outer_train, Y_outer_train, outer_cv, val_train_region, val_train_point)\n",
    "\n",
    "        model = LGBMClassifier(**param_grid_lgb)\n",
    "        model.fit(X_inner_train, Y_inner_train)\n",
    "        \n",
    "        scores.append(model.score(X_inner_val, Y_inner_val))\n",
    "        \n",
    "        # DEBUG -------------------------------------------------\n",
    "#         from IPython.core.debugger import Pdb; Pdb().set_trace()\n",
    "        inner_metr = make_df(confusion_matrix(Y_inner_val.astype(int).values, model.predict(X_inner_val).astype(int)))\n",
    "        inner_metr.to_csv(f\"./results/outer_{outer_cv}/inner_{inner_cv}_acc{round(model.score(X_inner_val, Y_inner_val), 2)}.csv\")\n",
    "    \n",
    "#     print('mean of inner_val_scores is ', np.mean(scores))\n",
    "    return np.mean(scores)\n",
    "def opt_lgb_random(trial):\n",
    "    if lgb_boosting_type == \"gbdt\":\n",
    "        param_grid_lgb = {\n",
    "    #         \"device\": \"gpu\",\n",
    "            'boosting_type': lgb_boosting_type,\n",
    "            'num_leaves': trial.suggest_int(\"num_leaves\", 15, 35),\n",
    "            'max_depth': trial.suggest_int(\"max_depth\", 5, 30),\n",
    "    #         'n_estimators': trial.suggest_int(\"n_estimators\", 70, 120),\n",
    "            'learning_rate': trial.suggest_loguniform(\"learning_rate\", 1e-8, 0.3),\n",
    "            \"random_state\": SEED\n",
    "        }\n",
    "    elif lgb_boosting_type ==\"rf\":\n",
    "        param_grid_lgb = {\n",
    "            'boosting_type': lgb_boosting_type,\n",
    "            'num_leaves': trial.suggest_int(\"num_leaves\", 15, 35),\n",
    "            'max_depth': trial.suggest_int(\"max_depth\", 5, 30),\n",
    "    #         'n_estimators': trial.suggest_int(\"n_estimators\", 70, 120),\n",
    "            'learning_rate': trial.suggest_loguniform(\"learning_rate\", 1e-8, 0.3),\n",
    "            \"random_state\": SEED\n",
    "        }\n",
    "    \n",
    "    os.makedirs(f\"./results/outer_{outer_cv}\", exist_ok=True)\n",
    "    scores = []\n",
    "    skf = StratifiedKFold(n_splits=inner_cvs, random_state=SEED, shuffle=False)\n",
    "    inner_cv = 0\n",
    "    X_valid  = X_outer_train\n",
    "    Y_valid  = Y_outer_train\n",
    "#     X_valid  = X_outer_train.values\n",
    "#     Y_valid  = Y_outer_train.values\n",
    "    for train_index, valid_index in skf.split(X_valid, Y_valid):\n",
    "        # DEBUG -------------------------------------------------\n",
    "#         from IPython.core.debugger import Pdb; Pdb().set_trace()\n",
    "        \n",
    "        X_inner_train, X_inner_val = X_outer_train[train_index], X_outer_train[valid_index]\n",
    "        Y_inner_train, Y_inner_val = Y_outer_train[train_index], Y_outer_train[valid_index]\n",
    "#         X_inner_train, X_inner_val = X_outer_train.to_numpy()[train_index], X_outer_train.to_numpy()[valid_index]\n",
    "#         Y_inner_train, Y_inner_val = Y_outer_train.to_numpy()[train_index], Y_outer_train.to_numpy()[valid_index]\n",
    "\n",
    "        model = LGBMClassifier(**param_grid_lgb)\n",
    "        model.fit(X_inner_train, Y_inner_train)\n",
    "        \n",
    "        scores.append(model.score(X_inner_val, Y_inner_val))\n",
    "        \n",
    "        inner_cv += 1\n",
    "#     print('mean of inner_val_scores is ', np.mean(scores))\n",
    "    return np.mean(scores)\n",
    "\n",
    "def lgb_splitter_cv(filenames, X, Y, cv, region, point):\n",
    "#     from IPython.core.debugger import Pdb; Pdb().set_trace()\n",
    "    test_index = np.where(region==cv)\n",
    "    train_index = np.setdiff1d(np.arange(0, X.shape[0], 1), test_index)\n",
    "    train_files = filenames[train_index]\n",
    "    test_files = filenames[test_index]\n",
    "    X_test = np.array(X)[test_index]\n",
    "    Y_test = np.array(Y)[test_index]\n",
    "    X_train = np.array(X)[train_index]\n",
    "    Y_train = np.array(Y)[train_index]\n",
    "    train_region = region[train_index]\n",
    "    train_point = point[train_index]\n",
    "    X_train, X_test, Y_train, Y_test = make_df(X_train), make_df(X_test), make_df(Y_train), make_df(Y_test)\n",
    "    return train_files, test_files, X_train, X_test, Y_train, Y_test, train_region, train_point\n",
    "\n",
    "def make_df(X):\n",
    "    return pd.DataFrame(X)"
   ]
  },
  {
   "cell_type": "markdown",
   "metadata": {},
   "source": [
    "# Model"
   ]
  },
  {
   "cell_type": "markdown",
   "metadata": {},
   "source": [
    "## LightGBM (1x1 pixel)"
   ]
  },
  {
   "cell_type": "code",
   "execution_count": 4,
   "metadata": {
    "code_folding": [
     0
    ]
   },
   "outputs": [
    {
     "name": "stdout",
     "output_type": "stream",
     "text": [
      "train_df をインポートしたよ！\n",
      "test_df をインポートしたよ！\n"
     ]
    }
   ],
   "source": [
    "# Data Loader ------------------------------------------------------------------------\n",
    "standarization = [\"normalization\", \"Zscore\", \"normal\", \"dem\"] # pklを作るまではCodeの書き換えも必要だよ！\n",
    "standarization_num= 2\n",
    "N=1\n",
    "\n",
    "##### Data Loader ------------------------------\n",
    "if under==20:\n",
    "    train_tif_name = f\"D:/LULC/features/01_landsat8/train_old/{N}x{N}\"\n",
    "elif under==90:\n",
    "    train_tif_name = f\"D:/LULC/features/01_landsat8/train_new/{N}x{N}\"\n",
    "\n",
    "testfiles = glob(f\"D:/LULC/features/01_landsat8/train_new/{N}x{N}_test\" + \"/*.tif\")\n",
    "testfiles.sort()\n",
    "\n",
    "root_path      = f\"C:/Users/GE/Dropbox/Kairo/under{under}_results/\"\n",
    "result_path    = f\"C:/Users/GE/Dropbox/Kairo/under{under}_results/{N}x{N}\"\n",
    "data_path      = f\"C:/Users/GE/Dropbox/Kairo/under{under}_results/data/\"\n",
    "model_path     = f\"C:/Users/GE/Dropbox/Kairo/under{under}_results/model/{N}x{N}/\"\n",
    "imgfiles = glob(train_tif_name + \"/*.tif\")\n",
    "imgfiles.sort()\n",
    "model_trained = False\n",
    "\n",
    "# data import ---------------------------------------------------------------------------\n",
    "timename       = '{0:%Y_%m%d_%H%M}'.format(datetime.datetime.now())\n",
    "time_path      =  os.path.join(result_path, lgb_boosting_type, timename, \"outer_cv_times\")\n",
    "make_dirs(lgb_boosting_type)\n",
    "# ------------train import----------------------\n",
    "X_files, X_train, Y_train, train_point, region_train = train_import()\n",
    "image_shape = (X_train.shape[1], X_train.shape[2], X_train.shape[3])\n",
    "num_category = len(np.unique(Y_train))\n",
    "X_train = X_train.astype(np.float64)\n",
    "Y_train = Y_train.astype(np.float64)\n",
    "# ------------test import----------------------\n",
    "Y_files, X_test, Y_test, test_point, region_test = test_import()\n",
    "X_test = X_test.astype(np.float64)\n",
    "\n",
    "\n",
    "# Data converter ----------------------------------------------\n",
    "X_train, Y_train = train_transform()\n",
    "X_test, Y_test = test_transform()"
   ]
  },
  {
   "cell_type": "code",
   "execution_count": 5,
   "metadata": {
    "code_folding": [
     0
    ]
   },
   "outputs": [],
   "source": [
    "# REMOVE datalack of train and test\n",
    "X_files = make_df(X_files)\n",
    "X_train =  make_df(X_train)\n",
    "Y_train = make_df(Y_train)\n",
    "\n",
    "del_index = []\n",
    "for i in range(len(X_train)):\n",
    "    if sum(X_train.loc[i]==0)>7:\n",
    "        del_index.append(i)\n",
    "X_files.drop(index=del_index, inplace=True)\n",
    "X_train.drop(index=del_index, inplace=True)\n",
    "Y_train.drop(index=del_index, inplace=True)\n",
    "\n",
    "\n",
    "\n",
    "\n",
    "Y_files = make_df(Y_files)\n",
    "X_test =  make_df(X_test)\n",
    "Y_test = make_df(Y_test)\n",
    "\n",
    "del_index = []\n",
    "for i in range(len(X_test)):\n",
    "    if sum(X_test.loc[i]==0)>7:\n",
    "        del_index.append(i)\n",
    "Y_files.drop(index=del_index, inplace=True)\n",
    "X_test.drop(index=del_index, inplace=True)\n",
    "Y_test.drop(index=del_index, inplace=True)\n",
    "\n",
    "# X_train  = X_train.values\n",
    "# Y_train  = Y_train.values\n",
    "# X_test  = X_test.values\n",
    "# Y_test  = Y_test.values"
   ]
  },
  {
   "cell_type": "code",
   "execution_count": 6,
   "metadata": {},
   "outputs": [],
   "source": [
    "Y_train[Y_train==3] = 2\n",
    "Y_train[Y_train==4] = 3\n",
    "Y_train[Y_train==5] = 4\n",
    "Y_train[Y_train==6] = 4\n",
    "Y_train[Y_train==7] = 5\n",
    "Y_train[Y_train==8] = 5\n",
    "Y_train[Y_train==9] = 6\n",
    "\n",
    "Y_test[Y_test==3] = 2\n",
    "Y_test[Y_test==4] = 3\n",
    "Y_test[Y_test==5] = 4\n",
    "Y_test[Y_test==6] = 4\n",
    "Y_test[Y_test==7] = 5\n",
    "Y_test[Y_test==8] = 5\n",
    "Y_test[Y_test==9] = 6"
   ]
  },
  {
   "cell_type": "code",
   "execution_count": 7,
   "metadata": {},
   "outputs": [
    {
     "name": "stdout",
     "output_type": "stream",
     "text": [
      "[0. 1. 2. 3. 4. 5. 6.] [0 1 2 3 4 5 6]\n"
     ]
    }
   ],
   "source": [
    "print(np.unique(Y_train.values), np.unique(Y_test.values))"
   ]
  },
  {
   "cell_type": "code",
   "execution_count": 8,
   "metadata": {
    "code_folding": []
   },
   "outputs": [
    {
     "name": "stdout",
     "output_type": "stream",
     "text": [
      "X_train:  <class 'pandas.core.frame.DataFrame'> (33733, 28)\n",
      "Y_train:  <class 'pandas.core.frame.DataFrame'> (33733, 1)\n",
      "X_test:  <class 'pandas.core.frame.DataFrame'> (2878, 28)\n",
      "Y_test:  <class 'pandas.core.frame.DataFrame'> (2878, 1)\n"
     ]
    }
   ],
   "source": [
    "# import data_shape check -------------------------------------------------------------\n",
    "print(\"X_train: \", type(X_train), X_train.shape)\n",
    "print(\"Y_train: \", type(Y_train), Y_train.shape)\n",
    "print(\"X_test: \", type(X_test), X_test.shape)\n",
    "print(\"Y_test: \", type(Y_test), Y_test.shape)"
   ]
  },
  {
   "cell_type": "code",
   "execution_count": 9,
   "metadata": {
    "code_folding": []
   },
   "outputs": [],
   "source": [
    "# del Y_val_files, lgb_scores, lgb_best_params,  Y_val_smx, Y_val_pred, Y_val_obs\n",
    "X_files = X_files.to_numpy()"
   ]
  },
  {
   "cell_type": "code",
   "execution_count": 10,
   "metadata": {},
   "outputs": [],
   "source": [
    "CV_type =  \"random\"  # \"random\" or sparse\""
   ]
  },
  {
   "cell_type": "code",
   "execution_count": 11,
   "metadata": {
    "code_folding": [
     0,
     68
    ],
    "scrolled": true
   },
   "outputs": [
    {
     "name": "stdout",
     "output_type": "stream",
     "text": [
      "CV is RANDOM!!!\n",
      "outer_cv_0_processing....\n"
     ]
    },
    {
     "name": "stderr",
     "output_type": "stream",
     "text": [
      "\u001b[32m[I 2020-12-17 16:27:39,783]\u001b[0m Finished trial#0 resulted in value: 0.4433611163566038. Current best value is 0.4433611163566038 with parameters: {'num_leaves': 32, 'max_depth': 30, 'learning_rate': 0.00027633626882888484}.\u001b[0m\n",
      "\u001b[32m[I 2020-12-17 16:28:00,802]\u001b[0m Finished trial#1 resulted in value: 0.4433611163566038. Current best value is 0.4433611163566038 with parameters: {'num_leaves': 32, 'max_depth': 30, 'learning_rate': 0.00027633626882888484}.\u001b[0m\n",
      "\u001b[32m[I 2020-12-17 16:28:30,523]\u001b[0m Finished trial#2 resulted in value: 0.4433611163566038. Current best value is 0.4433611163566038 with parameters: {'num_leaves': 32, 'max_depth': 30, 'learning_rate': 0.00027633626882888484}.\u001b[0m\n",
      "\u001b[32m[I 2020-12-17 16:29:05,157]\u001b[0m Finished trial#3 resulted in value: 0.7841827450061101. Current best value is 0.7841827450061101 with parameters: {'num_leaves': 35, 'max_depth': 16, 'learning_rate': 0.19553305997821208}.\u001b[0m\n",
      "\u001b[32m[I 2020-12-17 16:29:30,630]\u001b[0m Finished trial#4 resulted in value: 0.4433611163566038. Current best value is 0.7841827450061101 with parameters: {'num_leaves': 35, 'max_depth': 16, 'learning_rate': 0.19553305997821208}.\u001b[0m\n",
      "\u001b[32m[I 2020-12-17 16:29:57,696]\u001b[0m Finished trial#5 resulted in value: 0.4433611163566038. Current best value is 0.7841827450061101 with parameters: {'num_leaves': 35, 'max_depth': 16, 'learning_rate': 0.19553305997821208}.\u001b[0m\n",
      "\u001b[32m[I 2020-12-17 16:30:19,895]\u001b[0m Finished trial#6 resulted in value: 0.4433611163566038. Current best value is 0.7841827450061101 with parameters: {'num_leaves': 35, 'max_depth': 16, 'learning_rate': 0.19553305997821208}.\u001b[0m\n",
      "\u001b[32m[I 2020-12-17 16:30:51,122]\u001b[0m Finished trial#7 resulted in value: 0.4433611163566038. Current best value is 0.7841827450061101 with parameters: {'num_leaves': 35, 'max_depth': 16, 'learning_rate': 0.19553305997821208}.\u001b[0m\n",
      "\u001b[32m[I 2020-12-17 16:31:24,173]\u001b[0m Finished trial#8 resulted in value: 0.7677131641607682. Current best value is 0.7841827450061101 with parameters: {'num_leaves': 35, 'max_depth': 16, 'learning_rate': 0.19553305997821208}.\u001b[0m\n",
      "\u001b[32m[I 2020-12-17 16:31:52,574]\u001b[0m Finished trial#9 resulted in value: 0.4433611163566038. Current best value is 0.7841827450061101 with parameters: {'num_leaves': 35, 'max_depth': 16, 'learning_rate': 0.19553305997821208}.\u001b[0m\n",
      "\u001b[32m[I 2020-12-17 16:32:28,511]\u001b[0m Finished trial#10 resulted in value: 0.7805265208492055. Current best value is 0.7841827450061101 with parameters: {'num_leaves': 35, 'max_depth': 16, 'learning_rate': 0.19553305997821208}.\u001b[0m\n",
      "\u001b[32m[I 2020-12-17 16:33:02,610]\u001b[0m Finished trial#11 resulted in value: 0.7847427248634182. Current best value is 0.7847427248634182 with parameters: {'num_leaves': 35, 'max_depth': 13, 'learning_rate': 0.27946140956452914}.\u001b[0m\n",
      "\u001b[32m[I 2020-12-17 16:33:39,320]\u001b[0m Finished trial#12 resulted in value: 0.7102998070382213. Current best value is 0.7847427248634182 with parameters: {'num_leaves': 35, 'max_depth': 13, 'learning_rate': 0.27946140956452914}.\u001b[0m\n",
      "\u001b[32m[I 2020-12-17 16:34:14,376]\u001b[0m Finished trial#13 resulted in value: 0.7830956908096798. Current best value is 0.7847427248634182 with parameters: {'num_leaves': 35, 'max_depth': 13, 'learning_rate': 0.27946140956452914}.\u001b[0m\n",
      "\u001b[32m[I 2020-12-17 16:34:48,172]\u001b[0m Finished trial#14 resulted in value: 0.6066075192147823. Current best value is 0.7847427248634182 with parameters: {'num_leaves': 35, 'max_depth': 13, 'learning_rate': 0.27946140956452914}.\u001b[0m\n",
      "\u001b[32m[I 2020-12-17 16:35:15,500]\u001b[0m Finished trial#15 resulted in value: 0.7830957342206537. Current best value is 0.7847427248634182 with parameters: {'num_leaves': 35, 'max_depth': 13, 'learning_rate': 0.27946140956452914}.\u001b[0m\n",
      "\u001b[32m[I 2020-12-17 16:35:49,350]\u001b[0m Finished trial#16 resulted in value: 0.4433611163566038. Current best value is 0.7847427248634182 with parameters: {'num_leaves': 35, 'max_depth': 13, 'learning_rate': 0.27946140956452914}.\u001b[0m\n",
      "\u001b[32m[I 2020-12-17 16:36:15,134]\u001b[0m Finished trial#17 resulted in value: 0.7222239550435954. Current best value is 0.7847427248634182 with parameters: {'num_leaves': 35, 'max_depth': 13, 'learning_rate': 0.27946140956452914}.\u001b[0m\n",
      "\u001b[32m[I 2020-12-17 16:36:49,228]\u001b[0m Finished trial#18 resulted in value: 0.4433611163566038. Current best value is 0.7847427248634182 with parameters: {'num_leaves': 35, 'max_depth': 13, 'learning_rate': 0.27946140956452914}.\u001b[0m\n",
      "\u001b[32m[I 2020-12-17 16:37:16,668]\u001b[0m Finished trial#19 resulted in value: 0.4433611163566038. Current best value is 0.7847427248634182 with parameters: {'num_leaves': 35, 'max_depth': 13, 'learning_rate': 0.27946140956452914}.\u001b[0m\n",
      "\u001b[32m[I 2020-12-17 16:37:47,606]\u001b[0m Finished trial#20 resulted in value: 0.4433611163566038. Current best value is 0.7847427248634182 with parameters: {'num_leaves': 35, 'max_depth': 13, 'learning_rate': 0.27946140956452914}.\u001b[0m\n",
      "\u001b[32m[I 2020-12-17 16:38:10,248]\u001b[0m Finished trial#21 resulted in value: 0.779241881605251. Current best value is 0.7847427248634182 with parameters: {'num_leaves': 35, 'max_depth': 13, 'learning_rate': 0.27946140956452914}.\u001b[0m\n",
      "\u001b[32m[I 2020-12-17 16:38:39,989]\u001b[0m Finished trial#22 resulted in value: 0.7552621480183975. Current best value is 0.7847427248634182 with parameters: {'num_leaves': 35, 'max_depth': 13, 'learning_rate': 0.27946140956452914}.\u001b[0m\n",
      "\u001b[32m[I 2020-12-17 16:39:10,975]\u001b[0m Finished trial#23 resulted in value: 0.7846109291467791. Current best value is 0.7847427248634182 with parameters: {'num_leaves': 35, 'max_depth': 13, 'learning_rate': 0.27946140956452914}.\u001b[0m\n",
      "\u001b[32m[I 2020-12-17 16:39:42,026]\u001b[0m Finished trial#24 resulted in value: 0.7835240160360137. Current best value is 0.7847427248634182 with parameters: {'num_leaves': 35, 'max_depth': 13, 'learning_rate': 0.27946140956452914}.\u001b[0m\n",
      "\u001b[32m[I 2020-12-17 16:40:18,829]\u001b[0m Finished trial#25 resulted in value: 0.7608945482328477. Current best value is 0.7847427248634182 with parameters: {'num_leaves': 35, 'max_depth': 13, 'learning_rate': 0.27946140956452914}.\u001b[0m\n",
      "\u001b[32m[I 2020-12-17 16:40:50,906]\u001b[0m Finished trial#26 resulted in value: 0.4433611163566038. Current best value is 0.7847427248634182 with parameters: {'num_leaves': 35, 'max_depth': 13, 'learning_rate': 0.27946140956452914}.\u001b[0m\n",
      "\u001b[32m[I 2020-12-17 16:41:26,869]\u001b[0m Finished trial#27 resulted in value: 0.751375086007992. Current best value is 0.7847427248634182 with parameters: {'num_leaves': 35, 'max_depth': 13, 'learning_rate': 0.27946140956452914}.\u001b[0m\n",
      "\u001b[32m[I 2020-12-17 16:41:57,737]\u001b[0m Finished trial#28 resulted in value: 0.7704800711071752. Current best value is 0.7847427248634182 with parameters: {'num_leaves': 35, 'max_depth': 13, 'learning_rate': 0.27946140956452914}.\u001b[0m\n",
      "\u001b[32m[I 2020-12-17 16:42:31,787]\u001b[0m Finished trial#29 resulted in value: 0.4433611163566038. Current best value is 0.7847427248634182 with parameters: {'num_leaves': 35, 'max_depth': 13, 'learning_rate': 0.27946140956452914}.\u001b[0m\n",
      "\u001b[32m[I 2020-12-17 16:43:03,455]\u001b[0m Finished trial#30 resulted in value: 0.7823709880120596. Current best value is 0.7847427248634182 with parameters: {'num_leaves': 35, 'max_depth': 13, 'learning_rate': 0.27946140956452914}.\u001b[0m\n",
      "\u001b[32m[I 2020-12-17 16:43:34,843]\u001b[0m Finished trial#31 resulted in value: 0.7851052390533803. Current best value is 0.7851052390533803 with parameters: {'num_leaves': 34, 'max_depth': 8, 'learning_rate': 0.23089694026840346}.\u001b[0m\n"
     ]
    },
    {
     "name": "stdout",
     "output_type": "stream",
     "text": [
      "mean of outer_val_scores is  0.7643746295198577\n",
      "mean of test_scores is  0.8009034051424601\n",
      "outer_cv_1_processing....\n"
     ]
    },
    {
     "name": "stderr",
     "output_type": "stream",
     "text": [
      "\u001b[32m[I 2020-12-17 16:44:09,213]\u001b[0m Finished trial#0 resulted in value: 0.4433611163566038. Current best value is 0.4433611163566038 with parameters: {'num_leaves': 29, 'max_depth': 24, 'learning_rate': 2.1867333150226518e-06}.\u001b[0m\n",
      "\u001b[32m[I 2020-12-17 16:44:34,478]\u001b[0m Finished trial#1 resulted in value: 0.4433611163566038. Current best value is 0.4433611163566038 with parameters: {'num_leaves': 29, 'max_depth': 24, 'learning_rate': 2.1867333150226518e-06}.\u001b[0m\n",
      "\u001b[32m[I 2020-12-17 16:44:57,925]\u001b[0m Finished trial#2 resulted in value: 0.4433611163566038. Current best value is 0.4433611163566038 with parameters: {'num_leaves': 29, 'max_depth': 24, 'learning_rate': 2.1867333150226518e-06}.\u001b[0m\n",
      "\u001b[32m[I 2020-12-17 16:45:31,797]\u001b[0m Finished trial#3 resulted in value: 0.4433611163566038. Current best value is 0.4433611163566038 with parameters: {'num_leaves': 29, 'max_depth': 24, 'learning_rate': 2.1867333150226518e-06}.\u001b[0m\n",
      "\u001b[32m[I 2020-12-17 16:46:06,725]\u001b[0m Finished trial#4 resulted in value: 0.743041503061559. Current best value is 0.743041503061559 with parameters: {'num_leaves': 31, 'max_depth': 18, 'learning_rate': 0.021559139473773494}.\u001b[0m\n",
      "\u001b[32m[I 2020-12-17 16:46:38,347]\u001b[0m Finished trial#5 resulted in value: 0.7623112111010543. Current best value is 0.7623112111010543 with parameters: {'num_leaves': 26, 'max_depth': 27, 'learning_rate': 0.05972896480498782}.\u001b[0m\n",
      "\u001b[32m[I 2020-12-17 16:47:00,935]\u001b[0m Finished trial#6 resulted in value: 0.4433611163566038. Current best value is 0.7623112111010543 with parameters: {'num_leaves': 26, 'max_depth': 27, 'learning_rate': 0.05972896480498782}.\u001b[0m\n",
      "\u001b[32m[I 2020-12-17 16:47:23,759]\u001b[0m Finished trial#7 resulted in value: 0.4433611163566038. Current best value is 0.7623112111010543 with parameters: {'num_leaves': 26, 'max_depth': 27, 'learning_rate': 0.05972896480498782}.\u001b[0m\n",
      "\u001b[32m[I 2020-12-17 16:47:57,458]\u001b[0m Finished trial#8 resulted in value: 0.4433611163566038. Current best value is 0.7623112111010543 with parameters: {'num_leaves': 26, 'max_depth': 27, 'learning_rate': 0.05972896480498782}.\u001b[0m\n",
      "\u001b[32m[I 2020-12-17 16:48:25,444]\u001b[0m Finished trial#9 resulted in value: 0.7450507908394164. Current best value is 0.7623112111010543 with parameters: {'num_leaves': 26, 'max_depth': 27, 'learning_rate': 0.05972896480498782}.\u001b[0m\n",
      "\u001b[32m[I 2020-12-17 16:48:53,310]\u001b[0m Finished trial#10 resulted in value: 0.7761456264529111. Current best value is 0.7761456264529111 with parameters: {'num_leaves': 26, 'max_depth': 30, 'learning_rate': 0.29657358872459144}.\u001b[0m\n",
      "\u001b[32m[I 2020-12-17 16:49:21,537]\u001b[0m Finished trial#11 resulted in value: 0.7767056063102191. Current best value is 0.7767056063102191 with parameters: {'num_leaves': 26, 'max_depth': 30, 'learning_rate': 0.23329816456152583}.\u001b[0m\n",
      "\u001b[32m[I 2020-12-17 16:49:50,534]\u001b[0m Finished trial#12 resulted in value: 0.7758821761052977. Current best value is 0.7767056063102191 with parameters: {'num_leaves': 26, 'max_depth': 30, 'learning_rate': 0.23329816456152583}.\u001b[0m\n",
      "\u001b[32m[I 2020-12-17 16:50:18,021]\u001b[0m Finished trial#13 resulted in value: 0.4433611163566038. Current best value is 0.7767056063102191 with parameters: {'num_leaves': 26, 'max_depth': 30, 'learning_rate': 0.23329816456152583}.\u001b[0m\n",
      "\u001b[32m[I 2020-12-17 16:50:47,918]\u001b[0m Finished trial#14 resulted in value: 0.7778916700852808. Current best value is 0.7778916700852808 with parameters: {'num_leaves': 28, 'max_depth': 30, 'learning_rate': 0.21874599086251037}.\u001b[0m\n",
      "\u001b[32m[I 2020-12-17 16:51:18,802]\u001b[0m Finished trial#15 resulted in value: 0.4433611163566038. Current best value is 0.7778916700852808 with parameters: {'num_leaves': 28, 'max_depth': 30, 'learning_rate': 0.21874599086251037}.\u001b[0m\n",
      "\u001b[32m[I 2020-12-17 16:51:48,740]\u001b[0m Finished trial#16 resulted in value: 0.4433611163566038. Current best value is 0.7778916700852808 with parameters: {'num_leaves': 28, 'max_depth': 30, 'learning_rate': 0.21874599086251037}.\u001b[0m\n",
      "\u001b[32m[I 2020-12-17 16:52:16,196]\u001b[0m Finished trial#17 resulted in value: 0.7727529611710544. Current best value is 0.7778916700852808 with parameters: {'num_leaves': 28, 'max_depth': 30, 'learning_rate': 0.21874599086251037}.\u001b[0m\n",
      "\u001b[32m[I 2020-12-17 16:52:50,341]\u001b[0m Finished trial#18 resulted in value: 0.699462919431403. Current best value is 0.7778916700852808 with parameters: {'num_leaves': 28, 'max_depth': 30, 'learning_rate': 0.21874599086251037}.\u001b[0m\n",
      "\u001b[32m[I 2020-12-17 16:53:11,708]\u001b[0m Finished trial#19 resulted in value: 0.4433611163566038. Current best value is 0.7778916700852808 with parameters: {'num_leaves': 28, 'max_depth': 30, 'learning_rate': 0.21874599086251037}.\u001b[0m\n",
      "\u001b[32m[I 2020-12-17 16:53:41,884]\u001b[0m Finished trial#20 resulted in value: 0.776310392804197. Current best value is 0.7778916700852808 with parameters: {'num_leaves': 28, 'max_depth': 30, 'learning_rate': 0.21874599086251037}.\u001b[0m\n",
      "\u001b[32m[I 2020-12-17 16:54:11,641]\u001b[0m Finished trial#21 resulted in value: 0.7769032781796911. Current best value is 0.7778916700852808 with parameters: {'num_leaves': 28, 'max_depth': 30, 'learning_rate': 0.21874599086251037}.\u001b[0m\n",
      "\u001b[32m[I 2020-12-17 16:54:42,672]\u001b[0m Finished trial#22 resulted in value: 0.763200506606065. Current best value is 0.7778916700852808 with parameters: {'num_leaves': 28, 'max_depth': 30, 'learning_rate': 0.21874599086251037}.\u001b[0m\n",
      "\u001b[32m[I 2020-12-17 16:55:13,971]\u001b[0m Finished trial#23 resulted in value: 0.671958659729593. Current best value is 0.7778916700852808 with parameters: {'num_leaves': 28, 'max_depth': 30, 'learning_rate': 0.21874599086251037}.\u001b[0m\n",
      "\u001b[32m[I 2020-12-17 16:55:45,871]\u001b[0m Finished trial#24 resulted in value: 0.4433611163566038. Current best value is 0.7778916700852808 with parameters: {'num_leaves': 28, 'max_depth': 30, 'learning_rate': 0.21874599086251037}.\u001b[0m\n",
      "\u001b[32m[I 2020-12-17 16:56:12,220]\u001b[0m Finished trial#25 resulted in value: 0.7721271160136571. Current best value is 0.7778916700852808 with parameters: {'num_leaves': 28, 'max_depth': 30, 'learning_rate': 0.21874599086251037}.\u001b[0m\n",
      "\u001b[32m[I 2020-12-17 16:56:48,126]\u001b[0m Finished trial#26 resulted in value: 0.7655391751480858. Current best value is 0.7778916700852808 with parameters: {'num_leaves': 28, 'max_depth': 30, 'learning_rate': 0.21874599086251037}.\u001b[0m\n",
      "\u001b[32m[I 2020-12-17 16:57:20,751]\u001b[0m Finished trial#27 resulted in value: 0.7403403420350629. Current best value is 0.7778916700852808 with parameters: {'num_leaves': 28, 'max_depth': 30, 'learning_rate': 0.21874599086251037}.\u001b[0m\n",
      "\u001b[32m[I 2020-12-17 16:57:47,376]\u001b[0m Finished trial#28 resulted in value: 0.7648143963812613. Current best value is 0.7778916700852808 with parameters: {'num_leaves': 28, 'max_depth': 30, 'learning_rate': 0.21874599086251037}.\u001b[0m\n",
      "\u001b[32m[I 2020-12-17 16:58:17,988]\u001b[0m Finished trial#29 resulted in value: 0.4433611163566038. Current best value is 0.7778916700852808 with parameters: {'num_leaves': 28, 'max_depth': 30, 'learning_rate': 0.21874599086251037}.\u001b[0m\n",
      "\u001b[32m[I 2020-12-17 16:58:46,318]\u001b[0m Finished trial#30 resulted in value: 0.4433611163566038. Current best value is 0.7778916700852808 with parameters: {'num_leaves': 28, 'max_depth': 30, 'learning_rate': 0.21874599086251037}.\u001b[0m\n",
      "\u001b[32m[I 2020-12-17 16:59:16,661]\u001b[0m Finished trial#31 resulted in value: 0.7748940880765248. Current best value is 0.7778916700852808 with parameters: {'num_leaves': 28, 'max_depth': 30, 'learning_rate': 0.21874599086251037}.\u001b[0m\n"
     ]
    },
    {
     "name": "stdout",
     "output_type": "stream",
     "text": [
      "mean of outer_val_scores is  0.8034973325429757\n",
      "mean of test_scores is  0.7887421820708825\n",
      "outer_cv_2_processing....\n"
     ]
    },
    {
     "name": "stderr",
     "output_type": "stream",
     "text": [
      "\u001b[32m[I 2020-12-17 16:59:53,859]\u001b[0m Finished trial#0 resulted in value: 0.4433611163566038. Current best value is 0.4433611163566038 with parameters: {'num_leaves': 33, 'max_depth': 18, 'learning_rate': 0.0009043035163183883}.\u001b[0m\n",
      "\u001b[32m[I 2020-12-17 17:00:23,097]\u001b[0m Finished trial#1 resulted in value: 0.4433611163566038. Current best value is 0.4433611163566038 with parameters: {'num_leaves': 33, 'max_depth': 18, 'learning_rate': 0.0009043035163183883}.\u001b[0m\n",
      "\u001b[32m[I 2020-12-17 17:00:52,762]\u001b[0m Finished trial#2 resulted in value: 0.6613193137593252. Current best value is 0.6613193137593252 with parameters: {'num_leaves': 25, 'max_depth': 14, 'learning_rate': 0.007966731532607768}.\u001b[0m\n",
      "\u001b[32m[I 2020-12-17 17:01:25,916]\u001b[0m Finished trial#3 resulted in value: 0.7625418753106599. Current best value is 0.7625418753106599 with parameters: {'num_leaves': 29, 'max_depth': 13, 'learning_rate': 0.05659250126581955}.\u001b[0m\n",
      "\u001b[32m[I 2020-12-17 17:01:47,086]\u001b[0m Finished trial#4 resulted in value: 0.7018672687768741. Current best value is 0.7625418753106599 with parameters: {'num_leaves': 29, 'max_depth': 13, 'learning_rate': 0.05659250126581955}.\u001b[0m\n",
      "\u001b[32m[I 2020-12-17 17:02:17,599]\u001b[0m Finished trial#5 resulted in value: 0.4433611163566038. Current best value is 0.7625418753106599 with parameters: {'num_leaves': 29, 'max_depth': 13, 'learning_rate': 0.05659250126581955}.\u001b[0m\n",
      "\u001b[32m[I 2020-12-17 17:02:51,005]\u001b[0m Finished trial#6 resulted in value: 0.4433611163566038. Current best value is 0.7625418753106599 with parameters: {'num_leaves': 29, 'max_depth': 13, 'learning_rate': 0.05659250126581955}.\u001b[0m\n",
      "\u001b[32m[I 2020-12-17 17:03:15,256]\u001b[0m Finished trial#7 resulted in value: 0.4433611163566038. Current best value is 0.7625418753106599 with parameters: {'num_leaves': 29, 'max_depth': 13, 'learning_rate': 0.05659250126581955}.\u001b[0m\n",
      "\u001b[32m[I 2020-12-17 17:03:42,929]\u001b[0m Finished trial#8 resulted in value: 0.4433611163566038. Current best value is 0.7625418753106599 with parameters: {'num_leaves': 29, 'max_depth': 13, 'learning_rate': 0.05659250126581955}.\u001b[0m\n",
      "\u001b[32m[I 2020-12-17 17:04:11,449]\u001b[0m Finished trial#9 resulted in value: 0.7775619203278397. Current best value is 0.7775619203278397 with parameters: {'num_leaves': 26, 'max_depth': 22, 'learning_rate': 0.2164002952948862}.\u001b[0m\n",
      "\u001b[32m[I 2020-12-17 17:04:32,927]\u001b[0m Finished trial#10 resulted in value: 0.4433611163566038. Current best value is 0.7775619203278397 with parameters: {'num_leaves': 26, 'max_depth': 22, 'learning_rate': 0.2164002952948862}.\u001b[0m\n",
      "\u001b[32m[I 2020-12-17 17:04:57,434]\u001b[0m Finished trial#11 resulted in value: 0.7744656760282431. Current best value is 0.7775619203278397 with parameters: {'num_leaves': 26, 'max_depth': 22, 'learning_rate': 0.2164002952948862}.\u001b[0m\n",
      "\u001b[32m[I 2020-12-17 17:05:21,319]\u001b[0m Finished trial#12 resulted in value: 0.7762773896113198. Current best value is 0.7775619203278397 with parameters: {'num_leaves': 26, 'max_depth': 22, 'learning_rate': 0.2164002952948862}.\u001b[0m\n",
      "\u001b[32m[I 2020-12-17 17:05:45,806]\u001b[0m Finished trial#13 resulted in value: 0.7747621187159902. Current best value is 0.7775619203278397 with parameters: {'num_leaves': 26, 'max_depth': 22, 'learning_rate': 0.2164002952948862}.\u001b[0m\n",
      "\u001b[32m[I 2020-12-17 17:06:10,367]\u001b[0m Finished trial#14 resulted in value: 0.7756185846720193. Current best value is 0.7775619203278397 with parameters: {'num_leaves': 26, 'max_depth': 22, 'learning_rate': 0.2164002952948862}.\u001b[0m\n",
      "\u001b[32m[I 2020-12-17 17:06:36,659]\u001b[0m Finished trial#15 resulted in value: 0.4433611163566038. Current best value is 0.7775619203278397 with parameters: {'num_leaves': 26, 'max_depth': 22, 'learning_rate': 0.2164002952948862}.\u001b[0m\n",
      "\u001b[32m[I 2020-12-17 17:07:01,394]\u001b[0m Finished trial#16 resulted in value: 0.7294375999808992. Current best value is 0.7775619203278397 with parameters: {'num_leaves': 26, 'max_depth': 22, 'learning_rate': 0.2164002952948862}.\u001b[0m\n",
      "\u001b[32m[I 2020-12-17 17:07:35,827]\u001b[0m Finished trial#17 resulted in value: 0.4433611163566038. Current best value is 0.7775619203278397 with parameters: {'num_leaves': 26, 'max_depth': 22, 'learning_rate': 0.2164002952948862}.\u001b[0m\n",
      "\u001b[32m[I 2020-12-17 17:08:01,968]\u001b[0m Finished trial#18 resulted in value: 0.7756513056935663. Current best value is 0.7775619203278397 with parameters: {'num_leaves': 26, 'max_depth': 22, 'learning_rate': 0.2164002952948862}.\u001b[0m\n",
      "\u001b[32m[I 2020-12-17 17:08:31,185]\u001b[0m Finished trial#19 resulted in value: 0.4433611163566038. Current best value is 0.7775619203278397 with parameters: {'num_leaves': 26, 'max_depth': 22, 'learning_rate': 0.2164002952948862}.\u001b[0m\n",
      "\u001b[32m[I 2020-12-17 17:08:55,116]\u001b[0m Finished trial#20 resulted in value: 0.4433611163566038. Current best value is 0.7775619203278397 with parameters: {'num_leaves': 26, 'max_depth': 22, 'learning_rate': 0.2164002952948862}.\u001b[0m\n",
      "\u001b[32m[I 2020-12-17 17:09:20,649]\u001b[0m Finished trial#21 resulted in value: 0.7744657085864736. Current best value is 0.7775619203278397 with parameters: {'num_leaves': 26, 'max_depth': 22, 'learning_rate': 0.2164002952948862}.\u001b[0m\n",
      "\u001b[32m[I 2020-12-17 17:09:50,111]\u001b[0m Finished trial#22 resulted in value: 0.7542411978824126. Current best value is 0.7775619203278397 with parameters: {'num_leaves': 26, 'max_depth': 22, 'learning_rate': 0.2164002952948862}.\u001b[0m\n",
      "\u001b[32m[I 2020-12-17 17:10:12,616]\u001b[0m Finished trial#23 resulted in value: 0.7564481032660246. Current best value is 0.7775619203278397 with parameters: {'num_leaves': 26, 'max_depth': 22, 'learning_rate': 0.2164002952948862}.\u001b[0m\n",
      "\u001b[32m[I 2020-12-17 17:10:37,459]\u001b[0m Finished trial#24 resulted in value: 0.7749268090980719. Current best value is 0.7775619203278397 with parameters: {'num_leaves': 26, 'max_depth': 22, 'learning_rate': 0.2164002952948862}.\u001b[0m\n",
      "\u001b[32m[I 2020-12-17 17:11:07,859]\u001b[0m Finished trial#25 resulted in value: 0.6215617206373598. Current best value is 0.7775619203278397 with parameters: {'num_leaves': 26, 'max_depth': 22, 'learning_rate': 0.2164002952948862}.\u001b[0m\n",
      "\u001b[32m[I 2020-12-17 17:11:38,055]\u001b[0m Finished trial#26 resulted in value: 0.7470602088501953. Current best value is 0.7775619203278397 with parameters: {'num_leaves': 26, 'max_depth': 22, 'learning_rate': 0.2164002952948862}.\u001b[0m\n",
      "\u001b[32m[I 2020-12-17 17:12:02,580]\u001b[0m Finished trial#27 resulted in value: 0.7656379785245913. Current best value is 0.7775619203278397 with parameters: {'num_leaves': 26, 'max_depth': 22, 'learning_rate': 0.2164002952948862}.\u001b[0m\n",
      "\u001b[32m[I 2020-12-17 17:12:32,536]\u001b[0m Finished trial#28 resulted in value: 0.5819357821463687. Current best value is 0.7775619203278397 with parameters: {'num_leaves': 26, 'max_depth': 22, 'learning_rate': 0.2164002952948862}.\u001b[0m\n",
      "\u001b[32m[I 2020-12-17 17:13:04,915]\u001b[0m Finished trial#29 resulted in value: 0.4433611163566038. Current best value is 0.7775619203278397 with parameters: {'num_leaves': 26, 'max_depth': 22, 'learning_rate': 0.2164002952948862}.\u001b[0m\n",
      "\u001b[32m[I 2020-12-17 17:13:30,309]\u001b[0m Finished trial#30 resulted in value: 0.4433611163566038. Current best value is 0.7775619203278397 with parameters: {'num_leaves': 26, 'max_depth': 22, 'learning_rate': 0.2164002952948862}.\u001b[0m\n",
      "\u001b[32m[I 2020-12-17 17:13:54,988]\u001b[0m Finished trial#31 resulted in value: 0.7780889729614748. Current best value is 0.7780889729614748 with parameters: {'num_leaves': 21, 'max_depth': 30, 'learning_rate': 0.2832729174662656}.\u001b[0m\n"
     ]
    },
    {
     "name": "stdout",
     "output_type": "stream",
     "text": [
      "mean of outer_val_scores is  0.8144635447540012\n",
      "mean of test_scores is  0.7922168172341905\n",
      "outer_cv_3_processing....\n"
     ]
    },
    {
     "name": "stderr",
     "output_type": "stream",
     "text": [
      "\u001b[32m[I 2020-12-17 17:14:26,159]\u001b[0m Finished trial#0 resulted in value: 0.4433465085638998. Current best value is 0.4433465085638998 with parameters: {'num_leaves': 25, 'max_depth': 8, 'learning_rate': 0.002801163193953159}.\u001b[0m\n",
      "\u001b[32m[I 2020-12-17 17:14:52,868]\u001b[0m Finished trial#1 resulted in value: 0.4433465085638998. Current best value is 0.4433465085638998 with parameters: {'num_leaves': 25, 'max_depth': 8, 'learning_rate': 0.002801163193953159}.\u001b[0m\n",
      "\u001b[32m[I 2020-12-17 17:15:17,529]\u001b[0m Finished trial#2 resulted in value: 0.4433465085638998. Current best value is 0.4433465085638998 with parameters: {'num_leaves': 25, 'max_depth': 8, 'learning_rate': 0.002801163193953159}.\u001b[0m\n",
      "\u001b[32m[I 2020-12-17 17:15:51,689]\u001b[0m Finished trial#3 resulted in value: 0.4433465085638998. Current best value is 0.4433465085638998 with parameters: {'num_leaves': 25, 'max_depth': 8, 'learning_rate': 0.002801163193953159}.\u001b[0m\n",
      "\u001b[32m[I 2020-12-17 17:16:22,602]\u001b[0m Finished trial#4 resulted in value: 0.4433465085638998. Current best value is 0.4433465085638998 with parameters: {'num_leaves': 25, 'max_depth': 8, 'learning_rate': 0.002801163193953159}.\u001b[0m\n",
      "\u001b[32m[I 2020-12-17 17:16:51,520]\u001b[0m Finished trial#5 resulted in value: 0.4433465085638998. Current best value is 0.4433465085638998 with parameters: {'num_leaves': 25, 'max_depth': 8, 'learning_rate': 0.002801163193953159}.\u001b[0m\n",
      "\u001b[32m[I 2020-12-17 17:17:20,866]\u001b[0m Finished trial#6 resulted in value: 0.4433465085638998. Current best value is 0.4433465085638998 with parameters: {'num_leaves': 25, 'max_depth': 8, 'learning_rate': 0.002801163193953159}.\u001b[0m\n",
      "\u001b[32m[I 2020-12-17 17:17:47,798]\u001b[0m Finished trial#7 resulted in value: 0.4433465085638998. Current best value is 0.4433465085638998 with parameters: {'num_leaves': 25, 'max_depth': 8, 'learning_rate': 0.002801163193953159}.\u001b[0m\n",
      "\u001b[32m[I 2020-12-17 17:18:17,398]\u001b[0m Finished trial#8 resulted in value: 0.4433465085638998. Current best value is 0.4433465085638998 with parameters: {'num_leaves': 25, 'max_depth': 8, 'learning_rate': 0.002801163193953159}.\u001b[0m\n",
      "\u001b[32m[I 2020-12-17 17:18:42,281]\u001b[0m Finished trial#9 resulted in value: 0.4433465085638998. Current best value is 0.4433465085638998 with parameters: {'num_leaves': 25, 'max_depth': 8, 'learning_rate': 0.002801163193953159}.\u001b[0m\n",
      "\u001b[32m[I 2020-12-17 17:19:10,509]\u001b[0m Finished trial#10 resulted in value: 0.7792490118577075. Current best value is 0.7792490118577075 with parameters: {'num_leaves': 35, 'max_depth': 6, 'learning_rate': 0.25395089507379764}.\u001b[0m\n",
      "\u001b[32m[I 2020-12-17 17:19:29,787]\u001b[0m Finished trial#11 resulted in value: 0.7582674571805006. Current best value is 0.7792490118577075 with parameters: {'num_leaves': 35, 'max_depth': 6, 'learning_rate': 0.25395089507379764}.\u001b[0m\n",
      "\u001b[32m[I 2020-12-17 17:19:50,869]\u001b[0m Finished trial#12 resulted in value: 0.7700922266139658. Current best value is 0.7792490118577075 with parameters: {'num_leaves': 35, 'max_depth': 6, 'learning_rate': 0.25395089507379764}.\u001b[0m\n",
      "\u001b[32m[I 2020-12-17 17:20:11,418]\u001b[0m Finished trial#13 resulted in value: 0.7711791831357049. Current best value is 0.7792490118577075 with parameters: {'num_leaves': 35, 'max_depth': 6, 'learning_rate': 0.25395089507379764}.\u001b[0m\n",
      "\u001b[32m[I 2020-12-17 17:20:48,058]\u001b[0m Finished trial#14 resulted in value: 0.7616271409749671. Current best value is 0.7792490118577075 with parameters: {'num_leaves': 35, 'max_depth': 6, 'learning_rate': 0.25395089507379764}.\u001b[0m\n",
      "\u001b[32m[I 2020-12-17 17:21:09,407]\u001b[0m Finished trial#15 resulted in value: 0.7735177865612648. Current best value is 0.7792490118577075 with parameters: {'num_leaves': 35, 'max_depth': 6, 'learning_rate': 0.25395089507379764}.\u001b[0m\n",
      "\u001b[32m[I 2020-12-17 17:21:35,293]\u001b[0m Finished trial#16 resulted in value: 0.716600790513834. Current best value is 0.7792490118577075 with parameters: {'num_leaves': 35, 'max_depth': 6, 'learning_rate': 0.25395089507379764}.\u001b[0m\n",
      "\u001b[32m[I 2020-12-17 17:22:01,215]\u001b[0m Finished trial#17 resulted in value: 0.7293478260869565. Current best value is 0.7792490118577075 with parameters: {'num_leaves': 35, 'max_depth': 6, 'learning_rate': 0.25395089507379764}.\u001b[0m\n",
      "\u001b[32m[I 2020-12-17 17:22:21,486]\u001b[0m Finished trial#18 resulted in value: 0.4433465085638998. Current best value is 0.7792490118577075 with parameters: {'num_leaves': 35, 'max_depth': 6, 'learning_rate': 0.25395089507379764}.\u001b[0m\n",
      "\u001b[32m[I 2020-12-17 17:22:52,821]\u001b[0m Finished trial#19 resulted in value: 0.4433465085638998. Current best value is 0.7792490118577075 with parameters: {'num_leaves': 35, 'max_depth': 6, 'learning_rate': 0.25395089507379764}.\u001b[0m\n",
      "\u001b[32m[I 2020-12-17 17:23:23,335]\u001b[0m Finished trial#20 resulted in value: 0.7773386034255598. Current best value is 0.7792490118577075 with parameters: {'num_leaves': 35, 'max_depth': 6, 'learning_rate': 0.25395089507379764}.\u001b[0m\n",
      "\u001b[32m[I 2020-12-17 17:23:56,181]\u001b[0m Finished trial#21 resulted in value: 0.7798418972332015. Current best value is 0.7798418972332015 with parameters: {'num_leaves': 35, 'max_depth': 10, 'learning_rate': 0.2298649294223339}.\u001b[0m\n",
      "\u001b[32m[I 2020-12-17 17:24:30,403]\u001b[0m Finished trial#22 resulted in value: 0.7427865612648222. Current best value is 0.7798418972332015 with parameters: {'num_leaves': 35, 'max_depth': 10, 'learning_rate': 0.2298649294223339}.\u001b[0m\n",
      "\u001b[32m[I 2020-12-17 17:25:04,403]\u001b[0m Finished trial#23 resulted in value: 0.7801054018445321. Current best value is 0.7801054018445321 with parameters: {'num_leaves': 35, 'max_depth': 14, 'learning_rate': 0.27326865369669023}.\u001b[0m\n",
      "\u001b[32m[I 2020-12-17 17:25:40,738]\u001b[0m Finished trial#24 resulted in value: 0.7062582345191041. Current best value is 0.7801054018445321 with parameters: {'num_leaves': 35, 'max_depth': 14, 'learning_rate': 0.27326865369669023}.\u001b[0m\n",
      "\u001b[32m[I 2020-12-17 17:26:18,202]\u001b[0m Finished trial#25 resulted in value: 0.7678194993412385. Current best value is 0.7801054018445321 with parameters: {'num_leaves': 35, 'max_depth': 14, 'learning_rate': 0.27326865369669023}.\u001b[0m\n",
      "\u001b[32m[I 2020-12-17 17:26:48,522]\u001b[0m Finished trial#26 resulted in value: 0.7789855072463767. Current best value is 0.7801054018445321 with parameters: {'num_leaves': 35, 'max_depth': 14, 'learning_rate': 0.27326865369669023}.\u001b[0m\n",
      "\u001b[32m[I 2020-12-17 17:27:21,881]\u001b[0m Finished trial#27 resulted in value: 0.4433465085638998. Current best value is 0.7801054018445321 with parameters: {'num_leaves': 35, 'max_depth': 14, 'learning_rate': 0.27326865369669023}.\u001b[0m\n",
      "\u001b[32m[I 2020-12-17 17:27:57,131]\u001b[0m Finished trial#28 resulted in value: 0.6882740447957839. Current best value is 0.7801054018445321 with parameters: {'num_leaves': 35, 'max_depth': 14, 'learning_rate': 0.27326865369669023}.\u001b[0m\n",
      "\u001b[32m[I 2020-12-17 17:28:29,765]\u001b[0m Finished trial#29 resulted in value: 0.766798418972332. Current best value is 0.7801054018445321 with parameters: {'num_leaves': 35, 'max_depth': 14, 'learning_rate': 0.27326865369669023}.\u001b[0m\n",
      "\u001b[32m[I 2020-12-17 17:29:00,759]\u001b[0m Finished trial#30 resulted in value: 0.4433465085638998. Current best value is 0.7801054018445321 with parameters: {'num_leaves': 35, 'max_depth': 14, 'learning_rate': 0.27326865369669023}.\u001b[0m\n",
      "\u001b[32m[I 2020-12-17 17:29:31,230]\u001b[0m Finished trial#31 resulted in value: 0.7784584980237155. Current best value is 0.7801054018445321 with parameters: {'num_leaves': 35, 'max_depth': 14, 'learning_rate': 0.27326865369669023}.\u001b[0m\n"
     ]
    },
    {
     "name": "stdout",
     "output_type": "stream",
     "text": [
      "mean of outer_val_scores is  0.8108508745923511\n",
      "mean of test_scores is  0.7807505211952745\n",
      "outer_cv_4_processing....\n"
     ]
    },
    {
     "name": "stderr",
     "output_type": "stream",
     "text": [
      "\u001b[32m[I 2020-12-17 17:30:05,145]\u001b[0m Finished trial#0 resulted in value: 0.4433465085638998. Current best value is 0.4433465085638998 with parameters: {'num_leaves': 30, 'max_depth': 8, 'learning_rate': 5.8526562280182276e-05}.\u001b[0m\n",
      "\u001b[32m[I 2020-12-17 17:30:37,994]\u001b[0m Finished trial#1 resulted in value: 0.4433465085638998. Current best value is 0.4433465085638998 with parameters: {'num_leaves': 30, 'max_depth': 8, 'learning_rate': 5.8526562280182276e-05}.\u001b[0m\n",
      "\u001b[32m[I 2020-12-17 17:31:15,348]\u001b[0m Finished trial#2 resulted in value: 0.7570158102766799. Current best value is 0.7570158102766799 with parameters: {'num_leaves': 34, 'max_depth': 22, 'learning_rate': 0.036125063841223985}.\u001b[0m\n",
      "\u001b[32m[I 2020-12-17 17:31:42,843]\u001b[0m Finished trial#3 resulted in value: 0.5066864295125164. Current best value is 0.7570158102766799 with parameters: {'num_leaves': 34, 'max_depth': 22, 'learning_rate': 0.036125063841223985}.\u001b[0m\n",
      "\u001b[32m[I 2020-12-17 17:32:09,198]\u001b[0m Finished trial#4 resulted in value: 0.4433465085638998. Current best value is 0.7570158102766799 with parameters: {'num_leaves': 34, 'max_depth': 22, 'learning_rate': 0.036125063841223985}.\u001b[0m\n",
      "\u001b[32m[I 2020-12-17 17:32:39,627]\u001b[0m Finished trial#5 resulted in value: 0.4433465085638998. Current best value is 0.7570158102766799 with parameters: {'num_leaves': 34, 'max_depth': 22, 'learning_rate': 0.036125063841223985}.\u001b[0m\n",
      "\u001b[32m[I 2020-12-17 17:33:03,996]\u001b[0m Finished trial#6 resulted in value: 0.7676218708827404. Current best value is 0.7676218708827404 with parameters: {'num_leaves': 21, 'max_depth': 7, 'learning_rate': 0.115704185408711}.\u001b[0m\n",
      "\u001b[32m[I 2020-12-17 17:33:28,022]\u001b[0m Finished trial#7 resulted in value: 0.4433465085638998. Current best value is 0.7676218708827404 with parameters: {'num_leaves': 21, 'max_depth': 7, 'learning_rate': 0.115704185408711}.\u001b[0m\n",
      "\u001b[32m[I 2020-12-17 17:33:56,271]\u001b[0m Finished trial#8 resulted in value: 0.7814229249011858. Current best value is 0.7814229249011858 with parameters: {'num_leaves': 35, 'max_depth': 6, 'learning_rate': 0.24547057225486427}.\u001b[0m\n",
      "\u001b[32m[I 2020-12-17 17:34:28,611]\u001b[0m Finished trial#9 resulted in value: 0.75899209486166. Current best value is 0.7814229249011858 with parameters: {'num_leaves': 35, 'max_depth': 6, 'learning_rate': 0.24547057225486427}.\u001b[0m\n",
      "\u001b[32m[I 2020-12-17 17:34:50,041]\u001b[0m Finished trial#10 resulted in value: 0.4433465085638998. Current best value is 0.7814229249011858 with parameters: {'num_leaves': 35, 'max_depth': 6, 'learning_rate': 0.24547057225486427}.\u001b[0m\n",
      "\u001b[32m[I 2020-12-17 17:35:08,902]\u001b[0m Finished trial#11 resulted in value: 0.7731884057971014. Current best value is 0.7814229249011858 with parameters: {'num_leaves': 35, 'max_depth': 6, 'learning_rate': 0.24547057225486427}.\u001b[0m\n",
      "\u001b[32m[I 2020-12-17 17:35:26,942]\u001b[0m Finished trial#12 resulted in value: 0.7721343873517786. Current best value is 0.7814229249011858 with parameters: {'num_leaves': 35, 'max_depth': 6, 'learning_rate': 0.24547057225486427}.\u001b[0m\n",
      "\u001b[32m[I 2020-12-17 17:35:50,245]\u001b[0m Finished trial#13 resulted in value: 0.4433465085638998. Current best value is 0.7814229249011858 with parameters: {'num_leaves': 35, 'max_depth': 6, 'learning_rate': 0.24547057225486427}.\u001b[0m\n",
      "\u001b[32m[I 2020-12-17 17:36:13,244]\u001b[0m Finished trial#14 resulted in value: 0.774802371541502. Current best value is 0.7814229249011858 with parameters: {'num_leaves': 35, 'max_depth': 6, 'learning_rate': 0.24547057225486427}.\u001b[0m\n",
      "\u001b[32m[I 2020-12-17 17:36:39,217]\u001b[0m Finished trial#15 resulted in value: 0.6904808959156785. Current best value is 0.7814229249011858 with parameters: {'num_leaves': 35, 'max_depth': 6, 'learning_rate': 0.24547057225486427}.\u001b[0m\n",
      "\u001b[32m[I 2020-12-17 17:37:07,924]\u001b[0m Finished trial#16 resulted in value: 0.4433465085638998. Current best value is 0.7814229249011858 with parameters: {'num_leaves': 35, 'max_depth': 6, 'learning_rate': 0.24547057225486427}.\u001b[0m\n",
      "\u001b[32m[I 2020-12-17 17:37:40,523]\u001b[0m Finished trial#17 resulted in value: 0.7813899868247693. Current best value is 0.7814229249011858 with parameters: {'num_leaves': 35, 'max_depth': 6, 'learning_rate': 0.24547057225486427}.\u001b[0m\n",
      "\u001b[32m[I 2020-12-17 17:38:16,032]\u001b[0m Finished trial#18 resulted in value: 0.7416337285902503. Current best value is 0.7814229249011858 with parameters: {'num_leaves': 35, 'max_depth': 6, 'learning_rate': 0.24547057225486427}.\u001b[0m\n",
      "\u001b[32m[I 2020-12-17 17:38:47,852]\u001b[0m Finished trial#19 resulted in value: 0.4433465085638998. Current best value is 0.7814229249011858 with parameters: {'num_leaves': 35, 'max_depth': 6, 'learning_rate': 0.24547057225486427}.\u001b[0m\n",
      "\u001b[32m[I 2020-12-17 17:39:21,303]\u001b[0m Finished trial#20 resulted in value: 0.4433465085638998. Current best value is 0.7814229249011858 with parameters: {'num_leaves': 35, 'max_depth': 6, 'learning_rate': 0.24547057225486427}.\u001b[0m\n",
      "\u001b[32m[I 2020-12-17 17:39:50,842]\u001b[0m Finished trial#21 resulted in value: 0.7793478260869565. Current best value is 0.7814229249011858 with parameters: {'num_leaves': 35, 'max_depth': 6, 'learning_rate': 0.24547057225486427}.\u001b[0m\n",
      "\u001b[32m[I 2020-12-17 17:40:20,868]\u001b[0m Finished trial#22 resulted in value: 0.7820487483530962. Current best value is 0.7820487483530962 with parameters: {'num_leaves': 29, 'max_depth': 19, 'learning_rate': 0.28802407310814543}.\u001b[0m\n",
      "\u001b[32m[I 2020-12-17 17:40:56,505]\u001b[0m Finished trial#23 resulted in value: 0.7598814229249011. Current best value is 0.7820487483530962 with parameters: {'num_leaves': 29, 'max_depth': 19, 'learning_rate': 0.28802407310814543}.\u001b[0m\n",
      "\u001b[32m[I 2020-12-17 17:41:27,433]\u001b[0m Finished trial#24 resulted in value: 0.4433465085638998. Current best value is 0.7820487483530962 with parameters: {'num_leaves': 29, 'max_depth': 19, 'learning_rate': 0.28802407310814543}.\u001b[0m\n",
      "\u001b[32m[I 2020-12-17 17:42:03,434]\u001b[0m Finished trial#25 resulted in value: 0.6809947299077734. Current best value is 0.7820487483530962 with parameters: {'num_leaves': 29, 'max_depth': 19, 'learning_rate': 0.28802407310814543}.\u001b[0m\n",
      "\u001b[32m[I 2020-12-17 17:42:39,051]\u001b[0m Finished trial#26 resulted in value: 0.7733530961791831. Current best value is 0.7820487483530962 with parameters: {'num_leaves': 29, 'max_depth': 19, 'learning_rate': 0.28802407310814543}.\u001b[0m\n",
      "\u001b[32m[I 2020-12-17 17:43:06,262]\u001b[0m Finished trial#27 resulted in value: 0.7799407114624507. Current best value is 0.7820487483530962 with parameters: {'num_leaves': 29, 'max_depth': 19, 'learning_rate': 0.28802407310814543}.\u001b[0m\n",
      "\u001b[32m[I 2020-12-17 17:43:39,247]\u001b[0m Finished trial#28 resulted in value: 0.7460474308300395. Current best value is 0.7820487483530962 with parameters: {'num_leaves': 29, 'max_depth': 19, 'learning_rate': 0.28802407310814543}.\u001b[0m\n",
      "\u001b[32m[I 2020-12-17 17:44:08,434]\u001b[0m Finished trial#29 resulted in value: 0.4433465085638998. Current best value is 0.7820487483530962 with parameters: {'num_leaves': 29, 'max_depth': 19, 'learning_rate': 0.28802407310814543}.\u001b[0m\n",
      "\u001b[32m[I 2020-12-17 17:44:40,262]\u001b[0m Finished trial#30 resulted in value: 0.4433465085638998. Current best value is 0.7820487483530962 with parameters: {'num_leaves': 29, 'max_depth': 19, 'learning_rate': 0.28802407310814543}.\u001b[0m\n",
      "\u001b[32m[I 2020-12-17 17:45:07,100]\u001b[0m Finished trial#31 resulted in value: 0.778129117259552. Current best value is 0.7820487483530962 with parameters: {'num_leaves': 29, 'max_depth': 19, 'learning_rate': 0.28802407310814543}.\u001b[0m\n"
     ]
    },
    {
     "name": "stdout",
     "output_type": "stream",
     "text": [
      "mean of outer_val_scores is  0.7886154758375333\n",
      "mean of test_scores is  0.7981236970118137\n",
      "outer_cv_5_processing....\n"
     ]
    },
    {
     "name": "stderr",
     "output_type": "stream",
     "text": [
      "\u001b[32m[I 2020-12-17 17:45:37,010]\u001b[0m Finished trial#0 resulted in value: 0.4433135704874835. Current best value is 0.4433135704874835 with parameters: {'num_leaves': 23, 'max_depth': 12, 'learning_rate': 2.4913003475074698e-08}.\u001b[0m\n",
      "\u001b[32m[I 2020-12-17 17:46:04,247]\u001b[0m Finished trial#1 resulted in value: 0.4433135704874835. Current best value is 0.4433135704874835 with parameters: {'num_leaves': 23, 'max_depth': 12, 'learning_rate': 2.4913003475074698e-08}.\u001b[0m\n",
      "\u001b[32m[I 2020-12-17 17:46:38,474]\u001b[0m Finished trial#2 resulted in value: 0.6315217391304349. Current best value is 0.6315217391304349 with parameters: {'num_leaves': 33, 'max_depth': 28, 'learning_rate': 0.006087318670056482}.\u001b[0m\n",
      "\u001b[32m[I 2020-12-17 17:47:02,723]\u001b[0m Finished trial#3 resulted in value: 0.4433135704874835. Current best value is 0.6315217391304349 with parameters: {'num_leaves': 33, 'max_depth': 28, 'learning_rate': 0.006087318670056482}.\u001b[0m\n",
      "\u001b[32m[I 2020-12-17 17:47:28,415]\u001b[0m Finished trial#4 resulted in value: 0.4433135704874835. Current best value is 0.6315217391304349 with parameters: {'num_leaves': 33, 'max_depth': 28, 'learning_rate': 0.006087318670056482}.\u001b[0m\n",
      "\u001b[32m[I 2020-12-17 17:47:49,505]\u001b[0m Finished trial#5 resulted in value: 0.7724308300395257. Current best value is 0.7724308300395257 with parameters: {'num_leaves': 16, 'max_depth': 7, 'learning_rate': 0.11594975571723742}.\u001b[0m\n",
      "\u001b[32m[I 2020-12-17 17:48:10,730]\u001b[0m Finished trial#6 resulted in value: 0.4433135704874835. Current best value is 0.7724308300395257 with parameters: {'num_leaves': 16, 'max_depth': 7, 'learning_rate': 0.11594975571723742}.\u001b[0m\n",
      "\u001b[32m[I 2020-12-17 17:48:43,839]\u001b[0m Finished trial#7 resulted in value: 0.4433135704874835. Current best value is 0.7724308300395257 with parameters: {'num_leaves': 16, 'max_depth': 7, 'learning_rate': 0.11594975571723742}.\u001b[0m\n",
      "\u001b[32m[I 2020-12-17 17:49:08,344]\u001b[0m Finished trial#8 resulted in value: 0.4433135704874835. Current best value is 0.7724308300395257 with parameters: {'num_leaves': 16, 'max_depth': 7, 'learning_rate': 0.11594975571723742}.\u001b[0m\n",
      "\u001b[32m[I 2020-12-17 17:49:38,695]\u001b[0m Finished trial#9 resulted in value: 0.4433135704874835. Current best value is 0.7724308300395257 with parameters: {'num_leaves': 16, 'max_depth': 7, 'learning_rate': 0.11594975571723742}.\u001b[0m\n",
      "\u001b[32m[I 2020-12-17 17:49:58,315]\u001b[0m Finished trial#10 resulted in value: 0.7676548089591567. Current best value is 0.7724308300395257 with parameters: {'num_leaves': 16, 'max_depth': 7, 'learning_rate': 0.11594975571723742}.\u001b[0m\n",
      "\u001b[32m[I 2020-12-17 17:50:16,610]\u001b[0m Finished trial#11 resulted in value: 0.7786561264822135. Current best value is 0.7786561264822135 with parameters: {'num_leaves': 15, 'max_depth': 5, 'learning_rate': 0.2084027573872192}.\u001b[0m\n",
      "\u001b[32m[I 2020-12-17 17:50:34,723]\u001b[0m Finished trial#12 resulted in value: 0.7800065876152832. Current best value is 0.7800065876152832 with parameters: {'num_leaves': 15, 'max_depth': 5, 'learning_rate': 0.2718041425343875}.\u001b[0m\n",
      "\u001b[32m[I 2020-12-17 17:50:54,660]\u001b[0m Finished trial#13 resulted in value: 0.77967720685112. Current best value is 0.7800065876152832 with parameters: {'num_leaves': 15, 'max_depth': 5, 'learning_rate': 0.2718041425343875}.\u001b[0m\n",
      "\u001b[32m[I 2020-12-17 17:51:25,219]\u001b[0m Finished trial#14 resulted in value: 0.6957509881422925. Current best value is 0.7800065876152832 with parameters: {'num_leaves': 15, 'max_depth': 5, 'learning_rate': 0.2718041425343875}.\u001b[0m\n",
      "\u001b[32m[I 2020-12-17 17:51:46,244]\u001b[0m Finished trial#15 resulted in value: 0.7800065876152832. Current best value is 0.7800065876152832 with parameters: {'num_leaves': 15, 'max_depth': 5, 'learning_rate': 0.2718041425343875}.\u001b[0m\n",
      "\u001b[32m[I 2020-12-17 17:52:09,434]\u001b[0m Finished trial#16 resulted in value: 0.4433135704874835. Current best value is 0.7800065876152832 with parameters: {'num_leaves': 15, 'max_depth': 5, 'learning_rate': 0.2718041425343875}.\u001b[0m\n",
      "\u001b[32m[I 2020-12-17 17:52:30,958]\u001b[0m Finished trial#17 resulted in value: 0.7413372859025033. Current best value is 0.7800065876152832 with parameters: {'num_leaves': 15, 'max_depth': 5, 'learning_rate': 0.2718041425343875}.\u001b[0m\n",
      "\u001b[32m[I 2020-12-17 17:52:54,062]\u001b[0m Finished trial#18 resulted in value: 0.4433135704874835. Current best value is 0.7800065876152832 with parameters: {'num_leaves': 15, 'max_depth': 5, 'learning_rate': 0.2718041425343875}.\u001b[0m\n",
      "\u001b[32m[I 2020-12-17 17:53:25,238]\u001b[0m Finished trial#19 resulted in value: 0.4433135704874835. Current best value is 0.7800065876152832 with parameters: {'num_leaves': 15, 'max_depth': 5, 'learning_rate': 0.2718041425343875}.\u001b[0m\n",
      "\u001b[32m[I 2020-12-17 17:53:52,306]\u001b[0m Finished trial#20 resulted in value: 0.7672924901185769. Current best value is 0.7800065876152832 with parameters: {'num_leaves': 15, 'max_depth': 5, 'learning_rate': 0.2718041425343875}.\u001b[0m\n",
      "\u001b[32m[I 2020-12-17 17:54:13,012]\u001b[0m Finished trial#21 resulted in value: 0.7762187088274045. Current best value is 0.7800065876152832 with parameters: {'num_leaves': 15, 'max_depth': 5, 'learning_rate': 0.2718041425343875}.\u001b[0m\n",
      "\u001b[32m[I 2020-12-17 17:54:33,315]\u001b[0m Finished trial#22 resulted in value: 0.7778656126482213. Current best value is 0.7800065876152832 with parameters: {'num_leaves': 15, 'max_depth': 5, 'learning_rate': 0.2718041425343875}.\u001b[0m\n",
      "\u001b[32m[I 2020-12-17 17:54:55,203]\u001b[0m Finished trial#23 resulted in value: 0.731159420289855. Current best value is 0.7800065876152832 with parameters: {'num_leaves': 15, 'max_depth': 5, 'learning_rate': 0.2718041425343875}.\u001b[0m\n",
      "\u001b[32m[I 2020-12-17 17:55:17,981]\u001b[0m Finished trial#24 resulted in value: 0.7829710144927536. Current best value is 0.7829710144927536 with parameters: {'num_leaves': 21, 'max_depth': 7, 'learning_rate': 0.2547833313188427}.\u001b[0m\n",
      "\u001b[32m[I 2020-12-17 17:55:41,813]\u001b[0m Finished trial#25 resulted in value: 0.4433135704874835. Current best value is 0.7829710144927536 with parameters: {'num_leaves': 21, 'max_depth': 7, 'learning_rate': 0.2547833313188427}.\u001b[0m\n",
      "\u001b[32m[I 2020-12-17 17:56:12,674]\u001b[0m Finished trial#26 resulted in value: 0.751449275362319. Current best value is 0.7829710144927536 with parameters: {'num_leaves': 21, 'max_depth': 7, 'learning_rate': 0.2547833313188427}.\u001b[0m\n",
      "\u001b[32m[I 2020-12-17 17:56:39,828]\u001b[0m Finished trial#27 resulted in value: 0.7619565217391304. Current best value is 0.7829710144927536 with parameters: {'num_leaves': 21, 'max_depth': 7, 'learning_rate': 0.2547833313188427}.\u001b[0m\n",
      "\u001b[32m[I 2020-12-17 17:57:06,403]\u001b[0m Finished trial#28 resulted in value: 0.4433135704874835. Current best value is 0.7829710144927536 with parameters: {'num_leaves': 21, 'max_depth': 7, 'learning_rate': 0.2547833313188427}.\u001b[0m\n",
      "\u001b[32m[I 2020-12-17 17:57:30,297]\u001b[0m Finished trial#29 resulted in value: 0.6785902503293808. Current best value is 0.7829710144927536 with parameters: {'num_leaves': 21, 'max_depth': 7, 'learning_rate': 0.2547833313188427}.\u001b[0m\n",
      "\u001b[32m[I 2020-12-17 17:57:53,649]\u001b[0m Finished trial#30 resulted in value: 0.4433135704874835. Current best value is 0.7829710144927536 with parameters: {'num_leaves': 21, 'max_depth': 7, 'learning_rate': 0.2547833313188427}.\u001b[0m\n",
      "\u001b[32m[I 2020-12-17 17:58:14,543]\u001b[0m Finished trial#31 resulted in value: 0.7831357048748353. Current best value is 0.7831357048748353 with parameters: {'num_leaves': 17, 'max_depth': 8, 'learning_rate': 0.25328215472573884}.\u001b[0m\n"
     ]
    },
    {
     "name": "stdout",
     "output_type": "stream",
     "text": [
      "mean of outer_val_scores is  0.7266528313074414\n",
      "mean of test_scores is  0.784920083391244\n",
      "outer_cv_6_processing....\n"
     ]
    },
    {
     "name": "stderr",
     "output_type": "stream",
     "text": [
      "\u001b[32m[I 2020-12-17 17:58:40,901]\u001b[0m Finished trial#0 resulted in value: 0.4433135704874835. Current best value is 0.4433135704874835 with parameters: {'num_leaves': 19, 'max_depth': 30, 'learning_rate': 0.0003620181552755444}.\u001b[0m\n",
      "\u001b[32m[I 2020-12-17 17:59:10,659]\u001b[0m Finished trial#1 resulted in value: 0.4433135704874835. Current best value is 0.4433135704874835 with parameters: {'num_leaves': 19, 'max_depth': 30, 'learning_rate': 0.0003620181552755444}.\u001b[0m\n",
      "\u001b[32m[I 2020-12-17 17:59:42,036]\u001b[0m Finished trial#2 resulted in value: 0.4433135704874835. Current best value is 0.4433135704874835 with parameters: {'num_leaves': 19, 'max_depth': 30, 'learning_rate': 0.0003620181552755444}.\u001b[0m\n",
      "\u001b[32m[I 2020-12-17 18:00:04,647]\u001b[0m Finished trial#3 resulted in value: 0.7354743083003953. Current best value is 0.7354743083003953 with parameters: {'num_leaves': 15, 'max_depth': 10, 'learning_rate': 0.025149039696402958}.\u001b[0m\n",
      "\u001b[32m[I 2020-12-17 18:00:28,669]\u001b[0m Finished trial#4 resulted in value: 0.4433135704874835. Current best value is 0.7354743083003953 with parameters: {'num_leaves': 15, 'max_depth': 10, 'learning_rate': 0.025149039696402958}.\u001b[0m\n",
      "\u001b[32m[I 2020-12-17 18:00:52,341]\u001b[0m Finished trial#5 resulted in value: 0.4433135704874835. Current best value is 0.7354743083003953 with parameters: {'num_leaves': 15, 'max_depth': 10, 'learning_rate': 0.025149039696402958}.\u001b[0m\n",
      "\u001b[32m[I 2020-12-17 18:01:21,868]\u001b[0m Finished trial#6 resulted in value: 0.4433135704874835. Current best value is 0.7354743083003953 with parameters: {'num_leaves': 15, 'max_depth': 10, 'learning_rate': 0.025149039696402958}.\u001b[0m\n",
      "\u001b[32m[I 2020-12-17 18:01:55,732]\u001b[0m Finished trial#7 resulted in value: 0.740909090909091. Current best value is 0.740909090909091 with parameters: {'num_leaves': 31, 'max_depth': 9, 'learning_rate': 0.017425153943644692}.\u001b[0m\n",
      "\u001b[32m[I 2020-12-17 18:02:20,840]\u001b[0m Finished trial#8 resulted in value: 0.4433135704874835. Current best value is 0.740909090909091 with parameters: {'num_leaves': 31, 'max_depth': 9, 'learning_rate': 0.017425153943644692}.\u001b[0m\n",
      "\u001b[32m[I 2020-12-17 18:02:50,635]\u001b[0m Finished trial#9 resulted in value: 0.6275032938076415. Current best value is 0.740909090909091 with parameters: {'num_leaves': 31, 'max_depth': 9, 'learning_rate': 0.017425153943644692}.\u001b[0m\n",
      "\u001b[32m[I 2020-12-17 18:03:24,428]\u001b[0m Finished trial#10 resulted in value: 0.4433135704874835. Current best value is 0.740909090909091 with parameters: {'num_leaves': 31, 'max_depth': 9, 'learning_rate': 0.017425153943644692}.\u001b[0m\n",
      "\u001b[32m[I 2020-12-17 18:03:46,852]\u001b[0m Finished trial#11 resulted in value: 0.7650197628458498. Current best value is 0.7650197628458498 with parameters: {'num_leaves': 15, 'max_depth': 11, 'learning_rate': 0.09134765352063047}.\u001b[0m\n",
      "\u001b[32m[I 2020-12-17 18:04:18,504]\u001b[0m Finished trial#12 resulted in value: 0.7847826086956523. Current best value is 0.7847826086956523 with parameters: {'num_leaves': 31, 'max_depth': 15, 'learning_rate': 0.2543309889313522}.\u001b[0m\n",
      "\u001b[32m[I 2020-12-17 18:04:44,957]\u001b[0m Finished trial#13 resulted in value: 0.7833662714097496. Current best value is 0.7847826086956523 with parameters: {'num_leaves': 31, 'max_depth': 15, 'learning_rate': 0.2543309889313522}.\u001b[0m\n",
      "\u001b[32m[I 2020-12-17 18:05:12,308]\u001b[0m Finished trial#14 resulted in value: 0.780566534914361. Current best value is 0.7847826086956523 with parameters: {'num_leaves': 31, 'max_depth': 15, 'learning_rate': 0.2543309889313522}.\u001b[0m\n",
      "\u001b[32m[I 2020-12-17 18:05:39,836]\u001b[0m Finished trial#15 resulted in value: 0.4433135704874835. Current best value is 0.7847826086956523 with parameters: {'num_leaves': 31, 'max_depth': 15, 'learning_rate': 0.2543309889313522}.\u001b[0m\n",
      "\u001b[32m[I 2020-12-17 18:06:12,985]\u001b[0m Finished trial#16 resulted in value: 0.7870553359683794. Current best value is 0.7870553359683794 with parameters: {'num_leaves': 33, 'max_depth': 23, 'learning_rate': 0.2650395283654239}.\u001b[0m\n",
      "\u001b[32m[I 2020-12-17 18:06:45,330]\u001b[0m Finished trial#17 resulted in value: 0.7849472990777339. Current best value is 0.7870553359683794 with parameters: {'num_leaves': 33, 'max_depth': 23, 'learning_rate': 0.2650395283654239}.\u001b[0m\n",
      "\u001b[32m[I 2020-12-17 18:07:17,902]\u001b[0m Finished trial#18 resulted in value: 0.4433135704874835. Current best value is 0.7870553359683794 with parameters: {'num_leaves': 33, 'max_depth': 23, 'learning_rate': 0.2650395283654239}.\u001b[0m\n",
      "\u001b[32m[I 2020-12-17 18:07:51,145]\u001b[0m Finished trial#19 resulted in value: 0.7593873517786561. Current best value is 0.7870553359683794 with parameters: {'num_leaves': 33, 'max_depth': 23, 'learning_rate': 0.2650395283654239}.\u001b[0m\n",
      "\u001b[32m[I 2020-12-17 18:08:24,095]\u001b[0m Finished trial#20 resulted in value: 0.4433135704874835. Current best value is 0.7870553359683794 with parameters: {'num_leaves': 33, 'max_depth': 23, 'learning_rate': 0.2650395283654239}.\u001b[0m\n",
      "\u001b[32m[I 2020-12-17 18:08:56,315]\u001b[0m Finished trial#21 resulted in value: 0.7877799736495389. Current best value is 0.7877799736495389 with parameters: {'num_leaves': 32, 'max_depth': 25, 'learning_rate': 0.2978786851443788}.\u001b[0m\n",
      "\u001b[32m[I 2020-12-17 18:09:29,371]\u001b[0m Finished trial#22 resulted in value: 0.7889657444005269. Current best value is 0.7889657444005269 with parameters: {'num_leaves': 33, 'max_depth': 25, 'learning_rate': 0.26086542270152213}.\u001b[0m\n",
      "\u001b[32m[I 2020-12-17 18:10:07,385]\u001b[0m Finished trial#23 resulted in value: 0.7719038208168642. Current best value is 0.7889657444005269 with parameters: {'num_leaves': 33, 'max_depth': 25, 'learning_rate': 0.26086542270152213}.\u001b[0m\n",
      "\u001b[32m[I 2020-12-17 18:10:43,046]\u001b[0m Finished trial#24 resulted in value: 0.7192028985507246. Current best value is 0.7889657444005269 with parameters: {'num_leaves': 33, 'max_depth': 25, 'learning_rate': 0.26086542270152213}.\u001b[0m\n",
      "\u001b[32m[I 2020-12-17 18:11:12,515]\u001b[0m Finished trial#25 resulted in value: 0.4433135704874835. Current best value is 0.7889657444005269 with parameters: {'num_leaves': 33, 'max_depth': 25, 'learning_rate': 0.26086542270152213}.\u001b[0m\n",
      "\u001b[32m[I 2020-12-17 18:11:46,248]\u001b[0m Finished trial#26 resulted in value: 0.78731884057971. Current best value is 0.7889657444005269 with parameters: {'num_leaves': 33, 'max_depth': 25, 'learning_rate': 0.26086542270152213}.\u001b[0m\n",
      "\u001b[32m[I 2020-12-17 18:12:23,918]\u001b[0m Finished trial#27 resulted in value: 0.7748682476943347. Current best value is 0.7889657444005269 with parameters: {'num_leaves': 33, 'max_depth': 25, 'learning_rate': 0.26086542270152213}.\u001b[0m\n",
      "\u001b[32m[I 2020-12-17 18:12:54,620]\u001b[0m Finished trial#28 resulted in value: 0.6547101449275362. Current best value is 0.7889657444005269 with parameters: {'num_leaves': 33, 'max_depth': 25, 'learning_rate': 0.26086542270152213}.\u001b[0m\n",
      "\u001b[32m[I 2020-12-17 18:13:25,633]\u001b[0m Finished trial#29 resulted in value: 0.4433135704874835. Current best value is 0.7889657444005269 with parameters: {'num_leaves': 33, 'max_depth': 25, 'learning_rate': 0.26086542270152213}.\u001b[0m\n",
      "\u001b[32m[I 2020-12-17 18:14:02,046]\u001b[0m Finished trial#30 resulted in value: 0.7781291172595519. Current best value is 0.7889657444005269 with parameters: {'num_leaves': 33, 'max_depth': 25, 'learning_rate': 0.26086542270152213}.\u001b[0m\n",
      "\u001b[32m[I 2020-12-17 18:14:34,641]\u001b[0m Finished trial#31 resulted in value: 0.7855731225296443. Current best value is 0.7889657444005269 with parameters: {'num_leaves': 33, 'max_depth': 25, 'learning_rate': 0.26086542270152213}.\u001b[0m\n"
     ]
    },
    {
     "name": "stdout",
     "output_type": "stream",
     "text": [
      "mean of outer_val_scores is  0.7539282537800178\n",
      "mean of test_scores is  0.7970813064628214\n",
      "outer_cv_7_processing....\n"
     ]
    },
    {
     "name": "stderr",
     "output_type": "stream",
     "text": [
      "\u001b[32m[I 2020-12-17 18:15:09,427]\u001b[0m Finished trial#0 resulted in value: 0.7487483530961792. Current best value is 0.7487483530961792 with parameters: {'num_leaves': 25, 'max_depth': 15, 'learning_rate': 0.026847112241018704}.\u001b[0m\n",
      "\u001b[32m[I 2020-12-17 18:15:41,796]\u001b[0m Finished trial#1 resulted in value: 0.7604084321475626. Current best value is 0.7604084321475626 with parameters: {'num_leaves': 27, 'max_depth': 30, 'learning_rate': 0.04249817694468063}.\u001b[0m\n",
      "\u001b[32m[I 2020-12-17 18:16:10,282]\u001b[0m Finished trial#2 resulted in value: 0.7575428194993412. Current best value is 0.7604084321475626 with parameters: {'num_leaves': 27, 'max_depth': 30, 'learning_rate': 0.04249817694468063}.\u001b[0m\n",
      "\u001b[32m[I 2020-12-17 18:16:45,193]\u001b[0m Finished trial#3 resulted in value: 0.7405797101449276. Current best value is 0.7604084321475626 with parameters: {'num_leaves': 27, 'max_depth': 30, 'learning_rate': 0.04249817694468063}.\u001b[0m\n",
      "\u001b[32m[I 2020-12-17 18:17:12,453]\u001b[0m Finished trial#4 resulted in value: 0.7738801054018445. Current best value is 0.7738801054018445 with parameters: {'num_leaves': 29, 'max_depth': 6, 'learning_rate': 0.10078604098453858}.\u001b[0m\n",
      "\u001b[32m[I 2020-12-17 18:17:41,796]\u001b[0m Finished trial#5 resulted in value: 0.7631752305665349. Current best value is 0.7738801054018445 with parameters: {'num_leaves': 29, 'max_depth': 6, 'learning_rate': 0.10078604098453858}.\u001b[0m\n",
      "\u001b[32m[I 2020-12-17 18:18:14,874]\u001b[0m Finished trial#6 resulted in value: 0.4433135704874835. Current best value is 0.7738801054018445 with parameters: {'num_leaves': 29, 'max_depth': 6, 'learning_rate': 0.10078604098453858}.\u001b[0m\n",
      "\u001b[32m[I 2020-12-17 18:18:46,977]\u001b[0m Finished trial#7 resulted in value: 0.4433135704874835. Current best value is 0.7738801054018445 with parameters: {'num_leaves': 29, 'max_depth': 6, 'learning_rate': 0.10078604098453858}.\u001b[0m\n",
      "\u001b[32m[I 2020-12-17 18:19:19,324]\u001b[0m Finished trial#8 resulted in value: 0.4433135704874835. Current best value is 0.7738801054018445 with parameters: {'num_leaves': 29, 'max_depth': 6, 'learning_rate': 0.10078604098453858}.\u001b[0m\n",
      "\u001b[32m[I 2020-12-17 18:19:40,341]\u001b[0m Finished trial#9 resulted in value: 0.4433135704874835. Current best value is 0.7738801054018445 with parameters: {'num_leaves': 29, 'max_depth': 6, 'learning_rate': 0.10078604098453858}.\u001b[0m\n",
      "\u001b[32m[I 2020-12-17 18:20:04,401]\u001b[0m Finished trial#10 resulted in value: 0.4433135704874835. Current best value is 0.7738801054018445 with parameters: {'num_leaves': 29, 'max_depth': 6, 'learning_rate': 0.10078604098453858}.\u001b[0m\n",
      "\u001b[32m[I 2020-12-17 18:20:25,018]\u001b[0m Finished trial#11 resulted in value: 0.7798089591567853. Current best value is 0.7798089591567853 with parameters: {'num_leaves': 21, 'max_depth': 5, 'learning_rate': 0.2798862344531776}.\u001b[0m\n",
      "\u001b[32m[I 2020-12-17 18:20:47,085]\u001b[0m Finished trial#12 resulted in value: 0.7794137022397891. Current best value is 0.7798089591567853 with parameters: {'num_leaves': 21, 'max_depth': 5, 'learning_rate': 0.2798862344531776}.\u001b[0m\n",
      "\u001b[32m[I 2020-12-17 18:21:10,207]\u001b[0m Finished trial#13 resulted in value: 0.4433135704874835. Current best value is 0.7798089591567853 with parameters: {'num_leaves': 21, 'max_depth': 5, 'learning_rate': 0.2798862344531776}.\u001b[0m\n",
      "\u001b[32m[I 2020-12-17 18:21:32,860]\u001b[0m Finished trial#14 resulted in value: 0.7780961791831357. Current best value is 0.7798089591567853 with parameters: {'num_leaves': 21, 'max_depth': 5, 'learning_rate': 0.2798862344531776}.\u001b[0m\n",
      "\u001b[32m[I 2020-12-17 18:21:51,713]\u001b[0m Finished trial#15 resulted in value: 0.4433135704874835. Current best value is 0.7798089591567853 with parameters: {'num_leaves': 21, 'max_depth': 5, 'learning_rate': 0.2798862344531776}.\u001b[0m\n",
      "\u001b[32m[I 2020-12-17 18:22:13,997]\u001b[0m Finished trial#16 resulted in value: 0.7805006587615282. Current best value is 0.7805006587615282 with parameters: {'num_leaves': 18, 'max_depth': 12, 'learning_rate': 0.25648323582061167}.\u001b[0m\n",
      "\u001b[32m[I 2020-12-17 18:22:37,049]\u001b[0m Finished trial#17 resulted in value: 0.5308300395256916. Current best value is 0.7805006587615282 with parameters: {'num_leaves': 18, 'max_depth': 12, 'learning_rate': 0.25648323582061167}.\u001b[0m\n",
      "\u001b[32m[I 2020-12-17 18:23:02,768]\u001b[0m Finished trial#18 resulted in value: 0.4433135704874835. Current best value is 0.7805006587615282 with parameters: {'num_leaves': 18, 'max_depth': 12, 'learning_rate': 0.25648323582061167}.\u001b[0m\n",
      "\u001b[32m[I 2020-12-17 18:23:29,450]\u001b[0m Finished trial#19 resulted in value: 0.7795783926218708. Current best value is 0.7805006587615282 with parameters: {'num_leaves': 18, 'max_depth': 12, 'learning_rate': 0.25648323582061167}.\u001b[0m\n",
      "\u001b[32m[I 2020-12-17 18:23:54,413]\u001b[0m Finished trial#20 resulted in value: 0.4433135704874835. Current best value is 0.7805006587615282 with parameters: {'num_leaves': 18, 'max_depth': 12, 'learning_rate': 0.25648323582061167}.\u001b[0m\n",
      "\u001b[32m[I 2020-12-17 18:24:22,466]\u001b[0m Finished trial#21 resulted in value: 0.7801712779973649. Current best value is 0.7805006587615282 with parameters: {'num_leaves': 18, 'max_depth': 12, 'learning_rate': 0.25648323582061167}.\u001b[0m\n",
      "\u001b[32m[I 2020-12-17 18:24:49,741]\u001b[0m Finished trial#22 resulted in value: 0.5177536231884059. Current best value is 0.7805006587615282 with parameters: {'num_leaves': 18, 'max_depth': 12, 'learning_rate': 0.25648323582061167}.\u001b[0m\n",
      "\u001b[32m[I 2020-12-17 18:25:12,735]\u001b[0m Finished trial#23 resulted in value: 0.7773056653491437. Current best value is 0.7805006587615282 with parameters: {'num_leaves': 18, 'max_depth': 12, 'learning_rate': 0.25648323582061167}.\u001b[0m\n",
      "\u001b[32m[I 2020-12-17 18:25:34,999]\u001b[0m Finished trial#24 resulted in value: 0.4433135704874835. Current best value is 0.7805006587615282 with parameters: {'num_leaves': 18, 'max_depth': 12, 'learning_rate': 0.25648323582061167}.\u001b[0m\n",
      "\u001b[32m[I 2020-12-17 18:26:04,127]\u001b[0m Finished trial#25 resulted in value: 0.675. Current best value is 0.7805006587615282 with parameters: {'num_leaves': 18, 'max_depth': 12, 'learning_rate': 0.25648323582061167}.\u001b[0m\n",
      "\u001b[32m[I 2020-12-17 18:26:31,184]\u001b[0m Finished trial#26 resulted in value: 0.7751646903820817. Current best value is 0.7805006587615282 with parameters: {'num_leaves': 18, 'max_depth': 12, 'learning_rate': 0.25648323582061167}.\u001b[0m\n",
      "\u001b[32m[I 2020-12-17 18:26:53,362]\u001b[0m Finished trial#27 resulted in value: 0.4433135704874835. Current best value is 0.7805006587615282 with parameters: {'num_leaves': 18, 'max_depth': 12, 'learning_rate': 0.25648323582061167}.\u001b[0m\n",
      "\u001b[32m[I 2020-12-17 18:27:20,171]\u001b[0m Finished trial#28 resulted in value: 0.6956521739130435. Current best value is 0.7805006587615282 with parameters: {'num_leaves': 18, 'max_depth': 12, 'learning_rate': 0.25648323582061167}.\u001b[0m\n",
      "\u001b[32m[I 2020-12-17 18:27:49,327]\u001b[0m Finished trial#29 resulted in value: 0.7360013175230566. Current best value is 0.7805006587615282 with parameters: {'num_leaves': 18, 'max_depth': 12, 'learning_rate': 0.25648323582061167}.\u001b[0m\n",
      "\u001b[32m[I 2020-12-17 18:28:17,999]\u001b[0m Finished trial#30 resulted in value: 0.7740447957839262. Current best value is 0.7805006587615282 with parameters: {'num_leaves': 18, 'max_depth': 12, 'learning_rate': 0.25648323582061167}.\u001b[0m\n",
      "\u001b[32m[I 2020-12-17 18:28:45,409]\u001b[0m Finished trial#31 resulted in value: 0.7824440052700924. Current best value is 0.7824440052700924 with parameters: {'num_leaves': 25, 'max_depth': 12, 'learning_rate': 0.24940295909913981}.\u001b[0m\n"
     ]
    },
    {
     "name": "stdout",
     "output_type": "stream",
     "text": [
      "mean of outer_val_scores is  0.7557070856804032\n",
      "mean of test_scores is  0.7974287699791522\n",
      "outer_cv_8_processing....\n"
     ]
    },
    {
     "name": "stderr",
     "output_type": "stream",
     "text": [
      "\u001b[32m[I 2020-12-17 18:29:16,861]\u001b[0m Finished trial#0 resulted in value: 0.4433135704874835. Current best value is 0.4433135704874835 with parameters: {'num_leaves': 26, 'max_depth': 10, 'learning_rate': 3.020757514253423e-08}.\u001b[0m\n",
      "\u001b[32m[I 2020-12-17 18:29:47,130]\u001b[0m Finished trial#1 resulted in value: 0.4433135704874835. Current best value is 0.4433135704874835 with parameters: {'num_leaves': 26, 'max_depth': 10, 'learning_rate': 3.020757514253423e-08}.\u001b[0m\n",
      "\u001b[32m[I 2020-12-17 18:30:12,283]\u001b[0m Finished trial#2 resulted in value: 0.7172595520421609. Current best value is 0.7172595520421609 with parameters: {'num_leaves': 18, 'max_depth': 19, 'learning_rate': 0.016424578855557485}.\u001b[0m\n",
      "\u001b[32m[I 2020-12-17 18:30:46,590]\u001b[0m Finished trial#3 resulted in value: 0.5295125164690381. Current best value is 0.7172595520421609 with parameters: {'num_leaves': 18, 'max_depth': 19, 'learning_rate': 0.016424578855557485}.\u001b[0m\n",
      "\u001b[32m[I 2020-12-17 18:31:13,190]\u001b[0m Finished trial#4 resulted in value: 0.7279973649538868. Current best value is 0.7279973649538868 with parameters: {'num_leaves': 20, 'max_depth': 20, 'learning_rate': 0.018400134189021117}.\u001b[0m\n",
      "\u001b[32m[I 2020-12-17 18:31:37,561]\u001b[0m Finished trial#5 resulted in value: 0.4433135704874835. Current best value is 0.7279973649538868 with parameters: {'num_leaves': 20, 'max_depth': 20, 'learning_rate': 0.018400134189021117}.\u001b[0m\n",
      "\u001b[32m[I 2020-12-17 18:32:05,741]\u001b[0m Finished trial#6 resulted in value: 0.4433135704874835. Current best value is 0.7279973649538868 with parameters: {'num_leaves': 20, 'max_depth': 20, 'learning_rate': 0.018400134189021117}.\u001b[0m\n",
      "\u001b[32m[I 2020-12-17 18:32:38,463]\u001b[0m Finished trial#7 resulted in value: 0.7448287220026351. Current best value is 0.7448287220026351 with parameters: {'num_leaves': 28, 'max_depth': 16, 'learning_rate': 0.023737473731245056}.\u001b[0m\n",
      "\u001b[32m[I 2020-12-17 18:33:00,590]\u001b[0m Finished trial#8 resulted in value: 0.4433135704874835. Current best value is 0.7448287220026351 with parameters: {'num_leaves': 28, 'max_depth': 16, 'learning_rate': 0.023737473731245056}.\u001b[0m\n",
      "\u001b[32m[I 2020-12-17 18:33:23,133]\u001b[0m Finished trial#9 resulted in value: 0.4433135704874835. Current best value is 0.7448287220026351 with parameters: {'num_leaves': 28, 'max_depth': 16, 'learning_rate': 0.023737473731245056}.\u001b[0m\n",
      "\u001b[32m[I 2020-12-17 18:33:45,780]\u001b[0m Finished trial#10 resulted in value: 0.7766469038208169. Current best value is 0.7766469038208169 with parameters: {'num_leaves': 35, 'max_depth': 5, 'learning_rate': 0.2258246341245674}.\u001b[0m\n",
      "\u001b[32m[I 2020-12-17 18:34:16,250]\u001b[0m Finished trial#11 resulted in value: 0.7843214756258234. Current best value is 0.7843214756258234 with parameters: {'num_leaves': 35, 'max_depth': 7, 'learning_rate': 0.20999873250792708}.\u001b[0m\n",
      "\u001b[32m[I 2020-12-17 18:34:38,979]\u001b[0m Finished trial#12 resulted in value: 0.7770092226613966. Current best value is 0.7843214756258234 with parameters: {'num_leaves': 35, 'max_depth': 7, 'learning_rate': 0.20999873250792708}.\u001b[0m\n",
      "\u001b[32m[I 2020-12-17 18:35:01,344]\u001b[0m Finished trial#13 resulted in value: 0.7799407114624506. Current best value is 0.7843214756258234 with parameters: {'num_leaves': 35, 'max_depth': 7, 'learning_rate': 0.20999873250792708}.\u001b[0m\n",
      "\u001b[32m[I 2020-12-17 18:35:33,418]\u001b[0m Finished trial#14 resulted in value: 0.4433135704874835. Current best value is 0.7843214756258234 with parameters: {'num_leaves': 35, 'max_depth': 7, 'learning_rate': 0.20999873250792708}.\u001b[0m\n",
      "\u001b[32m[I 2020-12-17 18:36:03,498]\u001b[0m Finished trial#15 resulted in value: 0.783498023715415. Current best value is 0.7843214756258234 with parameters: {'num_leaves': 35, 'max_depth': 7, 'learning_rate': 0.20999873250792708}.\u001b[0m\n",
      "\u001b[32m[I 2020-12-17 18:36:37,742]\u001b[0m Finished trial#16 resulted in value: 0.4433135704874835. Current best value is 0.7843214756258234 with parameters: {'num_leaves': 35, 'max_depth': 7, 'learning_rate': 0.20999873250792708}.\u001b[0m\n",
      "\u001b[32m[I 2020-12-17 18:37:09,497]\u001b[0m Finished trial#17 resulted in value: 0.7674242424242425. Current best value is 0.7843214756258234 with parameters: {'num_leaves': 35, 'max_depth': 7, 'learning_rate': 0.20999873250792708}.\u001b[0m\n",
      "\u001b[32m[I 2020-12-17 18:37:43,259]\u001b[0m Finished trial#18 resulted in value: 0.4433135704874835. Current best value is 0.7843214756258234 with parameters: {'num_leaves': 35, 'max_depth': 7, 'learning_rate': 0.20999873250792708}.\u001b[0m\n",
      "\u001b[32m[I 2020-12-17 18:38:09,909]\u001b[0m Finished trial#19 resulted in value: 0.4433135704874835. Current best value is 0.7843214756258234 with parameters: {'num_leaves': 35, 'max_depth': 7, 'learning_rate': 0.20999873250792708}.\u001b[0m\n",
      "\u001b[32m[I 2020-12-17 18:38:37,386]\u001b[0m Finished trial#20 resulted in value: 0.76034255599473. Current best value is 0.7843214756258234 with parameters: {'num_leaves': 35, 'max_depth': 7, 'learning_rate': 0.20999873250792708}.\u001b[0m\n",
      "\u001b[32m[I 2020-12-17 18:38:59,771]\u001b[0m Finished trial#21 resulted in value: 0.777536231884058. Current best value is 0.7843214756258234 with parameters: {'num_leaves': 35, 'max_depth': 7, 'learning_rate': 0.20999873250792708}.\u001b[0m\n",
      "\u001b[32m[I 2020-12-17 18:39:30,094]\u001b[0m Finished trial#22 resulted in value: 0.7791831357048749. Current best value is 0.7843214756258234 with parameters: {'num_leaves': 35, 'max_depth': 7, 'learning_rate': 0.20999873250792708}.\u001b[0m\n",
      "\u001b[32m[I 2020-12-17 18:40:02,331]\u001b[0m Finished trial#23 resulted in value: 0.6849802371541501. Current best value is 0.7843214756258234 with parameters: {'num_leaves': 35, 'max_depth': 7, 'learning_rate': 0.20999873250792708}.\u001b[0m\n",
      "\u001b[32m[I 2020-12-17 18:40:40,186]\u001b[0m Finished trial#24 resulted in value: 0.764361001317523. Current best value is 0.7843214756258234 with parameters: {'num_leaves': 35, 'max_depth': 7, 'learning_rate': 0.20999873250792708}.\u001b[0m\n",
      "\u001b[32m[I 2020-12-17 18:41:05,368]\u001b[0m Finished trial#25 resulted in value: 0.48692358366271404. Current best value is 0.7843214756258234 with parameters: {'num_leaves': 35, 'max_depth': 7, 'learning_rate': 0.20999873250792708}.\u001b[0m\n",
      "\u001b[32m[I 2020-12-17 18:41:35,608]\u001b[0m Finished trial#26 resulted in value: 0.7831357048748353. Current best value is 0.7843214756258234 with parameters: {'num_leaves': 35, 'max_depth': 7, 'learning_rate': 0.20999873250792708}.\u001b[0m\n",
      "\u001b[32m[I 2020-12-17 18:42:08,269]\u001b[0m Finished trial#27 resulted in value: 0.4433135704874835. Current best value is 0.7843214756258234 with parameters: {'num_leaves': 35, 'max_depth': 7, 'learning_rate': 0.20999873250792708}.\u001b[0m\n",
      "\u001b[32m[I 2020-12-17 18:42:41,465]\u001b[0m Finished trial#28 resulted in value: 0.7661725955204215. Current best value is 0.7843214756258234 with parameters: {'num_leaves': 35, 'max_depth': 7, 'learning_rate': 0.20999873250792708}.\u001b[0m\n",
      "\u001b[32m[I 2020-12-17 18:43:09,356]\u001b[0m Finished trial#29 resulted in value: 0.4433135704874835. Current best value is 0.7843214756258234 with parameters: {'num_leaves': 35, 'max_depth': 7, 'learning_rate': 0.20999873250792708}.\u001b[0m\n",
      "\u001b[32m[I 2020-12-17 18:43:29,118]\u001b[0m Finished trial#30 resulted in value: 0.7839920948616601. Current best value is 0.7843214756258234 with parameters: {'num_leaves': 35, 'max_depth': 7, 'learning_rate': 0.20999873250792708}.\u001b[0m\n",
      "\u001b[32m[I 2020-12-17 18:43:48,777]\u001b[0m Finished trial#31 resulted in value: 0.7853754940711463. Current best value is 0.7853754940711463 with parameters: {'num_leaves': 34, 'max_depth': 8, 'learning_rate': 0.25992401094816237}.\u001b[0m\n"
     ]
    },
    {
     "name": "stdout",
     "output_type": "stream",
     "text": [
      "mean of outer_val_scores is  0.7812036762525941\n",
      "mean of test_scores is  0.7883947185545518\n",
      "outer_cv_9_processing....\n"
     ]
    },
    {
     "name": "stderr",
     "output_type": "stream",
     "text": [
      "\u001b[32m[I 2020-12-17 18:44:06,620]\u001b[0m Finished trial#0 resulted in value: 0.4433135704874835. Current best value is 0.4433135704874835 with parameters: {'num_leaves': 21, 'max_depth': 26, 'learning_rate': 2.2781457534248208e-05}.\u001b[0m\n",
      "\u001b[32m[I 2020-12-17 18:44:22,590]\u001b[0m Finished trial#1 resulted in value: 0.6123517786561266. Current best value is 0.6123517786561266 with parameters: {'num_leaves': 18, 'max_depth': 20, 'learning_rate': 0.0064840430075056845}.\u001b[0m\n",
      "\u001b[32m[I 2020-12-17 18:44:43,457]\u001b[0m Finished trial#2 resulted in value: 0.4433135704874835. Current best value is 0.6123517786561266 with parameters: {'num_leaves': 18, 'max_depth': 20, 'learning_rate': 0.0064840430075056845}.\u001b[0m\n",
      "\u001b[32m[I 2020-12-17 18:45:03,065]\u001b[0m Finished trial#3 resulted in value: 0.7761198945981556. Current best value is 0.7761198945981556 with parameters: {'num_leaves': 29, 'max_depth': 19, 'learning_rate': 0.11871213651817807}.\u001b[0m\n",
      "\u001b[32m[I 2020-12-17 18:45:18,893]\u001b[0m Finished trial#4 resulted in value: 0.4433135704874835. Current best value is 0.7761198945981556 with parameters: {'num_leaves': 29, 'max_depth': 19, 'learning_rate': 0.11871213651817807}.\u001b[0m\n",
      "\u001b[32m[I 2020-12-17 18:45:33,655]\u001b[0m Finished trial#5 resulted in value: 0.4433135704874835. Current best value is 0.7761198945981556 with parameters: {'num_leaves': 29, 'max_depth': 19, 'learning_rate': 0.11871213651817807}.\u001b[0m\n",
      "\u001b[32m[I 2020-12-17 18:45:47,760]\u001b[0m Finished trial#6 resulted in value: 0.4433135704874835. Current best value is 0.7761198945981556 with parameters: {'num_leaves': 29, 'max_depth': 19, 'learning_rate': 0.11871213651817807}.\u001b[0m\n",
      "\u001b[32m[I 2020-12-17 18:46:05,664]\u001b[0m Finished trial#7 resulted in value: 0.7015480895915678. Current best value is 0.7761198945981556 with parameters: {'num_leaves': 29, 'max_depth': 19, 'learning_rate': 0.11871213651817807}.\u001b[0m\n",
      "\u001b[32m[I 2020-12-17 18:46:25,844]\u001b[0m Finished trial#8 resulted in value: 0.4433135704874835. Current best value is 0.7761198945981556 with parameters: {'num_leaves': 29, 'max_depth': 19, 'learning_rate': 0.11871213651817807}.\u001b[0m\n",
      "\u001b[32m[I 2020-12-17 18:46:45,947]\u001b[0m Finished trial#9 resulted in value: 0.4433135704874835. Current best value is 0.7761198945981556 with parameters: {'num_leaves': 29, 'max_depth': 19, 'learning_rate': 0.11871213651817807}.\u001b[0m\n",
      "\u001b[32m[I 2020-12-17 18:47:01,799]\u001b[0m Finished trial#10 resulted in value: 0.7504281949934124. Current best value is 0.7761198945981556 with parameters: {'num_leaves': 29, 'max_depth': 19, 'learning_rate': 0.11871213651817807}.\u001b[0m\n",
      "\u001b[32m[I 2020-12-17 18:47:19,237]\u001b[0m Finished trial#11 resulted in value: 0.782312252964427. Current best value is 0.782312252964427 with parameters: {'num_leaves': 29, 'max_depth': 6, 'learning_rate': 0.272363572882498}.\u001b[0m\n",
      "\u001b[32m[I 2020-12-17 18:47:33,251]\u001b[0m Finished trial#12 resulted in value: 0.7811594202898551. Current best value is 0.782312252964427 with parameters: {'num_leaves': 29, 'max_depth': 6, 'learning_rate': 0.272363572882498}.\u001b[0m\n",
      "\u001b[32m[I 2020-12-17 18:47:47,344]\u001b[0m Finished trial#13 resulted in value: 0.777536231884058. Current best value is 0.782312252964427 with parameters: {'num_leaves': 29, 'max_depth': 6, 'learning_rate': 0.272363572882498}.\u001b[0m\n",
      "\u001b[32m[I 2020-12-17 18:48:06,022]\u001b[0m Finished trial#14 resulted in value: 0.4433135704874835. Current best value is 0.782312252964427 with parameters: {'num_leaves': 29, 'max_depth': 6, 'learning_rate': 0.272363572882498}.\u001b[0m\n",
      "\u001b[32m[I 2020-12-17 18:48:20,080]\u001b[0m Finished trial#15 resulted in value: 0.7796113306982873. Current best value is 0.782312252964427 with parameters: {'num_leaves': 29, 'max_depth': 6, 'learning_rate': 0.272363572882498}.\u001b[0m\n",
      "\u001b[32m[I 2020-12-17 18:48:37,568]\u001b[0m Finished trial#16 resulted in value: 0.4433135704874835. Current best value is 0.782312252964427 with parameters: {'num_leaves': 29, 'max_depth': 6, 'learning_rate': 0.272363572882498}.\u001b[0m\n",
      "\u001b[32m[I 2020-12-17 18:48:56,508]\u001b[0m Finished trial#17 resulted in value: 0.4433135704874835. Current best value is 0.782312252964427 with parameters: {'num_leaves': 29, 'max_depth': 6, 'learning_rate': 0.272363572882498}.\u001b[0m\n",
      "\u001b[32m[I 2020-12-17 18:49:17,686]\u001b[0m Finished trial#18 resulted in value: 0.7529644268774703. Current best value is 0.782312252964427 with parameters: {'num_leaves': 29, 'max_depth': 6, 'learning_rate': 0.272363572882498}.\u001b[0m\n",
      "\u001b[32m[I 2020-12-17 18:49:34,470]\u001b[0m Finished trial#19 resulted in value: 0.7779644268774704. Current best value is 0.782312252964427 with parameters: {'num_leaves': 29, 'max_depth': 6, 'learning_rate': 0.272363572882498}.\u001b[0m\n",
      "\u001b[32m[I 2020-12-17 18:49:53,315]\u001b[0m Finished trial#20 resulted in value: 0.5160079051383399. Current best value is 0.782312252964427 with parameters: {'num_leaves': 29, 'max_depth': 6, 'learning_rate': 0.272363572882498}.\u001b[0m\n",
      "\u001b[32m[I 2020-12-17 18:50:08,239]\u001b[0m Finished trial#21 resulted in value: 0.7706192358366272. Current best value is 0.782312252964427 with parameters: {'num_leaves': 29, 'max_depth': 6, 'learning_rate': 0.272363572882498}.\u001b[0m\n",
      "\u001b[32m[I 2020-12-17 18:50:24,352]\u001b[0m Finished trial#22 resulted in value: 0.7555335968379447. Current best value is 0.782312252964427 with parameters: {'num_leaves': 29, 'max_depth': 6, 'learning_rate': 0.272363572882498}.\u001b[0m\n",
      "\u001b[32m[I 2020-12-17 18:50:40,839]\u001b[0m Finished trial#23 resulted in value: 0.7814888010540184. Current best value is 0.782312252964427 with parameters: {'num_leaves': 29, 'max_depth': 6, 'learning_rate': 0.272363572882498}.\u001b[0m\n",
      "\u001b[32m[I 2020-12-17 18:50:57,475]\u001b[0m Finished trial#24 resulted in value: 0.7818840579710146. Current best value is 0.782312252964427 with parameters: {'num_leaves': 29, 'max_depth': 6, 'learning_rate': 0.272363572882498}.\u001b[0m\n",
      "\u001b[32m[I 2020-12-17 18:51:17,160]\u001b[0m Finished trial#25 resulted in value: 0.7311923583662714. Current best value is 0.782312252964427 with parameters: {'num_leaves': 29, 'max_depth': 6, 'learning_rate': 0.272363572882498}.\u001b[0m\n",
      "\u001b[32m[I 2020-12-17 18:51:35,590]\u001b[0m Finished trial#26 resulted in value: 0.7696640316205534. Current best value is 0.782312252964427 with parameters: {'num_leaves': 29, 'max_depth': 6, 'learning_rate': 0.272363572882498}.\u001b[0m\n",
      "\u001b[32m[I 2020-12-17 18:51:52,200]\u001b[0m Finished trial#27 resulted in value: 0.4433135704874835. Current best value is 0.782312252964427 with parameters: {'num_leaves': 29, 'max_depth': 6, 'learning_rate': 0.272363572882498}.\u001b[0m\n",
      "\u001b[32m[I 2020-12-17 18:52:10,285]\u001b[0m Finished trial#28 resulted in value: 0.7278326745718051. Current best value is 0.782312252964427 with parameters: {'num_leaves': 29, 'max_depth': 6, 'learning_rate': 0.272363572882498}.\u001b[0m\n",
      "\u001b[32m[I 2020-12-17 18:52:28,394]\u001b[0m Finished trial#29 resulted in value: 0.4433135704874835. Current best value is 0.782312252964427 with parameters: {'num_leaves': 29, 'max_depth': 6, 'learning_rate': 0.272363572882498}.\u001b[0m\n",
      "\u001b[32m[I 2020-12-17 18:52:43,174]\u001b[0m Finished trial#30 resulted in value: 0.4433135704874835. Current best value is 0.782312252964427 with parameters: {'num_leaves': 29, 'max_depth': 6, 'learning_rate': 0.272363572882498}.\u001b[0m\n",
      "\u001b[32m[I 2020-12-17 18:53:01,675]\u001b[0m Finished trial#31 resulted in value: 0.7817193675889328. Current best value is 0.782312252964427 with parameters: {'num_leaves': 29, 'max_depth': 6, 'learning_rate': 0.272363572882498}.\u001b[0m\n"
     ]
    },
    {
     "name": "stdout",
     "output_type": "stream",
     "text": [
      "mean of outer_val_scores is  0.7874295879039431\n",
      "mean of test_scores is  0.7956914523974983\n"
     ]
    }
   ],
   "source": [
    "# train start -----------------------------------------------------------------------------\n",
    "if CV_type == \"random\":\n",
    "    print(\"CV is RANDOM!!!\")\n",
    "    train_start = datetime.datetime.now()\n",
    "    # region_image_generator(train_point, region_train)\n",
    "    SKF = StratifiedKFold(n_splits=outer_cvs, random_state=SEED, shuffle=False)\n",
    "    outer_cv = 0\n",
    "    for train_index, valid_index in SKF.split(X_train, Y_train):\n",
    "        os.makedirs(f\"./results/outer_{outer_cv}\", exist_ok=True)\n",
    "        X_outer_train, X_outer_val = X_train.to_numpy()[train_index], X_train.to_numpy()[valid_index]\n",
    "        Y_outer_train, Y_outer_val = Y_train.to_numpy()[train_index], Y_train.to_numpy()[valid_index]\n",
    "\n",
    "        outer_start = datetime.datetime.now()\n",
    "        print(f'outer_cv_{outer_cv}_processing....')\n",
    "        # Data Loader-------------------------------------\n",
    "\n",
    "        study = optuna.create_study(direction='maximize')\n",
    "        study.optimize(opt_lgb_random, n_trials=n_trials)\n",
    "    #     print(study.best_value)\n",
    "\n",
    "        lgb_best_param = study.best_params\n",
    "        lgb_best = LGBMClassifier(**lgb_best_param)\n",
    "        lgb_best.fit(X_outer_train, Y_outer_train)\n",
    "\n",
    "        print('mean of outer_val_scores is ', (np.array(lgb_best.predict(X_outer_val).astype(int) == Y_outer_val[:,0].astype(int)).sum() / len(Y_outer_val) ) )\n",
    "        print('mean of test_scores is ',      (np.array(lgb_best.predict(X_test.values).astype(int)      == Y_test.astype(int)[0].values).sum() / len(Y_test) ) )\n",
    "        #     print(lgb_best.predict_proba(X_outer_val).argmax(axis=1))\n",
    "\n",
    "        try:\n",
    "            Y_val_files.append(X_files[valid_index])\n",
    "        except:\n",
    "            Y_val_files =  [X_files[valid_index]]    \n",
    "        try:\n",
    "            lgb_scores.append(np.array(lgb_best.predict(X_outer_val).astype(int) == Y_outer_val.astype(int)[0]).sum() / len(Y_outer_val))\n",
    "        except:\n",
    "            lgb_scores = [np.array(lgb_best.predict(X_outer_val).astype(int) == Y_outer_val.astype(int)[0]).sum() / len(Y_outer_val)]\n",
    "        try:\n",
    "            lgb_best_params.append(lgb_best_param)\n",
    "        except:\n",
    "            lgb_best_params = [lgb_best_param]\n",
    "        try:\n",
    "            Y_val_smx.append(np.array(lgb_best.predict_proba(X_outer_val)))\n",
    "        except:\n",
    "            Y_val_smx = [np.array(lgb_best.predict_proba(X_outer_val))]\n",
    "        try:\n",
    "            Y_val_pred.append(lgb_best.predict(X_outer_val).astype(int))\n",
    "        except:\n",
    "            Y_val_pred = [lgb_best.predict(X_outer_val).astype(int)]\n",
    "        try:\n",
    "            Y_val_obs.append(Y_outer_val[0].astype(int))\n",
    "        except:\n",
    "            Y_val_obs =  [Y_outer_val[0].astype(int)]\n",
    "\n",
    "        outer_end = datetime.datetime.now()\n",
    "        spend_time = f\"Outer_cv time is {outer_end - outer_start} seconds.\"\n",
    "        pkl_saver(spend_time, os.path.join(time_path, f\"outer_cv_{outer_cv}_time.txt\"))\n",
    "\n",
    "\n",
    "        outer_metr = make_df(confusion_matrix(Y_outer_val.astype(int), lgb_best.predict(X_outer_val).astype(int)))\n",
    "        outer_metr.to_csv(f\"./results/outer_{outer_cv}/outer_{outer_cv}_acc{round(lgb_best.score(X_outer_val, Y_outer_val), 2)}.csv\")\n",
    "        test_metr = make_df(confusion_matrix(Y_test.astype(int), lgb_best.predict(X_test).astype(int)))\n",
    "        test_metr.to_csv(f\"./results/outer_{outer_cv}/test_acc{round(lgb_best.score(X_test, Y_test), 2)}.csv\")\n",
    "        outer_cv += 1\n",
    "\n",
    "    train_end = datetime.datetime.now()\n",
    "    spend_time = f\"Outer_cv time is {train_end - train_start} seconds.\"\n",
    "    pkl_saver(spend_time, os.path.join(time_path, \"all_time.txt\"))\n",
    "\n",
    "elif CV_type == \"sparse\":\n",
    "    # train start -----------------------------------------------------------------------------\n",
    "    train_start = datetime.datetime.now()\n",
    "    region_image_generator(train_point, region_train)\n",
    "\n",
    "    for outer_cv in range(outer_cvs):\n",
    "        print(\"CV is SPARTIAL!!!\")\n",
    "        outer_start = datetime.datetime.now()\n",
    "        print(f'outer_cv_{outer_cv}_processing....')\n",
    "        # Data Loader-------------------------------------\n",
    "        train_files, val_files, X_outer_train, X_outer_val, Y_outer_train, Y_outer_val, val_train_region, val_train_point = lgb_splitter_cv(X_files, X_train, Y_train, outer_cv, region_train, train_point)\n",
    "        val_train_region = KMeans(n_clusters = outer_cvs, random_state=SEED).fit(val_train_point).labels_    \n",
    "\n",
    "        study = optuna.create_study(direction='maximize')\n",
    "        study.optimize(opt_lgb, n_trials=n_trials)\n",
    "    #     print(study.best_value)\n",
    "\n",
    "        lgb_best_param = study.best_params\n",
    "        lgb_best = LGBMClassifier(**lgb_best_param)\n",
    "        lgb_best.fit(X_outer_train, Y_outer_train)\n",
    "\n",
    "        print('mean of outer_val_scores is ', (np.array(lgb_best.predict(X_outer_val).astype(int) == Y_outer_val.astype(int)[0].values).sum() / len(Y_outer_val) ) )\n",
    "        print('mean of test_scores is ',      (np.array(lgb_best.predict(X_test).astype(int)      == Y_test.astype(int)[0].values).sum() / len(Y_test) ) )\n",
    "        #     print(lgb_best.predict_proba(X_outer_val).argmax(axis=1))\n",
    "\n",
    "        try:\n",
    "            Y_val_files.append(val_files)\n",
    "        except:\n",
    "            Y_val_files =  [val_files]    \n",
    "        try:\n",
    "            lgb_scores.append(np.array(lgb_best.predict(X_outer_val).astype(int) == Y_outer_val.astype(int)[0].values).sum() / len(Y_outer_val))\n",
    "        except:\n",
    "            lgb_scores = [np.array(lgb_best.predict(X_outer_val).astype(int) == Y_outer_val.astype(int)[0].values).sum() / len(Y_outer_val)]\n",
    "        try:\n",
    "            lgb_best_params.append(lgb_best_param)\n",
    "        except:\n",
    "            lgb_best_params = [lgb_best_param]\n",
    "        try:\n",
    "            Y_val_smx.append(np.array(lgb_best.predict_proba(X_outer_val)))\n",
    "        except:\n",
    "            Y_val_smx = [np.array(lgb_best.predict_proba(X_outer_val))]\n",
    "        try:\n",
    "            Y_val_pred.append(lgb_best.predict(X_outer_val).astype(int))\n",
    "        except:\n",
    "            Y_val_pred = [lgb_best.predict(X_outer_val).astype(int)]\n",
    "        try:\n",
    "            Y_val_obs.append(Y_outer_val[0].values.astype(int))\n",
    "        except:\n",
    "            Y_val_obs =  [Y_outer_val[0].values.astype(int)]\n",
    "\n",
    "        outer_end = datetime.datetime.now()\n",
    "        spend_time = f\"Outer_cv time is {outer_end - outer_start} seconds.\"\n",
    "        pkl_saver(spend_time, os.path.join(time_path, f\"outer_cv_{outer_cv}_time.txt\"))\n",
    "\n",
    "    train_end = datetime.datetime.now()\n",
    "    spend_time = f\"Outer_cv time is {train_end - train_start} seconds.\"\n",
    "    pkl_saver(spend_time, os.path.join(time_path, \"all_time.txt\"))\n",
    "    \n",
    "else: print(\"Please enter the correct CV nam.e\")"
   ]
  },
  {
   "cell_type": "code",
   "execution_count": 12,
   "metadata": {
    "code_folding": []
   },
   "outputs": [
    {
     "data": {
      "text/plain": [
       "'./code/LULC_落葉広葉チェック_7クラス分類.ipynb'"
      ]
     },
     "execution_count": 12,
     "metadata": {},
     "output_type": "execute_result"
    },
    {
     "data": {
      "image/png": "[encoded data removed]",
      "text/plain": [
       "<Figure size 576x1152 with 1 Axes>"
      ]
     },
     "metadata": {
      "needs_background": "light"
     },
     "output_type": "display_data"
    }
   ],
   "source": [
    "# Save 7_classes Results -------------------------------------------------------------------------\n",
    "best_trial_num = np.argmax(lgb_scores)\n",
    "\n",
    "np.savetxt('Y_val_smx.txt', Y_val_smx[:][best_trial_num])\n",
    "param_names = lgb_best_params[list(map(len, lgb_best_params)).index(max(list(map(len, lgb_best_params))))].keys()\n",
    "best_params_dict = lgb_best_params[best_trial_num]\n",
    "pkl_saver(lgb_best_params, 'best_params_list.csv')\n",
    "pkl_saver(lgb_best_params, 'best_params.csv')\n",
    "best_params_dict = pkl_loader('best_params.csv')\n",
    "\n",
    "# Save CV_Result to csv -------------------------------------------------\n",
    "\n",
    "# results = [Y_val_files[best_trial_num], Y_val_obs[best_trial_num], Y_val_pred[best_trial_num], Y_val_smx[:][best_trial_num]]\n",
    "# pkl_saver(results, './results/results.pkl')\n",
    "# make_df(val_files)\n",
    "# results_csv = np.concatenate([make_df(Y_val_files[best_trial_num]),make_df(Y_val_obs[best_trial_num]), make_df(Y_val_pred[best_trial_num]), make_df(Y_val_smx[:][best_trial_num])], 1)\n",
    "# results_csv = pd.DataFrame(results_csv)\n",
    "columns = [\"name\", \"obs\", \"pred\", 'Water', 'Urban and built-up', 'Crops', 'Grassland', \"DF\", \"EF\", 'Bare land']\n",
    "# results_csv.columns=columns\n",
    "# results_csv.to_csv('./results/results_val.csv')\n",
    "labels = ['Water', 'Urban and built-up', 'Crops', 'Grassland', \"DF\", \"EF\", 'Bare land']\n",
    "\n",
    "# res_smr = classification_report(list(results_csv['obs'].astype(int)), list(results_csv['pred']), target_names = labels, labels = np.array(range(len(labels))))\n",
    "# with open('./results/result_summary_val.txt','w') as f:\n",
    "#     f.write(res_smr)\n",
    "\n",
    "# Best Model Training -----------------------------------------------\n",
    "best_model = LGBMClassifier(**lgb_best_params[best_trial_num])\n",
    "best_model.fit(X_train, Y_train)\n",
    "\n",
    "# results_csv.columns=columns\n",
    "# results_csv.to_csv('./results/results_test.csv')\n",
    "cf_metr = confusion_matrix(Y_test.astype(int).values, best_model.predict(X_test).astype(int))\n",
    "cf_metr = pd.DataFrame(cf_metr)\n",
    "cf_metr.columns=labels\n",
    "cf_metr.index=labels\n",
    "cf_metr.to_csv(\"./results/confusion_matrix_test.csv\")\n",
    "\n",
    "# ugokanaikamo \n",
    "LGB.plot_importance(best_model, height = 0.5, figsize = (8,16))\n",
    "plt.savefig('./figure.png')\n",
    "\n",
    "# Save Model -----------------------------------\n",
    "pickle.dump(best_model, open(\"./best_model.pkl\", 'wb'))\n",
    "\n",
    "# Save Code\n",
    "import shutil\n",
    "os.mkdir(\"./code\")\n",
    "code_name = ipynb_path.get().split(\"/\")[-1]\n",
    "shutil.copy(ipynb_path.get(), f\"./code/{code_name}\")"
   ]
  },
  {
   "cell_type": "code",
   "execution_count": 13,
   "metadata": {},
   "outputs": [],
   "source": [
    "read_model = pickle.load(open('./best_model.pkl', 'rb'))"
   ]
  },
  {
   "cell_type": "code",
   "execution_count": 19,
   "metadata": {},
   "outputs": [],
   "source": [
    "file_time_name = timename"
   ]
  },
  {
   "cell_type": "code",
   "execution_count": 14,
   "metadata": {
    "code_folding": [
     0
    ]
   },
   "outputs": [
    {
     "name": "stdout",
     "output_type": "stream",
     "text": [
      "78.8\n"
     ]
    }
   ],
   "source": [
    "# Show Accuracy --------------------------------------------------------------------------\n",
    "acc = round(np.array(read_model.predict(X_test).astype(int) == Y_test.astype(int)[0].values).sum() / len(Y_test), 3)*100\n",
    "print(acc)\n",
    "if CV_type == \"random\":\n",
    "    pkl_saver(acc, f'randomCV_acc_{acc}.txt')\n",
    "elif CV_type == \"sparse\":\n",
    "    pkl_saver(acc, f'spartialCV_acc_{acc}.txt')"
   ]
  },
  {
   "cell_type": "code",
   "execution_count": null,
   "metadata": {},
   "outputs": [],
   "source": [
    "file_time_name = \"2020_1209_1909\"\n",
    "os.chdir(f\"C:/Users/GE/Dropbox/Kairo/under90_results/1x1/gbdt/{file_time_name}\")\n",
    "read_model = pickle.load(open('./best_model.pkl', 'rb'))"
   ]
  },
  {
   "cell_type": "code",
   "execution_count": null,
   "metadata": {
    "code_folding": [
     0
    ]
   },
   "outputs": [],
   "source": [
    "# SAVING OBS but PRED VISUALIZATIONS ------------------------------------\n",
    "pred = read_model.predict(X_test).astype(int)\n",
    "obs = Y_test.astype(int)[0].values\n",
    "lon, lat = [], []\n",
    "for i in range(len(Y_files)):\n",
    "    lon.append(float(Y_files.values[i][0].split(\"_\")[1]))\n",
    "    lat.append(float(Y_files.values[i][0].split(\"_\")[2]))\n",
    "os.makedirs(f\"C:/Users/GE/Dropbox/Kairo/under90_results/1x1/gbdt/{file_time_name}/visualization\", exist_ok=True)\n",
    "os.chdir(f\"C:/Users/GE/Dropbox/Kairo/under90_results/1x1/gbdt/{file_time_name}/visualization\")\n",
    "labels = ['Water', 'Urban and built-up',  'Crops', 'Grassland', 'DF', 'EF', 'Bare land']\n",
    "\n",
    "df_lon = make_df(lon)\n",
    "df_lat = make_df(lat)\n",
    "df_pred = make_df(pred)\n",
    "df_obs = make_df(obs)\n",
    "results = pd.concat([df_lon, df_lat, df_pred, df_obs], axis=1)\n",
    "results.columns = [\"lon\", \"lat\", \"pred\", \"obs\"]\n",
    "\n",
    "os.makedirs(f\"C:/Users/GE/Dropbox/Kairo/under90_results/1x1/gbdt/{file_time_name}/visualization/csv\", exist_ok=True)\n",
    "os.chdir(f\"C:/Users/GE/Dropbox/Kairo/under90_results/1x1/gbdt/{file_time_name}/visualization/csv\")\n",
    "results[results[\"pred\"]!=results[\"obs\"]].to_csv(\"./miss_all.csv\")\n",
    "for i in range(10):\n",
    "    obs_lis = results[results[\"pred\"]!=results[\"obs\"]][results[\"obs\"]==i]\n",
    "    pred_lis = results[results[\"pred\"]!=results[\"obs\"]][results[\"pred\"]==i]\n",
    "    obs_lis.to_csv(f\"./obs_{i}.csv\")\n",
    "    pred_lis.to_csv(f\"./pred_{i}.csv\")\n",
    "\n",
    "\n",
    "os.makedirs(f\"C:/Users/GE/Dropbox/Kairo/under90_results/1x1/gbdt/{file_time_name}/visualization/miss_point_check\", exist_ok=True)\n",
    "os.chdir(f\"C:/Users/GE/Dropbox/Kairo/under90_results/1x1/gbdt/{file_time_name}/visualization/miss_point_check\")\n",
    "for i in range(10):\n",
    "    obs_lis = results[results[\"pred\"]!=results[\"obs\"]][results[\"obs\"]==i]\n",
    "    fig = plt.figure()\n",
    "    ax = fig.add_subplot(1,1,1)\n",
    "    for j in range(10):\n",
    "        pred_j = results[results[\"pred\"]!=results[\"obs\"]][results[\"obs\"]==i][results[\"pred\"]==j]\n",
    "        if len(pred_j)==0: continue\n",
    "        ax.set_title(f'OBS = {labels[i]}')\n",
    "        ax.scatter(pred_j[\"lon\"].values.astype(np.float64), pred_j[\"lat\"].values.astype(np.float64), label=labels[j], s=10)\n",
    "        ax.set_xlim([120, 155])\n",
    "        ax.set_ylim([20, 50])\n",
    "        \n",
    "        ax.legend(loc='upper left')\n",
    "        plt.savefig(f\"./obs_{labels[i]}.png\")\n",
    "\n",
    "\n",
    "plt.show()"
   ]
  },
  {
   "cell_type": "code",
   "execution_count": 21,
   "metadata": {
    "code_folding": [
     4
    ]
   },
   "outputs": [],
   "source": [
    "labels = ['Water', 'Urban and built-up', 'Crops', 'Grassland', 'DF', 'EF', 'Bare land']\n",
    "pred = read_model.predict(X_test).astype(int)\n",
    "obs = Y_test.astype(int)[0].values\n",
    "lon, lat = [], []\n",
    "for i in range(len(Y_files)):\n",
    "    lon.append(float(Y_files.values[i][0].split(\"_\")[1]))\n",
    "    lat.append(float(Y_files.values[i][0].split(\"_\")[2]))\n",
    "\n",
    "df_lon = make_df(lon)\n",
    "df_lat = make_df(lat)\n",
    "df_pred = make_df(pred)\n",
    "df_obs = make_df(obs)\n",
    "results = pd.concat([df_lon, df_lat, df_pred, df_obs], axis=1)\n",
    "results.columns = [\"lon\", \"lat\", \"pred\", \"obs\"]"
   ]
  },
  {
   "cell_type": "code",
   "execution_count": 54,
   "metadata": {
    "code_folding": []
   },
   "outputs": [
    {
     "data": {
      "image/png": "[encoded data removed]",
      "text/plain": [
       "<Figure size 432x288 with 1 Axes>"
      ]
     },
     "metadata": {
      "needs_background": "light"
     },
     "output_type": "display_data"
    },
    {
     "data": {
      "image/png": "[encoded data removed]",
      "text/plain": [
       "<Figure size 432x288 with 1 Axes>"
      ]
     },
     "metadata": {
      "needs_background": "light"
     },
     "output_type": "display_data"
    },
    {
     "data": {
      "image/png": "[encoded data removed]",
      "text/plain": [
       "<Figure size 432x288 with 1 Axes>"
      ]
     },
     "metadata": {
      "needs_background": "light"
     },
     "output_type": "display_data"
    },
    {
     "data": {
      "image/png": "[encoded data removed]",
      "text/plain": [
       "<Figure size 432x288 with 1 Axes>"
      ]
     },
     "metadata": {
      "needs_background": "light"
     },
     "output_type": "display_data"
    },
    {
     "data": {
      "image/png": "[encoded data removed]",
      "text/plain": [
       "<Figure size 432x288 with 1 Axes>"
      ]
     },
     "metadata": {
      "needs_background": "light"
     },
     "output_type": "display_data"
    },
    {
     "data": {
      "image/png": "[encoded data removed]",
      "text/plain": [
       "<Figure size 432x288 with 1 Axes>"
      ]
     },
     "metadata": {
      "needs_background": "light"
     },
     "output_type": "display_data"
    },
    {
     "data": {
      "image/png": "[encoded data removed]",
      "text/plain": [
       "<Figure size 432x288 with 1 Axes>"
      ]
     },
     "metadata": {
      "needs_background": "light"
     },
     "output_type": "display_data"
    },
    {
     "data": {
      "image/png": "[encoded data removed]",
      "text/plain": [
       "<Figure size 432x288 with 1 Axes>"
      ]
     },
     "metadata": {
      "needs_background": "light"
     },
     "output_type": "display_data"
    },
    {
     "data": {
      "image/png": "[encoded data removed]",
      "text/plain": [
       "<Figure size 432x288 with 1 Axes>"
      ]
     },
     "metadata": {
      "needs_background": "light"
     },
     "output_type": "display_data"
    },
    {
     "data": {
      "image/png": "[encoded data removed]",
      "text/plain": [
       "<Figure size 432x288 with 1 Axes>"
      ]
     },
     "metadata": {
      "needs_background": "light"
     },
     "output_type": "display_data"
    },
    {
     "data": {
      "image/png": "[encoded data removed]",
      "text/plain": [
       "<Figure size 432x288 with 1 Axes>"
      ]
     },
     "metadata": {
      "needs_background": "light"
     },
     "output_type": "display_data"
    },
    {
     "data": {
      "image/png": "[encoded data removed]",
      "text/plain": [
       "<Figure size 432x288 with 1 Axes>"
      ]
     },
     "metadata": {
      "needs_background": "light"
     },
     "output_type": "display_data"
    },
    {
     "data": {
      "image/png": "[encoded data removed]",
      "text/plain": [
       "<Figure size 432x288 with 1 Axes>"
      ]
     },
     "metadata": {
      "needs_background": "light"
     },
     "output_type": "display_data"
    },
    {
     "data": {
      "image/png": "[encoded data removed]",
      "text/plain": [
       "<Figure size 432x288 with 1 Axes>"
      ]
     },
     "metadata": {
      "needs_background": "light"
     },
     "output_type": "display_data"
    },
    {
     "data": {
      "image/png": "[encoded data removed]",
      "text/plain": [
       "<Figure size 432x288 with 1 Axes>"
      ]
     },
     "metadata": {
      "needs_background": "light"
     },
     "output_type": "display_data"
    },
    {
     "data": {
      "image/png": "[encoded data removed]",
      "text/plain": [
       "<Figure size 432x288 with 1 Axes>"
      ]
     },
     "metadata": {
      "needs_background": "light"
     },
     "output_type": "display_data"
    },
    {
     "data": {
      "image/png": "[encoded data removed]",
      "text/plain": [
       "<Figure size 432x288 with 1 Axes>"
      ]
     },
     "metadata": {
      "needs_background": "light"
     },
     "output_type": "display_data"
    },
    {
     "data": {
      "image/png": "[encoded data removed]",
      "text/plain": [
       "<Figure size 432x288 with 1 Axes>"
      ]
     },
     "metadata": {
      "needs_background": "light"
     },
     "output_type": "display_data"
    },
    {
     "data": {
      "image/png": "[encoded data removed]",
      "text/plain": [
       "<Figure size 432x288 with 1 Axes>"
      ]
     },
     "metadata": {
      "needs_background": "light"
     },
     "output_type": "display_data"
    },
    {
     "data": {
      "image/png": "[encoded data removed]",
      "text/plain": [
       "<Figure size 432x288 with 1 Axes>"
      ]
     },
     "metadata": {
      "needs_background": "light"
     },
     "output_type": "display_data"
    },
    {
     "data": {
      "image/png": "[encoded data removed]",
      "text/plain": [
       "<Figure size 432x288 with 1 Axes>"
      ]
     },
     "metadata": {
      "needs_background": "light"
     },
     "output_type": "display_data"
    },
    {
     "data": {
      "image/png": "[encoded data removed]",
      "text/plain": [
       "<Figure size 432x288 with 1 Axes>"
      ]
     },
     "metadata": {
      "needs_background": "light"
     },
     "output_type": "display_data"
    },
    {
     "data": {
      "image/png": "[encoded data removed]",
      "text/plain": [
       "<Figure size 432x288 with 1 Axes>"
      ]
     },
     "metadata": {
      "needs_background": "light"
     },
     "output_type": "display_data"
    },
    {
     "data": {
      "image/png": "[encoded data removed]",
      "text/plain": [
       "<Figure size 432x288 with 1 Axes>"
      ]
     },
     "metadata": {
      "needs_background": "light"
     },
     "output_type": "display_data"
    },
    {
     "data": {
      "image/png": "[encoded data removed]",
      "text/plain": [
       "<Figure size 432x288 with 1 Axes>"
      ]
     },
     "metadata": {
      "needs_background": "light"
     },
     "output_type": "display_data"
    },
    {
     "data": {
      "image/png": "[encoded data removed]",
      "text/plain": [
       "<Figure size 432x288 with 1 Axes>"
      ]
     },
     "metadata": {
      "needs_background": "light"
     },
     "output_type": "display_data"
    },
    {
     "data": {
      "image/png": "[encoded data removed]",
      "text/plain": [
       "<Figure size 432x288 with 1 Axes>"
      ]
     },
     "metadata": {
      "needs_background": "light"
     },
     "output_type": "display_data"
    },
    {
     "data": {
      "image/png": "[encoded data removed]",
      "text/plain": [
       "<Figure size 432x288 with 1 Axes>"
      ]
     },
     "metadata": {
      "needs_background": "light"
     },
     "output_type": "display_data"
    }
   ],
   "source": [
    "# MISS BAND CHECK --------------------------------\n",
    "\n",
    "band = 4\n",
    "for band in range(7):\n",
    "    DE_check = make_df(X_test).iloc[:,band::7]\n",
    "    make_df(DE_check)\n",
    "    os.makedirs(f\"C:/Users/GE/Dropbox/Kairo/under90_results/1x1/gbdt/{file_time_name}/visualization/miss_band_check\", exist_ok=True)\n",
    "    os.chdir(f\"C:/Users/GE/Dropbox/Kairo/under90_results/1x1/gbdt/{file_time_name}/visualization/miss_band_check\")\n",
    "\n",
    "    # 1-index\n",
    "    seasons = [\"Summer\", \"Spring\", \"Autumn\", \"Winter\"]\n",
    "    seasons.sort()\n",
    "    for i in range(7):\n",
    "#         os.makedirs(f\"C:/Users/GE/Dropbox/Kairo/under90_results/1x1/gbdt/{file_time_name}/visualization/miss_band_check/obs_{labels[i]}\", exist_ok=True)\n",
    "        obs_true_lis = make_df(DE_check.to_numpy()[(results[\"pred\"]==results[\"obs\"]) * (results[\"obs\"]==i)])\n",
    "        obs_miss_lis = make_df(DE_check.to_numpy()[(results[\"pred\"]!=results[\"obs\"]) * (results[\"obs\"]==i)])\n",
    "    #     for j in range(4):\n",
    "    #         fig = plt.figure()\n",
    "    #         ax = fig.add_subplot(1,1,1)\n",
    "    #         ax.set_title(f\"OBS = {labels[i]}_{seasons[j]}_BAND5\")\n",
    "    #         ax.hist(obs_true_lis.iloc[:, j].values, label=\"TRUE\", color=\"g\", alpha=0.3, range=(-2000, 12000), bins=28)\n",
    "\n",
    "    #         ax.hist(obs_miss_lis.iloc[:, j].values, label=\"MISS\", color=\"r\", alpha=0.3, range=(-2000, 12000), bins=28)\n",
    "    #         ax.set_xlim([-2000, 12000])\n",
    "    #         ax.set_ylim([0, 200])\n",
    "    #         ax.axvline(0, ls = \"--\", color = \"navy\")\n",
    "    #         ax.legend(loc='upper left')\n",
    "    #         plt.savefig(f\"./obs_{labels[i]}/{seasons[j]}_band_5.png\")\n",
    "\n",
    "\n",
    "        if i==4:\n",
    "            look = 5\n",
    "            aaa = make_df(DE_check.to_numpy()[(results[\"obs\"]==look)])\n",
    "            bbb = make_df(DE_check.to_numpy()[(results[\"obs\"]==i) * (results[\"pred\"]==look)])\n",
    "            ccc = make_df(DE_check.to_numpy()[(results[\"obs\"]==look) * (results[\"pred\"]==i)])\n",
    "            ddd = pd.concat([bbb, ccc])\n",
    "            for j in range(4):\n",
    "                fig = plt.figure()\n",
    "                ax = fig.add_subplot(1,1,1)\n",
    "                fig.patch.set_facecolor('white')  # 図全体の背景色\n",
    "                fig.patch.set_alpha(0)  # 図全体の背景透明度\n",
    "                ax.patch.set_facecolor('white')  # subplotの背景色\n",
    "                ax.patch.set_alpha(0)  # subplotの背景透明度\n",
    "                \n",
    "                lower = 0\n",
    "                upper = 3000\n",
    "                \n",
    "                #一緒obs=pred\n",
    "#                 ax.set_title(f\"OBS = {labels[i]}_{seasons[j]}_BAND{band+1}\")\n",
    "                ax.hist(obs_true_lis.iloc[:, j].values, label=f\"OBS_{labels[i]}_PRED_{labels[i]}\", color=\"g\", alpha=0.5, range=(0, upper), bins=30)\n",
    "\n",
    "                #一緒obs=pred\n",
    "                ax.hist(aaa.iloc[:, j].values, label=f\"OBS_{labels[look]}_PRED_{labels[look]}\", color=\"r\", alpha=0.3, range=(0, upper), bins=30)\n",
    "                ax.set_xlim([-0, upper])\n",
    "                ax.set_ylim([0, 200])\n",
    "                ax.axvline(0, ls = \"--\", color = \"navy\")\n",
    "#                 ax.legend(loc='upper right').get_frame().set_alpha(0)\n",
    "\n",
    "                #違うobs!=pred\n",
    "                ax.hist(ddd.iloc[:, j].values, label=f\"OBS_{labels[i]}_PRED_{labels[look]}\", color=\"b\", alpha=0.4, range=(0, upper), bins=30)\n",
    "                ax.set_xlim([0, upper])\n",
    "                ax.set_ylim([0, 200])\n",
    "                ax.axvline(0, ls = \"--\", color = \"navy\")\n",
    "#                 ax.legend(loc='upper right').get_frame().set_alpha(0)\n",
    "\n",
    "                os.makedirs(f\"C:/Users/GE/Dropbox/Kairo/under90_results/1x1/gbdt/{file_time_name}/visualization/miss_band_check/{labels[i]}_and_{labels[look]}\", exist_ok=True)\n",
    "                plt.savefig(f\"./{labels[i]}_and_{labels[look]}/{seasons[j]}_band{band+1}.png\")\n"
   ]
  },
  {
   "cell_type": "code",
   "execution_count": 39,
   "metadata": {
    "code_folding": []
   },
   "outputs": [
    {
     "data": {
      "image/png": "[encoded data removed]",
      "text/plain": [
       "<Figure size 432x288 with 1 Axes>"
      ]
     },
     "metadata": {
      "needs_background": "light"
     },
     "output_type": "display_data"
    },
    {
     "data": {
      "image/png": "[encoded data removed]",
      "text/plain": [
       "<Figure size 432x288 with 1 Axes>"
      ]
     },
     "metadata": {
      "needs_background": "light"
     },
     "output_type": "display_data"
    },
    {
     "data": {
      "image/png": "[encoded data removed]",
      "text/plain": [
       "<Figure size 432x288 with 1 Axes>"
      ]
     },
     "metadata": {
      "needs_background": "light"
     },
     "output_type": "display_data"
    },
    {
     "data": {
      "image/png": "[encoded data removed]",
      "text/plain": [
       "<Figure size 432x288 with 1 Axes>"
      ]
     },
     "metadata": {
      "needs_background": "light"
     },
     "output_type": "display_data"
    }
   ],
   "source": [
    "# NDVI check ----------------------------------------\n",
    "band4 = make_df(X_test).iloc[:,3::7].values\n",
    "band5 = make_df(X_test).iloc[:,4::7].values\n",
    "DE_check = make_df((band5 - band4) / (band5 + band4)).fillna(0)\n",
    "make_df(DE_check)\n",
    "seasons = [\"Summer\", \"Spring\", \"Autumn\", \"Winter\"]\n",
    "seasons.sort()\n",
    "i=4\n",
    "look = 5\n",
    "obs_true_lis = make_df(DE_check.to_numpy()[(results[\"pred\"]==results[\"obs\"]) * (results[\"obs\"]==i)])\n",
    "obs_miss_lis = make_df(DE_check.to_numpy()[(results[\"pred\"]!=results[\"obs\"]) * (results[\"obs\"]==i)])\n",
    "\n",
    "\n",
    "\n",
    "\n",
    "\n",
    "aaa = make_df(DE_check.to_numpy()[(results[\"obs\"]==look)])\n",
    "bbb = make_df(DE_check.to_numpy()[(results[\"obs\"]==i) * (results[\"pred\"]==look)])\n",
    "for j in range(4):\n",
    "    fig = plt.figure()\n",
    "    ax = fig.add_subplot(1,1,1)\n",
    "    #一緒obs=pred\n",
    "    ax.set_title(f\"OBS = {labels[i]}_{seasons[j]}_NDVI\")\n",
    "    ax.hist(obs_true_lis.iloc[:, j].values, label=f\"OBS_{labels[i]}_PRED_{labels[i]}\", color=\"g\", alpha=0.5, range=(-1, 1), bins=10)\n",
    "\n",
    "    #一緒obs=pred\n",
    "    ax.hist(aaa.iloc[:, j].values, label=f\"OBS_{labels[look]}_PRED_{labels[look]}\", color=\"r\", alpha=0.3, range=(-1, 1), bins=10)\n",
    "#     ax.set_xlim([-2000, 12000])\n",
    "#     ax.set_ylim([0, 200])\n",
    "    ax.axvline(0, ls = \"--\", color = \"navy\")\n",
    "    ax.legend(loc='upper left')\n",
    "\n",
    "    #違うobs!=pred\n",
    "    ax.hist(bbb.iloc[:, j].values, label=f\"OBS_{labels[i]}_PRED_{labels[look]}\", color=\"b\", alpha=0.4, range=(-1, 1), bins=10)\n",
    "#     ax.set_xlim([-2000, 12000])\n",
    "#     ax.set_ylim([0, 200])\n",
    "    ax.axvline(0, ls = \"--\", color = \"navy\")\n",
    "    ax.legend(loc='upper left')\n",
    "\n",
    "    os.makedirs(f\"C:/Users/GE/Dropbox/Kairo/under90_results/1x1/gbdt/{file_time_name}/visualization/miss_band_check/NDVI_{labels[i]}_and_{labels[look]}\", exist_ok=True)\n",
    "    plt.savefig(f\"./NDVI_{labels[i]}_and_{labels[look]}/NDVI_{seasons[j]}_band{band+1}.png\")\n"
   ]
  },
  {
   "cell_type": "code",
   "execution_count": null,
   "metadata": {},
   "outputs": [],
   "source": []
  },
  {
   "cell_type": "code",
   "execution_count": null,
   "metadata": {},
   "outputs": [],
   "source": []
  },
  {
   "cell_type": "code",
   "execution_count": null,
   "metadata": {},
   "outputs": [],
   "source": []
  },
  {
   "cell_type": "code",
   "execution_count": null,
   "metadata": {
    "code_folding": [
     0
    ]
   },
   "outputs": [],
   "source": [
    "# MISS BAND CHECK --------------------------------\n",
    "for band in range(7):\n",
    "    DE_check = make_df(X_test).iloc[:,band::7]\n",
    "    make_df(DE_check)\n",
    "    os.makedirs(f\"C:/Users/GE/Dropbox/Kairo/under90_results/1x1/gbdt/{file_time_name}/visualization/miss_band_check\", exist_ok=True)\n",
    "    os.chdir(f\"C:/Users/GE/Dropbox/Kairo/under90_results/1x1/gbdt/{file_time_name}/visualization/miss_band_check\")\n",
    "\n",
    "    # 1-index\n",
    "    seasons = [\"Summer\", \"Spring\", \"Autumn\", \"Winter\"]\n",
    "    seasons.sort()\n",
    "    \n",
    "    os.makedirs(f\"C:/Users/GE/Dropbox/Kairo/under90_results/1x1/gbdt/{file_time_name}/visualization/miss_band_check/obs_{labels[i]}\", exist_ok=True)\n",
    "    obs_true_dbf = make_df(DE_check.to_numpy()[(results[\"pred\"]==results[\"obs\"]) * (results[\"obs\"]==5)])\n",
    "    obs_miss_dbf = make_df(DE_check.to_numpy()[(results[\"pred\"]!=results[\"obs\"]) * (results[\"obs\"]==5)])\n",
    "\n",
    "    look = 1\n",
    "    aaa = make_df(DE_check.to_numpy()[(results[\"obs\"]==look)])\n",
    "    bbb = make_df(DE_check.to_numpy()[(results[\"obs\"]==i) * (results[\"pred\"]==look)])\n",
    "    for j in range(4):\n",
    "        fig = plt.figure()\n",
    "        ax = fig.add_subplot(1,1,1)\n",
    "        #一緒obs=pred\n",
    "        ax.set_title(f\"OBS = {labels[i]}_{seasons[j]}_BAND{band+1}\")\n",
    "        ax.hist([obs_true_lis.iloc[:, j], .values, label=f\"OBS_{labels[i]}_PRED_{labels[i]}\", color=\"g\", alpha=0.5, range=(-2000, 12000), bins=28)\n",
    "\n",
    "        #一緒obs=pred\n",
    "        ax.hist(aaa.iloc[:, j].values, label=f\"OBS_{labels[look]}_PRED_{labels[look]}\", color=\"r\", alpha=0.3, range=(-2000, 12000), bins=28)\n",
    "        ax.set_xlim([-2000, 12000])\n",
    "        ax.set_ylim([0, 200])\n",
    "        ax.axvline(0, ls = \"--\", color = \"navy\")\n",
    "        ax.legend(loc='upper left')\n",
    "\n",
    "        #違うobs!=pred\n",
    "        ax.hist(bbb.iloc[:, j].values, label=f\"OBS_{labels[i]}_PRED_{labels[look]}\", color=\"b\", alpha=0.4, range=(-2000, 12000), bins=28)\n",
    "        ax.set_xlim([-2000, 12000])\n",
    "        ax.set_ylim([0, 200])\n",
    "        ax.axvline(0, ls = \"--\", color = \"navy\")\n",
    "        ax.legend(loc='upper left')\n",
    "\n",
    "#                 os.makedirs(f\"C:/Users/GE/Dropbox/Kairo/under90_results/1x1/gbdt/{file_time_name}/visualization/miss_band_check/{labels[i]}_and_{labels[look]}\", exist_ok=True)\n",
    "#                 plt.savefig(f\"./{labels[i]}_and_{labels[look]}/{seasons[j]}_band{band+1}.png\")\n"
   ]
  }
 ],
 "metadata": {
  "kernelspec": {
   "display_name": "Python 3",
   "language": "python",
   "name": "python3"
  },
  "language_info": {
   "codemirror_mode": {
    "name": "ipython",
    "version": 3
   },
   "file_extension": ".py",
   "mimetype": "text/x-python",
   "name": "python",
   "nbconvert_exporter": "python",
   "pygments_lexer": "ipython3",
   "version": "3.7.9"
  },
  "toc": {
   "base_numbering": 1,
   "nav_menu": {},
   "number_sections": true,
   "sideBar": true,
   "skip_h1_title": false,
   "title_cell": "Table of Contents",
   "title_sidebar": "Contents",
   "toc_cell": false,
   "toc_position": {
    "height": "calc(100% - 180px)",
    "left": "10px",
    "top": "150px",
    "width": "270.952px"
   },
   "toc_section_display": true,
   "toc_window_display": true
  }
 },
 "nbformat": 4,
 "nbformat_minor": 4
}
