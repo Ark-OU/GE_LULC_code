{
 "cells": [
  {
   "cell_type": "code",
   "execution_count": 6,
   "metadata": {},
   "outputs": [],
   "source": [
    "N = 11\n",
    "under = 90\n",
    "\n",
    "# Utils -----------------------\n",
    "import numpy as np\n",
    "import scipy.stats as stats\n",
    "import pandas as pd\n",
    "import seaborn as sns\n",
    "import matplotlib.pyplot as plt\n",
    "import os, zipfile, io, re\n",
    "from PIL import Image, ImageOps\n",
    "import random\n",
    "import pickle\n",
    "import datetime\n",
    "import gc\n",
    "from tqdm import tqdm\n",
    "import warnings\n",
    "import seaborn as sns\n",
    "from glob import glob\n",
    "# Machine Learning ---------------\n",
    "import tensorflow as tf\n",
    "from tensorflow import keras\n",
    "from sklearn.model_selection import train_test_split\n",
    "from sklearn.metrics import mean_squared_error\n",
    "from sklearn.cluster import KMeans\n",
    "from sklearn.metrics import confusion_matrix\n",
    "from math import sqrt\n",
    "import optuna\n",
    "from optuna import integration\n",
    "# Keras, TensorFlow ---------------\n",
    "from keras.models import Model, load_model, Sequential\n",
    "from keras.layers import Dense, Dropout, Activation, Flatten, Conv2D, GlobalAveragePooling2D, AveragePooling2D, MaxPooling2D, BatchNormalization, Convolution2D, Input\n",
    "from keras import optimizers\n",
    "from keras.utils import multi_gpu_model\n",
    "from keras.utils.np_utils import to_categorical\n",
    "from keras.callbacks import ModelCheckpoint, EarlyStopping, TensorBoard\n",
    "from keras.preprocessing.image import ImageDataGenerator\n",
    "from keras import backend as K\n",
    "from keras.backend.tensorflow_backend import set_session\n",
    "import tifffile\n",
    "from sklearn.metrics import classification_report\n",
    "\n",
    "os.environ[\"TF_CPP_MIN_LOG_LEVEL\"] = \"2\"\n",
    "warnings.filterwarnings('ignore')\n",
    "gpus = 2\n",
    "SEED = 31\n",
    "np.random.seed(SEED)\n",
    "\n",
    "# %matplotlib inline\n",
    "# plt.tick_params(colors='white')\n",
    "# IO Functions ------------------------------\n",
    "def pkl_saver(object, pkl_filename):\n",
    "    with open(pkl_filename, 'wb') as web:\n",
    "        pickle.dump(object , web)\n",
    "\n",
    "\n",
    "def pkl_loader(pkl_filename):\n",
    "    with open(pkl_filename, 'rb') as web:\n",
    "        data = pickle.load(web)\n",
    "    return data\n",
    "\n",
    "\n",
    "# Dir generator ----------------------------\n",
    "def dir_generator(dir_path):\n",
    "    if os.path.exists(dir_path) == False:\n",
    "        os.mkdir(dir_path)\n",
    "\n",
    "\n",
    "def region_visualizer(df):\n",
    "    points = df[3]\n",
    "    lon, lat = [], []\n",
    "    for point in points:\n",
    "        lon.append(point[0])\n",
    "        lat.append(point[1])\n",
    "    lon = np.array(lon).astype(float).reshape(-1,1)\n",
    "    lat = np.array(lat).astype(float).reshape(-1,1)\n",
    "    region = df[4]\n",
    "    region = np.array(region).astype(int).reshape(-1,1)\n",
    "    df = pd.DataFrame(np.concatenate([lon, lat, region], axis=1))\n",
    "    df.columns = ['longitude', 'latitude', 'region_class']\n",
    "    pivotted = df.pivot('longitude', 'latitude', 'region_class')\n",
    "    for i in range(pivotted.shape[0]):\n",
    "        pivotted.iloc[i] = pd.to_numeric(pivotted.iloc[i])\n",
    "    pivotted.columns = pd.to_numeric(pivotted.columns)\n",
    "    pivotted.index = pd.to_numeric(pivotted.index)\n",
    "    pivotted = pivotted.fillna(-1)\n",
    "    pivotted = pivotted.astype(float).T\n",
    "    cmap = sns.color_palette(\"deep\", cvs + 1)\n",
    "    cmap[0] = (0,0,0)\n",
    "    plt = sns.heatmap(pivotted, cmap = cmap)\n",
    "    plt.invert_yaxis()\n",
    "    colorbar = plt.collections[0].colorbar\n",
    "    r = colorbar.vmax - colorbar.vmin\n",
    "    colorbar.set_ticks([colorbar.vmin + 0.5 * r / (cvs + 1) + r * i / (cvs + 1) for i in range(cvs + 1)])\n",
    "    colorbar.set_ticklabels(['background']+list(range(cvs)))\n",
    "    plt.figure.savefig(os.path.join(result_path, \"result_img\", \"region_map.jpg\"))\n",
    "    del(plt)\n",
    "\n",
    "\n",
    "def data_splitter_cv(filenames, X, Y, cv, region, point):\n",
    "    test_index = np.where(region==cv)\n",
    "    train_index = np.setdiff1d(np.arange(0, X.shape[0], 1), test_index)\n",
    "    train_files = filenames[train_index]\n",
    "    test_files = filenames[test_index]\n",
    "    X_test = X[test_index]\n",
    "    Y_test = Y[test_index]\n",
    "    X_train = X[train_index]\n",
    "    Y_train = Y[train_index]\n",
    "    train_region = region[train_index]\n",
    "    train_point = point[train_index]\n",
    "    return train_files, test_files, X_train, X_test, Y_train, Y_test, train_region, train_point\n",
    "\n",
    "\n",
    "# Loss Definition ----------------------------------\n",
    "def root_mean_squared_error(Y_true, Y_pred):\n",
    "    return K.sqrt(K.mean(K.square(Y_pred - Y_true), axis = -1))\n",
    "\n",
    "\n",
    "def create_model(image_shape, num_layer, padding, dense_num, num_filters, size_filters, dropout_rate_in, dropout_rate_out):\n",
    "    inputs = Input(image_shape)\n",
    "    for d in ['/gpu:0', '/gpu:1']:\n",
    "        with tf.device(d):\n",
    "            x = Dropout(dropout_rate_in)(inputs)\n",
    "            x = Convolution2D(filters = 2**num_filters[0], kernel_size = (size_filters[0],size_filters[0]), padding = 'same', activation = 'relu')(x)\n",
    "            for i in range(1, num_layer):\n",
    "                x = Convolution2D(filters = 2**num_filters[i],\n",
    "                                  kernel_size = (size_filters[i], size_filters[i]),\n",
    "                                  padding = padding,\n",
    "                                  activation = 'relu')(x)\n",
    "                x = MaxPooling2D()(x)\n",
    "            x = Convolution2D(filters = 7,\n",
    "                              kernel_size = (3, 3),\n",
    "                              padding = 'same',\n",
    "                              activation = 'relu')(x)\n",
    "            x = GlobalAveragePooling2D()(x)\n",
    "            x = Dense(units = 2**dense_num, activation = 'relu')(x)\n",
    "            x = Dropout(dropout_rate_out)(x)\n",
    "            x = Dense(units = num_category, activation = 'softmax')(x)\n",
    "            model = Model(inputs = inputs, outputs = x)\n",
    "    return model\n",
    "\n",
    "\n",
    "def opt_cnn(trial):\n",
    "    # Opt params -----------------------\n",
    "    # Categorical parameter\n",
    "    num_layer = trial.suggest_int('num_layer', 1, 2)\n",
    "    dense_num = trial.suggest_int('dense_num', 2, 5)\n",
    "    num_filters = [int(trial.suggest_discrete_uniform(f'num_filter_{i}', 2, 5, 1)) for i in range(num_layer)]\n",
    "    size_filters = [int(trial.suggest_discrete_uniform(f'size_filter_{i}', 3, 5, 2)) for i in range(num_layer)]\n",
    "    batch_size = trial.suggest_int('batch_size', 1, 5)\n",
    "    # Model Compiler -----------------------\n",
    "    lr = trial.suggest_loguniform('learning_rate', 1e-5, 1e-2)\n",
    "    decay = trial.suggest_loguniform('decay', 1e-6, 1e-3)\n",
    "    # Discrete-uniform parameter\n",
    "    dropout_rate_in = trial.suggest_discrete_uniform('dropout_rate_in', 0.0, 0.5, 0.1)\n",
    "    dropout_rate_out = trial.suggest_discrete_uniform('dropout_rate_out', 0.0, 0.5, 0.1)\n",
    "    momentum = trial.suggest_discrete_uniform('momentum', 0.0, 1.0, 0.1)\n",
    "    # categorical parameter\n",
    "#    optimizer = trial.suggest_categorical(\"optimizer\", [\"sgd\", \"momentum\", \"rmsprop\", \"adam\"])\n",
    "    padding = trial.suggest_categorical('padding', ['same', 'valid'])\n",
    "    # compile model-------------------\n",
    "    model = create_model(image_shape, num_layer, padding, dense_num, num_filters, size_filters, dropout_rate_in, dropout_rate_out)\n",
    "    sgd = optimizers.SGD(lr = lr, decay = decay, momentum = momentum, nesterov = True)\n",
    "#    sgd = optimizers.SGD(lr = lr, decay = decay, momentum = momentum, nesterov = True, clipvalue = 1.0)\n",
    "    # For CPU run ------------------\n",
    "    model.compile(optimizer = sgd, loss = 'sparse_categorical_crossentropy', metrics=['accuracy'])\n",
    "    # Train Model ----------------------------------\n",
    "    es_cb = EarlyStopping(monitor = 'val_loss', patience = early_stopping, verbose = 0)\n",
    "    pr_cb = integration.TFKerasPruningCallback(trial, 'val_loss')\n",
    "    cbs = [es_cb, pr_cb]\n",
    "    loss_list, acc_list = [], []\n",
    "    for inner_cv in range(0, cvs):\n",
    "        _, _, X_inner_train, X_inner_val, Y_inner_train, Y_inner_val, _, _ = data_splitter_cv(train_files, X_outer_train, Y_outer_train, inner_cv, val_train_region, val_train_point)\n",
    "        hist = model.fit(\n",
    "            train_datagen.flow(X_inner_train, Y_inner_train, batch_size = (2**batch_size) * gpus),\n",
    "            epochs = train_epochs,\n",
    "            validation_data = (X_inner_val, Y_inner_val),\n",
    "            callbacks = cbs,\n",
    "            shuffle = True,\n",
    "            verbose = 0,\n",
    "            use_multiprocessing = False)\n",
    "        loss_list += [model.evaluate(X_inner_val, Y_inner_val)[0]]\n",
    "        acc_list += [model.evaluate(X_inner_val, Y_inner_val)[1]]\n",
    "    del model\n",
    "    keras.backend.clear_session()\n",
    "    gc.collect()\n",
    "    eval_loss = np.mean(loss_list)\n",
    "    eval_acc = np.mean(acc_list)\n",
    "    return eval_loss\n",
    "\n",
    "\n",
    "def mean_params_calc(param_names):\n",
    "    dict = {}\n",
    "    categoricals = ['padding']\n",
    "    for param_name in param_names:\n",
    "        data_num = 0\n",
    "        if param_name not in categoricals:\n",
    "            for data in best_params:\n",
    "                try:\n",
    "                    try:\n",
    "                        dict[param_name] += data[param_name]\n",
    "                    except:\n",
    "                        dict[param_name] = data[param_name]\n",
    "                    data_num = data_num + 1\n",
    "                except:\n",
    "                    pass\n",
    "            dict[param_name] = dict[param_name]/data_num\n",
    "        else:\n",
    "            categorical_list = []\n",
    "            for data in best_params:\n",
    "                try:\n",
    "                    categorical_list = categorical_list + [data[param_name]]\n",
    "                except:\n",
    "                    pass\n",
    "            dict[param_name] = stats.mode(categorical_list)[0][0]\n",
    "    return dict\n",
    "\n",
    "\n",
    "def cv_result_imgs_generator(model, history):\n",
    "    # Visualize Loss Results ----------------------------\n",
    "    plt.figure(figsize=(18,6))\n",
    "    plt.plot(history.history[\"loss\"], label=\"loss\", marker=\"o\")\n",
    "    plt.plot(history.history[\"val_loss\"], label=\"val_loss\", marker=\"o\")\n",
    "    plt.ylabel(\"loss\")\n",
    "    plt.xlabel(\"epoch\")\n",
    "    plt.title(\"\")\n",
    "    plt.legend(loc=\"best\")\n",
    "    plt.grid(color='gray', alpha=0.2)\n",
    "    plt.savefig('./img_loss/' + str(outer_cv) + '_loss.jpg')\n",
    "    plt.close()\n",
    "\n",
    "\n",
    "def generalization_result_imgs_generator(name, Y_val_pred, Y_val_all):\n",
    "    # Evaluate test data -----------------------\n",
    "    plt.figure()\n",
    "    plt.scatter(Y_val_all, Y_val_pred, s=3, alpha=0.5)\n",
    "    plt.xlim(min([np.min(Y_val_all), np.min(Y_val_pred)]), max([np.max(Y_val_all),np.max(Y_val_pred)]))\n",
    "    plt.xlabel(\"obs\")\n",
    "    plt.ylabel(\"pred\")\n",
    "    x = np.linspace(min([np.min(Y_val_all), np.min(Y_val_pred)]), max([np.max(Y_val_all),np.max(Y_val_pred)]),100)\n",
    "    y = x\n",
    "    plt.plot(x, y, \"r-\")\n",
    "    plt.savefig('./img_loss/' + name + '_scatter_test.jpg')\n",
    "    plt.close()\n",
    "    \n",
    "def region_image_generator(point, region):\n",
    "    data_num = int(len(imgfiles)/28)\n",
    "    cmap = plt.get_cmap(\"tab10\")\n",
    "    fig = plt.figure()\n",
    "    ax = fig.add_subplot(1,1,1)\n",
    "    ax.scatter(point[:data_num][:,0],point[:data_num][:,1], marker='o', s=5, color=cmap(region))\n",
    "    ax.set_title(\"Region in Japan\")\n",
    "    ax.set_xlabel(\"longitude\")\n",
    "    ax.set_ylabel(\"latitude\")\n",
    "    fig.savefig('./region_separate.png')\n",
    "\n",
    "\n",
    "# Data Loader ------------------------------\n",
    "if under==20:\n",
    "    train_tif_name = f\"D:/LULC/features/01_landsat8/train_old/{N}x{N}\"\n",
    "elif under==90:\n",
    "    train_tif_name = f\"D:/LULC/features/01_landsat8/train_new/{N}x{N}\"\n",
    "root_path      = f\"C:/Users/GE/Dropbox/Kairo/under{under}_results/\"\n",
    "result_path    = f\"C:/Users/GE/Dropbox/Kairo/under{under}_results/{N}x{N}\"\n",
    "data_path      = f\"C:/Users/GE/Dropbox/Kairo/under{under}_results/data/\"\n",
    "model_path     = f\"C:/Users/GE/Dropbox/Kairo/under{under}_results/model/{N}x{N}/\""
   ]
  },
  {
   "cell_type": "code",
   "execution_count": 2,
   "metadata": {},
   "outputs": [],
   "source": [
    "imgfiles = glob(train_tif_name + \"/*.tif\")\n",
    "imgfiles.sort()\n",
    "\n",
    "# Training params ------------------------------------------\n",
    "train_epochs = 2**3\n",
    "ntrials = 2**3\n",
    "cvs = 10\n",
    "best_epochs = 2**5\n",
    "early_stopping = 2**3\n",
    "\n",
    "\n",
    "\n",
    "# Data pkl\n",
    "if os.path.exists(data_path + f'df_{N}x{N}.pkl'):\n",
    "    df = pkl_loader(data_path + f'df_{N}x{N}.pkl')\n",
    "else:\n",
    "    trial = int(len(imgfiles)/28)\n",
    "    X = [] # X: 説明変数 = (N*N)*(7*4)のデータ\n",
    "    Y = [] # Y: 目的変数\n",
    "    point = [] # point: 緯度経度\n",
    "    X_28 = []\n",
    "    Y_28 = 0\n",
    "    point_28 = []\n",
    "    filenames = []\n",
    "    max_light = 0\n",
    "    print('inputdata_processing...')\n",
    "    \n",
    "    for box in tqdm(range(trial)):\n",
    "        for imgfile in imgfiles[box*28: (box+1)*28]:\n",
    "            # ZIPから画像読み込み\n",
    "            image = tifffile.imread(imgfile)\n",
    "    #         print(image.shape)\n",
    "            file = os.path.basename(imgfile)\n",
    "            file_split = [i for i in file.split('_')]\n",
    "            X_28.append(image)\n",
    "        Y_28 = file_split[5].split(\".\")[0]\n",
    "        point_28 = [float(file_split[1]), float(file_split[2])]\n",
    "        filenames.append(f\"{file_split[0]}_{file_split[1]}_{file_split[2]}_{Y_28}\")\n",
    "        X.append(X_28[box*28: (box+1)*28])\n",
    "        Y.append(Y_28)\n",
    "        point.append(point_28)\n",
    "    del X_28, Y_28, point_28\n",
    "    X = np.asarray(X)\n",
    "    print(X.shape)\n",
    "    X = X.transpose(0,2,3,1)\n",
    "    print(X.shape)\n",
    "    Y = np.array(Y)\n",
    "    filenames = np.array(filenames)\n",
    "    point = np.array(point)\n",
    "    region = KMeans(n_clusters = cvs, random_state=SEED).fit(point).labels_\n",
    "    # label encorder===========================================\n",
    "    labels = ['Water', 'Urban and built-up', 'Rice paddy',  'Crops', 'Grassland', 'DBF', 'DNF', 'EBF', 'ENF', 'Bare land' ]\n",
    "    for i in range(len(labels)):\n",
    "        Y[Y==labels[i]] = int(i)\n",
    "    df = [filenames, X, Y, point, region]\n",
    "    pkl_saver(df, os.path.join(data_path, f'df_{N}x{N}.pkl'))\n",
    "    \n",
    "\n",
    "# Data converter ----------------------------------------------\n",
    "# X->説明変数, Y->目的変数, point->緯度経度, region->領域を10分割した時の分割区間名\n",
    "filenames, X, Y, point, region = df[0], df[1], df[2], df[3], df[4]\n",
    "image_shape = (X.shape[1], X.shape[2], X.shape[3])\n",
    "num_category = len(np.unique(Y))\n",
    "\n",
    "\n",
    "# Data standardizing ----------------------------------------------\n",
    "X_train_mean_lis = []\n",
    "X_train_std_lis = []\n",
    "X_files, Y_files, X_train, X_test, Y_train, Y_test, region_train, _, train_point, _ = train_test_split(filenames, X, Y, region, point, test_size=0.2, random_state=SEED)\n",
    "\n",
    "for i in range(X_train.shape[3]):\n",
    "    X_train_mean_lis.append(X_train[:,:,:,i].mean())\n",
    "    X_train_std_lis.append(X_train[:,:,:,i].std())\n",
    "    X_train[:,:,:,i] = (X_train[:,:,:,i] - X_train_mean_lis[i]) / X_train_std_lis[i]\n",
    "    X_test[:,:,:,i] = (X_test[:,:,:,i] - X_train_mean_lis[i]) / X_train_std_lis[i]"
   ]
  },
  {
   "cell_type": "code",
   "execution_count": 3,
   "metadata": {
    "scrolled": true
   },
   "outputs": [
    {
     "name": "stdout",
     "output_type": "stream",
     "text": [
      "outer_cv_0_processing....\n",
      "867/867 [==============================] - 0s 98us/step\n",
      "867/867 [==============================] - 0s 72us/step\n",
      "14008/14008 [==============================] - 1s 76us/step\n",
      "14008/14008 [==============================] - 1s 75us/step\n",
      "642/642 [==============================] - 0s 84us/step\n",
      "642/642 [==============================] - 0s 73us/step\n",
      "1776/1776 [==============================] - 0s 83us/step\n",
      "1776/1776 [==============================] - 0s 79us/step\n",
      "1266/1266 [==============================] - 0s 97us/step\n",
      "1266/1266 [==============================] - 0s 75us/step\n",
      "997/997 [==============================] - 0s 101us/step\n",
      "997/997 [==============================] - 0s 78us/step\n",
      "902/902 [==============================] - 0s 79us/step\n",
      "902/902 [==============================] - 0s 93us/step\n",
      "711/711 [==============================] - 0s 76us/step\n",
      "711/711 [==============================] - 0s 66us/step\n",
      "1295/1295 [==============================] - 0s 102us/step\n",
      "1295/1295 [==============================] - 0s 84us/step\n",
      "3677/3677 [==============================] - 0s 74us/step\n",
      "3677/3677 [==============================] - 0s 85us/step\n"
     ]
    },
    {
     "name": "stderr",
     "output_type": "stream",
     "text": [
      "\u001b[32m[I 2020-11-06 11:55:53,239]\u001b[0m Finished trial#0 resulted in value: 2.1814229278734527. Current best value is 2.1814229278734527 with parameters: {'num_layer': 1, 'dense_num': 4, 'num_filter_0': 3.0, 'size_filter_0': 3.0, 'batch_size': 5, 'learning_rate': 0.0002958197227921547, 'decay': 0.0003245927773327455, 'dropout_rate_in': 0.0, 'dropout_rate_out': 0.30000000000000004, 'momentum': 0.1, 'padding': 'valid'}.\u001b[0m\n"
     ]
    },
    {
     "name": "stdout",
     "output_type": "stream",
     "text": [
      "867/867 [==============================] - 0s 99us/step\n",
      "867/867 [==============================] - 0s 54us/step\n",
      "14008/14008 [==============================] - 1s 64us/step\n",
      "14008/14008 [==============================] - 1s 63us/step\n",
      "642/642 [==============================] - 0s 89us/step\n",
      "642/642 [==============================] - 0s 50us/step\n",
      "1776/1776 [==============================] - 0s 65us/step\n",
      "1776/1776 [==============================] - 0s 62us/step\n",
      "1266/1266 [==============================] - 0s 79us/step\n",
      "1266/1266 [==============================] - 0s 62us/step\n",
      "997/997 [==============================] - 0s 70us/step\n",
      "997/997 [==============================] - 0s 63us/step\n",
      "902/902 [==============================] - 0s 61us/step\n",
      "902/902 [==============================] - 0s 69us/step\n",
      "711/711 [==============================] - 0s 77us/step\n",
      "711/711 [==============================] - 0s 66us/step\n",
      "1295/1295 [==============================] - 0s 66us/step\n",
      "1295/1295 [==============================] - 0s 60us/step\n",
      "3677/3677 [==============================] - 0s 66us/step\n",
      "3677/3677 [==============================] - 0s 64us/step\n"
     ]
    },
    {
     "name": "stderr",
     "output_type": "stream",
     "text": [
      "\u001b[32m[I 2020-11-06 12:06:09,546]\u001b[0m Finished trial#1 resulted in value: 1.7259496340566796. Current best value is 1.7259496340566796 with parameters: {'num_layer': 1, 'dense_num': 4, 'num_filter_0': 4.0, 'size_filter_0': 5.0, 'batch_size': 3, 'learning_rate': 0.00036805329508226474, 'decay': 0.00016182937251542841, 'dropout_rate_in': 0.30000000000000004, 'dropout_rate_out': 0.5, 'momentum': 0.6000000000000001, 'padding': 'same'}.\u001b[0m\n"
     ]
    },
    {
     "name": "stdout",
     "output_type": "stream",
     "text": [
      "867/867 [==============================] - 0s 98us/step\n",
      "867/867 [==============================] - 0s 72us/step\n",
      "14008/14008 [==============================] - 1s 77us/step\n",
      "14008/14008 [==============================] - 1s 74us/step\n",
      "642/642 [==============================] - 0s 84us/step\n",
      "642/642 [==============================] - 0s 73us/step\n",
      "1776/1776 [==============================] - 0s 92us/step\n",
      "1776/1776 [==============================] - 0s 79us/step\n",
      "1266/1266 [==============================] - 0s 92us/step\n",
      "1266/1266 [==============================] - 0s 74us/step\n",
      "997/997 [==============================] - 0s 85us/step\n",
      "997/997 [==============================] - 0s 78us/step\n",
      "902/902 [==============================] - 0s 78us/step\n",
      "902/902 [==============================] - 0s 87us/step\n",
      "711/711 [==============================] - 0s 75us/step\n",
      "711/711 [==============================] - 0s 88us/step\n",
      "1295/1295 [==============================] - 0s 90us/step\n",
      "1295/1295 [==============================] - 0s 84us/step\n",
      "3677/3677 [==============================] - 0s 84us/step\n",
      "3677/3677 [==============================] - 0s 76us/step\n"
     ]
    },
    {
     "name": "stderr",
     "output_type": "stream",
     "text": [
      "\u001b[32m[I 2020-11-06 12:30:19,080]\u001b[0m Finished trial#2 resulted in value: 2.244557693910566. Current best value is 1.7259496340566796 with parameters: {'num_layer': 1, 'dense_num': 4, 'num_filter_0': 4.0, 'size_filter_0': 5.0, 'batch_size': 3, 'learning_rate': 0.00036805329508226474, 'decay': 0.00016182937251542841, 'dropout_rate_in': 0.30000000000000004, 'dropout_rate_out': 0.5, 'momentum': 0.6000000000000001, 'padding': 'same'}.\u001b[0m\n"
     ]
    },
    {
     "name": "stdout",
     "output_type": "stream",
     "text": [
      "867/867 [==============================] - 0s 81us/step\n",
      "867/867 [==============================] - 0s 90us/step\n",
      "14008/14008 [==============================] - 1s 80us/step\n",
      "14008/14008 [==============================] - 1s 81us/step\n",
      "642/642 [==============================] - 0s 87us/step\n",
      "642/642 [==============================] - 0s 73us/step\n",
      "1776/1776 [==============================] - 0s 84us/step\n",
      "1776/1776 [==============================] - 0s 79us/step\n",
      "1266/1266 [==============================] - 0s 79us/step\n",
      "1266/1266 [==============================] - 0s 86us/step\n",
      "997/997 [==============================] - 0s 85us/step\n",
      "997/997 [==============================] - 0s 78us/step\n",
      "902/902 [==============================] - 0s 95us/step\n",
      "902/902 [==============================] - 0s 69us/step\n",
      "711/711 [==============================] - 0s 89us/step\n",
      "711/711 [==============================] - 0s 85us/step\n",
      "1295/1295 [==============================] - 0s 77us/step\n",
      "1295/1295 [==============================] - 0s 84us/step\n",
      "3677/3677 [==============================] - 0s 85us/step\n",
      "3677/3677 [==============================] - 0s 81us/step\n"
     ]
    },
    {
     "name": "stderr",
     "output_type": "stream",
     "text": [
      "\u001b[32m[I 2020-11-06 12:36:32,075]\u001b[0m Finished trial#3 resulted in value: 2.1282020190545756. Current best value is 1.7259496340566796 with parameters: {'num_layer': 1, 'dense_num': 4, 'num_filter_0': 4.0, 'size_filter_0': 5.0, 'batch_size': 3, 'learning_rate': 0.00036805329508226474, 'decay': 0.00016182937251542841, 'dropout_rate_in': 0.30000000000000004, 'dropout_rate_out': 0.5, 'momentum': 0.6000000000000001, 'padding': 'same'}.\u001b[0m\n"
     ]
    },
    {
     "name": "stdout",
     "output_type": "stream",
     "text": [
      "867/867 [==============================] - 0s 125us/step\n",
      "867/867 [==============================] - 0s 91us/step\n",
      "14008/14008 [==============================] - 1s 90us/step\n",
      "14008/14008 [==============================] - 1s 91us/step\n",
      "642/642 [==============================] - 0s 111us/step\n",
      "642/642 [==============================] - 0s 97us/step\n",
      "1776/1776 [==============================] - 0s 109us/step\n",
      "1776/1776 [==============================] - 0s 97us/step\n",
      "1266/1266 [==============================] - 0s 104us/step\n",
      "1266/1266 [==============================] - 0s 111us/step\n",
      "997/997 [==============================] - 0s 103us/step\n",
      "997/997 [==============================] - 0s 110us/step\n",
      "902/902 [==============================] - 0s 95us/step\n",
      "902/902 [==============================] - 0s 87us/step\n",
      "711/711 [==============================] - 0s 98us/step\n",
      "711/711 [==============================] - 0s 88us/step\n",
      "1295/1295 [==============================] - 0s 102us/step\n",
      "1295/1295 [==============================] - 0s 97us/step\n",
      "3677/3677 [==============================] - 0s 102us/step\n",
      "3677/3677 [==============================] - 0s 93us/step\n"
     ]
    },
    {
     "name": "stderr",
     "output_type": "stream",
     "text": [
      "\u001b[32m[I 2020-11-06 12:49:10,058]\u001b[0m Finished trial#4 resulted in value: 1.322657229673252. Current best value is 1.322657229673252 with parameters: {'num_layer': 2, 'dense_num': 3, 'num_filter_0': 5.0, 'num_filter_1': 5.0, 'size_filter_0': 3.0, 'size_filter_1': 3.0, 'batch_size': 3, 'learning_rate': 0.003584180928511193, 'decay': 2.0669372763970583e-06, 'dropout_rate_in': 0.0, 'dropout_rate_out': 0.1, 'momentum': 0.2, 'padding': 'valid'}.\u001b[0m\n"
     ]
    },
    {
     "name": "stdout",
     "output_type": "stream",
     "text": [
      "867/867 [==============================] - 0s 135us/step\n",
      "867/867 [==============================] - 0s 94us/step\n",
      "14008/14008 [==============================] - 1s 89us/step\n",
      "14008/14008 [==============================] - 1s 89us/step\n",
      "642/642 [==============================] - 0s 108us/step\n",
      "642/642 [==============================] - 0s 73us/step\n",
      "1776/1776 [==============================] - 0s 101us/step\n",
      "1776/1776 [==============================] - 0s 88us/step\n",
      "1266/1266 [==============================] - 0s 105us/step\n",
      "1266/1266 [==============================] - 0s 86us/step\n",
      "997/997 [==============================] - 0s 116us/step\n",
      "997/997 [==============================] - 0s 88us/step\n",
      "902/902 [==============================] - 0s 78us/step\n",
      "902/902 [==============================] - 0s 87us/step\n",
      "711/711 [==============================] - 0s 100us/step\n",
      "711/711 [==============================] - 0s 93us/step\n",
      "1295/1295 [==============================] - 0s 93us/step\n",
      "1295/1295 [==============================] - 0s 85us/step\n",
      "3677/3677 [==============================] - 0s 93us/step\n",
      "3677/3677 [==============================] - 0s 93us/step\n"
     ]
    },
    {
     "name": "stderr",
     "output_type": "stream",
     "text": [
      "\u001b[32m[I 2020-11-06 12:52:28,145]\u001b[0m Finished trial#5 resulted in value: 1.5701477311323397. Current best value is 1.322657229673252 with parameters: {'num_layer': 2, 'dense_num': 3, 'num_filter_0': 5.0, 'num_filter_1': 5.0, 'size_filter_0': 3.0, 'size_filter_1': 3.0, 'batch_size': 3, 'learning_rate': 0.003584180928511193, 'decay': 2.0669372763970583e-06, 'dropout_rate_in': 0.0, 'dropout_rate_out': 0.1, 'momentum': 0.2, 'padding': 'valid'}.\u001b[0m\n"
     ]
    },
    {
     "name": "stdout",
     "output_type": "stream",
     "text": [
      "867/867 [==============================] - 0s 99us/step\n",
      "867/867 [==============================] - 0s 72us/step\n",
      "14008/14008 [==============================] - 1s 75us/step\n",
      "14008/14008 [==============================] - 1s 72us/step\n",
      "642/642 [==============================] - 0s 99us/step\n",
      "642/642 [==============================] - 0s 74us/step\n",
      "1776/1776 [==============================] - 0s 83us/step\n",
      "1776/1776 [==============================] - 0s 70us/step\n",
      "1266/1266 [==============================] - 0s 93us/step\n",
      "1266/1266 [==============================] - 0s 74us/step\n",
      "997/997 [==============================] - 0s 71us/step\n",
      "997/997 [==============================] - 0s 78us/step\n",
      "902/902 [==============================] - 0s 83us/step\n",
      "902/902 [==============================] - 0s 70us/step\n",
      "711/711 [==============================] - 0s 75us/step\n",
      "711/711 [==============================] - 0s 88us/step\n",
      "1295/1295 [==============================] - 0s 91us/step\n",
      "1295/1295 [==============================] - 0s 72us/step\n",
      "3677/3677 [==============================] - 0s 79us/step\n",
      "3677/3677 [==============================] - 0s 72us/step\n"
     ]
    },
    {
     "name": "stderr",
     "output_type": "stream",
     "text": [
      "\u001b[32m[I 2020-11-06 13:18:17,480]\u001b[0m Finished trial#6 resulted in value: 1.483877702093573. Current best value is 1.322657229673252 with parameters: {'num_layer': 2, 'dense_num': 3, 'num_filter_0': 5.0, 'num_filter_1': 5.0, 'size_filter_0': 3.0, 'size_filter_1': 3.0, 'batch_size': 3, 'learning_rate': 0.003584180928511193, 'decay': 2.0669372763970583e-06, 'dropout_rate_in': 0.0, 'dropout_rate_out': 0.1, 'momentum': 0.2, 'padding': 'valid'}.\u001b[0m\n"
     ]
    },
    {
     "name": "stdout",
     "output_type": "stream",
     "text": [
      "867/867 [==============================] - 0s 104us/step\n",
      "867/867 [==============================] - 0s 55us/step\n",
      "14008/14008 [==============================] - 1s 71us/step\n",
      "14008/14008 [==============================] - 1s 69us/step\n",
      "642/642 [==============================] - 0s 85us/step\n",
      "642/642 [==============================] - 0s 73us/step\n",
      "1776/1776 [==============================] - 0s 75us/step\n",
      "1776/1776 [==============================] - 0s 62us/step\n",
      "1266/1266 [==============================] - 0s 79us/step\n",
      "1266/1266 [==============================] - 0s 74us/step\n",
      "997/997 [==============================] - 0s 71us/step\n",
      "997/997 [==============================] - 0s 77us/step\n",
      "902/902 [==============================] - 0s 77us/step\n",
      "902/902 [==============================] - 0s 69us/step\n",
      "711/711 [==============================] - 0s 75us/step\n",
      "711/711 [==============================] - 0s 88us/step\n",
      "1295/1295 [==============================] - 0s 65us/step\n",
      "1295/1295 [==============================] - 0s 72us/step\n",
      "3677/3677 [==============================] - 0s 70us/step\n",
      "3677/3677 [==============================] - 0s 68us/step\n"
     ]
    },
    {
     "name": "stderr",
     "output_type": "stream",
     "text": [
      "\u001b[32m[I 2020-11-06 13:31:52,387]\u001b[0m Finished trial#7 resulted in value: 1.4894912335611359. Current best value is 1.322657229673252 with parameters: {'num_layer': 2, 'dense_num': 3, 'num_filter_0': 5.0, 'num_filter_1': 5.0, 'size_filter_0': 3.0, 'size_filter_1': 3.0, 'batch_size': 3, 'learning_rate': 0.003584180928511193, 'decay': 2.0669372763970583e-06, 'dropout_rate_in': 0.0, 'dropout_rate_out': 0.1, 'momentum': 0.2, 'padding': 'valid'}.\u001b[0m\n"
     ]
    },
    {
     "name": "stdout",
     "output_type": "stream",
     "text": [
      "1129/1129 [==============================] - 0s 76us/step\n",
      "accuracy is 0.29672276973724365\n",
      "outer_cv_1_processing....\n",
      "3678/3678 [==============================] - 0s 87us/step\n",
      "3678/3678 [==============================] - 0s 81us/step\n",
      "880/880 [==============================] - 0s 78us/step\n",
      "880/880 [==============================] - 0s 71us/step\n",
      "753/753 [==============================] - 0s 113us/step\n",
      "753/753 [==============================] - 0s 83us/step\n",
      "1770/1770 [==============================] - 0s 75us/step\n",
      "1770/1770 [==============================] - 0s 85us/step\n",
      "647/647 [==============================] - 0s 81us/step\n",
      "647/647 [==============================] - 0s 72us/step\n",
      "1905/1905 [==============================] - 0s 78us/step\n",
      "1905/1905 [==============================] - 0s 85us/step\n",
      "14003/14003 [==============================] - 1s 79us/step\n",
      "14003/14003 [==============================] - 1s 78us/step\n",
      "647/647 [==============================] - 0s 83us/step\n",
      "647/647 [==============================] - 0s 72us/step\n",
      "1185/1185 [==============================] - 0s 85us/step\n",
      "1185/1185 [==============================] - 0s 79us/step\n",
      "510/510 [==============================] - 0s 106us/step\n",
      "510/510 [==============================] - 0s 61us/step\n"
     ]
    },
    {
     "name": "stderr",
     "output_type": "stream",
     "text": [
      "\u001b[32m[I 2020-11-06 13:45:12,286]\u001b[0m Finished trial#0 resulted in value: 2.1166260101996137. Current best value is 2.1166260101996137 with parameters: {'num_layer': 2, 'dense_num': 3, 'num_filter_0': 3.0, 'num_filter_1': 5.0, 'size_filter_0': 3.0, 'size_filter_1': 3.0, 'batch_size': 3, 'learning_rate': 0.00010397587766646838, 'decay': 1.9887318852717847e-05, 'dropout_rate_in': 0.5, 'dropout_rate_out': 0.4, 'momentum': 0.4, 'padding': 'same'}.\u001b[0m\n"
     ]
    },
    {
     "name": "stdout",
     "output_type": "stream",
     "text": [
      "3678/3678 [==============================] - 0s 96us/step\n",
      "3678/3678 [==============================] - 0s 85us/step\n",
      "880/880 [==============================] - 0s 97us/step\n",
      "880/880 [==============================] - 0s 89us/step\n",
      "753/753 [==============================] - 0s 132us/step\n",
      "753/753 [==============================] - 0s 83us/step\n",
      "1770/1770 [==============================] - 0s 101us/step\n",
      "1770/1770 [==============================] - 0s 88us/step\n",
      "647/647 [==============================] - 0s 106us/step\n",
      "647/647 [==============================] - 0s 97us/step\n",
      "1905/1905 [==============================] - 0s 85us/step\n",
      "1905/1905 [==============================] - 0s 90us/step\n",
      "14003/14003 [==============================] - 1s 88us/step\n",
      "14003/14003 [==============================] - 1s 86us/step\n",
      "647/647 [==============================] - 0s 106us/step\n",
      "647/647 [==============================] - 0s 97us/step\n",
      "1185/1185 [==============================] - 0s 98us/step\n",
      "1185/1185 [==============================] - 0s 92us/step\n",
      "510/510 [==============================] - 0s 104us/step\n",
      "510/510 [==============================] - 0s 123us/step\n"
     ]
    },
    {
     "name": "stderr",
     "output_type": "stream",
     "text": [
      "\u001b[32m[I 2020-11-06 14:08:50,351]\u001b[0m Finished trial#1 resulted in value: 1.473823415919852. Current best value is 1.473823415919852 with parameters: {'num_layer': 2, 'dense_num': 2, 'num_filter_0': 5.0, 'num_filter_1': 4.0, 'size_filter_0': 5.0, 'size_filter_1': 5.0, 'batch_size': 2, 'learning_rate': 0.0007318756863464582, 'decay': 3.945486743517001e-06, 'dropout_rate_in': 0.4, 'dropout_rate_out': 0.1, 'momentum': 0.4, 'padding': 'same'}.\u001b[0m\n"
     ]
    },
    {
     "name": "stdout",
     "output_type": "stream",
     "text": [
      "3678/3678 [==============================] - 0s 87us/step\n",
      "3678/3678 [==============================] - 0s 87us/step\n",
      "880/880 [==============================] - 0s 96us/step\n",
      "880/880 [==============================] - 0s 100us/step\n",
      "753/753 [==============================] - 0s 112us/step\n",
      "753/753 [==============================] - 0s 83us/step\n",
      "1770/1770 [==============================] - 0s 83us/step\n",
      "1770/1770 [==============================] - 0s 79us/step\n",
      "647/647 [==============================] - 0s 82us/step\n",
      "647/647 [==============================] - 0s 100us/step\n",
      "1905/1905 [==============================] - 0s 86us/step\n",
      "1905/1905 [==============================] - 0s 82us/step\n",
      "14003/14003 [==============================] - 1s 88us/step\n",
      "14003/14003 [==============================] - 1s 84us/step\n",
      "647/647 [==============================] - 0s 84us/step\n",
      "647/647 [==============================] - 0s 97us/step\n",
      "1185/1185 [==============================] - 0s 111us/step\n",
      "1185/1185 [==============================] - 0s 79us/step\n",
      "510/510 [==============================] - 0s 91us/step\n",
      "510/510 [==============================] - 0s 64us/step\n"
     ]
    },
    {
     "name": "stderr",
     "output_type": "stream",
     "text": [
      "\u001b[32m[I 2020-11-06 14:12:07,076]\u001b[0m Finished trial#2 resulted in value: 2.233663923756179. Current best value is 1.473823415919852 with parameters: {'num_layer': 2, 'dense_num': 2, 'num_filter_0': 5.0, 'num_filter_1': 4.0, 'size_filter_0': 5.0, 'size_filter_1': 5.0, 'batch_size': 2, 'learning_rate': 0.0007318756863464582, 'decay': 3.945486743517001e-06, 'dropout_rate_in': 0.4, 'dropout_rate_out': 0.1, 'momentum': 0.4, 'padding': 'same'}.\u001b[0m\n"
     ]
    },
    {
     "name": "stdout",
     "output_type": "stream",
     "text": [
      "3678/3678 [==============================] - 0s 95us/step\n",
      "3678/3678 [==============================] - 0s 87us/step\n",
      "880/880 [==============================] - 0s 97us/step\n",
      "880/880 [==============================] - 0s 89us/step\n",
      "753/753 [==============================] - 0s 114us/step\n",
      "753/753 [==============================] - 0s 102us/step\n",
      "1770/1770 [==============================] - 0s 102us/step\n",
      "1770/1770 [==============================] - 0s 88us/step\n",
      "647/647 [==============================] - 0s 132us/step\n",
      "647/647 [==============================] - 0s 97us/step\n",
      "1905/1905 [==============================] - 0s 87us/step\n",
      "1905/1905 [==============================] - 0s 82us/step\n",
      "14003/14003 [==============================] - 1s 91us/step\n",
      "14003/14003 [==============================] - 1s 88us/step\n",
      "647/647 [==============================] - 0s 84us/step\n",
      "647/647 [==============================] - 0s 97us/step\n",
      "1185/1185 [==============================] - 0s 85us/step\n",
      "1185/1185 [==============================] - 0s 92us/step\n",
      "510/510 [==============================] - 0s 91us/step\n",
      "510/510 [==============================] - 0s 64us/step\n"
     ]
    },
    {
     "name": "stderr",
     "output_type": "stream",
     "text": [
      "\u001b[32m[I 2020-11-06 15:04:32,284]\u001b[0m Finished trial#3 resulted in value: 2.213443858779165. Current best value is 1.473823415919852 with parameters: {'num_layer': 2, 'dense_num': 2, 'num_filter_0': 5.0, 'num_filter_1': 4.0, 'size_filter_0': 5.0, 'size_filter_1': 5.0, 'batch_size': 2, 'learning_rate': 0.0007318756863464582, 'decay': 3.945486743517001e-06, 'dropout_rate_in': 0.4, 'dropout_rate_out': 0.1, 'momentum': 0.4, 'padding': 'same'}.\u001b[0m\n"
     ]
    },
    {
     "name": "stdout",
     "output_type": "stream",
     "text": [
      "3678/3678 [==============================] - 0s 83us/step\n",
      "3678/3678 [==============================] - 0s 78us/step\n",
      "880/880 [==============================] - 0s 80us/step\n",
      "880/880 [==============================] - 0s 71us/step\n",
      "753/753 [==============================] - 0s 91us/step\n",
      "753/753 [==============================] - 0s 83us/step\n",
      "1770/1770 [==============================] - 0s 83us/step\n",
      "1770/1770 [==============================] - 0s 79us/step\n",
      "647/647 [==============================] - 0s 83us/step\n",
      "647/647 [==============================] - 0s 97us/step\n",
      "1905/1905 [==============================] - 0s 85us/step\n",
      "1905/1905 [==============================] - 0s 79us/step\n",
      "14003/14003 [==============================] - 1s 78us/step\n",
      "14003/14003 [==============================] - 1s 78us/step\n",
      "647/647 [==============================] - 0s 83us/step\n",
      "647/647 [==============================] - 0s 97us/step\n",
      "1185/1185 [==============================] - 0s 71us/step\n",
      "1185/1185 [==============================] - 0s 92us/step\n",
      "510/510 [==============================] - 0s 76us/step\n",
      "510/510 [==============================] - 0s 63us/step\n"
     ]
    },
    {
     "name": "stderr",
     "output_type": "stream",
     "text": [
      "\u001b[32m[I 2020-11-06 15:46:04,477]\u001b[0m Finished trial#4 resulted in value: 1.5476981396049556. Current best value is 1.473823415919852 with parameters: {'num_layer': 2, 'dense_num': 2, 'num_filter_0': 5.0, 'num_filter_1': 4.0, 'size_filter_0': 5.0, 'size_filter_1': 5.0, 'batch_size': 2, 'learning_rate': 0.0007318756863464582, 'decay': 3.945486743517001e-06, 'dropout_rate_in': 0.4, 'dropout_rate_out': 0.1, 'momentum': 0.4, 'padding': 'same'}.\u001b[0m\n"
     ]
    },
    {
     "name": "stdout",
     "output_type": "stream",
     "text": [
      "3678/3678 [==============================] - 0s 67us/step\n",
      "3678/3678 [==============================] - 0s 64us/step\n",
      "880/880 [==============================] - 0s 62us/step\n",
      "880/880 [==============================] - 0s 71us/step\n",
      "753/753 [==============================] - 0s 92us/step\n",
      "753/753 [==============================] - 0s 53us/step\n",
      "1770/1770 [==============================] - 0s 65us/step\n",
      "1770/1770 [==============================] - 0s 62us/step\n",
      "647/647 [==============================] - 0s 70us/step\n",
      "647/647 [==============================] - 0s 49us/step\n",
      "1905/1905 [==============================] - 0s 61us/step\n",
      "1905/1905 [==============================] - 0s 57us/step\n",
      "14003/14003 [==============================] - 1s 63us/step\n",
      "14003/14003 [==============================] - 1s 61us/step\n",
      "647/647 [==============================] - 0s 67us/step\n",
      "647/647 [==============================] - 0s 49us/step\n",
      "1185/1185 [==============================] - 0s 59us/step\n",
      "1185/1185 [==============================] - 0s 66us/step\n",
      "510/510 [==============================] - 0s 79us/step\n",
      "510/510 [==============================] - 0s 64us/step\n"
     ]
    },
    {
     "name": "stderr",
     "output_type": "stream",
     "text": [
      "\u001b[32m[I 2020-11-06 15:56:50,917]\u001b[0m Finished trial#5 resulted in value: 1.6921869493364716. Current best value is 1.473823415919852 with parameters: {'num_layer': 2, 'dense_num': 2, 'num_filter_0': 5.0, 'num_filter_1': 4.0, 'size_filter_0': 5.0, 'size_filter_1': 5.0, 'batch_size': 2, 'learning_rate': 0.0007318756863464582, 'decay': 3.945486743517001e-06, 'dropout_rate_in': 0.4, 'dropout_rate_out': 0.1, 'momentum': 0.4, 'padding': 'same'}.\u001b[0m\n",
      "\u001b[32m[I 2020-11-06 15:56:59,823]\u001b[0m Setting status of trial#6 as TrialState.PRUNED. Trial was pruned at epoch 1.\u001b[0m\n",
      "\u001b[32m[I 2020-11-06 15:57:16,785]\u001b[0m Setting status of trial#7 as TrialState.PRUNED. Trial was pruned at epoch 1.\u001b[0m\n"
     ]
    },
    {
     "name": "stdout",
     "output_type": "stream",
     "text": [
      "1292/1292 [==============================] - 0s 90us/step\n",
      "accuracy is 0.39086687564849854\n",
      "outer_cv_2_processing....\n",
      "1292/1292 [==============================] - 0s 77us/step\n",
      "1292/1292 [==============================] - 0s 85us/step\n",
      "3677/3677 [==============================] - 0s 78us/step\n",
      "3677/3677 [==============================] - 0s 81us/step\n",
      "511/511 [==============================] - 0s 83us/step\n",
      "511/511 [==============================] - 0s 63us/step\n",
      "647/647 [==============================] - 0s 82us/step\n",
      "647/647 [==============================] - 0s 72us/step\n",
      "14001/14001 [==============================] - 1s 81us/step\n",
      "14001/14001 [==============================] - 1s 81us/step\n",
      "1185/1185 [==============================] - 0s 86us/step\n",
      "1185/1185 [==============================] - 0s 79us/step\n",
      "1686/1686 [==============================] - 0s 88us/step\n",
      "1686/1686 [==============================] - 0s 74us/step\n",
      "1905/1905 [==============================] - 0s 85us/step\n",
      "1905/1905 [==============================] - 0s 82us/step\n",
      "954/954 [==============================] - 0s 90us/step\n",
      "954/954 [==============================] - 0s 82us/step\n",
      "659/659 [==============================] - 0s 83us/step\n",
      "659/659 [==============================] - 0s 71us/step\n"
     ]
    },
    {
     "name": "stderr",
     "output_type": "stream",
     "text": [
      "\u001b[32m[I 2020-11-06 16:06:09,376]\u001b[0m Finished trial#0 resulted in value: 2.217767571936755. Current best value is 2.217767571936755 with parameters: {'num_layer': 2, 'dense_num': 2, 'num_filter_0': 3.0, 'num_filter_1': 3.0, 'size_filter_0': 3.0, 'size_filter_1': 5.0, 'batch_size': 4, 'learning_rate': 0.00037972834124438417, 'decay': 0.0009932571941585224, 'dropout_rate_in': 0.5, 'dropout_rate_out': 0.1, 'momentum': 0.5, 'padding': 'same'}.\u001b[0m\n"
     ]
    },
    {
     "name": "stdout",
     "output_type": "stream",
     "text": [
      "1292/1292 [==============================] - 0s 114us/step\n",
      "1292/1292 [==============================] - 0s 85us/step\n",
      "3677/3677 [==============================] - 0s 88us/step\n",
      "3677/3677 [==============================] - 0s 89us/step\n",
      "511/511 [==============================] - 0s 132us/step\n",
      "511/511 [==============================] - 0s 63us/step\n",
      "647/647 [==============================] - 0s 106us/step\n",
      "647/647 [==============================] - 0s 97us/step\n",
      "14001/14001 [==============================] - 1s 87us/step\n",
      "14001/14001 [==============================] - 1s 87us/step\n",
      "1185/1185 [==============================] - 0s 98us/step\n",
      "1185/1185 [==============================] - 0s 92us/step\n",
      "1686/1686 [==============================] - 0s 97us/step\n",
      "1686/1686 [==============================] - 0s 83us/step\n",
      "1905/1905 [==============================] - 0s 85us/step\n",
      "1905/1905 [==============================] - 0s 90us/step\n",
      "954/954 [==============================] - 0s 109us/step\n",
      "954/954 [==============================] - 0s 90us/step\n",
      "659/659 [==============================] - 0s 130us/step\n",
      "659/659 [==============================] - 0s 95us/step\n"
     ]
    },
    {
     "name": "stderr",
     "output_type": "stream",
     "text": [
      "\u001b[32m[I 2020-11-06 16:53:46,221]\u001b[0m Finished trial#1 resulted in value: 1.3755663438738914. Current best value is 1.3755663438738914 with parameters: {'num_layer': 2, 'dense_num': 5, 'num_filter_0': 5.0, 'num_filter_1': 4.0, 'size_filter_0': 3.0, 'size_filter_1': 3.0, 'batch_size': 1, 'learning_rate': 0.00017122255168702734, 'decay': 3.589352245680871e-05, 'dropout_rate_in': 0.1, 'dropout_rate_out': 0.0, 'momentum': 0.8, 'padding': 'same'}.\u001b[0m\n"
     ]
    },
    {
     "name": "stdout",
     "output_type": "stream",
     "text": [
      "1292/1292 [==============================] - 0s 66us/step\n",
      "1292/1292 [==============================] - 0s 73us/step\n",
      "3677/3677 [==============================] - 0s 74us/step\n",
      "3677/3677 [==============================] - 0s 76us/step\n",
      "511/511 [==============================] - 0s 109us/step\n",
      "511/511 [==============================] - 0s 63us/step\n",
      "647/647 [==============================] - 0s 82us/step\n",
      "647/647 [==============================] - 0s 97us/step\n",
      "14001/14001 [==============================] - 1s 76us/step\n",
      "14001/14001 [==============================] - 1s 78us/step\n",
      "1185/1185 [==============================] - 0s 84us/step\n",
      "1185/1185 [==============================] - 0s 79us/step\n",
      "1686/1686 [==============================] - 0s 78us/step\n",
      "1686/1686 [==============================] - 0s 74us/step\n",
      "1905/1905 [==============================] - 0s 69us/step\n",
      "1905/1905 [==============================] - 0s 74us/step\n",
      "954/954 [==============================] - 0s 75us/step\n",
      "954/954 [==============================] - 0s 71us/step\n",
      "659/659 [==============================] - 0s 80us/step\n",
      "659/659 [==============================] - 0s 71us/step\n"
     ]
    },
    {
     "name": "stderr",
     "output_type": "stream",
     "text": [
      "\u001b[32m[I 2020-11-06 17:04:08,429]\u001b[0m Finished trial#2 resulted in value: 2.704602811351664. Current best value is 1.3755663438738914 with parameters: {'num_layer': 2, 'dense_num': 5, 'num_filter_0': 5.0, 'num_filter_1': 4.0, 'size_filter_0': 3.0, 'size_filter_1': 3.0, 'batch_size': 1, 'learning_rate': 0.00017122255168702734, 'decay': 3.589352245680871e-05, 'dropout_rate_in': 0.1, 'dropout_rate_out': 0.0, 'momentum': 0.8, 'padding': 'same'}.\u001b[0m\n"
     ]
    },
    {
     "name": "stdout",
     "output_type": "stream",
     "text": [
      "1292/1292 [==============================] - 0s 89us/step\n",
      "1292/1292 [==============================] - 0s 85us/step\n",
      "3677/3677 [==============================] - 0s 90us/step\n",
      "3677/3677 [==============================] - 0s 91us/step\n",
      "511/511 [==============================] - 0s 73us/step\n",
      "511/511 [==============================] - 0s 93us/step\n",
      "647/647 [==============================] - 0s 109us/step\n",
      "647/647 [==============================] - 0s 97us/step\n",
      "14001/14001 [==============================] - 1s 91us/step\n",
      "14001/14001 [==============================] - 1s 92us/step\n",
      "1185/1185 [==============================] - 0s 99us/step\n",
      "1185/1185 [==============================] - 0s 92us/step\n",
      "1686/1686 [==============================] - 0s 97us/step\n",
      "1686/1686 [==============================] - 0s 98us/step\n",
      "1905/1905 [==============================] - 0s 99us/step\n",
      "1905/1905 [==============================] - 0s 115us/step\n",
      "954/954 [==============================] - 0s 89us/step\n",
      "954/954 [==============================] - 0s 98us/step\n",
      "659/659 [==============================] - 0s 80us/step\n",
      "659/659 [==============================] - 0s 119us/step\n"
     ]
    },
    {
     "name": "stderr",
     "output_type": "stream",
     "text": [
      "\u001b[32m[I 2020-11-06 17:10:40,328]\u001b[0m Finished trial#3 resulted in value: 1.573577614788414. Current best value is 1.3755663438738914 with parameters: {'num_layer': 2, 'dense_num': 5, 'num_filter_0': 5.0, 'num_filter_1': 4.0, 'size_filter_0': 3.0, 'size_filter_1': 3.0, 'batch_size': 1, 'learning_rate': 0.00017122255168702734, 'decay': 3.589352245680871e-05, 'dropout_rate_in': 0.1, 'dropout_rate_out': 0.0, 'momentum': 0.8, 'padding': 'same'}.\u001b[0m\n"
     ]
    },
    {
     "name": "stdout",
     "output_type": "stream",
     "text": [
      "1292/1292 [==============================] - 0s 78us/step\n",
      "1292/1292 [==============================] - 0s 73us/step\n",
      "3677/3677 [==============================] - 0s 78us/step\n",
      "3677/3677 [==============================] - 0s 77us/step\n",
      "511/511 [==============================] - 0s 81us/step\n",
      "511/511 [==============================] - 0s 64us/step\n",
      "647/647 [==============================] - 0s 83us/step\n",
      "647/647 [==============================] - 0s 72us/step\n",
      "14001/14001 [==============================] - 1s 78us/step\n",
      "14001/14001 [==============================] - 1s 79us/step\n",
      "1185/1185 [==============================] - 0s 85us/step\n",
      "1185/1185 [==============================] - 0s 79us/step\n",
      "1686/1686 [==============================] - 0s 69us/step\n",
      "1686/1686 [==============================] - 0s 82us/step\n",
      "1905/1905 [==============================] - 0s 70us/step\n",
      "1905/1905 [==============================] - 0s 74us/step\n",
      "954/954 [==============================] - 0s 89us/step\n",
      "954/954 [==============================] - 0s 83us/step\n",
      "659/659 [==============================] - 0s 81us/step\n",
      "659/659 [==============================] - 0s 71us/step\n"
     ]
    },
    {
     "name": "stderr",
     "output_type": "stream",
     "text": [
      "\u001b[32m[I 2020-11-06 17:32:28,668]\u001b[0m Finished trial#4 resulted in value: 1.729420736529089. Current best value is 1.3755663438738914 with parameters: {'num_layer': 2, 'dense_num': 5, 'num_filter_0': 5.0, 'num_filter_1': 4.0, 'size_filter_0': 3.0, 'size_filter_1': 3.0, 'batch_size': 1, 'learning_rate': 0.00017122255168702734, 'decay': 3.589352245680871e-05, 'dropout_rate_in': 0.1, 'dropout_rate_out': 0.0, 'momentum': 0.8, 'padding': 'same'}.\u001b[0m\n",
      "\u001b[32m[I 2020-11-06 17:33:04,074]\u001b[0m Setting status of trial#5 as TrialState.PRUNED. Trial was pruned at epoch 1.\u001b[0m\n"
     ]
    },
    {
     "name": "stdout",
     "output_type": "stream",
     "text": [
      "1292/1292 [==============================] - 0s 78us/step\n",
      "1292/1292 [==============================] - 0s 82us/step\n",
      "3677/3677 [==============================] - 0s 74us/step\n",
      "3677/3677 [==============================] - 0s 72us/step\n",
      "511/511 [==============================] - 0s 94us/step\n",
      "511/511 [==============================] - 0s 63us/step\n",
      "647/647 [==============================] - 0s 98us/step\n",
      "647/647 [==============================] - 0s 74us/step\n",
      "14001/14001 [==============================] - 1s 74us/step\n",
      "14001/14001 [==============================] - 1s 73us/step\n",
      "1185/1185 [==============================] - 0s 84us/step\n",
      "1185/1185 [==============================] - 0s 79us/step\n",
      "1686/1686 [==============================] - 0s 79us/step\n",
      "1686/1686 [==============================] - 0s 74us/step\n",
      "1905/1905 [==============================] - 0s 81us/step\n",
      "1905/1905 [==============================] - 0s 74us/step\n",
      "954/954 [==============================] - 0s 73us/step\n",
      "954/954 [==============================] - 0s 82us/step\n",
      "659/659 [==============================] - 0s 81us/step\n",
      "659/659 [==============================] - 0s 71us/step\n"
     ]
    },
    {
     "name": "stderr",
     "output_type": "stream",
     "text": [
      "\u001b[32m[I 2020-11-06 18:12:01,022]\u001b[0m Finished trial#6 resulted in value: 1.4624786335680355. Current best value is 1.3755663438738914 with parameters: {'num_layer': 2, 'dense_num': 5, 'num_filter_0': 5.0, 'num_filter_1': 4.0, 'size_filter_0': 3.0, 'size_filter_1': 3.0, 'batch_size': 1, 'learning_rate': 0.00017122255168702734, 'decay': 3.589352245680871e-05, 'dropout_rate_in': 0.1, 'dropout_rate_out': 0.0, 'momentum': 0.8, 'padding': 'same'}.\u001b[0m\n",
      "\u001b[32m[I 2020-11-06 18:13:21,080]\u001b[0m Setting status of trial#7 as TrialState.PRUNED. Trial was pruned at epoch 4.\u001b[0m\n"
     ]
    },
    {
     "name": "stdout",
     "output_type": "stream",
     "text": [
      "753/753 [==============================] - 0s 92us/step\n",
      "accuracy is 0.4940239191055298\n",
      "outer_cv_3_processing....\n",
      "14000/14000 [==============================] - 1s 60us/step\n",
      "14000/14000 [==============================] - 1s 61us/step\n",
      "647/647 [==============================] - 0s 76us/step\n",
      "647/647 [==============================] - 0s 50us/step\n",
      "880/880 [==============================] - 0s 62us/step\n",
      "880/880 [==============================] - 0s 53us/step\n",
      "1770/1770 [==============================] - 0s 66us/step\n",
      "1770/1770 [==============================] - 0s 62us/step\n",
      "1185/1185 [==============================] - 0s 71us/step\n",
      "1185/1185 [==============================] - 0s 66us/step\n",
      "647/647 [==============================] - 0s 73us/step\n",
      "647/647 [==============================] - 0s 49us/step\n",
      "510/510 [==============================] - 0s 69us/step\n",
      "510/510 [==============================] - 0s 33us/step\n",
      "1295/1295 [==============================] - 0s 65us/step\n",
      "1295/1295 [==============================] - 0s 60us/step\n",
      "3678/3678 [==============================] - 0s 61us/step\n",
      "3678/3678 [==============================] - 0s 59us/step\n",
      "753/753 [==============================] - 0s 70us/step\n",
      "753/753 [==============================] - 0s 62us/step\n"
     ]
    },
    {
     "name": "stderr",
     "output_type": "stream",
     "text": [
      "\u001b[32m[I 2020-11-06 18:27:56,087]\u001b[0m Finished trial#0 resulted in value: 2.207288759221008. Current best value is 2.207288759221008 with parameters: {'num_layer': 1, 'dense_num': 4, 'num_filter_0': 5.0, 'size_filter_0': 3.0, 'batch_size': 3, 'learning_rate': 2.3536501012642387e-05, 'decay': 1.3455221097866868e-05, 'dropout_rate_in': 0.0, 'dropout_rate_out': 0.0, 'momentum': 0.0, 'padding': 'valid'}.\u001b[0m\n"
     ]
    },
    {
     "name": "stdout",
     "output_type": "stream",
     "text": [
      "14000/14000 [==============================] - 1s 74us/step\n",
      "14000/14000 [==============================] - 1s 74us/step\n",
      "647/647 [==============================] - 0s 82us/step\n",
      "647/647 [==============================] - 0s 74us/step\n",
      "880/880 [==============================] - 0s 79us/step\n",
      "880/880 [==============================] - 0s 89us/step\n",
      "1770/1770 [==============================] - 0s 83us/step\n",
      "1770/1770 [==============================] - 0s 71us/step\n",
      "1185/1185 [==============================] - 0s 71us/step\n",
      "1185/1185 [==============================] - 0s 66us/step\n",
      "647/647 [==============================] - 0s 80us/step\n",
      "647/647 [==============================] - 0s 74us/step\n",
      "510/510 [==============================] - 0s 79us/step\n",
      "510/510 [==============================] - 0s 64us/step\n",
      "1295/1295 [==============================] - 0s 79us/step\n",
      "1295/1295 [==============================] - 0s 72us/step\n",
      "3678/3678 [==============================] - 0s 70us/step\n",
      "3678/3678 [==============================] - 0s 76us/step\n",
      "753/753 [==============================] - 0s 72us/step\n",
      "753/753 [==============================] - 0s 83us/step\n"
     ]
    },
    {
     "name": "stderr",
     "output_type": "stream",
     "text": [
      "\u001b[32m[I 2020-11-06 18:33:30,923]\u001b[0m Finished trial#1 resulted in value: 2.099861987682366. Current best value is 2.099861987682366 with parameters: {'num_layer': 2, 'dense_num': 2, 'num_filter_0': 2.0, 'num_filter_1': 3.0, 'size_filter_0': 5.0, 'size_filter_1': 3.0, 'batch_size': 4, 'learning_rate': 0.0005025923242839173, 'decay': 9.525243544101583e-05, 'dropout_rate_in': 0.1, 'dropout_rate_out': 0.0, 'momentum': 0.0, 'padding': 'valid'}.\u001b[0m\n"
     ]
    },
    {
     "name": "stdout",
     "output_type": "stream",
     "text": [
      "14000/14000 [==============================] - 1s 74us/step\n",
      "14000/14000 [==============================] - 1s 75us/step\n",
      "647/647 [==============================] - 0s 80us/step\n",
      "647/647 [==============================] - 0s 60us/step\n",
      "880/880 [==============================] - 0s 78us/step\n",
      "880/880 [==============================] - 0s 71us/step\n",
      "1770/1770 [==============================] - 0s 83us/step\n",
      "1770/1770 [==============================] - 0s 71us/step\n",
      "1185/1185 [==============================] - 0s 72us/step\n",
      "1185/1185 [==============================] - 0s 79us/step\n",
      "647/647 [==============================] - 0s 84us/step\n",
      "647/647 [==============================] - 0s 72us/step\n",
      "510/510 [==============================] - 0s 55us/step\n",
      "510/510 [==============================] - 0s 92us/step\n",
      "1295/1295 [==============================] - 0s 78us/step\n",
      "1295/1295 [==============================] - 0s 84us/step\n",
      "3678/3678 [==============================] - 0s 74us/step\n",
      "3678/3678 [==============================] - 0s 72us/step\n",
      "753/753 [==============================] - 0s 91us/step\n",
      "753/753 [==============================] - 0s 62us/step\n"
     ]
    },
    {
     "name": "stderr",
     "output_type": "stream",
     "text": [
      "\u001b[32m[I 2020-11-06 18:39:54,198]\u001b[0m Finished trial#2 resulted in value: 1.3597652381296805. Current best value is 1.3597652381296805 with parameters: {'num_layer': 2, 'dense_num': 5, 'num_filter_0': 3.0, 'num_filter_1': 5.0, 'size_filter_0': 5.0, 'size_filter_1': 3.0, 'batch_size': 4, 'learning_rate': 0.0014807271698056312, 'decay': 7.884590794695182e-05, 'dropout_rate_in': 0.1, 'dropout_rate_out': 0.0, 'momentum': 0.9, 'padding': 'valid'}.\u001b[0m\n"
     ]
    },
    {
     "name": "stdout",
     "output_type": "stream",
     "text": [
      "14000/14000 [==============================] - 1s 78us/step\n",
      "14000/14000 [==============================] - 1s 78us/step\n",
      "647/647 [==============================] - 0s 83us/step\n",
      "647/647 [==============================] - 0s 97us/step\n",
      "880/880 [==============================] - 0s 79us/step\n",
      "880/880 [==============================] - 0s 89us/step\n",
      "1770/1770 [==============================] - 0s 75us/step\n",
      "1770/1770 [==============================] - 0s 79us/step\n",
      "1185/1185 [==============================] - 0s 84us/step\n",
      "1185/1185 [==============================] - 0s 79us/step\n",
      "647/647 [==============================] - 0s 83us/step\n",
      "647/647 [==============================] - 0s 97us/step\n",
      "510/510 [==============================] - 0s 92us/step\n",
      "510/510 [==============================] - 0s 64us/step\n",
      "1295/1295 [==============================] - 0s 89us/step\n",
      "1295/1295 [==============================] - 0s 72us/step\n",
      "3678/3678 [==============================] - 0s 81us/step\n",
      "3678/3678 [==============================] - 0s 76us/step\n",
      "753/753 [==============================] - 0s 72us/step\n",
      "753/753 [==============================] - 0s 83us/step\n"
     ]
    },
    {
     "name": "stderr",
     "output_type": "stream",
     "text": [
      "\u001b[32m[I 2020-11-06 19:18:24,406]\u001b[0m Finished trial#3 resulted in value: 2.0367751926419304. Current best value is 1.3597652381296805 with parameters: {'num_layer': 2, 'dense_num': 5, 'num_filter_0': 3.0, 'num_filter_1': 5.0, 'size_filter_0': 5.0, 'size_filter_1': 3.0, 'batch_size': 4, 'learning_rate': 0.0014807271698056312, 'decay': 7.884590794695182e-05, 'dropout_rate_in': 0.1, 'dropout_rate_out': 0.0, 'momentum': 0.9, 'padding': 'valid'}.\u001b[0m\n"
     ]
    },
    {
     "name": "stdout",
     "output_type": "stream",
     "text": [
      "14000/14000 [==============================] - 1s 89us/step\n",
      "14000/14000 [==============================] - 1s 88us/step\n",
      "647/647 [==============================] - 0s 106us/step\n",
      "647/647 [==============================] - 0s 108us/step\n",
      "880/880 [==============================] - 0s 97us/step\n",
      "880/880 [==============================] - 0s 89us/step\n",
      "1770/1770 [==============================] - 0s 84us/step\n",
      "1770/1770 [==============================] - 0s 88us/step\n",
      "1185/1185 [==============================] - 0s 98us/step\n",
      "1185/1185 [==============================] - 0s 92us/step\n",
      "647/647 [==============================] - 0s 84us/step\n",
      "647/647 [==============================] - 0s 97us/step\n",
      "510/510 [==============================] - 0s 105us/step\n",
      "510/510 [==============================] - 0s 92us/step\n",
      "1295/1295 [==============================] - 0s 91us/step\n",
      "1295/1295 [==============================] - 0s 84us/step\n",
      "3678/3678 [==============================] - 0s 89us/step\n",
      "3678/3678 [==============================] - 0s 89us/step\n",
      "753/753 [==============================] - 0s 114us/step\n",
      "753/753 [==============================] - 0s 83us/step\n"
     ]
    },
    {
     "name": "stderr",
     "output_type": "stream",
     "text": [
      "\u001b[32m[I 2020-11-06 19:29:47,270]\u001b[0m Finished trial#4 resulted in value: 1.6206828781634048. Current best value is 1.3597652381296805 with parameters: {'num_layer': 2, 'dense_num': 5, 'num_filter_0': 3.0, 'num_filter_1': 5.0, 'size_filter_0': 5.0, 'size_filter_1': 3.0, 'batch_size': 4, 'learning_rate': 0.0014807271698056312, 'decay': 7.884590794695182e-05, 'dropout_rate_in': 0.1, 'dropout_rate_out': 0.0, 'momentum': 0.9, 'padding': 'valid'}.\u001b[0m\n",
      "\u001b[32m[I 2020-11-06 19:29:54,137]\u001b[0m Setting status of trial#5 as TrialState.PRUNED. Trial was pruned at epoch 1.\u001b[0m\n",
      "\u001b[32m[I 2020-11-06 19:29:58,528]\u001b[0m Setting status of trial#6 as TrialState.PRUNED. Trial was pruned at epoch 1.\u001b[0m\n",
      "\u001b[32m[I 2020-11-06 19:30:05,375]\u001b[0m Setting status of trial#7 as TrialState.PRUNED. Trial was pruned at epoch 1.\u001b[0m\n"
     ]
    },
    {
     "name": "stdout",
     "output_type": "stream",
     "text": [
      "1905/1905 [==============================] - 0s 94us/step\n",
      "accuracy is 0.48398950695991516\n",
      "outer_cv_4_processing....\n",
      "15439/15439 [==============================] - 1s 63us/step\n",
      "15439/15439 [==============================] - 1s 62us/step\n",
      "1185/1185 [==============================] - 0s 72us/step\n",
      "1185/1185 [==============================] - 0s 66us/step\n",
      "647/647 [==============================] - 0s 88us/step\n",
      "647/647 [==============================] - 0s 50us/step\n",
      "647/647 [==============================] - 0s 76us/step\n",
      "647/647 [==============================] - 0s 50us/step\n",
      "510/510 [==============================] - 0s 101us/step\n",
      "510/510 [==============================] - 0s 63us/step\n",
      "1920/1920 [==============================] - 0s 61us/step\n",
      "1920/1920 [==============================] - 0s 65us/step\n",
      "753/753 [==============================] - 0s 92us/step\n",
      "753/753 [==============================] - 0s 62us/step\n",
      "874/874 [==============================] - 0s 78us/step\n",
      "874/874 [==============================] - 0s 71us/step\n",
      "2224/2224 [==============================] - 0s 66us/step\n",
      "2224/2224 [==============================] - 0s 63us/step\n",
      "1295/1295 [==============================] - 0s 66us/step\n",
      "1295/1295 [==============================] - 0s 60us/step\n"
     ]
    },
    {
     "name": "stderr",
     "output_type": "stream",
     "text": [
      "\u001b[32m[I 2020-11-06 20:07:25,140]\u001b[0m Finished trial#0 resulted in value: 2.074272631206767. Current best value is 2.074272631206767 with parameters: {'num_layer': 1, 'dense_num': 5, 'num_filter_0': 4.0, 'size_filter_0': 3.0, 'batch_size': 1, 'learning_rate': 4.232730456803396e-05, 'decay': 8.812382074535152e-06, 'dropout_rate_in': 0.1, 'dropout_rate_out': 0.2, 'momentum': 0.1, 'padding': 'valid'}.\u001b[0m\n"
     ]
    },
    {
     "name": "stdout",
     "output_type": "stream",
     "text": [
      "15439/15439 [==============================] - 1s 83us/step\n",
      "15439/15439 [==============================] - 1s 85us/step\n",
      "1185/1185 [==============================] - 0s 86us/step\n",
      "1185/1185 [==============================] - 0s 79us/step\n",
      "647/647 [==============================] - 0s 84us/step\n",
      "647/647 [==============================] - 0s 72us/step\n",
      "647/647 [==============================] - 0s 110us/step\n",
      "647/647 [==============================] - 0s 72us/step\n",
      "510/510 [==============================] - 0s 91us/step\n",
      "510/510 [==============================] - 0s 63us/step\n",
      "1920/1920 [==============================] - 0s 77us/step\n",
      "1920/1920 [==============================] - 0s 92us/step\n",
      "753/753 [==============================] - 0s 91us/step\n",
      "753/753 [==============================] - 0s 83us/step\n",
      "874/874 [==============================] - 0s 78us/step\n",
      "874/874 [==============================] - 0s 95us/step\n",
      "2224/2224 [==============================] - 0s 82us/step\n",
      "2224/2224 [==============================] - 0s 84us/step\n",
      "1295/1295 [==============================] - 0s 77us/step\n",
      "1295/1295 [==============================] - 0s 72us/step\n"
     ]
    },
    {
     "name": "stderr",
     "output_type": "stream",
     "text": [
      "\u001b[32m[I 2020-11-06 20:29:14,647]\u001b[0m Finished trial#1 resulted in value: 1.5641122459707. Current best value is 1.5641122459707 with parameters: {'num_layer': 1, 'dense_num': 2, 'num_filter_0': 5.0, 'size_filter_0': 5.0, 'batch_size': 2, 'learning_rate': 0.0014126158002503648, 'decay': 3.8361329451843745e-06, 'dropout_rate_in': 0.0, 'dropout_rate_out': 0.2, 'momentum': 0.1, 'padding': 'same'}.\u001b[0m\n"
     ]
    },
    {
     "name": "stdout",
     "output_type": "stream",
     "text": [
      "15439/15439 [==============================] - 1s 73us/step\n",
      "15439/15439 [==============================] - 1s 74us/step\n",
      "1185/1185 [==============================] - 0s 79us/step\n",
      "1185/1185 [==============================] - 0s 66us/step\n",
      "647/647 [==============================] - 0s 84us/step\n",
      "647/647 [==============================] - 0s 72us/step\n",
      "647/647 [==============================] - 0s 82us/step\n",
      "647/647 [==============================] - 0s 72us/step\n",
      "510/510 [==============================] - 0s 80us/step\n",
      "510/510 [==============================] - 0s 63us/step\n",
      "1920/1920 [==============================] - 0s 77us/step\n",
      "1920/1920 [==============================] - 0s 73us/step\n",
      "753/753 [==============================] - 0s 72us/step\n",
      "753/753 [==============================] - 0s 83us/step\n",
      "874/874 [==============================] - 0s 81us/step\n",
      "874/874 [==============================] - 0s 71us/step\n",
      "2224/2224 [==============================] - 0s 74us/step\n",
      "2224/2224 [==============================] - 0s 74us/step\n",
      "1295/1295 [==============================] - 0s 77us/step\n",
      "1295/1295 [==============================] - 0s 84us/step\n"
     ]
    },
    {
     "name": "stderr",
     "output_type": "stream",
     "text": [
      "\u001b[32m[I 2020-11-06 20:35:09,221]\u001b[0m Finished trial#2 resulted in value: 1.5239215108770492. Current best value is 1.5239215108770492 with parameters: {'num_layer': 2, 'dense_num': 3, 'num_filter_0': 5.0, 'num_filter_1': 3.0, 'size_filter_0': 5.0, 'size_filter_1': 5.0, 'batch_size': 4, 'learning_rate': 0.00014556446578225987, 'decay': 4.1010699814482836e-06, 'dropout_rate_in': 0.30000000000000004, 'dropout_rate_out': 0.0, 'momentum': 0.9, 'padding': 'same'}.\u001b[0m\n"
     ]
    },
    {
     "name": "stdout",
     "output_type": "stream",
     "text": [
      "15439/15439 [==============================] - 1s 82us/step\n",
      "15439/15439 [==============================] - 1s 81us/step\n",
      "1185/1185 [==============================] - 0s 84us/step\n",
      "1185/1185 [==============================] - 0s 79us/step\n",
      "647/647 [==============================] - 0s 107us/step\n",
      "647/647 [==============================] - 0s 72us/step\n",
      "647/647 [==============================] - 0s 104us/step\n",
      "647/647 [==============================] - 0s 73us/step\n",
      "510/510 [==============================] - 0s 87us/step\n",
      "510/510 [==============================] - 0s 63us/step\n",
      "1920/1920 [==============================] - 0s 77us/step\n",
      "1920/1920 [==============================] - 0s 81us/step\n",
      "753/753 [==============================] - 0s 93us/step\n",
      "753/753 [==============================] - 0s 83us/step\n",
      "874/874 [==============================] - 0s 96us/step\n",
      "874/874 [==============================] - 0s 71us/step\n",
      "2224/2224 [==============================] - 0s 80us/step\n",
      "2224/2224 [==============================] - 0s 84us/step\n",
      "1295/1295 [==============================] - 0s 78us/step\n",
      "1295/1295 [==============================] - 0s 84us/step\n"
     ]
    },
    {
     "name": "stderr",
     "output_type": "stream",
     "text": [
      "\u001b[32m[I 2020-11-06 20:41:58,740]\u001b[0m Finished trial#3 resulted in value: 1.5031174395309044. Current best value is 1.5031174395309044 with parameters: {'num_layer': 2, 'dense_num': 3, 'num_filter_0': 4.0, 'num_filter_1': 3.0, 'size_filter_0': 3.0, 'size_filter_1': 3.0, 'batch_size': 4, 'learning_rate': 0.004155726385867623, 'decay': 9.058601066576066e-05, 'dropout_rate_in': 0.30000000000000004, 'dropout_rate_out': 0.2, 'momentum': 0.6000000000000001, 'padding': 'valid'}.\u001b[0m\n"
     ]
    },
    {
     "name": "stdout",
     "output_type": "stream",
     "text": [
      "15439/15439 [==============================] - 1s 77us/step\n",
      "15439/15439 [==============================] - 1s 75us/step\n",
      "1185/1185 [==============================] - 0s 74us/step\n",
      "1185/1185 [==============================] - 0s 92us/step\n",
      "647/647 [==============================] - 0s 83us/step\n",
      "647/647 [==============================] - 0s 72us/step\n",
      "647/647 [==============================] - 0s 84us/step\n",
      "647/647 [==============================] - 0s 72us/step\n",
      "510/510 [==============================] - 0s 81us/step\n",
      "510/510 [==============================] - 0s 63us/step\n",
      "1920/1920 [==============================] - 0s 76us/step\n",
      "1920/1920 [==============================] - 0s 73us/step\n",
      "753/753 [==============================] - 0s 72us/step\n",
      "753/753 [==============================] - 0s 83us/step\n",
      "874/874 [==============================] - 0s 79us/step\n",
      "874/874 [==============================] - 0s 88us/step\n",
      "2224/2224 [==============================] - 0s 80us/step\n",
      "2224/2224 [==============================] - 0s 70us/step\n",
      "1295/1295 [==============================] - 0s 78us/step\n",
      "1295/1295 [==============================] - 0s 84us/step\n"
     ]
    },
    {
     "name": "stderr",
     "output_type": "stream",
     "text": [
      "\u001b[32m[I 2020-11-06 20:47:26,289]\u001b[0m Finished trial#4 resulted in value: 1.8847337787794696. Current best value is 1.5031174395309044 with parameters: {'num_layer': 2, 'dense_num': 3, 'num_filter_0': 4.0, 'num_filter_1': 3.0, 'size_filter_0': 3.0, 'size_filter_1': 3.0, 'batch_size': 4, 'learning_rate': 0.004155726385867623, 'decay': 9.058601066576066e-05, 'dropout_rate_in': 0.30000000000000004, 'dropout_rate_out': 0.2, 'momentum': 0.6000000000000001, 'padding': 'valid'}.\u001b[0m\n"
     ]
    },
    {
     "name": "stdout",
     "output_type": "stream",
     "text": [
      "15439/15439 [==============================] - 1s 91us/step\n",
      "15439/15439 [==============================] - 1s 90us/step\n",
      "1185/1185 [==============================] - 0s 86us/step\n",
      "1185/1185 [==============================] - 0s 92us/step\n",
      "647/647 [==============================] - 0s 85us/step\n",
      "647/647 [==============================] - 0s 97us/step\n",
      "647/647 [==============================] - 0s 83us/step\n",
      "647/647 [==============================] - 0s 107us/step\n",
      "510/510 [==============================] - 0s 97us/step\n",
      "510/510 [==============================] - 0s 64us/step\n",
      "1920/1920 [==============================] - 0s 84us/step\n",
      "1920/1920 [==============================] - 0s 90us/step\n",
      "753/753 [==============================] - 0s 71us/step\n",
      "753/753 [==============================] - 0s 83us/step\n",
      "874/874 [==============================] - 0s 98us/step\n",
      "874/874 [==============================] - 0s 89us/step\n",
      "2224/2224 [==============================] - 0s 95us/step\n",
      "2224/2224 [==============================] - 0s 98us/step\n",
      "1295/1295 [==============================] - 0s 101us/step\n",
      "1295/1295 [==============================] - 0s 97us/step\n"
     ]
    },
    {
     "name": "stderr",
     "output_type": "stream",
     "text": [
      "\u001b[32m[I 2020-11-06 21:30:53,709]\u001b[0m Finished trial#5 resulted in value: 2.5808865743466667. Current best value is 1.5031174395309044 with parameters: {'num_layer': 2, 'dense_num': 3, 'num_filter_0': 4.0, 'num_filter_1': 3.0, 'size_filter_0': 3.0, 'size_filter_1': 3.0, 'batch_size': 4, 'learning_rate': 0.004155726385867623, 'decay': 9.058601066576066e-05, 'dropout_rate_in': 0.30000000000000004, 'dropout_rate_out': 0.2, 'momentum': 0.6000000000000001, 'padding': 'valid'}.\u001b[0m\n",
      "\u001b[32m[I 2020-11-06 21:31:17,640]\u001b[0m Setting status of trial#6 as TrialState.PRUNED. Trial was pruned at epoch 1.\u001b[0m\n",
      "\u001b[32m[I 2020-11-06 21:31:21,280]\u001b[0m Setting status of trial#7 as TrialState.PRUNED. Trial was pruned at epoch 1.\u001b[0m\n"
     ]
    },
    {
     "name": "stdout",
     "output_type": "stream",
     "text": [
      "1776/1776 [==============================] - 0s 91us/step\n",
      "accuracy is 0.519707202911377\n",
      "outer_cv_5_processing....\n",
      "14000/14000 [==============================] - 1s 66us/step\n",
      "14000/14000 [==============================] - 1s 66us/step\n",
      "647/647 [==============================] - 0s 83us/step\n",
      "647/647 [==============================] - 0s 72us/step\n",
      "880/880 [==============================] - 0s 78us/step\n",
      "880/880 [==============================] - 0s 53us/step\n",
      "1905/1905 [==============================] - 0s 69us/step\n",
      "1905/1905 [==============================] - 0s 66us/step\n",
      "1770/1770 [==============================] - 0s 66us/step\n",
      "1770/1770 [==============================] - 0s 71us/step\n",
      "753/753 [==============================] - 0s 70us/step\n",
      "753/753 [==============================] - 0s 62us/step\n",
      "647/647 [==============================] - 0s 83us/step\n",
      "647/647 [==============================] - 0s 72us/step\n",
      "1295/1295 [==============================] - 0s 68us/step\n",
      "1295/1295 [==============================] - 0s 60us/step\n",
      "510/510 [==============================] - 0s 97us/step\n",
      "510/510 [==============================] - 0s 63us/step\n",
      "1185/1185 [==============================] - 0s 59us/step\n",
      "1185/1185 [==============================] - 0s 79us/step\n"
     ]
    },
    {
     "name": "stderr",
     "output_type": "stream",
     "text": [
      "\u001b[32m[I 2020-11-06 21:41:26,366]\u001b[0m Finished trial#0 resulted in value: 2.073679805911761. Current best value is 2.073679805911761 with parameters: {'num_layer': 1, 'dense_num': 5, 'num_filter_0': 5.0, 'size_filter_0': 5.0, 'batch_size': 3, 'learning_rate': 2.3897975131110203e-05, 'decay': 1.183956588309286e-05, 'dropout_rate_in': 0.5, 'dropout_rate_out': 0.1, 'momentum': 0.6000000000000001, 'padding': 'same'}.\u001b[0m\n"
     ]
    },
    {
     "name": "stdout",
     "output_type": "stream",
     "text": [
      "14000/14000 [==============================] - 1s 87us/step\n",
      "14000/14000 [==============================] - 1s 86us/step\n",
      "647/647 [==============================] - 0s 83us/step\n",
      "647/647 [==============================] - 0s 97us/step\n",
      "880/880 [==============================] - 0s 96us/step\n",
      "880/880 [==============================] - 0s 89us/step\n",
      "1905/1905 [==============================] - 0s 94us/step\n",
      "1905/1905 [==============================] - 0s 90us/step\n",
      "1770/1770 [==============================] - 0s 83us/step\n",
      "1770/1770 [==============================] - 0s 88us/step\n",
      "753/753 [==============================] - 0s 92us/step\n",
      "753/753 [==============================] - 0s 85us/step\n",
      "647/647 [==============================] - 0s 89us/step\n",
      "647/647 [==============================] - 0s 89us/step\n",
      "1295/1295 [==============================] - 0s 90us/step\n",
      "1295/1295 [==============================] - 0s 84us/step\n",
      "510/510 [==============================] - 0s 104us/step\n",
      "510/510 [==============================] - 0s 63us/step\n",
      "1185/1185 [==============================] - 0s 86us/step\n",
      "1185/1185 [==============================] - 0s 92us/step\n"
     ]
    },
    {
     "name": "stderr",
     "output_type": "stream",
     "text": [
      "\u001b[32m[I 2020-11-06 21:44:27,459]\u001b[0m Finished trial#1 resulted in value: 1.3990317430425747. Current best value is 1.3990317430425747 with parameters: {'num_layer': 2, 'dense_num': 3, 'num_filter_0': 3.0, 'num_filter_1': 3.0, 'size_filter_0': 5.0, 'size_filter_1': 3.0, 'batch_size': 5, 'learning_rate': 0.0027987098444770325, 'decay': 4.8567693096507546e-05, 'dropout_rate_in': 0.30000000000000004, 'dropout_rate_out': 0.1, 'momentum': 0.9, 'padding': 'valid'}.\u001b[0m\n"
     ]
    },
    {
     "name": "stdout",
     "output_type": "stream",
     "text": [
      "14000/14000 [==============================] - 1s 72us/step\n",
      "14000/14000 [==============================] - 1s 73us/step\n",
      "647/647 [==============================] - 0s 84us/step\n",
      "647/647 [==============================] - 0s 72us/step\n",
      "880/880 [==============================] - 0s 79us/step\n",
      "880/880 [==============================] - 0s 89us/step\n",
      "1905/1905 [==============================] - 0s 77us/step\n",
      "1905/1905 [==============================] - 0s 74us/step\n",
      "1770/1770 [==============================] - 0s 75us/step\n",
      "1770/1770 [==============================] - 0s 79us/step\n",
      "753/753 [==============================] - 0s 94us/step\n",
      "753/753 [==============================] - 0s 83us/step\n",
      "647/647 [==============================] - 0s 79us/step\n",
      "647/647 [==============================] - 0s 74us/step\n",
      "1295/1295 [==============================] - 0s 66us/step\n",
      "1295/1295 [==============================] - 0s 72us/step\n",
      "510/510 [==============================] - 0s 80us/step\n",
      "510/510 [==============================] - 0s 63us/step\n",
      "1185/1185 [==============================] - 0s 71us/step\n",
      "1185/1185 [==============================] - 0s 79us/step\n"
     ]
    },
    {
     "name": "stderr",
     "output_type": "stream",
     "text": [
      "\u001b[32m[I 2020-11-06 21:50:03,660]\u001b[0m Finished trial#2 resulted in value: 2.2083626895902784. Current best value is 1.3990317430425747 with parameters: {'num_layer': 2, 'dense_num': 3, 'num_filter_0': 3.0, 'num_filter_1': 3.0, 'size_filter_0': 5.0, 'size_filter_1': 3.0, 'batch_size': 5, 'learning_rate': 0.0027987098444770325, 'decay': 4.8567693096507546e-05, 'dropout_rate_in': 0.30000000000000004, 'dropout_rate_out': 0.1, 'momentum': 0.9, 'padding': 'valid'}.\u001b[0m\n"
     ]
    },
    {
     "name": "stdout",
     "output_type": "stream",
     "text": [
      "14000/14000 [==============================] - 1s 76us/step\n",
      "14000/14000 [==============================] - 1s 76us/step\n",
      "647/647 [==============================] - 0s 84us/step\n",
      "647/647 [==============================] - 0s 72us/step\n",
      "880/880 [==============================] - 0s 80us/step\n",
      "880/880 [==============================] - 0s 71us/step\n",
      "1905/1905 [==============================] - 0s 71us/step\n",
      "1905/1905 [==============================] - 0s 74us/step\n",
      "1770/1770 [==============================] - 0s 75us/step\n",
      "1770/1770 [==============================] - 0s 80us/step\n",
      "753/753 [==============================] - 0s 92us/step\n",
      "753/753 [==============================] - 0s 62us/step\n",
      "647/647 [==============================] - 0s 78us/step\n",
      "647/647 [==============================] - 0s 74us/step\n",
      "1295/1295 [==============================] - 0s 77us/step\n",
      "1295/1295 [==============================] - 0s 72us/step\n",
      "510/510 [==============================] - 0s 96us/step\n",
      "510/510 [==============================] - 0s 63us/step\n",
      "1185/1185 [==============================] - 0s 72us/step\n",
      "1185/1185 [==============================] - 0s 79us/step\n"
     ]
    },
    {
     "name": "stderr",
     "output_type": "stream",
     "text": [
      "\u001b[32m[I 2020-11-06 22:08:27,492]\u001b[0m Finished trial#3 resulted in value: 2.132954635172868. Current best value is 1.3990317430425747 with parameters: {'num_layer': 2, 'dense_num': 3, 'num_filter_0': 3.0, 'num_filter_1': 3.0, 'size_filter_0': 5.0, 'size_filter_1': 3.0, 'batch_size': 5, 'learning_rate': 0.0027987098444770325, 'decay': 4.8567693096507546e-05, 'dropout_rate_in': 0.30000000000000004, 'dropout_rate_out': 0.1, 'momentum': 0.9, 'padding': 'valid'}.\u001b[0m\n"
     ]
    },
    {
     "name": "stdout",
     "output_type": "stream",
     "text": [
      "14000/14000 [==============================] - 1s 78us/step\n",
      "14000/14000 [==============================] - 1s 77us/step\n",
      "647/647 [==============================] - 0s 92us/step\n",
      "647/647 [==============================] - 0s 74us/step\n",
      "880/880 [==============================] - 0s 79us/step\n",
      "880/880 [==============================] - 0s 71us/step\n",
      "1905/1905 [==============================] - 0s 79us/step\n",
      "1905/1905 [==============================] - 0s 82us/step\n",
      "1770/1770 [==============================] - 0s 75us/step\n",
      "1770/1770 [==============================] - 0s 85us/step\n",
      "753/753 [==============================] - 0s 72us/step\n",
      "753/753 [==============================] - 0s 83us/step\n",
      "647/647 [==============================] - 0s 84us/step\n",
      "647/647 [==============================] - 0s 72us/step\n",
      "1295/1295 [==============================] - 0s 90us/step\n",
      "1295/1295 [==============================] - 0s 84us/step\n",
      "510/510 [==============================] - 0s 100us/step\n",
      "510/510 [==============================] - 0s 63us/step\n",
      "1185/1185 [==============================] - 0s 85us/step\n",
      "1185/1185 [==============================] - 0s 79us/step\n"
     ]
    },
    {
     "name": "stderr",
     "output_type": "stream",
     "text": [
      "\u001b[32m[I 2020-11-06 22:52:53,800]\u001b[0m Finished trial#4 resulted in value: 1.3119462013750727. Current best value is 1.3119462013750727 with parameters: {'num_layer': 2, 'dense_num': 5, 'num_filter_0': 4.0, 'num_filter_1': 3.0, 'size_filter_0': 5.0, 'size_filter_1': 3.0, 'batch_size': 1, 'learning_rate': 0.00886778658510758, 'decay': 2.2608350121790424e-05, 'dropout_rate_in': 0.2, 'dropout_rate_out': 0.30000000000000004, 'momentum': 0.30000000000000004, 'padding': 'same'}.\u001b[0m\n"
     ]
    },
    {
     "name": "stdout",
     "output_type": "stream",
     "text": [
      "14000/14000 [==============================] - 1s 80us/step\n",
      "14000/14000 [==============================] - 1s 82us/step\n",
      "647/647 [==============================] - 0s 84us/step\n",
      "647/647 [==============================] - 0s 97us/step\n",
      "880/880 [==============================] - 0s 79us/step\n",
      "880/880 [==============================] - 0s 89us/step\n",
      "1905/1905 [==============================] - 0s 84us/step\n",
      "1905/1905 [==============================] - 0s 74us/step\n",
      "1770/1770 [==============================] - 0s 83us/step\n",
      "1770/1770 [==============================] - 0s 79us/step\n",
      "753/753 [==============================] - 0s 70us/step\n",
      "753/753 [==============================] - 0s 83us/step\n",
      "647/647 [==============================] - 0s 83us/step\n",
      "647/647 [==============================] - 0s 72us/step\n",
      "1295/1295 [==============================] - 0s 77us/step\n",
      "1295/1295 [==============================] - 0s 84us/step\n",
      "510/510 [==============================] - 0s 96us/step\n",
      "510/510 [==============================] - 0s 64us/step\n",
      "1185/1185 [==============================] - 0s 90us/step\n",
      "1185/1185 [==============================] - 0s 80us/step\n"
     ]
    },
    {
     "name": "stderr",
     "output_type": "stream",
     "text": [
      "\u001b[32m[I 2020-11-06 23:28:52,165]\u001b[0m Finished trial#5 resulted in value: 1.471226817620025. Current best value is 1.3119462013750727 with parameters: {'num_layer': 2, 'dense_num': 5, 'num_filter_0': 4.0, 'num_filter_1': 3.0, 'size_filter_0': 5.0, 'size_filter_1': 3.0, 'batch_size': 1, 'learning_rate': 0.00886778658510758, 'decay': 2.2608350121790424e-05, 'dropout_rate_in': 0.2, 'dropout_rate_out': 0.30000000000000004, 'momentum': 0.30000000000000004, 'padding': 'same'}.\u001b[0m\n",
      "\u001b[32m[I 2020-11-06 23:29:07,639]\u001b[0m Setting status of trial#6 as TrialState.PRUNED. Trial was pruned at epoch 1.\u001b[0m\n",
      "\u001b[32m[I 2020-11-06 23:29:47,928]\u001b[0m Setting status of trial#7 as TrialState.PRUNED. Trial was pruned at epoch 1.\u001b[0m\n"
     ]
    },
    {
     "name": "stdout",
     "output_type": "stream",
     "text": [
      "3678/3678 [==============================] - 0s 81us/step\n",
      "accuracy is 0.5258292555809021\n",
      "outer_cv_6_processing....\n",
      "13372/13372 [==============================] - 1s 79us/step\n",
      "13372/13372 [==============================] - 1s 79us/step\n",
      "753/753 [==============================] - 0s 71us/step\n",
      "753/753 [==============================] - 0s 83us/step\n",
      "679/679 [==============================] - 0s 81us/step\n",
      "679/679 [==============================] - 0s 92us/step\n",
      "2642/2642 [==============================] - 0s 80us/step\n",
      "2642/2642 [==============================] - 0s 77us/step\n",
      "1073/1073 [==============================] - 0s 80us/step\n",
      "1073/1073 [==============================] - 0s 73us/step\n",
      "511/511 [==============================] - 0s 95us/step\n",
      "511/511 [==============================] - 0s 63us/step\n",
      "1530/1530 [==============================] - 0s 86us/step\n",
      "1530/1530 [==============================] - 0s 71us/step\n",
      "1154/1154 [==============================] - 0s 87us/step\n",
      "1154/1154 [==============================] - 0s 74us/step\n",
      "647/647 [==============================] - 0s 84us/step\n",
      "647/647 [==============================] - 0s 97us/step\n",
      "3724/3724 [==============================] - 0s 78us/step\n",
      "3724/3724 [==============================] - 0s 80us/step\n"
     ]
    },
    {
     "name": "stderr",
     "output_type": "stream",
     "text": [
      "\u001b[32m[I 2020-11-07 00:26:46,041]\u001b[0m Finished trial#0 resulted in value: 2.1859322837596205. Current best value is 2.1859322837596205 with parameters: {'num_layer': 2, 'dense_num': 2, 'num_filter_0': 3.0, 'num_filter_1': 3.0, 'size_filter_0': 3.0, 'size_filter_1': 5.0, 'batch_size': 1, 'learning_rate': 1.684979386254068e-05, 'decay': 4.3626671351465724e-05, 'dropout_rate_in': 0.2, 'dropout_rate_out': 0.1, 'momentum': 0.7000000000000001, 'padding': 'same'}.\u001b[0m\n"
     ]
    },
    {
     "name": "stdout",
     "output_type": "stream",
     "text": [
      "13372/13372 [==============================] - 1s 81us/step\n",
      "13372/13372 [==============================] - 1s 81us/step\n",
      "753/753 [==============================] - 0s 91us/step\n",
      "753/753 [==============================] - 0s 83us/step\n",
      "679/679 [==============================] - 0s 78us/step\n",
      "679/679 [==============================] - 0s 92us/step\n",
      "2642/2642 [==============================] - 0s 86us/step\n",
      "2642/2642 [==============================] - 0s 79us/step\n",
      "1073/1073 [==============================] - 0s 94us/step\n",
      "1073/1073 [==============================] - 0s 87us/step\n",
      "511/511 [==============================] - 0s 101us/step\n",
      "511/511 [==============================] - 0s 63us/step\n",
      "1530/1530 [==============================] - 0s 75us/step\n",
      "1530/1530 [==============================] - 0s 71us/step\n",
      "1154/1154 [==============================] - 0s 86us/step\n",
      "1154/1154 [==============================] - 0s 94us/step\n",
      "647/647 [==============================] - 0s 85us/step\n",
      "647/647 [==============================] - 0s 97us/step\n",
      "3724/3724 [==============================] - 0s 79us/step\n",
      "3724/3724 [==============================] - 0s 80us/step\n"
     ]
    },
    {
     "name": "stderr",
     "output_type": "stream",
     "text": [
      "\u001b[32m[I 2020-11-07 01:10:13,481]\u001b[0m Finished trial#1 resulted in value: 1.34702592248884. Current best value is 1.34702592248884 with parameters: {'num_layer': 1, 'dense_num': 5, 'num_filter_0': 5.0, 'size_filter_0': 5.0, 'batch_size': 1, 'learning_rate': 0.002110521082628325, 'decay': 7.191834420667703e-06, 'dropout_rate_in': 0.4, 'dropout_rate_out': 0.0, 'momentum': 0.8, 'padding': 'valid'}.\u001b[0m\n"
     ]
    },
    {
     "name": "stdout",
     "output_type": "stream",
     "text": [
      "13372/13372 [==============================] - 1s 81us/step\n",
      "13372/13372 [==============================] - ETA:  - 1s 79us/step\n",
      "753/753 [==============================] - 0s 73us/step\n",
      "753/753 [==============================] - 0s 91us/step\n",
      "679/679 [==============================] - 0s 79us/step\n",
      "679/679 [==============================] - 0s 92us/step\n",
      "2642/2642 [==============================] - 0s 80us/step\n",
      "2642/2642 [==============================] - 0s 77us/step\n",
      "1073/1073 [==============================] - 0s 80us/step\n",
      "1073/1073 [==============================] - 0s 87us/step\n",
      "511/511 [==============================] - 0s 124us/step\n",
      "511/511 [==============================] - 0s 63us/step\n",
      "1530/1530 [==============================] - 0s 87us/step\n",
      "1530/1530 [==============================] - 0s 82us/step\n",
      "1154/1154 [==============================] - 0s 73us/step\n",
      "1154/1154 [==============================] - 0s 81us/step\n",
      "647/647 [==============================] - 0s 83us/step\n",
      "647/647 [==============================] - 0s 97us/step\n",
      "3724/3724 [==============================] - 0s 81us/step\n",
      "3724/3724 [==============================] - 0s 84us/step\n"
     ]
    },
    {
     "name": "stderr",
     "output_type": "stream",
     "text": [
      "\u001b[32m[I 2020-11-07 01:30:45,137]\u001b[0m Finished trial#2 resulted in value: 2.186992066865711. Current best value is 1.34702592248884 with parameters: {'num_layer': 1, 'dense_num': 5, 'num_filter_0': 5.0, 'size_filter_0': 5.0, 'batch_size': 1, 'learning_rate': 0.002110521082628325, 'decay': 7.191834420667703e-06, 'dropout_rate_in': 0.4, 'dropout_rate_out': 0.0, 'momentum': 0.8, 'padding': 'valid'}.\u001b[0m\n"
     ]
    },
    {
     "name": "stdout",
     "output_type": "stream",
     "text": [
      "13372/13372 [==============================] - 1s 71us/step\n",
      "13372/13372 [==============================] - 1s 71us/step\n",
      "753/753 [==============================] - 0s 73us/step\n",
      "753/753 [==============================] - 0s 62us/step\n",
      "679/679 [==============================] - 0s 79us/step\n",
      "679/679 [==============================] - 0s 69us/step\n",
      "2642/2642 [==============================] - 0s 74us/step\n",
      "2642/2642 [==============================] - 0s 71us/step\n",
      "1073/1073 [==============================] - 0s 79us/step\n",
      "1073/1073 [==============================] - 0s 64us/step\n",
      "511/511 [==============================] - 0s 81us/step\n",
      "511/511 [==============================] - 0s 64us/step\n",
      "1530/1530 [==============================] - 0s 66us/step\n",
      "1530/1530 [==============================] - 0s 71us/step\n",
      "1154/1154 [==============================] - 0s 74us/step\n",
      "1154/1154 [==============================] - 0s 68us/step\n",
      "647/647 [==============================] - 0s 82us/step\n",
      "647/647 [==============================] - 0s 72us/step\n",
      "3724/3724 [==============================] - 0s 73us/step\n",
      "3724/3724 [==============================] - 0s 71us/step\n"
     ]
    },
    {
     "name": "stderr",
     "output_type": "stream",
     "text": [
      "\u001b[32m[I 2020-11-07 01:37:10,672]\u001b[0m Finished trial#3 resulted in value: 1.3132447786456294. Current best value is 1.3132447786456294 with parameters: {'num_layer': 2, 'dense_num': 5, 'num_filter_0': 4.0, 'num_filter_1': 2.0, 'size_filter_0': 5.0, 'size_filter_1': 5.0, 'batch_size': 4, 'learning_rate': 0.00524837594424271, 'decay': 0.00044898598297620336, 'dropout_rate_in': 0.0, 'dropout_rate_out': 0.4, 'momentum': 0.8, 'padding': 'valid'}.\u001b[0m\n"
     ]
    },
    {
     "name": "stdout",
     "output_type": "stream",
     "text": [
      "13372/13372 [==============================] - 1s 67us/step\n",
      "13372/13372 [==============================] - 1s 67us/step\n",
      "753/753 [==============================] - 0s 73us/step\n",
      "753/753 [==============================] - 0s 62us/step\n",
      "679/679 [==============================] - 0s 72us/step\n",
      "679/679 [==============================] - 0s 47us/step\n",
      "2642/2642 [==============================] - 0s 67us/step\n",
      "2642/2642 [==============================] - 0s 71us/step\n",
      "1073/1073 [==============================] - 0s 66us/step\n",
      "1073/1073 [==============================] - 0s 58us/step\n",
      "511/511 [==============================] - 0s 75us/step\n",
      "511/511 [==============================] - 0s 63us/step\n",
      "1530/1530 [==============================] - 0s 67us/step\n",
      "1530/1530 [==============================] - 0s 61us/step\n",
      "1154/1154 [==============================] - 0s 73us/step\n",
      "1154/1154 [==============================] - 0s 68us/step\n",
      "647/647 [==============================] - 0s 74us/step\n",
      "647/647 [==============================] - 0s 49us/step\n",
      "3724/3724 [==============================] - 0s 69us/step\n",
      "3724/3724 [==============================] - 0s 67us/step\n"
     ]
    },
    {
     "name": "stderr",
     "output_type": "stream",
     "text": [
      "\u001b[32m[I 2020-11-07 01:42:42,017]\u001b[0m Finished trial#4 resulted in value: 1.7982302334496527. Current best value is 1.3132447786456294 with parameters: {'num_layer': 2, 'dense_num': 5, 'num_filter_0': 4.0, 'num_filter_1': 2.0, 'size_filter_0': 5.0, 'size_filter_1': 5.0, 'batch_size': 4, 'learning_rate': 0.00524837594424271, 'decay': 0.00044898598297620336, 'dropout_rate_in': 0.0, 'dropout_rate_out': 0.4, 'momentum': 0.8, 'padding': 'valid'}.\u001b[0m\n"
     ]
    },
    {
     "name": "stdout",
     "output_type": "stream",
     "text": [
      "13372/13372 [==============================] - 1s 64us/step\n",
      "13372/13372 [==============================] - 1s 64us/step\n",
      "753/753 [==============================] - 0s 67us/step\n",
      "753/753 [==============================] - 0s 65us/step\n",
      "679/679 [==============================] - 0s 71us/step\n",
      "679/679 [==============================] - 0s 48us/step\n",
      "2642/2642 [==============================] - 0s 68us/step\n",
      "2642/2642 [==============================] - 0s 65us/step\n",
      "1073/1073 [==============================] - 0s 65us/step\n",
      "1073/1073 [==============================] - 0s 58us/step\n",
      "511/511 [==============================] - 0s 70us/step\n",
      "511/511 [==============================] - 0s 63us/step\n",
      "1530/1530 [==============================] - 0s 68us/step\n",
      "1530/1530 [==============================] - 0s 61us/step\n",
      "1154/1154 [==============================] - 0s 67us/step\n",
      "1154/1154 [==============================] - 0s 55us/step\n",
      "647/647 [==============================] - 0s 70us/step\n",
      "647/647 [==============================] - 0s 50us/step\n",
      "3724/3724 [==============================] - 0s 66us/step\n",
      "3724/3724 [==============================] - 0s 63us/step\n"
     ]
    },
    {
     "name": "stderr",
     "output_type": "stream",
     "text": [
      "\u001b[32m[I 2020-11-07 01:45:38,457]\u001b[0m Finished trial#5 resulted in value: 2.0457180565223356. Current best value is 1.3132447786456294 with parameters: {'num_layer': 2, 'dense_num': 5, 'num_filter_0': 4.0, 'num_filter_1': 2.0, 'size_filter_0': 5.0, 'size_filter_1': 5.0, 'batch_size': 4, 'learning_rate': 0.00524837594424271, 'decay': 0.00044898598297620336, 'dropout_rate_in': 0.0, 'dropout_rate_out': 0.4, 'momentum': 0.8, 'padding': 'valid'}.\u001b[0m\n"
     ]
    },
    {
     "name": "stdout",
     "output_type": "stream",
     "text": [
      "13372/13372 [==============================] - 1s 84us/step\n",
      "13372/13372 [==============================] - 1s 81us/step\n",
      "753/753 [==============================] - 0s 114us/step\n",
      "753/753 [==============================] - 0s 63us/step\n",
      "679/679 [==============================] - 0s 100us/step\n",
      "679/679 [==============================] - 0s 69us/step\n",
      "2642/2642 [==============================] - 0s 91us/step\n",
      "2642/2642 [==============================] - 0s 83us/step\n",
      "1073/1073 [==============================] - 0s 95us/step\n",
      "1073/1073 [==============================] - 0s 87us/step\n",
      "511/511 [==============================] - 0s 135us/step\n",
      "511/511 [==============================] - 0s 61us/step\n",
      "1530/1530 [==============================] - 0s 97us/step\n",
      "1530/1530 [==============================] - 0s 82us/step\n",
      "1154/1154 [==============================] - 0s 88us/step\n",
      "1154/1154 [==============================] - 0s 81us/step\n",
      "647/647 [==============================] - 0s 81us/step\n",
      "647/647 [==============================] - 0s 97us/step\n",
      "3724/3724 [==============================] - 0s 86us/step\n",
      "3724/3724 [==============================] - 0s 84us/step\n"
     ]
    },
    {
     "name": "stderr",
     "output_type": "stream",
     "text": [
      "\u001b[32m[I 2020-11-07 02:11:41,039]\u001b[0m Finished trial#6 resulted in value: 1.5296961268424207. Current best value is 1.3132447786456294 with parameters: {'num_layer': 2, 'dense_num': 5, 'num_filter_0': 4.0, 'num_filter_1': 2.0, 'size_filter_0': 5.0, 'size_filter_1': 5.0, 'batch_size': 4, 'learning_rate': 0.00524837594424271, 'decay': 0.00044898598297620336, 'dropout_rate_in': 0.0, 'dropout_rate_out': 0.4, 'momentum': 0.8, 'padding': 'valid'}.\u001b[0m\n",
      "\u001b[32m[I 2020-11-07 02:12:08,348]\u001b[0m Setting status of trial#7 as TrialState.PRUNED. Trial was pruned at epoch 1.\u001b[0m\n"
     ]
    },
    {
     "name": "stdout",
     "output_type": "stream",
     "text": [
      "1185/1185 [==============================] - 0s 85us/step\n",
      "accuracy is 0.5814346075057983\n",
      "outer_cv_7_processing....\n",
      "3678/3678 [==============================] - 0s 70us/step\n",
      "3678/3678 [==============================] - 0s 68us/step\n",
      "659/659 [==============================] - 0s 80us/step\n",
      "659/659 [==============================] - 0s 71us/step\n",
      "753/753 [==============================] - 0s 71us/step\n",
      "753/753 [==============================] - 0s 68us/step\n",
      "1686/1686 [==============================] - 0s 69us/step\n",
      "1686/1686 [==============================] - 0s 65us/step\n",
      "1185/1185 [==============================] - 0s 65us/step\n",
      "1185/1185 [==============================] - 0s 66us/step\n",
      "1905/1905 [==============================] - 0s 69us/step\n",
      "1905/1905 [==============================] - 0s 74us/step\n",
      "954/954 [==============================] - 0s 56us/step\n",
      "954/954 [==============================] - 0s 82us/step\n",
      "511/511 [==============================] - 0s 84us/step\n",
      "511/511 [==============================] - 0s 65us/step\n",
      "1292/1292 [==============================] - 0s 77us/step\n",
      "1292/1292 [==============================] - 0s 60us/step\n",
      "14000/14000 [==============================] - 1s 68us/step\n",
      "14000/14000 [==============================] - 1s 69us/step\n"
     ]
    },
    {
     "name": "stderr",
     "output_type": "stream",
     "text": [
      "\u001b[32m[I 2020-11-07 02:52:50,934]\u001b[0m Finished trial#0 resulted in value: 2.277989580997823. Current best value is 2.277989580997823 with parameters: {'num_layer': 1, 'dense_num': 4, 'num_filter_0': 3.0, 'size_filter_0': 3.0, 'batch_size': 1, 'learning_rate': 2.730120649078025e-05, 'decay': 0.00041616534367700815, 'dropout_rate_in': 0.0, 'dropout_rate_out': 0.5, 'momentum': 0.0, 'padding': 'valid'}.\u001b[0m\n"
     ]
    },
    {
     "name": "stdout",
     "output_type": "stream",
     "text": [
      "3678/3678 [==============================] - 0s 77us/step\n",
      "3678/3678 [==============================] - 0s 81us/step\n",
      "659/659 [==============================] - 0s 82us/step\n",
      "659/659 [==============================] - 0s 71us/step\n",
      "753/753 [==============================] - 0s 73us/step\n",
      "753/753 [==============================] - 0s 83us/step\n",
      "1686/1686 [==============================] - 0s 87us/step\n",
      "1686/1686 [==============================] - 0s 74us/step\n",
      "1185/1185 [==============================] - 0s 72us/step\n",
      "1185/1185 [==============================] - 0s 92us/step\n",
      "1905/1905 [==============================] - 0s 77us/step\n",
      "1905/1905 [==============================] - 0s 82us/step\n",
      "954/954 [==============================] - 0s 73us/step\n",
      "954/954 [==============================] - 0s 82us/step\n",
      "511/511 [==============================] - 0s 82us/step\n",
      "511/511 [==============================] - 0s 64us/step\n",
      "1292/1292 [==============================] - 0s 91us/step\n",
      "1292/1292 [==============================] - 0s 73us/step\n",
      "14000/14000 [==============================] - 1s 80us/step\n",
      "14000/14000 [==============================] - 1s 80us/step\n"
     ]
    },
    {
     "name": "stderr",
     "output_type": "stream",
     "text": [
      "\u001b[32m[I 2020-11-07 02:56:00,549]\u001b[0m Finished trial#1 resulted in value: 2.1770059970871007. Current best value is 2.1770059970871007 with parameters: {'num_layer': 1, 'dense_num': 2, 'num_filter_0': 3.0, 'size_filter_0': 5.0, 'batch_size': 5, 'learning_rate': 0.00021471488523537742, 'decay': 0.00019850492769402255, 'dropout_rate_in': 0.30000000000000004, 'dropout_rate_out': 0.2, 'momentum': 0.6000000000000001, 'padding': 'same'}.\u001b[0m\n"
     ]
    },
    {
     "name": "stdout",
     "output_type": "stream",
     "text": [
      "3678/3678 [==============================] - 0s 70us/step\n",
      "3678/3678 [==============================] - 0s 70us/step\n",
      "659/659 [==============================] - 0s 95us/step\n",
      "659/659 [==============================] - 0s 71us/step\n",
      "753/753 [==============================] - 0s 70us/step\n",
      "753/753 [==============================] - 0s 62us/step\n",
      "1686/1686 [==============================] - 0s 83us/step\n",
      "1686/1686 [==============================] - 0s 75us/step\n",
      "1185/1185 [==============================] - 0s 72us/step\n",
      "1185/1185 [==============================] - 0s 79us/step\n",
      "1905/1905 [==============================] - 0s 77us/step\n",
      "1905/1905 [==============================] - 0s 78us/step\n",
      "954/954 [==============================] - 0s 91us/step\n",
      "954/954 [==============================] - 0s 98us/step\n",
      "511/511 [==============================] - 0s 76us/step\n",
      "511/511 [==============================] - 0s 63us/step\n",
      "1292/1292 [==============================] - 0s 68us/step\n",
      "1292/1292 [==============================] - 0s 73us/step\n",
      "14000/14000 [==============================] - 1s 70us/step\n",
      "14000/14000 [==============================] - 1s 71us/step\n"
     ]
    },
    {
     "name": "stderr",
     "output_type": "stream",
     "text": [
      "\u001b[32m[I 2020-11-07 03:14:31,440]\u001b[0m Finished trial#2 resulted in value: 2.214748642742365. Current best value is 2.1770059970871007 with parameters: {'num_layer': 1, 'dense_num': 2, 'num_filter_0': 3.0, 'size_filter_0': 5.0, 'batch_size': 5, 'learning_rate': 0.00021471488523537742, 'decay': 0.00019850492769402255, 'dropout_rate_in': 0.30000000000000004, 'dropout_rate_out': 0.2, 'momentum': 0.6000000000000001, 'padding': 'same'}.\u001b[0m\n"
     ]
    },
    {
     "name": "stdout",
     "output_type": "stream",
     "text": [
      "3678/3678 [==============================] - 0s 65us/step\n",
      "3678/3678 [==============================] - 0s 64us/step\n",
      "659/659 [==============================] - 0s 69us/step\n",
      "659/659 [==============================] - 0s 48us/step\n",
      "753/753 [==============================] - 0s 70us/step\n",
      "753/753 [==============================] - 0s 62us/step\n",
      "1686/1686 [==============================] - 0s 69us/step\n",
      "1686/1686 [==============================] - 0s 65us/step\n",
      "1185/1185 [==============================] - 0s 66us/step\n",
      "1185/1185 [==============================] - 0s 66us/step\n",
      "1905/1905 [==============================] - 0s 69us/step\n",
      "1905/1905 [==============================] - 0s 69us/step\n",
      "954/954 [==============================] - 0s 74us/step\n",
      "954/954 [==============================] - 0s 70us/step\n",
      "511/511 [==============================] - 0s 86us/step\n",
      "511/511 [==============================] - 0s 63us/step\n",
      "1292/1292 [==============================] - 0s 66us/step\n",
      "1292/1292 [==============================] - 0s 60us/step\n",
      "14000/14000 [==============================] - 1s 67us/step\n",
      "14000/14000 [==============================] - 1s 64us/step\n"
     ]
    },
    {
     "name": "stderr",
     "output_type": "stream",
     "text": [
      "\u001b[32m[I 2020-11-07 03:17:18,321]\u001b[0m Finished trial#3 resulted in value: 1.5018434320459289. Current best value is 1.5018434320459289 with parameters: {'num_layer': 1, 'dense_num': 5, 'num_filter_0': 4.0, 'size_filter_0': 5.0, 'batch_size': 5, 'learning_rate': 0.003992513835775626, 'decay': 1.7151123580572783e-05, 'dropout_rate_in': 0.2, 'dropout_rate_out': 0.4, 'momentum': 0.30000000000000004, 'padding': 'same'}.\u001b[0m\n"
     ]
    },
    {
     "name": "stdout",
     "output_type": "stream",
     "text": [
      "3678/3678 [==============================] - 0s 78us/step\n",
      "3678/3678 [==============================] - 0s 72us/step\n",
      "659/659 [==============================] - 0s 84us/step\n",
      "659/659 [==============================] - 0s 71us/step\n",
      "753/753 [==============================] - 0s 92us/step\n",
      "753/753 [==============================] - 0s 62us/step\n",
      "1686/1686 [==============================] - 0s 69us/step\n",
      "1686/1686 [==============================] - 0s 74us/step\n",
      "1185/1185 [==============================] - 0s 86us/step\n",
      "1185/1185 [==============================] - 0s 66us/step\n",
      "1905/1905 [==============================] - 0s 69us/step\n",
      "1905/1905 [==============================] - 0s 70us/step\n",
      "954/954 [==============================] - 0s 88us/step\n",
      "954/954 [==============================] - 0s 66us/step\n",
      "511/511 [==============================] - 0s 104us/step\n",
      "511/511 [==============================] - 0s 64us/step\n",
      "1292/1292 [==============================] - 0s 79us/step\n",
      "1292/1292 [==============================] - 0s 73us/step\n",
      "14000/14000 [==============================] - 1s 73us/step\n",
      "14000/14000 [==============================] - 1s 72us/step\n"
     ]
    },
    {
     "name": "stderr",
     "output_type": "stream",
     "text": [
      "\u001b[32m[I 2020-11-07 03:20:44,059]\u001b[0m Finished trial#4 resulted in value: 2.1258634096447855. Current best value is 1.5018434320459289 with parameters: {'num_layer': 1, 'dense_num': 5, 'num_filter_0': 4.0, 'size_filter_0': 5.0, 'batch_size': 5, 'learning_rate': 0.003992513835775626, 'decay': 1.7151123580572783e-05, 'dropout_rate_in': 0.2, 'dropout_rate_out': 0.4, 'momentum': 0.30000000000000004, 'padding': 'same'}.\u001b[0m\n"
     ]
    },
    {
     "name": "stdout",
     "output_type": "stream",
     "text": [
      "3678/3678 [==============================] - 0s 67us/step\n",
      "3678/3678 [==============================] - 0s 72us/step\n",
      "659/659 [==============================] - 0s 80us/step\n",
      "659/659 [==============================] - 0s 71us/step\n",
      "753/753 [==============================] - 0s 68us/step\n",
      "753/753 [==============================] - 0s 63us/step\n",
      "1686/1686 [==============================] - 0s 68us/step\n",
      "1686/1686 [==============================] - 0s 70us/step\n",
      "1185/1185 [==============================] - 0s 71us/step\n",
      "1185/1185 [==============================] - 0s 66us/step\n",
      "1905/1905 [==============================] - 0s 69us/step\n",
      "1905/1905 [==============================] - 0s 66us/step\n",
      "954/954 [==============================] - 0s 74us/step\n",
      "954/954 [==============================] - 0s 65us/step\n",
      "511/511 [==============================] - 0s 99us/step\n",
      "511/511 [==============================] - 0s 63us/step\n",
      "1292/1292 [==============================] - 0s 66us/step\n",
      "1292/1292 [==============================] - 0s 76us/step\n",
      "14000/14000 [==============================] - 1s 68us/step\n",
      "14000/14000 [==============================] - 1s 69us/step\n"
     ]
    },
    {
     "name": "stderr",
     "output_type": "stream",
     "text": [
      "\u001b[32m[I 2020-11-07 03:59:16,992]\u001b[0m Finished trial#5 resulted in value: 1.8143662690231885. Current best value is 1.5018434320459289 with parameters: {'num_layer': 1, 'dense_num': 5, 'num_filter_0': 4.0, 'size_filter_0': 5.0, 'batch_size': 5, 'learning_rate': 0.003992513835775626, 'decay': 1.7151123580572783e-05, 'dropout_rate_in': 0.2, 'dropout_rate_out': 0.4, 'momentum': 0.30000000000000004, 'padding': 'same'}.\u001b[0m\n",
      "\u001b[32m[I 2020-11-07 03:59:37,112]\u001b[0m Setting status of trial#6 as TrialState.PRUNED. Trial was pruned at epoch 1.\u001b[0m\n"
     ]
    },
    {
     "name": "stdout",
     "output_type": "stream",
     "text": [
      "3678/3678 [==============================] - 0s 74us/step\n",
      "3678/3678 [==============================] - 0s 72us/step\n",
      "659/659 [==============================] - 0s 74us/step\n",
      "659/659 [==============================] - 0s 72us/step\n",
      "753/753 [==============================] - 0s 72us/step\n",
      "753/753 [==============================] - 0s 83us/step\n",
      "1686/1686 [==============================] - 0s 78us/step\n",
      "1686/1686 [==============================] - 0s 74us/step\n",
      "1185/1185 [==============================] - 0s 85us/step\n",
      "1185/1185 [==============================] - 0s 79us/step\n",
      "1905/1905 [==============================] - 0s 78us/step\n",
      "1905/1905 [==============================] - 0s 74us/step\n",
      "954/954 [==============================] - 0s 74us/step\n",
      "954/954 [==============================] - 0s 82us/step\n",
      "511/511 [==============================] - 0s 93us/step\n",
      "511/511 [==============================] - 0s 63us/step\n",
      "1292/1292 [==============================] - 0s 79us/step\n",
      "1292/1292 [==============================] - 0s 73us/step\n",
      "14000/14000 [==============================] - 1s 72us/step\n",
      "14000/14000 [==============================] - 1s 73us/step\n"
     ]
    },
    {
     "name": "stderr",
     "output_type": "stream",
     "text": [
      "\u001b[32m[I 2020-11-07 04:39:08,288]\u001b[0m Finished trial#7 resulted in value: 1.5080550980483902. Current best value is 1.5018434320459289 with parameters: {'num_layer': 1, 'dense_num': 5, 'num_filter_0': 4.0, 'size_filter_0': 5.0, 'batch_size': 5, 'learning_rate': 0.003992513835775626, 'decay': 1.7151123580572783e-05, 'dropout_rate_in': 0.2, 'dropout_rate_out': 0.4, 'momentum': 0.30000000000000004, 'padding': 'same'}.\u001b[0m\n"
     ]
    },
    {
     "name": "stdout",
     "output_type": "stream",
     "text": [
      "647/647 [==============================] - 0s 83us/step\n",
      "accuracy is 0.4358578026294708\n",
      "outer_cv_8_processing....\n",
      "13992/13992 [==============================] - 1s 81us/step\n",
      "13992/13992 [==============================] - 1s 77us/step\n",
      "898/898 [==============================] - 0s 79us/step\n",
      "898/898 [==============================] - 0s 87us/step\n",
      "1129/1129 [==============================] - 0s 76us/step\n",
      "1129/1129 [==============================] - 0s 83us/step\n",
      "647/647 [==============================] - 0s 82us/step\n",
      "647/647 [==============================] - 0s 97us/step\n",
      "985/985 [==============================] - 0s 102us/step\n",
      "985/985 [==============================] - 0s 79us/step\n",
      "1776/1776 [==============================] - 0s 83us/step\n",
      "1776/1776 [==============================] - 0s 79us/step\n",
      "723/723 [==============================] - 0s 75us/step\n",
      "723/723 [==============================] - 0s 86us/step\n",
      "1241/1241 [==============================] - 0s 82us/step\n",
      "1241/1241 [==============================] - 0s 76us/step\n",
      "1295/1295 [==============================] - 0s 78us/step\n",
      "1295/1295 [==============================] - 0s 84us/step\n",
      "3682/3682 [==============================] - 0s 78us/step\n",
      "3682/3682 [==============================] - 0s 76us/step\n"
     ]
    },
    {
     "name": "stderr",
     "output_type": "stream",
     "text": [
      "\u001b[32m[I 2020-11-07 04:59:07,859]\u001b[0m Finished trial#0 resulted in value: 1.6447635612624993. Current best value is 1.6447635612624993 with parameters: {'num_layer': 1, 'dense_num': 2, 'num_filter_0': 2.0, 'size_filter_0': 3.0, 'batch_size': 2, 'learning_rate': 0.0025266456615921982, 'decay': 2.066247279777316e-05, 'dropout_rate_in': 0.30000000000000004, 'dropout_rate_out': 0.1, 'momentum': 0.1, 'padding': 'same'}.\u001b[0m\n"
     ]
    },
    {
     "name": "stdout",
     "output_type": "stream",
     "text": [
      "13992/13992 [==============================] - 1s 76us/step\n",
      "13992/13992 [==============================] - 1s 75us/step\n",
      "898/898 [==============================] - 0s 76us/step\n",
      "898/898 [==============================] - 0s 87us/step\n",
      "1129/1129 [==============================] - 0s 76us/step\n",
      "1129/1129 [==============================] - 0s 69us/step\n",
      "647/647 [==============================] - 0s 83us/step\n",
      "647/647 [==============================] - 0s 72us/step\n",
      "985/985 [==============================] - 0s 77us/step\n",
      "985/985 [==============================] - 0s 77us/step\n",
      "1776/1776 [==============================] - 0s 83us/step\n",
      "1776/1776 [==============================] - 0s 70us/step\n",
      "723/723 [==============================] - 0s 73us/step\n",
      "723/723 [==============================] - 0s 86us/step\n",
      "1241/1241 [==============================] - 0s 69us/step\n",
      "1241/1241 [==============================] - 0s 88us/step\n",
      "1295/1295 [==============================] - 0s 77us/step\n",
      "1295/1295 [==============================] - 0s 82us/step\n",
      "3682/3682 [==============================] - 0s 76us/step\n",
      "3682/3682 [==============================] - 0s 76us/step\n"
     ]
    },
    {
     "name": "stderr",
     "output_type": "stream",
     "text": [
      "\u001b[32m[I 2020-11-07 05:20:19,625]\u001b[0m Finished trial#1 resulted in value: 1.4955585948271861. Current best value is 1.4955585948271861 with parameters: {'num_layer': 1, 'dense_num': 3, 'num_filter_0': 3.0, 'size_filter_0': 5.0, 'batch_size': 2, 'learning_rate': 0.0038996117665095476, 'decay': 7.416482259603978e-05, 'dropout_rate_in': 0.1, 'dropout_rate_out': 0.1, 'momentum': 0.7000000000000001, 'padding': 'same'}.\u001b[0m\n"
     ]
    },
    {
     "name": "stdout",
     "output_type": "stream",
     "text": [
      "13992/13992 [==============================] - 1s 81us/step\n",
      "13992/13992 [==============================] - 1s 80us/step\n",
      "898/898 [==============================] - 0s 87us/step\n",
      "898/898 [==============================] - 0s 71us/step\n",
      "1129/1129 [==============================] - 0s 76us/step\n",
      "1129/1129 [==============================] - 0s 97us/step\n",
      "647/647 [==============================] - 0s 84us/step\n",
      "647/647 [==============================] - 0s 97us/step\n",
      "985/985 [==============================] - 0s 109us/step\n",
      "985/985 [==============================] - 0s 80us/step\n",
      "1776/1776 [==============================] - 0s 84us/step\n",
      "1776/1776 [==============================] - 0s 79us/step\n",
      "723/723 [==============================] - 0s 105us/step\n",
      "723/723 [==============================] - 0s 78us/step\n",
      "1241/1241 [==============================] - 0s 81us/step\n",
      "1241/1241 [==============================] - 0s 76us/step\n",
      "1295/1295 [==============================] - 0s 91us/step\n",
      "1295/1295 [==============================] - 0s 84us/step\n",
      "3682/3682 [==============================] - 0s 83us/step\n",
      "3682/3682 [==============================] - 0s 85us/step\n"
     ]
    },
    {
     "name": "stderr",
     "output_type": "stream",
     "text": [
      "\u001b[32m[I 2020-11-07 05:32:50,068]\u001b[0m Finished trial#2 resulted in value: 1.3811597363460986. Current best value is 1.3811597363460986 with parameters: {'num_layer': 2, 'dense_num': 4, 'num_filter_0': 4.0, 'num_filter_1': 3.0, 'size_filter_0': 3.0, 'size_filter_1': 5.0, 'batch_size': 3, 'learning_rate': 0.002144064993428869, 'decay': 1.1146068381858637e-05, 'dropout_rate_in': 0.30000000000000004, 'dropout_rate_out': 0.0, 'momentum': 0.8, 'padding': 'same'}.\u001b[0m\n"
     ]
    },
    {
     "name": "stdout",
     "output_type": "stream",
     "text": [
      "13992/13992 [==============================] - 1s 93us/step\n",
      "13992/13992 [==============================] - 1s 93us/step\n",
      "898/898 [==============================] - 0s 97us/step\n",
      "898/898 [==============================] - 0s 104us/step\n",
      "1129/1129 [==============================] - 0s 89us/step\n",
      "1129/1129 [==============================] - 0s 97us/step\n",
      "647/647 [==============================] - 0s 97us/step\n",
      "647/647 [==============================] - 0s 94us/step\n",
      "985/985 [==============================] - 0s 87us/step\n",
      "985/985 [==============================] - 0s 95us/step\n",
      "1776/1776 [==============================] - 0s 94us/step\n",
      "1776/1776 [==============================] - 0s 89us/step\n",
      "723/723 [==============================] - 0s 98us/step\n",
      "723/723 [==============================] - 0s 108us/step\n",
      "1241/1241 [==============================] - 0s 93us/step\n",
      "1241/1241 [==============================] - 0s 101us/step\n",
      "1295/1295 [==============================] - 0s 102us/step\n",
      "1295/1295 [==============================] - 0s 97us/step\n",
      "3682/3682 [==============================] - 0s 91us/step\n",
      "3682/3682 [==============================] - 0s 93us/step\n"
     ]
    },
    {
     "name": "stderr",
     "output_type": "stream",
     "text": [
      "\u001b[32m[I 2020-11-07 05:57:27,866]\u001b[0m Finished trial#3 resulted in value: 1.8450409808329489. Current best value is 1.3811597363460986 with parameters: {'num_layer': 2, 'dense_num': 4, 'num_filter_0': 4.0, 'num_filter_1': 3.0, 'size_filter_0': 3.0, 'size_filter_1': 5.0, 'batch_size': 3, 'learning_rate': 0.002144064993428869, 'decay': 1.1146068381858637e-05, 'dropout_rate_in': 0.30000000000000004, 'dropout_rate_out': 0.0, 'momentum': 0.8, 'padding': 'same'}.\u001b[0m\n"
     ]
    },
    {
     "name": "stdout",
     "output_type": "stream",
     "text": [
      "13992/13992 [==============================] - 1s 80us/step\n",
      "13992/13992 [==============================] - 1s 79us/step\n",
      "898/898 [==============================] - 0s 85us/step\n",
      "898/898 [==============================] - 0s 70us/step\n",
      "1129/1129 [==============================] - 0s 89us/step\n",
      "1129/1129 [==============================] - 0s 83us/step\n",
      "647/647 [==============================] - 0s 84us/step\n",
      "647/647 [==============================] - 0s 72us/step\n",
      "985/985 [==============================] - 0s 103us/step\n",
      "985/985 [==============================] - 0s 79us/step\n",
      "1776/1776 [==============================] - 0s 83us/step\n",
      "1776/1776 [==============================] - 0s 88us/step\n",
      "723/723 [==============================] - 0s 96us/step\n",
      "723/723 [==============================] - 0s 86us/step\n",
      "1241/1241 [==============================] - 0s 81us/step\n",
      "1241/1241 [==============================] - 0s 76us/step\n",
      "1295/1295 [==============================] - 0s 79us/step\n",
      "1295/1295 [==============================] - 0s 72us/step\n",
      "3682/3682 [==============================] - 0s 85us/step\n",
      "3682/3682 [==============================] - 0s 77us/step\n"
     ]
    },
    {
     "name": "stderr",
     "output_type": "stream",
     "text": [
      "\u001b[32m[I 2020-11-07 06:09:10,557]\u001b[0m Finished trial#4 resulted in value: 2.2932916608758873. Current best value is 1.3811597363460986 with parameters: {'num_layer': 2, 'dense_num': 4, 'num_filter_0': 4.0, 'num_filter_1': 3.0, 'size_filter_0': 3.0, 'size_filter_1': 5.0, 'batch_size': 3, 'learning_rate': 0.002144064993428869, 'decay': 1.1146068381858637e-05, 'dropout_rate_in': 0.30000000000000004, 'dropout_rate_out': 0.0, 'momentum': 0.8, 'padding': 'same'}.\u001b[0m\n",
      "\u001b[32m[I 2020-11-07 06:09:17,917]\u001b[0m Setting status of trial#5 as TrialState.PRUNED. Trial was pruned at epoch 1.\u001b[0m\n",
      "\u001b[32m[I 2020-11-07 06:09:21,950]\u001b[0m Setting status of trial#6 as TrialState.PRUNED. Trial was pruned at epoch 1.\u001b[0m\n"
     ]
    },
    {
     "name": "stdout",
     "output_type": "stream",
     "text": [
      "13992/13992 [==============================] - 1s 61us/step\n",
      "13992/13992 [==============================] - 1s 61us/step\n",
      "898/898 [==============================] - 0s 61us/step\n",
      "898/898 [==============================] - 0s 70us/step\n",
      "1129/1129 [==============================] - 0s 71us/step\n",
      "1129/1129 [==============================] - 0s 60us/step\n",
      "647/647 [==============================] - 0s 68us/step\n",
      "647/647 [==============================] - 0s 51us/step\n",
      "985/985 [==============================] - 0s 55us/step\n",
      "985/985 [==============================] - 0s 74us/step\n",
      "1776/1776 [==============================] - 0s 66us/step\n",
      "1776/1776 [==============================] - 0s 62us/step\n",
      "723/723 [==============================] - 0s 66us/step\n",
      "723/723 [==============================] - 0s 45us/step\n",
      "1241/1241 [==============================] - 0s 56us/step\n",
      "1241/1241 [==============================] - 0s 63us/step\n",
      "1295/1295 [==============================] - 0s 53us/step\n",
      "1295/1295 [==============================] - 0s 72us/step\n",
      "3682/3682 [==============================] - 0s 61us/step\n",
      "3682/3682 [==============================] - 0s 59us/step\n"
     ]
    },
    {
     "name": "stderr",
     "output_type": "stream",
     "text": [
      "\u001b[32m[I 2020-11-07 06:12:03,239]\u001b[0m Finished trial#7 resulted in value: 1.5639221945208148. Current best value is 1.3811597363460986 with parameters: {'num_layer': 2, 'dense_num': 4, 'num_filter_0': 4.0, 'num_filter_1': 3.0, 'size_filter_0': 3.0, 'size_filter_1': 5.0, 'batch_size': 3, 'learning_rate': 0.002144064993428869, 'decay': 1.1146068381858637e-05, 'dropout_rate_in': 0.30000000000000004, 'dropout_rate_out': 0.0, 'momentum': 0.8, 'padding': 'same'}.\u001b[0m\n"
     ]
    },
    {
     "name": "stdout",
     "output_type": "stream",
     "text": [
      "902/902 [==============================] - 0s 77us/step\n",
      "accuracy is 0.5266075134277344\n",
      "outer_cv_9_processing....\n",
      "954/954 [==============================] - 0s 106us/step\n",
      "954/954 [==============================] - 0s 82us/step\n",
      "1185/1185 [==============================] - 0s 98us/step\n",
      "1185/1185 [==============================] - 0s 92us/step\n",
      "753/753 [==============================] - 0s 112us/step\n",
      "753/753 [==============================] - 0s 83us/step\n",
      "3676/3676 [==============================] - 0s 92us/step\n",
      "3676/3676 [==============================] - 0s 83us/step\n",
      "511/511 [==============================] - 0s 109us/step\n",
      "511/511 [==============================] - 0s 92us/step\n",
      "1289/1289 [==============================] - 0s 90us/step\n",
      "1289/1289 [==============================] - 0s 90us/step\n",
      "1686/1686 [==============================] - 0s 97us/step\n",
      "1686/1686 [==============================] - 0s 93us/step\n",
      "659/659 [==============================] - 0s 108us/step\n",
      "659/659 [==============================] - 0s 95us/step\n",
      "647/647 [==============================] - 0s 82us/step\n",
      "647/647 [==============================] - 0s 97us/step\n",
      "1907/1907 [==============================] - 0s 86us/step\n",
      "1907/1907 [==============================] - 0s 90us/step\n"
     ]
    },
    {
     "name": "stderr",
     "output_type": "stream",
     "text": [
      "\u001b[32m[I 2020-11-07 06:19:25,293]\u001b[0m Finished trial#0 resulted in value: 1.9043660704420542. Current best value is 1.9043660704420542 with parameters: {'num_layer': 2, 'dense_num': 4, 'num_filter_0': 5.0, 'num_filter_1': 2.0, 'size_filter_0': 3.0, 'size_filter_1': 3.0, 'batch_size': 3, 'learning_rate': 0.000700632074429699, 'decay': 0.00023565840348890507, 'dropout_rate_in': 0.30000000000000004, 'dropout_rate_out': 0.1, 'momentum': 0.2, 'padding': 'valid'}.\u001b[0m\n"
     ]
    },
    {
     "name": "stdout",
     "output_type": "stream",
     "text": [
      "954/954 [==============================] - 0s 72us/step\n",
      "954/954 [==============================] - 0s 82us/step\n",
      "1185/1185 [==============================] - 0s 71us/step\n",
      "1185/1185 [==============================] - 0s 79us/step\n",
      "753/753 [==============================] - 0s 61us/step\n",
      "753/753 [==============================] - 0s 87us/step\n",
      "3676/3676 [==============================] - 0s 75us/step\n",
      "3676/3676 [==============================] - 0s 81us/step\n",
      "511/511 [==============================] - 0s 86us/step\n",
      "511/511 [==============================] - 0s 64us/step\n",
      "1289/1289 [==============================] - 0s 78us/step\n",
      "1289/1289 [==============================] - 0s 73us/step\n",
      "1686/1686 [==============================] - 0s 79us/step\n",
      "1686/1686 [==============================] - 0s 79us/step\n",
      "659/659 [==============================] - 0s 74us/step\n",
      "659/659 [==============================] - 0s 72us/step\n",
      "647/647 [==============================] - 0s 80us/step\n",
      "647/647 [==============================] - 0s 59us/step\n",
      "1907/1907 [==============================] - 0s 77us/step\n",
      "1907/1907 [==============================] - 0s 83us/step\n"
     ]
    },
    {
     "name": "stderr",
     "output_type": "stream",
     "text": [
      "\u001b[32m[I 2020-11-07 06:20:49,401]\u001b[0m Finished trial#1 resulted in value: 2.315819041757911. Current best value is 1.9043660704420542 with parameters: {'num_layer': 2, 'dense_num': 4, 'num_filter_0': 5.0, 'num_filter_1': 2.0, 'size_filter_0': 3.0, 'size_filter_1': 3.0, 'batch_size': 3, 'learning_rate': 0.000700632074429699, 'decay': 0.00023565840348890507, 'dropout_rate_in': 0.30000000000000004, 'dropout_rate_out': 0.1, 'momentum': 0.2, 'padding': 'valid'}.\u001b[0m\n"
     ]
    },
    {
     "name": "stdout",
     "output_type": "stream",
     "text": [
      "954/954 [==============================] - 0s 73us/step\n",
      "954/954 [==============================] - 0s 66us/step\n",
      "1185/1185 [==============================] - 0s 59us/step\n",
      "1185/1185 [==============================] - 0s 66us/step\n",
      "753/753 [==============================] - 0s 67us/step\n",
      "753/753 [==============================] - 0s 43us/step\n",
      "3676/3676 [==============================] - 0s 61us/step\n",
      "3676/3676 [==============================] - 0s 64us/step\n",
      "511/511 [==============================] - 0s 67us/step\n",
      "511/511 [==============================] - 0s 32us/step\n",
      "1289/1289 [==============================] - 0s 54us/step\n",
      "1289/1289 [==============================] - 0s 65us/step\n",
      "1686/1686 [==============================] - 0s 69us/step\n",
      "1686/1686 [==============================] - 0s 65us/step\n",
      "659/659 [==============================] - 0s 67us/step\n",
      "659/659 [==============================] - 0s 49us/step\n",
      "647/647 [==============================] - 0s 67us/step\n",
      "647/647 [==============================] - 0s 49us/step\n",
      "1907/1907 [==============================] - 0s 61us/step\n",
      "1907/1907 [==============================] - 0s 66us/step\n"
     ]
    },
    {
     "name": "stderr",
     "output_type": "stream",
     "text": [
      "\u001b[32m[I 2020-11-07 06:23:45,664]\u001b[0m Finished trial#2 resulted in value: 1.419956616110009. Current best value is 1.419956616110009 with parameters: {'num_layer': 1, 'dense_num': 4, 'num_filter_0': 3.0, 'size_filter_0': 5.0, 'batch_size': 4, 'learning_rate': 0.007284527195709515, 'decay': 0.0005726595798920819, 'dropout_rate_in': 0.30000000000000004, 'dropout_rate_out': 0.0, 'momentum': 0.8, 'padding': 'same'}.\u001b[0m\n"
     ]
    },
    {
     "name": "stdout",
     "output_type": "stream",
     "text": [
      "954/954 [==============================] - 0s 123us/step\n",
      "954/954 [==============================] - 0s 93us/step\n",
      "1185/1185 [==============================] - 0s 86us/step\n",
      "1185/1185 [==============================] - 0s 102us/step\n",
      "753/753 [==============================] - 0s 93us/step\n",
      "753/753 [==============================] - 0s 83us/step\n",
      "3676/3676 [==============================] - 0s 95us/step\n",
      "3676/3676 [==============================] - 0s 100us/step\n",
      "511/511 [==============================] - 0s 130us/step\n",
      "511/511 [==============================] - 0s 93us/step\n",
      "1289/1289 [==============================] - 0s 102us/step\n",
      "1289/1289 [==============================] - 0s 85us/step\n",
      "1686/1686 [==============================] - 0s 96us/step\n",
      "1686/1686 [==============================] - 0s 93us/step\n",
      "659/659 [==============================] - 0s 106us/step\n",
      "659/659 [==============================] - 0s 95us/step\n",
      "647/647 [==============================] - 0s 109us/step\n",
      "647/647 [==============================] - 0s 72us/step\n",
      "1907/1907 [==============================] - 0s 94us/step\n",
      "1907/1907 [==============================] - 0s 102us/step\n"
     ]
    },
    {
     "name": "stderr",
     "output_type": "stream",
     "text": [
      "\u001b[32m[I 2020-11-07 06:36:47,477]\u001b[0m Finished trial#3 resulted in value: 2.1915645933492343. Current best value is 1.419956616110009 with parameters: {'num_layer': 1, 'dense_num': 4, 'num_filter_0': 3.0, 'size_filter_0': 5.0, 'batch_size': 4, 'learning_rate': 0.007284527195709515, 'decay': 0.0005726595798920819, 'dropout_rate_in': 0.30000000000000004, 'dropout_rate_out': 0.0, 'momentum': 0.8, 'padding': 'same'}.\u001b[0m\n"
     ]
    },
    {
     "name": "stdout",
     "output_type": "stream",
     "text": [
      "954/954 [==============================] - 0s 106us/step\n",
      "954/954 [==============================] - 0s 77us/step\n",
      "1185/1185 [==============================] - 0s 99us/step\n",
      "1185/1185 [==============================] - 0s 92us/step\n",
      "753/753 [==============================] - 0s 112us/step\n",
      "753/753 [==============================] - 0s 83us/step\n",
      "3676/3676 [==============================] - 0s 88us/step\n",
      "3676/3676 [==============================] - 0s 89us/step\n",
      "511/511 [==============================] - 0s 118us/step\n",
      "511/511 [==============================] - 0s 64us/step\n",
      "1289/1289 [==============================] - 0s 109us/step\n",
      "1289/1289 [==============================] - 0s 85us/step\n",
      "1686/1686 [==============================] - 0s 97us/step\n",
      "1686/1686 [==============================] - 0s 93us/step\n",
      "659/659 [==============================] - 0s 104us/step\n",
      "659/659 [==============================] - 0s 95us/step\n",
      "647/647 [==============================] - 0s 82us/step\n",
      "647/647 [==============================] - 0s 97us/step\n",
      "1907/1907 [==============================] - 0s 86us/step\n",
      "1907/1907 [==============================] - 0s 90us/step\n"
     ]
    },
    {
     "name": "stderr",
     "output_type": "stream",
     "text": [
      "\u001b[32m[I 2020-11-07 06:49:52,182]\u001b[0m Finished trial#4 resulted in value: 1.5016157323077255. Current best value is 1.419956616110009 with parameters: {'num_layer': 1, 'dense_num': 4, 'num_filter_0': 3.0, 'size_filter_0': 5.0, 'batch_size': 4, 'learning_rate': 0.007284527195709515, 'decay': 0.0005726595798920819, 'dropout_rate_in': 0.30000000000000004, 'dropout_rate_out': 0.0, 'momentum': 0.8, 'padding': 'same'}.\u001b[0m\n",
      "\u001b[32m[I 2020-11-07 06:49:55,362]\u001b[0m Setting status of trial#5 as TrialState.PRUNED. Trial was pruned at epoch 1.\u001b[0m\n",
      "\u001b[32m[I 2020-11-07 06:50:11,647]\u001b[0m Setting status of trial#6 as TrialState.PRUNED. Trial was pruned at epoch 1.\u001b[0m\n"
     ]
    },
    {
     "name": "stdout",
     "output_type": "stream",
     "text": [
      "954/954 [==============================] - 0s 105us/step\n",
      "954/954 [==============================] - 0s 82us/step\n",
      "1185/1185 [==============================] - 0s 72us/step\n",
      "1185/1185 [==============================] - 0s 79us/step\n",
      "753/753 [==============================] - 0s 92us/step\n",
      "753/753 [==============================] - 0s 83us/step\n",
      "3676/3676 [==============================] - 0s 80us/step\n",
      "3676/3676 [==============================] - 0s 72us/step\n",
      "511/511 [==============================] - 0s 130us/step\n",
      "511/511 [==============================] - 0s 63us/step\n",
      "1289/1289 [==============================] - 0s 90us/step\n",
      "1289/1289 [==============================] - 0s 73us/step\n",
      "1686/1686 [==============================] - 0s 87us/step\n",
      "1686/1686 [==============================] - 0s 83us/step\n",
      "659/659 [==============================] - 0s 104us/step\n",
      "659/659 [==============================] - 0s 95us/step\n",
      "647/647 [==============================] - 0s 83us/step\n",
      "647/647 [==============================] - 0s 72us/step\n",
      "1907/1907 [==============================] - 0s 78us/step\n",
      "1907/1907 [==============================] - 0s 74us/step\n"
     ]
    },
    {
     "name": "stderr",
     "output_type": "stream",
     "text": [
      "\u001b[32m[I 2020-11-07 07:02:38,106]\u001b[0m Finished trial#7 resulted in value: 1.2434505551158135. Current best value is 1.2434505551158135 with parameters: {'num_layer': 2, 'dense_num': 4, 'num_filter_0': 5.0, 'num_filter_1': 5.0, 'size_filter_0': 5.0, 'size_filter_1': 5.0, 'batch_size': 2, 'learning_rate': 0.006804176434086311, 'decay': 9.071463253404074e-05, 'dropout_rate_in': 0.4, 'dropout_rate_out': 0.5, 'momentum': 0.1, 'padding': 'valid'}.\u001b[0m\n"
     ]
    },
    {
     "name": "stdout",
     "output_type": "stream",
     "text": [
      "14003/14003 [==============================] - 1s 89us/step\n",
      "accuracy is 0.4224094748497009\n"
     ]
    },
    {
     "data": {
      "image/png": "[encoded data removed]",
      "text/plain": [
       "<Figure size 432x288 with 1 Axes>"
      ]
     },
     "metadata": {
      "needs_background": "light"
     },
     "output_type": "display_data"
    }
   ],
   "source": [
    "timename       = '{0:%Y_%m%d_%H%M}'.format(datetime.datetime.now())\n",
    "time_path      =  os.path.join(result_path, timename, \"outer_cv_times\")\n",
    "# dir generation\n",
    "dir_generator(result_path)\n",
    "# Chenge current directry\n",
    "os.mkdir(os.path.join(result_path, timename))\n",
    "os.chdir(os.path.join(result_path, timename))\n",
    "dir_generator(model_path)\n",
    "dir_generator(\"./results/\")\n",
    "dir_generator(\"./img_loss/\")\n",
    "dir_generator(\"./model/\")\n",
    "dir_generator(\"./weights/\")\n",
    "dir_generator(\"./logs/\")\n",
    "dir_generator(\"./outer_cv_times/\")\n",
    "\n",
    "\n",
    "# Saving region_separate_map\n",
    "region_image_generator(point, region)\n",
    "train_start = datetime.datetime.now()\n",
    "# Train Model ----------------------------------\n",
    "# CV start ------------------------------------------------------------\n",
    "for outer_cv in range(cvs):\n",
    "    outer_start = datetime.datetime.now()\n",
    "    print(f'outer_cv_{outer_cv}_processing....')\n",
    "    # Data Loader-------------------------------------\n",
    "    train_files, val_files, X_outer_train, X_outer_val, Y_outer_train, Y_outer_val, val_train_region, val_train_point = data_splitter_cv(X_files, X_train, Y_train, outer_cv, region_train, train_point)\n",
    "    train_datagen = ImageDataGenerator(\n",
    "#         rotation_range = 360,\n",
    "        horizontal_flip = True,\n",
    "        vertical_flip = True\n",
    "    )\n",
    "    val_train_region = KMeans(n_clusters = cvs, random_state=SEED).fit(val_train_point).labels_\n",
    "    # Bayesian optimization -------------------------------------\n",
    "    study = optuna.create_study()\n",
    "    study.optimize(opt_cnn, n_trials = ntrials)\n",
    "    # Best_model_training ---------------------------------------\n",
    "    num_filters = [int(study.best_params[f'num_filter_{i}']) for i in range(int(study.best_params['num_layer']))]\n",
    "    size_filters = [int(study.best_params[f'size_filter_{i}']) for i in range(int(study.best_params['num_layer']))]\n",
    "    model = create_model(image_shape, int(study.best_params['num_layer']), study.best_params['padding'], int(study.best_params['dense_num']), num_filters, size_filters, study.best_params['dropout_rate_in'], study.best_params['dropout_rate_out'])\n",
    "    sgd = optimizers.SGD(lr = study.best_params['learning_rate'], decay = study.best_params['decay'], momentum = study.best_params['momentum'], nesterov = True, clipvalue = 1.0)\n",
    "    model.compile(optimizer = sgd, loss = 'sparse_categorical_crossentropy', metrics=['accuracy'])\n",
    "    history = model.fit(\n",
    "        train_datagen.flow(X_outer_train, Y_outer_train, batch_size = 2**int(study.best_params['batch_size']) * gpus),\n",
    "        epochs = train_epochs,\n",
    "        validation_data = (X_outer_val, Y_outer_val),\n",
    "        shuffle = True,\n",
    "        verbose = 0,\n",
    "        use_multiprocessing = False\n",
    "        )\n",
    "    try:\n",
    "        best_params.append(study.best_params)\n",
    "    except:\n",
    "        best_params = [study.best_params]\n",
    "    try:\n",
    "        val_pred_files = np.concatenate((val_pred_files, val_files), axis=0)\n",
    "    except:\n",
    "        val_pred_files = val_files\n",
    "    try:\n",
    "        Y_val_pred = np.concatenate((Y_val_pred, model.predict(X_outer_val).argmax(axis=1)), axis=0)\n",
    "    except:\n",
    "        Y_val_pred = np.array(model.predict(X_outer_val).argmax(axis=1))\n",
    "    try:\n",
    "        Y_val_obs = np.concatenate((Y_val_obs, Y_outer_val), axis=0)\n",
    "    except:\n",
    "        Y_val_obs = Y_outer_val\n",
    "    try:\n",
    "        Y_val_smx = np.concatenate((Y_val_smx, model.predict(X_outer_val)),axis=0)\n",
    "    except:\n",
    "        Y_val_smx = model.predict(X_outer_val)\n",
    "    cv_result_imgs_generator(model, history)\n",
    "    print(\"accuracy is\", model.evaluate(X_outer_val, Y_outer_val)[1])\n",
    "    #compare_TV(history, outer_cv)\n",
    "    del model\n",
    "    keras.backend.clear_session()\n",
    "    gc.collect()\n",
    "    \n",
    "    outer_end = datetime.datetime.now()\n",
    "    spend_time = f\"Outer_cv time is {outer_end - outer_start} seconds.\"\n",
    "    pkl_saver(spend_time, os.path.join(time_path, f\"outer_cv_{outer_cv}_time.txt\"))\n",
    "\n",
    "train_end = datetime.datetime.now()\n",
    "spend_time = f\"Outer_cv time is {train_end - train_start} seconds.\"\n",
    "pkl_saver(spend_time, os.path.join(time_path, \"all_time.txt\"))"
   ]
  },
  {
   "cell_type": "code",
   "execution_count": 4,
   "metadata": {},
   "outputs": [],
   "source": [
    "# from sklearn.metrics import classification_report\n",
    "# results = pd.read_csv(r\"C:\\Users\\GE\\Dropbox\\Kairo\\under90_results\\11x11\\2020_1031_1800\\results\\results.csv\")\n",
    "# Y_val_obs = results[\"obs\"]\n",
    "# Y_val_pred = results[\"pred\"]\n",
    "\n",
    "# labels = ['Water', 'Urban and built-up', 'Rice paddy',  'Crops', 'Grassland', 'DBF', 'DNF', 'EBF', 'ENF', 'Bare land']\n",
    "# res_smr = classification_report(list(Y_val_obs), list(Y_val_pred), target_names = labels, labels = np.array(range(len(labels))))\n",
    "# with open(os.path.join(result_path, 'result_summary.txt'),'w') as f:\n",
    "#     f.write(res_smr)\n"
   ]
  },
  {
   "cell_type": "code",
   "execution_count": 29,
   "metadata": {},
   "outputs": [
    {
     "name": "stdout",
     "output_type": "stream",
     "text": [
      "Epoch 1/32\n",
      "3409/3409 [==============================] - 20s 6ms/step - loss: 1.9257\n",
      "Epoch 2/32\n",
      "3409/3409 [==============================] - 20s 6ms/step - loss: 1.6480\n",
      "Epoch 3/32\n",
      "3409/3409 [==============================] - 20s 6ms/step - loss: 1.5556\n",
      "Epoch 4/32\n",
      "3409/3409 [==============================] - 19s 6ms/step - loss: 1.5208\n",
      "Epoch 5/32\n",
      "3409/3409 [==============================] - 19s 6ms/step - loss: 1.4981\n",
      "Epoch 6/32\n",
      "3409/3409 [==============================] - 19s 6ms/step - loss: 1.4852\n",
      "Epoch 7/32\n",
      "3409/3409 [==============================] - 19s 6ms/step - loss: 1.4730\n",
      "Epoch 8/32\n",
      "3409/3409 [==============================] - 19s 6ms/step - loss: 1.4630\n",
      "Epoch 9/32\n",
      "3409/3409 [==============================] - 19s 5ms/step - loss: 1.4514\n",
      "Epoch 10/32\n",
      "3409/3409 [==============================] - 18s 5ms/step - loss: 1.4506\n",
      "Epoch 11/32\n",
      "3409/3409 [==============================] - 19s 6ms/step - loss: 1.4427\n",
      "Epoch 12/32\n",
      "3409/3409 [==============================] - 17s 5ms/step - loss: 1.4425\n",
      "Epoch 13/32\n",
      "3409/3409 [==============================] - 18s 5ms/step - loss: 1.4357\n",
      "Epoch 14/32\n",
      "3409/3409 [==============================] - 18s 5ms/step - loss: 1.4365\n",
      "Epoch 15/32\n",
      "3409/3409 [==============================] - 19s 5ms/step - loss: 1.4280\n",
      "Epoch 16/32\n",
      "3409/3409 [==============================] - 19s 6ms/step - loss: 1.4229\n",
      "Epoch 17/32\n",
      "3409/3409 [==============================] - 19s 6ms/step - loss: 1.4234\n",
      "Epoch 18/32\n",
      "3409/3409 [==============================] - 19s 6ms/step - loss: 1.4234\n",
      "Epoch 19/32\n",
      "3409/3409 [==============================] - 19s 6ms/step - loss: 1.4200\n",
      "Epoch 20/32\n",
      "3409/3409 [==============================] - 19s 6ms/step - loss: 1.4188\n",
      "Epoch 21/32\n",
      "3409/3409 [==============================] - 20s 6ms/step - loss: 1.4117\n",
      "Epoch 22/32\n",
      "3409/3409 [==============================] - 19s 6ms/step - loss: 1.4152\n",
      "Epoch 23/32\n",
      "3409/3409 [==============================] - 19s 6ms/step - loss: 1.4126\n",
      "Epoch 24/32\n",
      "3409/3409 [==============================] - 19s 6ms/step - loss: 1.4090\n",
      "Epoch 25/32\n",
      "3409/3409 [==============================] - 19s 6ms/step - loss: 1.4061\n",
      "Epoch 26/32\n",
      "3409/3409 [==============================] - 19s 6ms/step - loss: 1.4046\n",
      "Epoch 27/32\n",
      "3409/3409 [==============================] - 19s 6ms/step - loss: 1.4063\n",
      "Epoch 28/32\n",
      "3409/3409 [==============================] - 19s 6ms/step - loss: 1.4051\n",
      "Epoch 29/32\n",
      "3409/3409 [==============================] - 19s 6ms/step - loss: 1.4061\n",
      "Epoch 30/32\n",
      "3409/3409 [==============================] - 19s 6ms/step - loss: 1.4003\n",
      "Epoch 31/32\n",
      "3409/3409 [==============================] - 20s 6ms/step - loss: 1.4060\n",
      "Epoch 32/32\n",
      "3409/3409 [==============================] - 19s 6ms/step - loss: 1.4000\n"
     ]
    }
   ],
   "source": [
    "# Save CV_Result -------------------------------------------------\n",
    "# generalization_result_imgs_generator('val', Y_val_pred, Y_val_obs)\n",
    "np.savetxt('Y_val_smx.txt', Y_val_smx)\n",
    "param_names = best_params[list(map(len, best_params)).index(max(list(map(len, best_params))))].keys()\n",
    "best_params_dict = mean_params_calc(param_names)\n",
    "pkl_saver(best_params, 'best_params_list.binaryfile')\n",
    "pkl_saver(best_params_dict, 'best_params.binaryfile')\n",
    "best_params_dict = pkl_loader('best_params.binaryfile')\n",
    "\n",
    "# Save CV_Result to csv -------------------------------------------------\n",
    "results = [val_pred_files, Y_val_obs, Y_val_pred, Y_val_smx]\n",
    "pkl_saver(results, './results/results.pkl')\n",
    "results_csv = np.concatenate([pd.DataFrame(val_pred_files),pd.DataFrame(Y_val_obs), pd.DataFrame(Y_val_pred), pd.DataFrame(Y_val_smx)], 1)\n",
    "results_csv = pd.DataFrame(results_csv)\n",
    "columns = [\"name\", \"obs\", \"pred\", 'Water', 'Urban and built-up', 'Rice paddy',  'Crops', 'Grassland', 'DBF', 'DNF', 'EBF', 'ENF', 'Bare land']\n",
    "results_csv.columns=columns\n",
    "results_csv.to_csv('./results/results_val.csv')\n",
    "labels = ['Water', 'Urban and built-up', 'Rice paddy',  'Crops', 'Grassland', 'DBF', 'DNF', 'EBF', 'ENF', 'Bare land']\n",
    "cf_metr = confusion_matrix(Y_val_obs.astype(int), Y_val_pred)\n",
    "cf_metr = pd.DataFrame(cf_metr)\n",
    "cf_metr.columns=labels\n",
    "cf_metr.index=labels\n",
    "cf_metr.to_csv(\"./results/confusion_matrix_val.csv\")\n",
    "\n",
    "res_smr = classification_report(list(results_csv['obs'].astype(int)), list(results_csv['pred']), target_names = labels, labels = np.array(range(len(labels))))\n",
    "with open('./results/result_summary_val.txt','w') as f:\n",
    "    f.write(res_smr)\n",
    "\n",
    "# Best Model Training -----------------------------------------------\n",
    "# Int parameter\n",
    "num_layer = int(best_params_dict['num_layer'])\n",
    "num_filters = [int(best_params_dict['num_filter_' + str(i)]) for i in range(num_layer)]\n",
    "size_filters = [int(best_params_dict['size_filter_' + str(i)]) for i in range(num_layer)]\n",
    "dense_num = int(best_params_dict['dense_num'])\n",
    "batch_size = int(best_params_dict['batch_size'])\n",
    "# Uniform parameter\n",
    "# Loguniform parameter\n",
    "lr = best_params_dict['learning_rate']\n",
    "decay = best_params_dict['decay']\n",
    "# Discrete-uniform parameter\n",
    "dropout_rate_in = best_params_dict['dropout_rate_in']\n",
    "dropout_rate_out = best_params_dict['dropout_rate_out']\n",
    "momentum = best_params_dict['momentum']\n",
    "# Categorical parameter\n",
    "padding = best_params_dict['padding']\n",
    "\n",
    "\n",
    "# Model Checkpoint ------------------\n",
    "cp_cb = ModelCheckpoint(\n",
    "    './weights/best_weights.hdf5',\n",
    "    monitor = 'val_loss',\n",
    "    verbose = 1,\n",
    "    save_best_only = True,\n",
    "    save_weights_only = True,\n",
    "    mode = 'auto')\n",
    "# Logging ----------------------------------------\n",
    "log_dir = os.path.join('./logs/')\n",
    "tb_cb = TensorBoard(log_dir=log_dir, histogram_freq=1, write_graph=True)\n",
    "es_cb = EarlyStopping(monitor = 'val_loss', patience = int(best_epochs/10), verbose = 1)\n",
    "\n",
    "cbs = [cp_cb, tb_cb, es_cb]\n",
    "# Train Best_Model ----------------------------------\n",
    "# For CPU run ------------------\n",
    "best_model = create_model(image_shape, num_layer, padding, dense_num, num_filters, size_filters, dropout_rate_in, dropout_rate_out)\n",
    "sgd = optimizers.SGD(lr = lr, decay = decay, momentum = momentum, nesterov = True, clipvalue = 1.0)\n",
    "\n",
    "best_model.compile(optimizer = sgd, loss = 'sparse_categorical_crossentropy')\n",
    "hist = best_model.fit(\n",
    "    train_datagen.flow(X_train, Y_train, batch_size = (2**batch_size) * gpus),\n",
    "    epochs = best_epochs,\n",
    "    callbacks = cbs,\n",
    "    shuffle = True,\n",
    "    verbose = 1,\n",
    "    initial_epoch = 0,\n",
    "    use_multiprocessing = False)\n",
    "\n",
    "# Save Model -----------------------------------\n",
    "best_model.save('./model/best_model.hdf5')"
   ]
  },
  {
   "cell_type": "code",
   "execution_count": 59,
   "metadata": {
    "scrolled": true
   },
   "outputs": [
    {
     "name": "stdout",
     "output_type": "stream",
     "text": [
      "finished...\n"
     ]
    }
   ],
   "source": [
    "\n",
    "# ロードだけでも動くように変数の再定義=============================================\n",
    "# ==============================================================================\n",
    "# ==============================================================================\n",
    "# ==============================================================================\n",
    "# ==============================================================================\n",
    "# Data Loader ------------------------------\n",
    "best_model = load_model(\"./model/best_model.hdf5\")\n",
    "df = pkl_loader(os.path.join(data_path, f'df_{N}x{N}.pkl'))\n",
    "# Data converter ----------------------------------------------\n",
    "filenames, X, Y, point, region = df[0], df[1], df[2], df[3], df[4]\n",
    "image_shape = (X.shape[1], X.shape[2], X.shape[3])\n",
    "num_category = len(np.unique(Y))\n",
    "# Data splitting ----------------------------------------------\n",
    "X_train_mean_lis = []\n",
    "X_train_std_lis = []\n",
    "X_files, Y_files, X_train, X_test, Y_train, Y_test, region_train, _, train_point, _ = train_test_split(filenames, X, Y, region, point, test_size=0.2, random_state=SEED)\n",
    "\n",
    "for i in range(X_train.shape[3]):\n",
    "    X_train_mean_lis.append(X_train[:,:,:,i].mean())\n",
    "    X_train_std_lis.append(X_train[:,:,:,i].std())\n",
    "    X_train[:,:,:,i] = (X_train[:,:,:,i] - X_train_mean_lis[i])/X_train_std_lis[i]\n",
    "    X_test[:,:,:,i] = (X_test[:,:,:,i] - X_train_mean_lis[i])/X_train_std_lis[i]\n",
    "# ==============================================================================\n",
    "# ==============================================================================\n",
    "# ==============================================================================\n",
    "# ==============================================================================\n",
    "\n",
    "\n",
    "Y_test_pred = [ np.array(best_model.predict(X_test).argmax(axis=1))]\n",
    "np.savetxt('y_test_pred.txt', Y_test_pred)\n",
    "with open(\"best_model_summary.txt\", \"w\") as fp:\n",
    "    best_model.summary(print_fn=lambda x: fp.write(x + \"\\r\\n\"))\n",
    "\n",
    "    \n",
    "results = [Y_files, Y_test, Y_test_pred]\n",
    "pkl_saver(results, './results/results.pkl')\n",
    "results_csv = np.concatenate([pd.DataFrame(Y_files),pd.DataFrame(Y_test), pd.DataFrame(Y_test_pred[0])], 1)\n",
    "results_csv = pd.DataFrame(results_csv)\n",
    "columns = [\"name\", \"obs\", \"pred\"]\n",
    "results_csv.columns=columns\n",
    "results_csv.to_csv('./results/results_test.csv')\n",
    "labels = ['Water', 'Urban and built-up', 'Rice paddy',  'Crops', 'Grassland', 'DBF', 'DNF', 'EBF', 'ENF', 'Bare land']\n",
    "cf_metr = confusion_matrix(Y_test.astype(int), Y_test_pred[0])\n",
    "cf_metr = pd.DataFrame(cf_metr)\n",
    "cf_metr.columns=labels\n",
    "cf_metr.index=labels\n",
    "cf_metr.to_csv(\"./results/confusion_matrix_test.csv\")\n",
    "test_smr = classification_report(list(np.array(Y_test).astype(int)), list(Y_test_pred[0].astype(int)), target_names = labels, labels = np.array(range(len(labels))))\n",
    "with open('./results/result_summary_test.txt','w') as f:\n",
    "    f.write(test_smr)\n",
    "    \n",
    "print('finished...')"
   ]
  },
  {
   "cell_type": "code",
   "execution_count": 32,
   "metadata": {},
   "outputs": [
    {
     "data": {
      "text/plain": [
       "0.5425344675858023"
      ]
     },
     "execution_count": 32,
     "metadata": {},
     "output_type": "execute_result"
    }
   ],
   "source": [
    "(np.array(Y_test_pred).astype(int) == Y_test.astype(int)).sum() / len(Y_test)"
   ]
  },
  {
   "cell_type": "code",
   "execution_count": null,
   "metadata": {},
   "outputs": [],
   "source": []
  }
 ],
 "metadata": {
  "kernelspec": {
   "display_name": "Python 3",
   "language": "python",
   "name": "python3"
  },
  "language_info": {
   "codemirror_mode": {
    "name": "ipython",
    "version": 3
   },
   "file_extension": ".py",
   "mimetype": "text/x-python",
   "name": "python",
   "nbconvert_exporter": "python",
   "pygments_lexer": "ipython3",
   "version": "3.7.9"
  }
 },
 "nbformat": 4,
 "nbformat_minor": 4
}
