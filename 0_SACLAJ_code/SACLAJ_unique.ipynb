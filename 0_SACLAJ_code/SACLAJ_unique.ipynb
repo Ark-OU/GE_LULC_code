{
 "cells": [
  {
   "cell_type": "code",
   "execution_count": 10,
   "metadata": {},
   "outputs": [
    {
     "name": "stdout",
     "output_type": "stream",
     "text": [
      "['urban and built-up' 'dbf' 'water area' 'rice' 'grasslands' 'enf'\n",
      " 'croplands' 'barren' 'dnf' 'ebf']\n",
      "['Urban and built-up' 'DBF' 'Water' 'Rice paddy' 'Grassland' 'ENF' 'Crops'\n",
      " 'Bare land' 'DNF' 'EBF']\n"
     ]
    },
    {
     "name": "stderr",
     "output_type": "stream",
     "text": [
      "c:\\users\\ge\\anaconda3\\envs\\lulc\\lib\\site-packages\\ipykernel_launcher.py:38: SettingWithCopyWarning: \n",
      "A value is trying to be set on a copy of a slice from a DataFrame\n",
      "\n",
      "See the caveats in the documentation: https://pandas.pydata.org/pandas-docs/stable/user_guide/indexing.html#returning-a-view-versus-a-copy\n",
      "c:\\users\\ge\\anaconda3\\envs\\lulc\\lib\\site-packages\\ipykernel_launcher.py:39: SettingWithCopyWarning: \n",
      "A value is trying to be set on a copy of a slice from a DataFrame\n",
      "\n",
      "See the caveats in the documentation: https://pandas.pydata.org/pandas-docs/stable/user_guide/indexing.html#returning-a-view-versus-a-copy\n",
      "c:\\users\\ge\\anaconda3\\envs\\lulc\\lib\\site-packages\\ipykernel_launcher.py:40: SettingWithCopyWarning: \n",
      "A value is trying to be set on a copy of a slice from a DataFrame\n",
      "\n",
      "See the caveats in the documentation: https://pandas.pydata.org/pandas-docs/stable/user_guide/indexing.html#returning-a-view-versus-a-copy\n",
      "c:\\users\\ge\\anaconda3\\envs\\lulc\\lib\\site-packages\\ipykernel_launcher.py:63: SettingWithCopyWarning: \n",
      "A value is trying to be set on a copy of a slice from a DataFrame\n",
      "\n",
      "See the caveats in the documentation: https://pandas.pydata.org/pandas-docs/stable/user_guide/indexing.html#returning-a-view-versus-a-copy\n"
     ]
    }
   ],
   "source": [
    "import numpy as np\n",
    "import pandas as pd\n",
    "import datetime\n",
    "\n",
    "input_path = r\"E:\\LULC\\raw_data\\0_groundtruth\\SACLAJ_handcleand.csv\"\n",
    "output_path = r\"E:\\LULC\\raw_data\\0_groundtruth\\SACLAJ_2014_2016_catclearned.csv\"\n",
    "\n",
    "data = pd.read_csv(input_path, encoding='cp932')\n",
    "\n",
    "datetime = pd.to_datetime(data[\"photo_date\"], format='%Y:%m:%d %H:%M:%S')\n",
    "\n",
    "for i in range(len(datetime)):\n",
    "    datetime[i] = str(datetime[i].year) +\"-\" + str(datetime[i].month) + \"-\" + str(datetime[i].day)\n",
    "    \n",
    "data.drop(['photo_date', 'file_name', 'category_master', 'category_details',\n",
    "           'diameter', 'photographer_lat', 'photographer_lon', 'sgli_lat', 'sgli_lon',\n",
    "           'note', 'created_at', 'updated_at', 'nickname', 'Unnamed: 17'], axis=1, inplace=True)\n",
    "\n",
    "use_lis = [0,1,4,5,6,8,11,15,16,18,31,33]\n",
    "sum = 0\n",
    "for i in use_lis:\n",
    "    category = data[\"category\"].unique()[i]\n",
    "#     print(category, (data[\"category\"]==category).sum())\n",
    "    sum += (data[\"category\"]==category).sum()\n",
    "    \n",
    "categories = data[\"category\"].unique()\n",
    "use_categories = []\n",
    "for i in use_lis:\n",
    "    use_categories.append(categories[i])\n",
    "    \n",
    "drop_categories = ['herbs', 'broadleaf forests', 'bamboo', 'needleleaf forests', 'mixed forests',\n",
    "                     'vegetation', 'orchard',  'forest', 'lands', 'wetlands', 'non-vegetation', 'open shrublands',\n",
    "                     'snow and ice', 'shrublands', 'closed shrublands', 'pasture', 'savannas', 'wood lands', 'evergreen forests',\n",
    "                     'deciduous forests', 'aquaculture']\n",
    "for category in drop_categories:\n",
    "    data.drop(data[\"category\"][data[\"category\"] == category].index, inplace=True)\n",
    "\n",
    "data[\"category\"][data[\"category\"] == \"other crop\"] = \"croplands\"\n",
    "data[\"category\"][data[\"category\"] == 'ebf/plantation'] = 'ebf'\n",
    "data[\"category\"][data[\"category\"] == 'dbf/plantation'] = 'dbf'\n",
    "\n",
    "lat = [20.4253, 45.5572]\n",
    "lon = [122.9325, 153.9867]\n",
    "\n",
    "# print(data[data[\"target_lat\"] < lat[0]])\n",
    "# print(\"================================\")\n",
    "# print(data[data[\"target_lat\"] > lat[1]])\n",
    "# print(\"================================\")\n",
    "# print(data[data[\"target_lon\"] < lon[0]])\n",
    "# print(\"================================\")\n",
    "# print(data[data[\"target_lon\"] > lon[1]])\n",
    "\n",
    "data.drop(data[data[\"target_lat\"] < lat[0]].index, inplace=True)\n",
    "data.drop(data[data[\"target_lat\"] > lat[1]].index, inplace=True)                     \n",
    "data.drop(data[data[\"target_lon\"] < lon[0]].index, inplace=True)\n",
    "data.drop(data[data[\"target_lon\"] > lon[1]].index, inplace=True)\n",
    "\n",
    "data.dropna(inplace=True)\n",
    "print(data[\"category\"].unique())\n",
    "cat_adv_list = [\"Urban and built-up\", \"DBF\", \"Water\", \"Rice paddy\", \"Grassland\", \"ENF\", \"Crops\", \"Bare land\", \"DNF\", \"EBF\"]\n",
    "\n",
    "for i,cat in enumerate(data[\"category\"].unique()) :\n",
    "    data[\"category\"][data[\"category\"] == cat] = cat_adv_list[i]\n",
    "\n",
    "print(data[\"category\"].unique())"
   ]
  },
  {
   "cell_type": "code",
   "execution_count": 11,
   "metadata": {},
   "outputs": [],
   "source": [
    "data = data.sort_values(\"id\")\n",
    "data.to_csv(output_path, index=False)"
   ]
  },
  {
   "cell_type": "code",
   "execution_count": null,
   "metadata": {},
   "outputs": [],
   "source": []
  }
 ],
 "metadata": {
  "kernelspec": {
   "display_name": "Python 3",
   "language": "python",
   "name": "python3"
  },
  "language_info": {
   "codemirror_mode": {
    "name": "ipython",
    "version": 3
   },
   "file_extension": ".py",
   "mimetype": "text/x-python",
   "name": "python",
   "nbconvert_exporter": "python",
   "pygments_lexer": "ipython3",
   "version": "3.7.9"
  }
 },
 "nbformat": 4,
 "nbformat_minor": 4
}
