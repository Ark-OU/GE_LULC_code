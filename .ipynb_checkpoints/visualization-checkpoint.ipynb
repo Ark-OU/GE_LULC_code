{
 "cells": [
  {
   "cell_type": "code",
   "execution_count": null,
   "metadata": {},
   "outputs": [],
   "source": [
    "def trim(color):\n",
    "    with rio.open(color) as dataset:\n",
    "        py, px = dataset.index(lon, lat)\n",
    "        window = rio.windows.Window(px - N//2, py - N//2, N, N)\n",
    "        color_img = dataset.read(window=window)\n",
    "    return color_img\n",
    "\n",
    "def normalize(array):\n",
    "    array_min, array_max = array.min(), array.max()\n",
    "    return ( (array - array_min) / (array_max - array_min) * 255 ).astype(np.int16)"
   ]
  },
  {
   "cell_type": "code",
   "execution_count": null,
   "metadata": {},
   "outputs": [],
   "source": [
    "import rasterio as rio\n",
    "import numpy as np\n",
    "import pandas as pd\n",
    "import os\n",
    "from glob import glob\n",
    "from tqdm import tqdm\n",
    "import matplotlib.pyplot as plt\n",
    "from rasterio.plot import show\n",
    "\n",
    "red = r\"D:\\LULC\\raw_data\\1_landsat_new\\6_landsat8_mosaic\\summer\\band4.tif\"\n",
    "green = r\"D:\\LULC\\raw_data\\1_landsat_new\\6_landsat8_mosaic\\summer\\band3.tif\"\n",
    "blue = r\"D:\\LULC\\raw_data\\1_landsat_new\\6_landsat8_mosaic\\summer\\band2.tif\"\n",
    "\n",
    "lon = 135.3\n",
    "lat = 34.7\n",
    "N=5000\n",
    "\n",
    "red_img = trim(red)[0]\n",
    "green_img = trim(green)[0]\n",
    "blue_img = trim(blue)[0]\n",
    "\n",
    "redn = normalize(red_img)\n",
    "greenn = normalize(green_img)\n",
    "bluen = normalize(blue_img)\n",
    "\n",
    "# show(red_img)\n",
    "rgb = np.dstack((red_img, green_img, blue_img))\n",
    "rgbn = np.dstack((redn, greenn, bluen))\n",
    "\n"
   ]
  },
  {
   "cell_type": "code",
   "execution_count": null,
   "metadata": {},
   "outputs": [],
   "source": [
    "plt.imshow(greenn)"
   ]
  },
  {
   "cell_type": "code",
   "execution_count": null,
   "metadata": {},
   "outputs": [],
   "source": [
    "print(redn.min(), '-', redn.max(), 'mean:', redn.mean())\n",
    "print(greenn.min(), '-', greenn.max(), 'mean:', greenn.mean())\n",
    "print(bluen.min(), '-', bluen.max(), 'mean:', bluen.mean())"
   ]
  },
  {
   "cell_type": "code",
   "execution_count": null,
   "metadata": {},
   "outputs": [],
   "source": [
    "fig, (ax1, ax2, ax3) = plt.subplots(ncols=3, nrows=1, figsize=(10, 4), sharey=True)\n",
    "\n",
    "show(redn, cmap='Reds', ax=ax1)\n",
    "show(greenn, cmap='Greens', ax=ax2)\n",
    "show(bluen, cmap='Blues', ax=ax3)"
   ]
  },
  {
   "cell_type": "code",
   "execution_count": null,
   "metadata": {},
   "outputs": [],
   "source": [
    "\n",
    "    ep.plot_rgb(pre,\n",
    "            rgb=[3, 2, 1],\n",
    "            stretch=True)\n",
    "plt.show()"
   ]
  }
 ],
 "metadata": {
  "kernelspec": {
   "display_name": "Python 3",
   "language": "python",
   "name": "python3"
  },
  "language_info": {
   "codemirror_mode": {
    "name": "ipython",
    "version": 3
   },
   "file_extension": ".py",
   "mimetype": "text/x-python",
   "name": "python",
   "nbconvert_exporter": "python",
   "pygments_lexer": "ipython3",
   "version": "3.7.9"
  },
  "toc": {
   "base_numbering": 1,
   "nav_menu": {},
   "number_sections": true,
   "sideBar": true,
   "skip_h1_title": false,
   "title_cell": "Table of Contents",
   "title_sidebar": "Contents",
   "toc_cell": false,
   "toc_position": {},
   "toc_section_display": true,
   "toc_window_display": false
  }
 },
 "nbformat": 4,
 "nbformat_minor": 4
}
