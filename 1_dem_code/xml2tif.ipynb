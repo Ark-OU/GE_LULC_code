{
 "cells": [
  {
   "cell_type": "code",
   "execution_count": 1,
   "metadata": {},
   "outputs": [],
   "source": [
    "import os\n",
    "from glob import glob\n",
    "import shutil\n",
    "from tqdm import tqdm"
   ]
  },
  {
   "cell_type": "code",
   "execution_count": 2,
   "metadata": {},
   "outputs": [],
   "source": [
    "# 日本の端っこ追加バージョン！！！！！！！！！（検証点が欠損していたため）\n",
    "aaa = r\"D:\\LULC\\raw_data\\2_gsi\\10m_resol\\1_zip\\日本の端っこ\\xml\"\n",
    "aaaa = glob(os.path.join(aaa, \"*.xml\"))\n",
    "bbb = r\"D:\\LULC\\raw_data\\2_gsi\\10m_resol\\2_xml\\日本の端っこ\"\n",
    "\n",
    "jgd2000_fnames = [f for f in aaaa if \"dem10b\" in f]\n",
    "jgd2000_fnames\n",
    "for a in jgd2000_fnames:\n",
    "    shutil.move(a, bbb)"
   ]
  },
  {
   "cell_type": "code",
   "execution_count": null,
   "metadata": {},
   "outputs": [],
   "source": []
  },
  {
   "cell_type": "code",
   "execution_count": 3,
   "metadata": {},
   "outputs": [],
   "source": [
    "root_path = r\"D:\\LULC\\raw_data\\2_gsi\\10m_resol\\2_xml\"\n",
    "jgd2000_path = os.path.join(root_path, \"jgd2000\")\n",
    "jgd2011_path = os.path.join(root_path, \"jgd2011\")"
   ]
  },
  {
   "cell_type": "code",
   "execution_count": 4,
   "metadata": {},
   "outputs": [],
   "source": [
    "fnames = glob(os.path.join(root_path, \"*\"))"
   ]
  },
  {
   "cell_type": "code",
   "execution_count": 5,
   "metadata": {},
   "outputs": [
    {
     "name": "stdout",
     "output_type": "stream",
     "text": [
      "[]\n"
     ]
    }
   ],
   "source": [
    "jgd2000_fnames = [f for f in fnames if \"dem10b\" in f]\n",
    "jgd2011_fnames = [f for f in fnames if \"DEM10B\" in f]\n",
    "print(jgd2000_fnames)"
   ]
  },
  {
   "cell_type": "code",
   "execution_count": 6,
   "metadata": {},
   "outputs": [
    {
     "name": "stdout",
     "output_type": "stream",
     "text": [
      "0\n"
     ]
    }
   ],
   "source": [
    "print(len(jgd2000_fnames) + len(jgd2011_fnames))"
   ]
  },
  {
   "cell_type": "code",
   "execution_count": 7,
   "metadata": {},
   "outputs": [
    {
     "data": {
      "text/plain": [
       "4"
      ]
     },
     "execution_count": 7,
     "metadata": {},
     "output_type": "execute_result"
    }
   ],
   "source": [
    "len(fnames)"
   ]
  },
  {
   "cell_type": "markdown",
   "metadata": {
    "code_folding": []
   },
   "source": [
    "# Move xml files"
   ]
  },
  {
   "cell_type": "code",
   "execution_count": 8,
   "metadata": {},
   "outputs": [
    {
     "name": "stderr",
     "output_type": "stream",
     "text": [
      "0it [00:00, ?it/s]\n"
     ]
    }
   ],
   "source": [
    "for jgd2000_fname in tqdm(jgd2000_fnames):\n",
    "    toname = os.path.join(jgd2000_path, jgd2000_fname.split(\"\\\\\")[-1])\n",
    "    shutil.move(jgd2000_fname, toname)"
   ]
  },
  {
   "cell_type": "code",
   "execution_count": 9,
   "metadata": {},
   "outputs": [
    {
     "name": "stderr",
     "output_type": "stream",
     "text": [
      "0it [00:00, ?it/s]\n"
     ]
    }
   ],
   "source": [
    "for jgd2011_fname in tqdm(jgd2011_fnames):\n",
    "    toname = os.path.join(jgd2011_path, jgd2011_fname.split(\"\\\\\")[-1])\n",
    "    shutil.move(jgd2011_fname, toname)"
   ]
  },
  {
   "cell_type": "code",
   "execution_count": null,
   "metadata": {},
   "outputs": [],
   "source": []
  }
 ],
 "metadata": {
  "kernelspec": {
   "display_name": "Python 3",
   "language": "python",
   "name": "python3"
  },
  "language_info": {
   "codemirror_mode": {
    "name": "ipython",
    "version": 3
   },
   "file_extension": ".py",
   "mimetype": "text/x-python",
   "name": "python",
   "nbconvert_exporter": "python",
   "pygments_lexer": "ipython3",
   "version": "3.7.9"
  },
  "toc": {
   "base_numbering": 1,
   "nav_menu": {},
   "number_sections": true,
   "sideBar": true,
   "skip_h1_title": false,
   "title_cell": "Table of Contents",
   "title_sidebar": "Contents",
   "toc_cell": false,
   "toc_position": {},
   "toc_section_display": true,
   "toc_window_display": false
  }
 },
 "nbformat": 4,
 "nbformat_minor": 4
}
