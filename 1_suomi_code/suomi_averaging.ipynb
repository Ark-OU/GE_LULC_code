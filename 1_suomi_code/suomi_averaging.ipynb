{
 "cells": [
  {
   "cell_type": "code",
   "execution_count": 27,
   "metadata": {},
   "outputs": [],
   "source": [
    "import os\n",
    "import glob\n",
    "import tifffile\n",
    "from skimage import io\n",
    "import rasterio"
   ]
  },
  {
   "cell_type": "code",
   "execution_count": 28,
   "metadata": {},
   "outputs": [],
   "source": [
    "path = r\"E:\\LULC\\raw_data\\5_suomi\""
   ]
  },
  {
   "cell_type": "code",
   "execution_count": 29,
   "metadata": {},
   "outputs": [],
   "source": [
    "annual_files = glob.glob(path + \"/*\")\n",
    "\n",
    "# files_xxxx: 各年のファイルｐａｔｈが入っている\n",
    "file_2015 = glob.glob(annual_files[0] + \"/*vcm-orm-ntl*\")\n",
    "file_2016 = glob.glob(annual_files[1] + \"/*vcm-orm-ntl*\")"
   ]
  },
  {
   "cell_type": "code",
   "execution_count": 30,
   "metadata": {},
   "outputs": [
    {
     "name": "stdout",
     "output_type": "stream",
     "text": [
      "['E:\\\\LULC\\\\raw_data\\\\5_suomi\\\\suomi_npp_2015\\\\SVDNB_npp_20150101-20151231_75N060E_vcm-orm-ntl_v10_c201701311200.avg_rade9.tif']\n",
      "['E:\\\\LULC\\\\raw_data\\\\5_suomi\\\\suomi_npp_2016\\\\SVDNB_npp_20160101-20161231_75N060E_vcm-orm-ntl_v10_c201807311200.avg_rade9.tif']\n"
     ]
    }
   ],
   "source": [
    "print(file_2015)\n",
    "print(file_2016)"
   ]
  },
  {
   "cell_type": "code",
   "execution_count": 31,
   "metadata": {},
   "outputs": [
    {
     "data": {
      "text/plain": [
       "(18000, 28800)"
      ]
     },
     "execution_count": 31,
     "metadata": {},
     "output_type": "execute_result"
    }
   ],
   "source": [
    "image1 = tifffile.imread(file_2015)\n",
    "image1.shape"
   ]
  },
  {
   "cell_type": "code",
   "execution_count": 37,
   "metadata": {},
   "outputs": [],
   "source": [
    "arr_2015 = np.array(tifffile.imread(file_2015))\n",
    "arr_2016 = np.array(tifffile.imread(file_2016))"
   ]
  },
  {
   "cell_type": "code",
   "execution_count": 39,
   "metadata": {},
   "outputs": [
    {
     "data": {
      "text/plain": [
       "<matplotlib.image.AxesImage at 0x22eeca2d508>"
      ]
     },
     "execution_count": 39,
     "metadata": {},
     "output_type": "execute_result"
    },
    {
     "data": {
      "image/png": "[encoded data removed]",
      "text/plain": [
       "<Figure size 432x288 with 2 Axes>"
      ]
     },
     "metadata": {
      "needs_background": "light"
     },
     "output_type": "display_data"
    }
   ],
   "source": [
    "io.imshow(arr_2015)"
   ]
  },
  {
   "cell_type": "code",
   "execution_count": 67,
   "metadata": {},
   "outputs": [
    {
     "name": "stdout",
     "output_type": "stream",
     "text": [
      "[-1.2711218e-01 -1.4286797e-02 -6.9460147e-03 ...  1.7867348e+04\n",
      "  2.0547225e+04  2.1637662e+04]\n"
     ]
    }
   ],
   "source": [
    "new = np.zeros(image1.shape)\n",
    "width = image1.shape[1]\n",
    "height = image1.shape[0]\n",
    "print(np.unique(arr_2015))"
   ]
  },
  {
   "cell_type": "code",
   "execution_count": 69,
   "metadata": {},
   "outputs": [
    {
     "name": "stdout",
     "output_type": "stream",
     "text": [
      "0回目\n",
      "100回目\n",
      "200回目\n",
      "300回目\n",
      "400回目\n",
      "500回目\n",
      "600回目\n",
      "700回目\n",
      "800回目\n",
      "900回目\n",
      "1000回目\n",
      "1100回目\n",
      "1200回目\n",
      "1300回目\n",
      "1400回目\n",
      "1500回目\n",
      "1600回目\n",
      "1700回目\n",
      "1800回目\n",
      "1900回目\n",
      "2000回目\n",
      "2100回目\n",
      "2200回目\n",
      "2300回目\n",
      "2400回目\n",
      "2500回目\n",
      "2600回目\n",
      "2700回目\n",
      "2800回目\n",
      "2900回目\n",
      "3000回目\n",
      "3100回目\n",
      "3200回目\n",
      "3300回目\n",
      "3400回目\n",
      "3500回目\n",
      "3600回目\n",
      "3700回目\n",
      "3800回目\n",
      "3900回目\n",
      "4000回目\n",
      "4100回目\n",
      "4200回目\n",
      "4300回目\n",
      "4400回目\n",
      "4500回目\n",
      "4600回目\n",
      "4700回目\n",
      "4800回目\n",
      "4900回目\n",
      "5000回目\n",
      "5100回目\n",
      "5200回目\n",
      "5300回目\n",
      "5400回目\n",
      "5500回目\n",
      "5600回目\n",
      "5700回目\n",
      "5800回目\n",
      "5900回目\n",
      "6000回目\n",
      "6100回目\n",
      "6200回目\n",
      "6300回目\n",
      "6400回目\n",
      "6500回目\n",
      "6600回目\n",
      "6700回目\n",
      "6800回目\n",
      "6900回目\n",
      "7000回目\n",
      "7100回目\n",
      "7200回目\n",
      "7300回目\n",
      "7400回目\n",
      "7500回目\n",
      "7600回目\n",
      "7700回目\n",
      "7800回目\n",
      "7900回目\n",
      "8000回目\n",
      "8100回目\n",
      "8200回目\n",
      "8300回目\n",
      "8400回目\n",
      "8500回目\n",
      "8600回目\n",
      "8700回目\n",
      "8800回目\n",
      "8900回目\n",
      "9000回目\n",
      "9100回目\n",
      "9200回目\n",
      "9300回目\n",
      "9400回目\n",
      "9500回目\n",
      "9600回目\n",
      "9700回目\n",
      "9800回目\n",
      "9900回目\n",
      "10000回目\n",
      "10100回目\n",
      "10200回目\n",
      "10300回目\n",
      "10400回目\n",
      "10500回目\n",
      "10600回目\n",
      "10700回目\n",
      "10800回目\n",
      "10900回目\n",
      "11000回目\n",
      "11100回目\n",
      "11200回目\n",
      "11300回目\n",
      "11400回目\n",
      "11500回目\n",
      "11600回目\n",
      "11700回目\n",
      "11800回目\n",
      "11900回目\n",
      "12000回目\n",
      "12100回目\n",
      "12200回目\n",
      "12300回目\n",
      "12400回目\n",
      "12500回目\n",
      "12600回目\n",
      "12700回目\n",
      "12800回目\n",
      "12900回目\n",
      "13000回目\n",
      "13100回目\n",
      "13200回目\n",
      "13300回目\n",
      "13400回目\n",
      "13500回目\n",
      "13600回目\n",
      "13700回目\n",
      "13800回目\n",
      "13900回目\n",
      "14000回目\n",
      "14100回目\n",
      "14200回目\n",
      "14300回目\n",
      "14400回目\n",
      "14500回目\n",
      "14600回目\n",
      "14700回目\n",
      "14800回目\n",
      "14900回目\n",
      "15000回目\n",
      "15100回目\n",
      "15200回目\n",
      "15300回目\n",
      "15400回目\n",
      "15500回目\n",
      "15600回目\n",
      "15700回目\n",
      "15800回目\n",
      "15900回目\n",
      "16000回目\n",
      "16100回目\n",
      "16200回目\n",
      "16300回目\n",
      "16400回目\n",
      "16500回目\n",
      "16600回目\n",
      "16700回目\n",
      "16800回目\n",
      "16900回目\n",
      "17000回目\n",
      "17100回目\n",
      "17200回目\n",
      "17300回目\n",
      "17400回目\n",
      "17500回目\n",
      "17600回目\n",
      "17700回目\n",
      "17800回目\n",
      "17900回目\n",
      "18000回目\n",
      "18100回目\n",
      "18200回目\n",
      "18300回目\n",
      "18400回目\n",
      "18500回目\n",
      "18600回目\n",
      "18700回目\n",
      "18800回目\n",
      "18900回目\n",
      "19000回目\n",
      "19100回目\n",
      "19200回目\n",
      "19300回目\n",
      "19400回目\n",
      "19500回目\n",
      "19600回目\n",
      "19700回目\n",
      "19800回目\n",
      "19900回目\n",
      "20000回目\n",
      "20100回目\n",
      "20200回目\n",
      "20300回目\n",
      "20400回目\n",
      "20500回目\n",
      "20600回目\n",
      "20700回目\n",
      "20800回目\n",
      "20900回目\n",
      "21000回目\n",
      "21100回目\n",
      "21200回目\n",
      "21300回目\n",
      "21400回目\n",
      "21500回目\n",
      "21600回目\n",
      "21700回目\n",
      "21800回目\n",
      "21900回目\n",
      "22000回目\n",
      "22100回目\n",
      "22200回目\n",
      "22300回目\n",
      "22400回目\n",
      "22500回目\n",
      "22600回目\n",
      "22700回目\n",
      "22800回目\n",
      "22900回目\n",
      "23000回目\n",
      "23100回目\n",
      "23200回目\n",
      "23300回目\n",
      "23400回目\n",
      "23500回目\n",
      "23600回目\n",
      "23700回目\n",
      "23800回目\n",
      "23900回目\n",
      "24000回目\n",
      "24100回目\n",
      "24200回目\n",
      "24300回目\n",
      "24400回目\n",
      "24500回目\n",
      "24600回目\n",
      "24700回目\n",
      "24800回目\n",
      "24900回目\n",
      "25000回目\n",
      "25100回目\n",
      "25200回目\n",
      "25300回目\n",
      "25400回目\n",
      "25500回目\n",
      "25600回目\n",
      "25700回目\n",
      "25800回目\n",
      "25900回目\n",
      "26000回目\n",
      "26100回目\n",
      "26200回目\n",
      "26300回目\n",
      "26400回目\n",
      "26500回目\n",
      "26600回目\n",
      "26700回目\n",
      "26800回目\n",
      "26900回目\n",
      "27000回目\n",
      "27100回目\n",
      "27200回目\n",
      "27300回目\n",
      "27400回目\n",
      "27500回目\n",
      "27600回目\n",
      "27700回目\n",
      "27800回目\n",
      "27900回目\n",
      "28000回目\n",
      "28100回目\n",
      "28200回目\n",
      "28300回目\n",
      "28400回目\n",
      "28500回目\n",
      "28600回目\n",
      "28700回目\n"
     ]
    }
   ],
   "source": [
    "for j in range(width):\n",
    "    if j%100==0: print(f\"{j}回目\")\n",
    "    for i in range(height):\n",
    "        new[i][j] = (arr_2015[i][j] + arr_2016[i][j]) / 2"
   ]
  },
  {
   "cell_type": "code",
   "execution_count": 70,
   "metadata": {},
   "outputs": [],
   "source": [
    "tifffile.imsave(r\"E:\\LULC\\raw_data\\5_suomi\\suomi_use\\suomi_avg.tiff\", new)"
   ]
  },
  {
   "cell_type": "code",
   "execution_count": 7,
   "metadata": {},
   "outputs": [],
   "source": [
    "# これ使う\n",
    "# https://automating-gis-processes.github.io/CSC18/lessons/L6/reading-raster.html"
   ]
  },
  {
   "cell_type": "code",
   "execution_count": 8,
   "metadata": {},
   "outputs": [],
   "source": [
    "from PIL import Image\n",
    "import numpy as np\n",
    "\n",
    "Image.MAX_IMAGE_PIXELS = None\n",
    "im = Image.open(files_2015[1])\n",
    "im_array = np.array(im)"
   ]
  },
  {
   "cell_type": "code",
   "execution_count": 9,
   "metadata": {},
   "outputs": [
    {
     "data": {
      "text/plain": [
       "array([-1.2711218e-01, -3.4250215e-02, -2.8356640e-02, ...,\n",
       "        1.7867348e+04,  2.0547225e+04,  2.1637662e+04], dtype=float32)"
      ]
     },
     "execution_count": 9,
     "metadata": {},
     "output_type": "execute_result"
    }
   ],
   "source": [
    "np.unique(im_array)"
   ]
  },
  {
   "cell_type": "code",
   "execution_count": null,
   "metadata": {},
   "outputs": [],
   "source": []
  },
  {
   "cell_type": "code",
   "execution_count": null,
   "metadata": {},
   "outputs": [],
   "source": []
  }
 ],
 "metadata": {
  "kernelspec": {
   "display_name": "Python 3",
   "language": "python",
   "name": "python3"
  },
  "language_info": {
   "codemirror_mode": {
    "name": "ipython",
    "version": 3
   },
   "file_extension": ".py",
   "mimetype": "text/x-python",
   "name": "python",
   "nbconvert_exporter": "python",
   "pygments_lexer": "ipython3",
   "version": "3.7.9"
  }
 },
 "nbformat": 4,
 "nbformat_minor": 4
}
